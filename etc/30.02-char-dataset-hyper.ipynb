{
 "cells": [
  {
   "cell_type": "markdown",
   "id": "dc331d2d-16e1-42e3-93b8-1ef20a782886",
   "metadata": {},
   "source": [
    "There are 2775 single-character words in CWN, and these words have 17,009 senses. Next, senses with at least two bisyllabic synonyms (either with synonymous relations or synset relations) are selected. There are 436 selected senses, which are 291 unique single-character words. Among these selected senses, there are 340 senses having 2 synonomous bisyllabic words, and 96 of them having more than 2 synonomous words. Noise words are added into each sense entry. That is, words do not have synonmous relations with their corresponding sense, but nevertheless share the same single-character word. There are totally 13,530 noise words added."
   ]
  },
  {
   "cell_type": "code",
   "execution_count": 49,
   "id": "e31b931f-5266-42dd-b3a5-18530159e49b",
   "metadata": {},
   "outputs": [],
   "source": [
    "from CwnGraph import CwnImage, CwnSense\n",
    "from itertools import chain\n",
    "from tqdm.auto import tqdm"
   ]
  },
  {
   "cell_type": "code",
   "execution_count": 50,
   "id": "d81c24d7-cbc6-4311-bed5-5d65ec85da5d",
   "metadata": {},
   "outputs": [],
   "source": [
    "cwn = CwnImage.latest()"
   ]
  },
  {
   "cell_type": "code",
   "execution_count": 51,
   "id": "2a438831-6da3-4ab6-946c-5449a0e78df9",
   "metadata": {},
   "outputs": [],
   "source": [
    "chars = cwn.find_lemma(\"^[\\u4e00-\\u9fff]$\")"
   ]
  },
  {
   "cell_type": "code",
   "execution_count": 52,
   "id": "b33483ab-aaa4-4d40-9244-71107725094e",
   "metadata": {},
   "outputs": [],
   "source": [
    "char_senses = list(chain.from_iterable(x.senses for x in chars))"
   ]
  },
  {
   "cell_type": "code",
   "execution_count": 116,
   "id": "8dd1d97f-233a-4330-a78d-1615a2fec167",
   "metadata": {},
   "outputs": [
    {
     "data": {
      "text/plain": [
       "2775"
      ]
     },
     "execution_count": 116,
     "metadata": {},
     "output_type": "execute_result"
    }
   ],
   "source": [
    "len(set(x.head_word for x in char_senses))"
   ]
  },
  {
   "cell_type": "code",
   "execution_count": 53,
   "id": "e85c9ad8-09f9-4203-b7fd-9d193e44c8af",
   "metadata": {},
   "outputs": [
    {
     "data": {
      "text/plain": [
       "17009"
      ]
     },
     "execution_count": 53,
     "metadata": {},
     "output_type": "execute_result"
    }
   ],
   "source": [
    "len(char_senses)"
   ]
  },
  {
   "cell_type": "code",
   "execution_count": 72,
   "id": "e39bce8a-43b2-498b-8c31-e2e5c10c883d",
   "metadata": {},
   "outputs": [
    {
     "data": {
      "application/vnd.jupyter.widget-view+json": {
       "model_id": "aa5387f827074eeeb13f521608e27d09",
       "version_major": 2,
       "version_minor": 0
      },
      "text/plain": [
       "  0%|          | 0/17009 [00:00<?, ?it/s]"
      ]
     },
     "metadata": {},
     "output_type": "display_data"
    }
   ],
   "source": [
    "sense_synos = {}\n",
    "for sense_x in tqdm(char_senses):\n",
    "    if sense_x.pos == \"Nb\": continue\n",
    "    src_char = sense_x.head_word\n",
    "    synos = set(sense_x.synonym)\n",
    "    if sense_x.synset:\n",
    "        synos |= set(sense_x.synset.senses)        \n",
    "    synos = synos.difference(set([sense_x]))\n",
    "    synos = [x for x in synos\n",
    "             if src_char in x.head_word and \n",
    "                len(x.head_word)==2 and\n",
    "                type(x) is CwnSense]     \n",
    "    if len(synos) > 1:\n",
    "        sense_synos[sense_x] = synos"
   ]
  },
  {
   "cell_type": "code",
   "execution_count": 73,
   "id": "134a7c5f-00b0-4183-a15c-2f15299b7cf3",
   "metadata": {},
   "outputs": [
    {
     "data": {
      "text/plain": [
       "436"
      ]
     },
     "execution_count": 73,
     "metadata": {},
     "output_type": "execute_result"
    }
   ],
   "source": [
    "len(sense_synos)"
   ]
  },
  {
   "cell_type": "code",
   "execution_count": 113,
   "id": "a7d360e6-5d28-4dbc-bd7c-d7d21df12b4b",
   "metadata": {},
   "outputs": [
    {
     "data": {
      "text/plain": [
       "291"
      ]
     },
     "execution_count": 113,
     "metadata": {},
     "output_type": "execute_result"
    }
   ],
   "source": [
    "len(set(x.head_word for x in sense_synos))"
   ]
  },
  {
   "cell_type": "code",
   "execution_count": 77,
   "id": "918fdbfd-9fe0-4ac3-8e49-ac833489d1eb",
   "metadata": {},
   "outputs": [
    {
     "data": {
      "text/plain": [
       "[(<CwnSense[03010601](多，Neqa): 形容數量大或種類多。>, 6),\n",
       " (<CwnSense[05205701](靠，I): 咒罵語。>, 6),\n",
       " (<CwnSense[03018211](後，Nd): 晚於現在或前述事件的時段。>, 5),\n",
       " (<CwnSense[09258602](交，Nc): 交通大學的建築物及建築物所在的位置。>, 5),\n",
       " (<CwnSense[06053401](若，Cbb): 連接假設條件。>, 5),\n",
       " (<CwnSense[06648204](減，VC): 比喻使後述事件的程度降低。>, 5),\n",
       " (<CwnSense[03052801](原，A,D): 表沒有經過改變的，或者改變之前的。>, 4),\n",
       " (<CwnSense[03054401](遭，VJ): 遇到不幸或不利的事。>, 4),\n",
       " (<CwnSense[04000602](且，Cbb): 連接兩對等句子，表示進一層關係。>, 4),\n",
       " (<CwnSense[04020102](那，Ncd): 離說話者或參考點較遠的位置。>, 4)]"
      ]
     },
     "execution_count": 77,
     "metadata": {},
     "output_type": "execute_result"
    }
   ],
   "source": [
    "sorted_senses = sorted(sense_synos.keys(), key=lambda x: -len(sense_synos[x]))\n",
    "[(x, len(sense_synos[x])) for x in sorted_senses[:10]]"
   ]
  },
  {
   "cell_type": "code",
   "execution_count": 114,
   "id": "36c57afb-a655-4a27-aa2c-3ca5108d5b25",
   "metadata": {},
   "outputs": [
    {
     "data": {
      "text/plain": [
       "[(2, 340), (3, 77), (4, 13), (5, 4), (6, 2)]"
      ]
     },
     "execution_count": 114,
     "metadata": {},
     "output_type": "execute_result"
    }
   ],
   "source": [
    "from collections import Counter\n",
    "Counter(len(x) for x in sense_synos.values()).most_common()"
   ]
  },
  {
   "cell_type": "code",
   "execution_count": 115,
   "id": "7bb07bfe-0fa1-4b5a-b0cf-6eda2ae00266",
   "metadata": {},
   "outputs": [
    {
     "data": {
      "text/plain": [
       "96"
      ]
     },
     "execution_count": 115,
     "metadata": {},
     "output_type": "execute_result"
    }
   ],
   "source": [
    "77+13+4+2"
   ]
  },
  {
   "cell_type": "markdown",
   "id": "7e2a4f9c-dfbe-4ea2-9145-8947a190d35a",
   "metadata": {},
   "source": [
    "## Adding noises"
   ]
  },
  {
   "cell_type": "code",
   "execution_count": 82,
   "id": "5fddce81-a292-47f4-9845-3fc15da3563b",
   "metadata": {},
   "outputs": [],
   "source": [
    "bisylls = list(set([x.lemma for x in cwn.find_lemma(\"^..$\")]))"
   ]
  },
  {
   "cell_type": "code",
   "execution_count": 112,
   "id": "a6d9e900-1e74-4c75-a7e3-bab2ab33eb32",
   "metadata": {},
   "outputs": [
    {
     "data": {
      "text/plain": [
       "17435"
      ]
     },
     "execution_count": 112,
     "metadata": {},
     "output_type": "execute_result"
    }
   ],
   "source": [
    "len(bisylls)"
   ]
  },
  {
   "cell_type": "code",
   "execution_count": 86,
   "id": "1dd75ad1-6a64-4481-8104-e83471ce994c",
   "metadata": {},
   "outputs": [
    {
     "data": {
      "text/plain": [
       "(<CwnSense[04045801](些，Nf): 表不確定的小數量。>,\n",
       " [<CwnSense[05161701](些許，Neqa): 表不確定的小數量。>,\n",
       "  <CwnSense[05052701](一些，Neqa): 表不確定的小數量。>,\n",
       "  <CwnSense[03052002](有些，Dfa): 表不確定的小數量。>])"
      ]
     },
     "execution_count": 86,
     "metadata": {},
     "output_type": "execute_result"
    }
   ],
   "source": [
    "list(sense_synos.items())[100]"
   ]
  },
  {
   "cell_type": "code",
   "execution_count": 94,
   "id": "2a390063-2695-464c-97c0-43e7d686bb5d",
   "metadata": {},
   "outputs": [],
   "source": [
    "def make_noise(sense_pair):\n",
    "    src_sense, syno_senses = sense_pair\n",
    "    src_char = src_sense.head_word\n",
    "    candidates = set(filter(lambda x: src_char in x, bisylls))\n",
    "    candidates = candidates.difference(set(x.head_word for x in syno_senses))\n",
    "    return candidates"
   ]
  },
  {
   "cell_type": "code",
   "execution_count": 106,
   "id": "8f806ebe-ec38-4e32-a2e3-5759d6e456ba",
   "metadata": {},
   "outputs": [],
   "source": [
    "char_dataset = []\n",
    "for sense_pair in sense_synos.items():\n",
    "    src_sense, syno_senses = sense_pair\n",
    "    noises = make_noise(sense_pair)\n",
    "    dataitem = {\n",
    "        \"src_sense\": [src_sense.id],\n",
    "        \"syno_senses\": [x.id for x in syno_senses],\n",
    "        \"src_char\": [src_sense.head_word],\n",
    "        \"syno_words\": [x.head_word for x in syno_senses],\n",
    "        \"noise_words\": list(noises)\n",
    "    }\n",
    "    char_dataset.append(dataitem)"
   ]
  },
  {
   "cell_type": "code",
   "execution_count": 107,
   "id": "3bfa9a78-a9d9-47e4-a7d9-745082731c8d",
   "metadata": {},
   "outputs": [
    {
     "data": {
      "text/plain": [
       "[{'src_sense': ['08060701'],\n",
       "  'syno_senses': ['08037501', '09297601'],\n",
       "  'src_char': ['排'],\n",
       "  'syno_words': ['排放', '排出'],\n",
       "  'noise_words': ['排汗',\n",
       "   '排除',\n",
       "   '排擠',\n",
       "   '排泄',\n",
       "   '排序',\n",
       "   '排行',\n",
       "   '綵排',\n",
       "   '排成',\n",
       "   '安排',\n",
       "   '排氣',\n",
       "   '排球',\n",
       "   '肋排',\n",
       "   '排骨',\n",
       "   '牛排',\n",
       "   '排演',\n",
       "   '排名',\n",
       "   '豬排',\n",
       "   '排入',\n",
       "   '排便',\n",
       "   '排乾',\n",
       "   '排水',\n",
       "   '排擋',\n",
       "   '排列',\n",
       "   '排版',\n",
       "   '排污',\n",
       "   '排卵',\n",
       "   '排隊',\n",
       "   '排斥']},\n",
       " {'src_sense': ['08028001'],\n",
       "  'syno_senses': ['06684701', '06687901'],\n",
       "  'src_char': ['拍'],\n",
       "  'syno_words': ['拍照', '拍攝'],\n",
       "  'noise_words': ['拍動', '重拍', '球拍', '輕拍', '拍賣', '拍子', '拍擊', '拍打']}]"
      ]
     },
     "execution_count": 107,
     "metadata": {},
     "output_type": "execute_result"
    }
   ],
   "source": [
    "char_dataset[:2]"
   ]
  },
  {
   "cell_type": "code",
   "execution_count": 108,
   "id": "e1100ee9-e3da-4f2a-b845-61a1889516a7",
   "metadata": {},
   "outputs": [
    {
     "data": {
      "text/plain": [
       "436"
      ]
     },
     "execution_count": 108,
     "metadata": {},
     "output_type": "execute_result"
    }
   ],
   "source": [
    "len(char_dataset)"
   ]
  },
  {
   "cell_type": "code",
   "execution_count": 109,
   "id": "d602464f-ba0d-4c22-af33-6995d3293014",
   "metadata": {},
   "outputs": [
    {
     "data": {
      "text/plain": [
       "995"
      ]
     },
     "execution_count": 109,
     "metadata": {},
     "output_type": "execute_result"
    }
   ],
   "source": [
    "sum(len(x[\"syno_words\"]) for x in char_dataset)"
   ]
  },
  {
   "cell_type": "code",
   "execution_count": 110,
   "id": "665299d3-1f16-41cb-a01f-f76a1809b98b",
   "metadata": {},
   "outputs": [
    {
     "data": {
      "text/plain": [
       "13530"
      ]
     },
     "execution_count": 110,
     "metadata": {},
     "output_type": "execute_result"
    }
   ],
   "source": [
    "sum(len(x[\"noise_words\"]) for x in char_dataset)"
   ]
  },
  {
   "cell_type": "markdown",
   "id": "593b6d7c-b699-4c88-89d3-d8b2ec2b5d9f",
   "metadata": {},
   "source": [
    "## Save dataset"
   ]
  },
  {
   "cell_type": "code",
   "execution_count": 111,
   "id": "bfb3e454-e322-4fcd-aebb-b145d85e9296",
   "metadata": {},
   "outputs": [],
   "source": [
    "import json\n",
    "with open(\"../data/char_senses_with_noises.json\", \"w\", encoding=\"UTF-8\") as fout:\n",
    "    json.dump(char_dataset, fout)"
   ]
  },
  {
   "cell_type": "code",
   "execution_count": null,
   "id": "1bb22799-c022-4a19-b4c9-99904a2364da",
   "metadata": {},
   "outputs": [],
   "source": []
  }
 ],
 "metadata": {
  "kernelspec": {
   "display_name": "Python 3 (ipykernel)",
   "language": "python",
   "name": "python3"
  },
  "language_info": {
   "codemirror_mode": {
    "name": "ipython",
    "version": 3
   },
   "file_extension": ".py",
   "mimetype": "text/x-python",
   "name": "python",
   "nbconvert_exporter": "python",
   "pygments_lexer": "ipython3",
   "version": "3.10.2"
  }
 },
 "nbformat": 4,
 "nbformat_minor": 5
}
