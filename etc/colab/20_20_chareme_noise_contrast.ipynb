{
  "nbformat": 4,
  "nbformat_minor": 0,
  "metadata": {
    "colab": {
      "name": "20.20-chareme-noise-contrast.ipynb",
      "provenance": []
    },
    "kernelspec": {
      "name": "python3",
      "display_name": "Python 3"
    },
    "language_info": {
      "name": "python"
    },
    "accelerator": "GPU",
    "widgets": {
      "application/vnd.jupyter.widget-state+json": {
        "8abfc362142f4560905b0f28b69ae7a3": {
          "model_module": "@jupyter-widgets/controls",
          "model_name": "HBoxModel",
          "model_module_version": "1.5.0",
          "state": {
            "_dom_classes": [],
            "_model_module": "@jupyter-widgets/controls",
            "_model_module_version": "1.5.0",
            "_model_name": "HBoxModel",
            "_view_count": null,
            "_view_module": "@jupyter-widgets/controls",
            "_view_module_version": "1.5.0",
            "_view_name": "HBoxView",
            "box_style": "",
            "children": [
              "IPY_MODEL_d01c201e5b654685a2487f881fd19649",
              "IPY_MODEL_eae88783dfa94f92a9e7dc17a232eb04",
              "IPY_MODEL_dd18e3ff47674313ad8e4317814fc5f4"
            ],
            "layout": "IPY_MODEL_e384286d730b4917ba1477bb2e4b0ebe"
          }
        },
        "d01c201e5b654685a2487f881fd19649": {
          "model_module": "@jupyter-widgets/controls",
          "model_name": "HTMLModel",
          "model_module_version": "1.5.0",
          "state": {
            "_dom_classes": [],
            "_model_module": "@jupyter-widgets/controls",
            "_model_module_version": "1.5.0",
            "_model_name": "HTMLModel",
            "_view_count": null,
            "_view_module": "@jupyter-widgets/controls",
            "_view_module_version": "1.5.0",
            "_view_name": "HTMLView",
            "description": "",
            "description_tooltip": null,
            "layout": "IPY_MODEL_6205b2856d274683b617a8e28742a4c0",
            "placeholder": "​",
            "style": "IPY_MODEL_5ff2acef55054fb79fba47acb8ecebc8",
            "value": "Downloading: 100%"
          }
        },
        "eae88783dfa94f92a9e7dc17a232eb04": {
          "model_module": "@jupyter-widgets/controls",
          "model_name": "FloatProgressModel",
          "model_module_version": "1.5.0",
          "state": {
            "_dom_classes": [],
            "_model_module": "@jupyter-widgets/controls",
            "_model_module_version": "1.5.0",
            "_model_name": "FloatProgressModel",
            "_view_count": null,
            "_view_module": "@jupyter-widgets/controls",
            "_view_module_version": "1.5.0",
            "_view_name": "ProgressView",
            "bar_style": "success",
            "description": "",
            "description_tooltip": null,
            "layout": "IPY_MODEL_67f15cc254f648d0a4de19b43ed5af92",
            "max": 109540,
            "min": 0,
            "orientation": "horizontal",
            "style": "IPY_MODEL_3bee6f4dac27469dac83e23dedc686a8",
            "value": 109540
          }
        },
        "dd18e3ff47674313ad8e4317814fc5f4": {
          "model_module": "@jupyter-widgets/controls",
          "model_name": "HTMLModel",
          "model_module_version": "1.5.0",
          "state": {
            "_dom_classes": [],
            "_model_module": "@jupyter-widgets/controls",
            "_model_module_version": "1.5.0",
            "_model_name": "HTMLModel",
            "_view_count": null,
            "_view_module": "@jupyter-widgets/controls",
            "_view_module_version": "1.5.0",
            "_view_name": "HTMLView",
            "description": "",
            "description_tooltip": null,
            "layout": "IPY_MODEL_9bf090ab94e34664b8e6900aa60904a6",
            "placeholder": "​",
            "style": "IPY_MODEL_ab84e51e29e3427292c597c6d3c8c2a7",
            "value": " 107k/107k [00:00&lt;00:00, 726kB/s]"
          }
        },
        "e384286d730b4917ba1477bb2e4b0ebe": {
          "model_module": "@jupyter-widgets/base",
          "model_name": "LayoutModel",
          "model_module_version": "1.2.0",
          "state": {
            "_model_module": "@jupyter-widgets/base",
            "_model_module_version": "1.2.0",
            "_model_name": "LayoutModel",
            "_view_count": null,
            "_view_module": "@jupyter-widgets/base",
            "_view_module_version": "1.2.0",
            "_view_name": "LayoutView",
            "align_content": null,
            "align_items": null,
            "align_self": null,
            "border": null,
            "bottom": null,
            "display": null,
            "flex": null,
            "flex_flow": null,
            "grid_area": null,
            "grid_auto_columns": null,
            "grid_auto_flow": null,
            "grid_auto_rows": null,
            "grid_column": null,
            "grid_gap": null,
            "grid_row": null,
            "grid_template_areas": null,
            "grid_template_columns": null,
            "grid_template_rows": null,
            "height": null,
            "justify_content": null,
            "justify_items": null,
            "left": null,
            "margin": null,
            "max_height": null,
            "max_width": null,
            "min_height": null,
            "min_width": null,
            "object_fit": null,
            "object_position": null,
            "order": null,
            "overflow": null,
            "overflow_x": null,
            "overflow_y": null,
            "padding": null,
            "right": null,
            "top": null,
            "visibility": null,
            "width": null
          }
        },
        "6205b2856d274683b617a8e28742a4c0": {
          "model_module": "@jupyter-widgets/base",
          "model_name": "LayoutModel",
          "model_module_version": "1.2.0",
          "state": {
            "_model_module": "@jupyter-widgets/base",
            "_model_module_version": "1.2.0",
            "_model_name": "LayoutModel",
            "_view_count": null,
            "_view_module": "@jupyter-widgets/base",
            "_view_module_version": "1.2.0",
            "_view_name": "LayoutView",
            "align_content": null,
            "align_items": null,
            "align_self": null,
            "border": null,
            "bottom": null,
            "display": null,
            "flex": null,
            "flex_flow": null,
            "grid_area": null,
            "grid_auto_columns": null,
            "grid_auto_flow": null,
            "grid_auto_rows": null,
            "grid_column": null,
            "grid_gap": null,
            "grid_row": null,
            "grid_template_areas": null,
            "grid_template_columns": null,
            "grid_template_rows": null,
            "height": null,
            "justify_content": null,
            "justify_items": null,
            "left": null,
            "margin": null,
            "max_height": null,
            "max_width": null,
            "min_height": null,
            "min_width": null,
            "object_fit": null,
            "object_position": null,
            "order": null,
            "overflow": null,
            "overflow_x": null,
            "overflow_y": null,
            "padding": null,
            "right": null,
            "top": null,
            "visibility": null,
            "width": null
          }
        },
        "5ff2acef55054fb79fba47acb8ecebc8": {
          "model_module": "@jupyter-widgets/controls",
          "model_name": "DescriptionStyleModel",
          "model_module_version": "1.5.0",
          "state": {
            "_model_module": "@jupyter-widgets/controls",
            "_model_module_version": "1.5.0",
            "_model_name": "DescriptionStyleModel",
            "_view_count": null,
            "_view_module": "@jupyter-widgets/base",
            "_view_module_version": "1.2.0",
            "_view_name": "StyleView",
            "description_width": ""
          }
        },
        "67f15cc254f648d0a4de19b43ed5af92": {
          "model_module": "@jupyter-widgets/base",
          "model_name": "LayoutModel",
          "model_module_version": "1.2.0",
          "state": {
            "_model_module": "@jupyter-widgets/base",
            "_model_module_version": "1.2.0",
            "_model_name": "LayoutModel",
            "_view_count": null,
            "_view_module": "@jupyter-widgets/base",
            "_view_module_version": "1.2.0",
            "_view_name": "LayoutView",
            "align_content": null,
            "align_items": null,
            "align_self": null,
            "border": null,
            "bottom": null,
            "display": null,
            "flex": null,
            "flex_flow": null,
            "grid_area": null,
            "grid_auto_columns": null,
            "grid_auto_flow": null,
            "grid_auto_rows": null,
            "grid_column": null,
            "grid_gap": null,
            "grid_row": null,
            "grid_template_areas": null,
            "grid_template_columns": null,
            "grid_template_rows": null,
            "height": null,
            "justify_content": null,
            "justify_items": null,
            "left": null,
            "margin": null,
            "max_height": null,
            "max_width": null,
            "min_height": null,
            "min_width": null,
            "object_fit": null,
            "object_position": null,
            "order": null,
            "overflow": null,
            "overflow_x": null,
            "overflow_y": null,
            "padding": null,
            "right": null,
            "top": null,
            "visibility": null,
            "width": null
          }
        },
        "3bee6f4dac27469dac83e23dedc686a8": {
          "model_module": "@jupyter-widgets/controls",
          "model_name": "ProgressStyleModel",
          "model_module_version": "1.5.0",
          "state": {
            "_model_module": "@jupyter-widgets/controls",
            "_model_module_version": "1.5.0",
            "_model_name": "ProgressStyleModel",
            "_view_count": null,
            "_view_module": "@jupyter-widgets/base",
            "_view_module_version": "1.2.0",
            "_view_name": "StyleView",
            "bar_color": null,
            "description_width": ""
          }
        },
        "9bf090ab94e34664b8e6900aa60904a6": {
          "model_module": "@jupyter-widgets/base",
          "model_name": "LayoutModel",
          "model_module_version": "1.2.0",
          "state": {
            "_model_module": "@jupyter-widgets/base",
            "_model_module_version": "1.2.0",
            "_model_name": "LayoutModel",
            "_view_count": null,
            "_view_module": "@jupyter-widgets/base",
            "_view_module_version": "1.2.0",
            "_view_name": "LayoutView",
            "align_content": null,
            "align_items": null,
            "align_self": null,
            "border": null,
            "bottom": null,
            "display": null,
            "flex": null,
            "flex_flow": null,
            "grid_area": null,
            "grid_auto_columns": null,
            "grid_auto_flow": null,
            "grid_auto_rows": null,
            "grid_column": null,
            "grid_gap": null,
            "grid_row": null,
            "grid_template_areas": null,
            "grid_template_columns": null,
            "grid_template_rows": null,
            "height": null,
            "justify_content": null,
            "justify_items": null,
            "left": null,
            "margin": null,
            "max_height": null,
            "max_width": null,
            "min_height": null,
            "min_width": null,
            "object_fit": null,
            "object_position": null,
            "order": null,
            "overflow": null,
            "overflow_x": null,
            "overflow_y": null,
            "padding": null,
            "right": null,
            "top": null,
            "visibility": null,
            "width": null
          }
        },
        "ab84e51e29e3427292c597c6d3c8c2a7": {
          "model_module": "@jupyter-widgets/controls",
          "model_name": "DescriptionStyleModel",
          "model_module_version": "1.5.0",
          "state": {
            "_model_module": "@jupyter-widgets/controls",
            "_model_module_version": "1.5.0",
            "_model_name": "DescriptionStyleModel",
            "_view_count": null,
            "_view_module": "@jupyter-widgets/base",
            "_view_module_version": "1.2.0",
            "_view_name": "StyleView",
            "description_width": ""
          }
        },
        "68cad9fcb072498993c3497db6280d10": {
          "model_module": "@jupyter-widgets/controls",
          "model_name": "HBoxModel",
          "model_module_version": "1.5.0",
          "state": {
            "_dom_classes": [],
            "_model_module": "@jupyter-widgets/controls",
            "_model_module_version": "1.5.0",
            "_model_name": "HBoxModel",
            "_view_count": null,
            "_view_module": "@jupyter-widgets/controls",
            "_view_module_version": "1.5.0",
            "_view_name": "HBoxView",
            "box_style": "",
            "children": [
              "IPY_MODEL_c9b0401f1ce04eb2a6ef4770825a6298",
              "IPY_MODEL_ade6cf0d9df743efa99252996d25fad5",
              "IPY_MODEL_83db21a7f08e4763a1441bae33d09938"
            ],
            "layout": "IPY_MODEL_cf61803a97384c8ab0f92d95b1ecf995"
          }
        },
        "c9b0401f1ce04eb2a6ef4770825a6298": {
          "model_module": "@jupyter-widgets/controls",
          "model_name": "HTMLModel",
          "model_module_version": "1.5.0",
          "state": {
            "_dom_classes": [],
            "_model_module": "@jupyter-widgets/controls",
            "_model_module_version": "1.5.0",
            "_model_name": "HTMLModel",
            "_view_count": null,
            "_view_module": "@jupyter-widgets/controls",
            "_view_module_version": "1.5.0",
            "_view_name": "HTMLView",
            "description": "",
            "description_tooltip": null,
            "layout": "IPY_MODEL_7c126b382e8040fdb101c46fd1b79175",
            "placeholder": "​",
            "style": "IPY_MODEL_2b2b0f39facf47cca83edf0f376e97d4",
            "value": "Downloading: 100%"
          }
        },
        "ade6cf0d9df743efa99252996d25fad5": {
          "model_module": "@jupyter-widgets/controls",
          "model_name": "FloatProgressModel",
          "model_module_version": "1.5.0",
          "state": {
            "_dom_classes": [],
            "_model_module": "@jupyter-widgets/controls",
            "_model_module_version": "1.5.0",
            "_model_name": "FloatProgressModel",
            "_view_count": null,
            "_view_module": "@jupyter-widgets/controls",
            "_view_module_version": "1.5.0",
            "_view_name": "ProgressView",
            "bar_style": "success",
            "description": "",
            "description_tooltip": null,
            "layout": "IPY_MODEL_27d3ebc0ad224757ad91b7bf64740d1b",
            "max": 29,
            "min": 0,
            "orientation": "horizontal",
            "style": "IPY_MODEL_e184c4190ed34e5b816dfe433b83a501",
            "value": 29
          }
        },
        "83db21a7f08e4763a1441bae33d09938": {
          "model_module": "@jupyter-widgets/controls",
          "model_name": "HTMLModel",
          "model_module_version": "1.5.0",
          "state": {
            "_dom_classes": [],
            "_model_module": "@jupyter-widgets/controls",
            "_model_module_version": "1.5.0",
            "_model_name": "HTMLModel",
            "_view_count": null,
            "_view_module": "@jupyter-widgets/controls",
            "_view_module_version": "1.5.0",
            "_view_name": "HTMLView",
            "description": "",
            "description_tooltip": null,
            "layout": "IPY_MODEL_f3e5bb1829494ca0bf418dffc5178dda",
            "placeholder": "​",
            "style": "IPY_MODEL_fc05bd2b641f4510ac30efec985a0cce",
            "value": " 29.0/29.0 [00:00&lt;00:00, 221B/s]"
          }
        },
        "cf61803a97384c8ab0f92d95b1ecf995": {
          "model_module": "@jupyter-widgets/base",
          "model_name": "LayoutModel",
          "model_module_version": "1.2.0",
          "state": {
            "_model_module": "@jupyter-widgets/base",
            "_model_module_version": "1.2.0",
            "_model_name": "LayoutModel",
            "_view_count": null,
            "_view_module": "@jupyter-widgets/base",
            "_view_module_version": "1.2.0",
            "_view_name": "LayoutView",
            "align_content": null,
            "align_items": null,
            "align_self": null,
            "border": null,
            "bottom": null,
            "display": null,
            "flex": null,
            "flex_flow": null,
            "grid_area": null,
            "grid_auto_columns": null,
            "grid_auto_flow": null,
            "grid_auto_rows": null,
            "grid_column": null,
            "grid_gap": null,
            "grid_row": null,
            "grid_template_areas": null,
            "grid_template_columns": null,
            "grid_template_rows": null,
            "height": null,
            "justify_content": null,
            "justify_items": null,
            "left": null,
            "margin": null,
            "max_height": null,
            "max_width": null,
            "min_height": null,
            "min_width": null,
            "object_fit": null,
            "object_position": null,
            "order": null,
            "overflow": null,
            "overflow_x": null,
            "overflow_y": null,
            "padding": null,
            "right": null,
            "top": null,
            "visibility": null,
            "width": null
          }
        },
        "7c126b382e8040fdb101c46fd1b79175": {
          "model_module": "@jupyter-widgets/base",
          "model_name": "LayoutModel",
          "model_module_version": "1.2.0",
          "state": {
            "_model_module": "@jupyter-widgets/base",
            "_model_module_version": "1.2.0",
            "_model_name": "LayoutModel",
            "_view_count": null,
            "_view_module": "@jupyter-widgets/base",
            "_view_module_version": "1.2.0",
            "_view_name": "LayoutView",
            "align_content": null,
            "align_items": null,
            "align_self": null,
            "border": null,
            "bottom": null,
            "display": null,
            "flex": null,
            "flex_flow": null,
            "grid_area": null,
            "grid_auto_columns": null,
            "grid_auto_flow": null,
            "grid_auto_rows": null,
            "grid_column": null,
            "grid_gap": null,
            "grid_row": null,
            "grid_template_areas": null,
            "grid_template_columns": null,
            "grid_template_rows": null,
            "height": null,
            "justify_content": null,
            "justify_items": null,
            "left": null,
            "margin": null,
            "max_height": null,
            "max_width": null,
            "min_height": null,
            "min_width": null,
            "object_fit": null,
            "object_position": null,
            "order": null,
            "overflow": null,
            "overflow_x": null,
            "overflow_y": null,
            "padding": null,
            "right": null,
            "top": null,
            "visibility": null,
            "width": null
          }
        },
        "2b2b0f39facf47cca83edf0f376e97d4": {
          "model_module": "@jupyter-widgets/controls",
          "model_name": "DescriptionStyleModel",
          "model_module_version": "1.5.0",
          "state": {
            "_model_module": "@jupyter-widgets/controls",
            "_model_module_version": "1.5.0",
            "_model_name": "DescriptionStyleModel",
            "_view_count": null,
            "_view_module": "@jupyter-widgets/base",
            "_view_module_version": "1.2.0",
            "_view_name": "StyleView",
            "description_width": ""
          }
        },
        "27d3ebc0ad224757ad91b7bf64740d1b": {
          "model_module": "@jupyter-widgets/base",
          "model_name": "LayoutModel",
          "model_module_version": "1.2.0",
          "state": {
            "_model_module": "@jupyter-widgets/base",
            "_model_module_version": "1.2.0",
            "_model_name": "LayoutModel",
            "_view_count": null,
            "_view_module": "@jupyter-widgets/base",
            "_view_module_version": "1.2.0",
            "_view_name": "LayoutView",
            "align_content": null,
            "align_items": null,
            "align_self": null,
            "border": null,
            "bottom": null,
            "display": null,
            "flex": null,
            "flex_flow": null,
            "grid_area": null,
            "grid_auto_columns": null,
            "grid_auto_flow": null,
            "grid_auto_rows": null,
            "grid_column": null,
            "grid_gap": null,
            "grid_row": null,
            "grid_template_areas": null,
            "grid_template_columns": null,
            "grid_template_rows": null,
            "height": null,
            "justify_content": null,
            "justify_items": null,
            "left": null,
            "margin": null,
            "max_height": null,
            "max_width": null,
            "min_height": null,
            "min_width": null,
            "object_fit": null,
            "object_position": null,
            "order": null,
            "overflow": null,
            "overflow_x": null,
            "overflow_y": null,
            "padding": null,
            "right": null,
            "top": null,
            "visibility": null,
            "width": null
          }
        },
        "e184c4190ed34e5b816dfe433b83a501": {
          "model_module": "@jupyter-widgets/controls",
          "model_name": "ProgressStyleModel",
          "model_module_version": "1.5.0",
          "state": {
            "_model_module": "@jupyter-widgets/controls",
            "_model_module_version": "1.5.0",
            "_model_name": "ProgressStyleModel",
            "_view_count": null,
            "_view_module": "@jupyter-widgets/base",
            "_view_module_version": "1.2.0",
            "_view_name": "StyleView",
            "bar_color": null,
            "description_width": ""
          }
        },
        "f3e5bb1829494ca0bf418dffc5178dda": {
          "model_module": "@jupyter-widgets/base",
          "model_name": "LayoutModel",
          "model_module_version": "1.2.0",
          "state": {
            "_model_module": "@jupyter-widgets/base",
            "_model_module_version": "1.2.0",
            "_model_name": "LayoutModel",
            "_view_count": null,
            "_view_module": "@jupyter-widgets/base",
            "_view_module_version": "1.2.0",
            "_view_name": "LayoutView",
            "align_content": null,
            "align_items": null,
            "align_self": null,
            "border": null,
            "bottom": null,
            "display": null,
            "flex": null,
            "flex_flow": null,
            "grid_area": null,
            "grid_auto_columns": null,
            "grid_auto_flow": null,
            "grid_auto_rows": null,
            "grid_column": null,
            "grid_gap": null,
            "grid_row": null,
            "grid_template_areas": null,
            "grid_template_columns": null,
            "grid_template_rows": null,
            "height": null,
            "justify_content": null,
            "justify_items": null,
            "left": null,
            "margin": null,
            "max_height": null,
            "max_width": null,
            "min_height": null,
            "min_width": null,
            "object_fit": null,
            "object_position": null,
            "order": null,
            "overflow": null,
            "overflow_x": null,
            "overflow_y": null,
            "padding": null,
            "right": null,
            "top": null,
            "visibility": null,
            "width": null
          }
        },
        "fc05bd2b641f4510ac30efec985a0cce": {
          "model_module": "@jupyter-widgets/controls",
          "model_name": "DescriptionStyleModel",
          "model_module_version": "1.5.0",
          "state": {
            "_model_module": "@jupyter-widgets/controls",
            "_model_module_version": "1.5.0",
            "_model_name": "DescriptionStyleModel",
            "_view_count": null,
            "_view_module": "@jupyter-widgets/base",
            "_view_module_version": "1.2.0",
            "_view_name": "StyleView",
            "description_width": ""
          }
        },
        "d27d987ee02a415685be860c347ae27e": {
          "model_module": "@jupyter-widgets/controls",
          "model_name": "HBoxModel",
          "model_module_version": "1.5.0",
          "state": {
            "_dom_classes": [],
            "_model_module": "@jupyter-widgets/controls",
            "_model_module_version": "1.5.0",
            "_model_name": "HBoxModel",
            "_view_count": null,
            "_view_module": "@jupyter-widgets/controls",
            "_view_module_version": "1.5.0",
            "_view_name": "HBoxView",
            "box_style": "",
            "children": [
              "IPY_MODEL_f3dd6959d11642feac7351c4fdf1a5c9",
              "IPY_MODEL_a17600542ff74967ba448388c35ca29a",
              "IPY_MODEL_23f0ace0bdef4700a842bd831e2cf398"
            ],
            "layout": "IPY_MODEL_5d2033aa627042af86342be6c13349c8"
          }
        },
        "f3dd6959d11642feac7351c4fdf1a5c9": {
          "model_module": "@jupyter-widgets/controls",
          "model_name": "HTMLModel",
          "model_module_version": "1.5.0",
          "state": {
            "_dom_classes": [],
            "_model_module": "@jupyter-widgets/controls",
            "_model_module_version": "1.5.0",
            "_model_name": "HTMLModel",
            "_view_count": null,
            "_view_module": "@jupyter-widgets/controls",
            "_view_module_version": "1.5.0",
            "_view_name": "HTMLView",
            "description": "",
            "description_tooltip": null,
            "layout": "IPY_MODEL_0c78465207e1493eaef2969e8e4ac54c",
            "placeholder": "​",
            "style": "IPY_MODEL_865a677b0f7b4097ba28920b1039f35a",
            "value": "Downloading: 100%"
          }
        },
        "a17600542ff74967ba448388c35ca29a": {
          "model_module": "@jupyter-widgets/controls",
          "model_name": "FloatProgressModel",
          "model_module_version": "1.5.0",
          "state": {
            "_dom_classes": [],
            "_model_module": "@jupyter-widgets/controls",
            "_model_module_version": "1.5.0",
            "_model_name": "FloatProgressModel",
            "_view_count": null,
            "_view_module": "@jupyter-widgets/controls",
            "_view_module_version": "1.5.0",
            "_view_name": "ProgressView",
            "bar_style": "success",
            "description": "",
            "description_tooltip": null,
            "layout": "IPY_MODEL_584644f483da480b9e59beb1228001d1",
            "max": 624,
            "min": 0,
            "orientation": "horizontal",
            "style": "IPY_MODEL_bdfb0db1b8bd4a42baa6e5d3e5606fab",
            "value": 624
          }
        },
        "23f0ace0bdef4700a842bd831e2cf398": {
          "model_module": "@jupyter-widgets/controls",
          "model_name": "HTMLModel",
          "model_module_version": "1.5.0",
          "state": {
            "_dom_classes": [],
            "_model_module": "@jupyter-widgets/controls",
            "_model_module_version": "1.5.0",
            "_model_name": "HTMLModel",
            "_view_count": null,
            "_view_module": "@jupyter-widgets/controls",
            "_view_module_version": "1.5.0",
            "_view_name": "HTMLView",
            "description": "",
            "description_tooltip": null,
            "layout": "IPY_MODEL_00f493082c134a6b8e441ccd8a8a201d",
            "placeholder": "​",
            "style": "IPY_MODEL_b85d9a1febc84f159e5fc4c5423d70d7",
            "value": " 624/624 [00:00&lt;00:00, 7.41kB/s]"
          }
        },
        "5d2033aa627042af86342be6c13349c8": {
          "model_module": "@jupyter-widgets/base",
          "model_name": "LayoutModel",
          "model_module_version": "1.2.0",
          "state": {
            "_model_module": "@jupyter-widgets/base",
            "_model_module_version": "1.2.0",
            "_model_name": "LayoutModel",
            "_view_count": null,
            "_view_module": "@jupyter-widgets/base",
            "_view_module_version": "1.2.0",
            "_view_name": "LayoutView",
            "align_content": null,
            "align_items": null,
            "align_self": null,
            "border": null,
            "bottom": null,
            "display": null,
            "flex": null,
            "flex_flow": null,
            "grid_area": null,
            "grid_auto_columns": null,
            "grid_auto_flow": null,
            "grid_auto_rows": null,
            "grid_column": null,
            "grid_gap": null,
            "grid_row": null,
            "grid_template_areas": null,
            "grid_template_columns": null,
            "grid_template_rows": null,
            "height": null,
            "justify_content": null,
            "justify_items": null,
            "left": null,
            "margin": null,
            "max_height": null,
            "max_width": null,
            "min_height": null,
            "min_width": null,
            "object_fit": null,
            "object_position": null,
            "order": null,
            "overflow": null,
            "overflow_x": null,
            "overflow_y": null,
            "padding": null,
            "right": null,
            "top": null,
            "visibility": null,
            "width": null
          }
        },
        "0c78465207e1493eaef2969e8e4ac54c": {
          "model_module": "@jupyter-widgets/base",
          "model_name": "LayoutModel",
          "model_module_version": "1.2.0",
          "state": {
            "_model_module": "@jupyter-widgets/base",
            "_model_module_version": "1.2.0",
            "_model_name": "LayoutModel",
            "_view_count": null,
            "_view_module": "@jupyter-widgets/base",
            "_view_module_version": "1.2.0",
            "_view_name": "LayoutView",
            "align_content": null,
            "align_items": null,
            "align_self": null,
            "border": null,
            "bottom": null,
            "display": null,
            "flex": null,
            "flex_flow": null,
            "grid_area": null,
            "grid_auto_columns": null,
            "grid_auto_flow": null,
            "grid_auto_rows": null,
            "grid_column": null,
            "grid_gap": null,
            "grid_row": null,
            "grid_template_areas": null,
            "grid_template_columns": null,
            "grid_template_rows": null,
            "height": null,
            "justify_content": null,
            "justify_items": null,
            "left": null,
            "margin": null,
            "max_height": null,
            "max_width": null,
            "min_height": null,
            "min_width": null,
            "object_fit": null,
            "object_position": null,
            "order": null,
            "overflow": null,
            "overflow_x": null,
            "overflow_y": null,
            "padding": null,
            "right": null,
            "top": null,
            "visibility": null,
            "width": null
          }
        },
        "865a677b0f7b4097ba28920b1039f35a": {
          "model_module": "@jupyter-widgets/controls",
          "model_name": "DescriptionStyleModel",
          "model_module_version": "1.5.0",
          "state": {
            "_model_module": "@jupyter-widgets/controls",
            "_model_module_version": "1.5.0",
            "_model_name": "DescriptionStyleModel",
            "_view_count": null,
            "_view_module": "@jupyter-widgets/base",
            "_view_module_version": "1.2.0",
            "_view_name": "StyleView",
            "description_width": ""
          }
        },
        "584644f483da480b9e59beb1228001d1": {
          "model_module": "@jupyter-widgets/base",
          "model_name": "LayoutModel",
          "model_module_version": "1.2.0",
          "state": {
            "_model_module": "@jupyter-widgets/base",
            "_model_module_version": "1.2.0",
            "_model_name": "LayoutModel",
            "_view_count": null,
            "_view_module": "@jupyter-widgets/base",
            "_view_module_version": "1.2.0",
            "_view_name": "LayoutView",
            "align_content": null,
            "align_items": null,
            "align_self": null,
            "border": null,
            "bottom": null,
            "display": null,
            "flex": null,
            "flex_flow": null,
            "grid_area": null,
            "grid_auto_columns": null,
            "grid_auto_flow": null,
            "grid_auto_rows": null,
            "grid_column": null,
            "grid_gap": null,
            "grid_row": null,
            "grid_template_areas": null,
            "grid_template_columns": null,
            "grid_template_rows": null,
            "height": null,
            "justify_content": null,
            "justify_items": null,
            "left": null,
            "margin": null,
            "max_height": null,
            "max_width": null,
            "min_height": null,
            "min_width": null,
            "object_fit": null,
            "object_position": null,
            "order": null,
            "overflow": null,
            "overflow_x": null,
            "overflow_y": null,
            "padding": null,
            "right": null,
            "top": null,
            "visibility": null,
            "width": null
          }
        },
        "bdfb0db1b8bd4a42baa6e5d3e5606fab": {
          "model_module": "@jupyter-widgets/controls",
          "model_name": "ProgressStyleModel",
          "model_module_version": "1.5.0",
          "state": {
            "_model_module": "@jupyter-widgets/controls",
            "_model_module_version": "1.5.0",
            "_model_name": "ProgressStyleModel",
            "_view_count": null,
            "_view_module": "@jupyter-widgets/base",
            "_view_module_version": "1.2.0",
            "_view_name": "StyleView",
            "bar_color": null,
            "description_width": ""
          }
        },
        "00f493082c134a6b8e441ccd8a8a201d": {
          "model_module": "@jupyter-widgets/base",
          "model_name": "LayoutModel",
          "model_module_version": "1.2.0",
          "state": {
            "_model_module": "@jupyter-widgets/base",
            "_model_module_version": "1.2.0",
            "_model_name": "LayoutModel",
            "_view_count": null,
            "_view_module": "@jupyter-widgets/base",
            "_view_module_version": "1.2.0",
            "_view_name": "LayoutView",
            "align_content": null,
            "align_items": null,
            "align_self": null,
            "border": null,
            "bottom": null,
            "display": null,
            "flex": null,
            "flex_flow": null,
            "grid_area": null,
            "grid_auto_columns": null,
            "grid_auto_flow": null,
            "grid_auto_rows": null,
            "grid_column": null,
            "grid_gap": null,
            "grid_row": null,
            "grid_template_areas": null,
            "grid_template_columns": null,
            "grid_template_rows": null,
            "height": null,
            "justify_content": null,
            "justify_items": null,
            "left": null,
            "margin": null,
            "max_height": null,
            "max_width": null,
            "min_height": null,
            "min_width": null,
            "object_fit": null,
            "object_position": null,
            "order": null,
            "overflow": null,
            "overflow_x": null,
            "overflow_y": null,
            "padding": null,
            "right": null,
            "top": null,
            "visibility": null,
            "width": null
          }
        },
        "b85d9a1febc84f159e5fc4c5423d70d7": {
          "model_module": "@jupyter-widgets/controls",
          "model_name": "DescriptionStyleModel",
          "model_module_version": "1.5.0",
          "state": {
            "_model_module": "@jupyter-widgets/controls",
            "_model_module_version": "1.5.0",
            "_model_name": "DescriptionStyleModel",
            "_view_count": null,
            "_view_module": "@jupyter-widgets/base",
            "_view_module_version": "1.2.0",
            "_view_name": "StyleView",
            "description_width": ""
          }
        },
        "9de4a33de7cb4ecb9d910077f68e20bb": {
          "model_module": "@jupyter-widgets/controls",
          "model_name": "HBoxModel",
          "model_module_version": "1.5.0",
          "state": {
            "_dom_classes": [],
            "_model_module": "@jupyter-widgets/controls",
            "_model_module_version": "1.5.0",
            "_model_name": "HBoxModel",
            "_view_count": null,
            "_view_module": "@jupyter-widgets/controls",
            "_view_module_version": "1.5.0",
            "_view_name": "HBoxView",
            "box_style": "",
            "children": [
              "IPY_MODEL_e6ee1d88cd3a4289a771c6a45d8d4577",
              "IPY_MODEL_9421ac3145bf4e59a49e23cf33faa069",
              "IPY_MODEL_85875ad3a5c94e4b9623dfeb9d4743bb"
            ],
            "layout": "IPY_MODEL_23f5905326cf447ba4539b140c49a577"
          }
        },
        "e6ee1d88cd3a4289a771c6a45d8d4577": {
          "model_module": "@jupyter-widgets/controls",
          "model_name": "HTMLModel",
          "model_module_version": "1.5.0",
          "state": {
            "_dom_classes": [],
            "_model_module": "@jupyter-widgets/controls",
            "_model_module_version": "1.5.0",
            "_model_name": "HTMLModel",
            "_view_count": null,
            "_view_module": "@jupyter-widgets/controls",
            "_view_module_version": "1.5.0",
            "_view_name": "HTMLView",
            "description": "",
            "description_tooltip": null,
            "layout": "IPY_MODEL_05aadeda0fe64779af82fe0996b5ba11",
            "placeholder": "​",
            "style": "IPY_MODEL_ce1949f1450f498b8c748eeffaac1856",
            "value": "100%"
          }
        },
        "9421ac3145bf4e59a49e23cf33faa069": {
          "model_module": "@jupyter-widgets/controls",
          "model_name": "FloatProgressModel",
          "model_module_version": "1.5.0",
          "state": {
            "_dom_classes": [],
            "_model_module": "@jupyter-widgets/controls",
            "_model_module_version": "1.5.0",
            "_model_name": "FloatProgressModel",
            "_view_count": null,
            "_view_module": "@jupyter-widgets/controls",
            "_view_module_version": "1.5.0",
            "_view_name": "ProgressView",
            "bar_style": "success",
            "description": "",
            "description_tooltip": null,
            "layout": "IPY_MODEL_c76fe52ac51646e4a0e54e3f7e25b05e",
            "max": 436,
            "min": 0,
            "orientation": "horizontal",
            "style": "IPY_MODEL_1139c6ac7be34fab86315d39c7496e70",
            "value": 436
          }
        },
        "85875ad3a5c94e4b9623dfeb9d4743bb": {
          "model_module": "@jupyter-widgets/controls",
          "model_name": "HTMLModel",
          "model_module_version": "1.5.0",
          "state": {
            "_dom_classes": [],
            "_model_module": "@jupyter-widgets/controls",
            "_model_module_version": "1.5.0",
            "_model_name": "HTMLModel",
            "_view_count": null,
            "_view_module": "@jupyter-widgets/controls",
            "_view_module_version": "1.5.0",
            "_view_name": "HTMLView",
            "description": "",
            "description_tooltip": null,
            "layout": "IPY_MODEL_a7f318a293d3417a948b228e1b3c56a0",
            "placeholder": "​",
            "style": "IPY_MODEL_1162c0ca5c274f5da27326f3ee6c4d19",
            "value": " 436/436 [00:06&lt;00:00, 73.21it/s]"
          }
        },
        "23f5905326cf447ba4539b140c49a577": {
          "model_module": "@jupyter-widgets/base",
          "model_name": "LayoutModel",
          "model_module_version": "1.2.0",
          "state": {
            "_model_module": "@jupyter-widgets/base",
            "_model_module_version": "1.2.0",
            "_model_name": "LayoutModel",
            "_view_count": null,
            "_view_module": "@jupyter-widgets/base",
            "_view_module_version": "1.2.0",
            "_view_name": "LayoutView",
            "align_content": null,
            "align_items": null,
            "align_self": null,
            "border": null,
            "bottom": null,
            "display": null,
            "flex": null,
            "flex_flow": null,
            "grid_area": null,
            "grid_auto_columns": null,
            "grid_auto_flow": null,
            "grid_auto_rows": null,
            "grid_column": null,
            "grid_gap": null,
            "grid_row": null,
            "grid_template_areas": null,
            "grid_template_columns": null,
            "grid_template_rows": null,
            "height": null,
            "justify_content": null,
            "justify_items": null,
            "left": null,
            "margin": null,
            "max_height": null,
            "max_width": null,
            "min_height": null,
            "min_width": null,
            "object_fit": null,
            "object_position": null,
            "order": null,
            "overflow": null,
            "overflow_x": null,
            "overflow_y": null,
            "padding": null,
            "right": null,
            "top": null,
            "visibility": null,
            "width": null
          }
        },
        "05aadeda0fe64779af82fe0996b5ba11": {
          "model_module": "@jupyter-widgets/base",
          "model_name": "LayoutModel",
          "model_module_version": "1.2.0",
          "state": {
            "_model_module": "@jupyter-widgets/base",
            "_model_module_version": "1.2.0",
            "_model_name": "LayoutModel",
            "_view_count": null,
            "_view_module": "@jupyter-widgets/base",
            "_view_module_version": "1.2.0",
            "_view_name": "LayoutView",
            "align_content": null,
            "align_items": null,
            "align_self": null,
            "border": null,
            "bottom": null,
            "display": null,
            "flex": null,
            "flex_flow": null,
            "grid_area": null,
            "grid_auto_columns": null,
            "grid_auto_flow": null,
            "grid_auto_rows": null,
            "grid_column": null,
            "grid_gap": null,
            "grid_row": null,
            "grid_template_areas": null,
            "grid_template_columns": null,
            "grid_template_rows": null,
            "height": null,
            "justify_content": null,
            "justify_items": null,
            "left": null,
            "margin": null,
            "max_height": null,
            "max_width": null,
            "min_height": null,
            "min_width": null,
            "object_fit": null,
            "object_position": null,
            "order": null,
            "overflow": null,
            "overflow_x": null,
            "overflow_y": null,
            "padding": null,
            "right": null,
            "top": null,
            "visibility": null,
            "width": null
          }
        },
        "ce1949f1450f498b8c748eeffaac1856": {
          "model_module": "@jupyter-widgets/controls",
          "model_name": "DescriptionStyleModel",
          "model_module_version": "1.5.0",
          "state": {
            "_model_module": "@jupyter-widgets/controls",
            "_model_module_version": "1.5.0",
            "_model_name": "DescriptionStyleModel",
            "_view_count": null,
            "_view_module": "@jupyter-widgets/base",
            "_view_module_version": "1.2.0",
            "_view_name": "StyleView",
            "description_width": ""
          }
        },
        "c76fe52ac51646e4a0e54e3f7e25b05e": {
          "model_module": "@jupyter-widgets/base",
          "model_name": "LayoutModel",
          "model_module_version": "1.2.0",
          "state": {
            "_model_module": "@jupyter-widgets/base",
            "_model_module_version": "1.2.0",
            "_model_name": "LayoutModel",
            "_view_count": null,
            "_view_module": "@jupyter-widgets/base",
            "_view_module_version": "1.2.0",
            "_view_name": "LayoutView",
            "align_content": null,
            "align_items": null,
            "align_self": null,
            "border": null,
            "bottom": null,
            "display": null,
            "flex": null,
            "flex_flow": null,
            "grid_area": null,
            "grid_auto_columns": null,
            "grid_auto_flow": null,
            "grid_auto_rows": null,
            "grid_column": null,
            "grid_gap": null,
            "grid_row": null,
            "grid_template_areas": null,
            "grid_template_columns": null,
            "grid_template_rows": null,
            "height": null,
            "justify_content": null,
            "justify_items": null,
            "left": null,
            "margin": null,
            "max_height": null,
            "max_width": null,
            "min_height": null,
            "min_width": null,
            "object_fit": null,
            "object_position": null,
            "order": null,
            "overflow": null,
            "overflow_x": null,
            "overflow_y": null,
            "padding": null,
            "right": null,
            "top": null,
            "visibility": null,
            "width": null
          }
        },
        "1139c6ac7be34fab86315d39c7496e70": {
          "model_module": "@jupyter-widgets/controls",
          "model_name": "ProgressStyleModel",
          "model_module_version": "1.5.0",
          "state": {
            "_model_module": "@jupyter-widgets/controls",
            "_model_module_version": "1.5.0",
            "_model_name": "ProgressStyleModel",
            "_view_count": null,
            "_view_module": "@jupyter-widgets/base",
            "_view_module_version": "1.2.0",
            "_view_name": "StyleView",
            "bar_color": null,
            "description_width": ""
          }
        },
        "a7f318a293d3417a948b228e1b3c56a0": {
          "model_module": "@jupyter-widgets/base",
          "model_name": "LayoutModel",
          "model_module_version": "1.2.0",
          "state": {
            "_model_module": "@jupyter-widgets/base",
            "_model_module_version": "1.2.0",
            "_model_name": "LayoutModel",
            "_view_count": null,
            "_view_module": "@jupyter-widgets/base",
            "_view_module_version": "1.2.0",
            "_view_name": "LayoutView",
            "align_content": null,
            "align_items": null,
            "align_self": null,
            "border": null,
            "bottom": null,
            "display": null,
            "flex": null,
            "flex_flow": null,
            "grid_area": null,
            "grid_auto_columns": null,
            "grid_auto_flow": null,
            "grid_auto_rows": null,
            "grid_column": null,
            "grid_gap": null,
            "grid_row": null,
            "grid_template_areas": null,
            "grid_template_columns": null,
            "grid_template_rows": null,
            "height": null,
            "justify_content": null,
            "justify_items": null,
            "left": null,
            "margin": null,
            "max_height": null,
            "max_width": null,
            "min_height": null,
            "min_width": null,
            "object_fit": null,
            "object_position": null,
            "order": null,
            "overflow": null,
            "overflow_x": null,
            "overflow_y": null,
            "padding": null,
            "right": null,
            "top": null,
            "visibility": null,
            "width": null
          }
        },
        "1162c0ca5c274f5da27326f3ee6c4d19": {
          "model_module": "@jupyter-widgets/controls",
          "model_name": "DescriptionStyleModel",
          "model_module_version": "1.5.0",
          "state": {
            "_model_module": "@jupyter-widgets/controls",
            "_model_module_version": "1.5.0",
            "_model_name": "DescriptionStyleModel",
            "_view_count": null,
            "_view_module": "@jupyter-widgets/base",
            "_view_module_version": "1.2.0",
            "_view_name": "StyleView",
            "description_width": ""
          }
        }
      }
    }
  },
  "cells": [
    {
      "cell_type": "code",
      "source": [
        "!git clone https://github.com/seantyh/morphert"
      ],
      "metadata": {
        "colab": {
          "base_uri": "https://localhost:8080/"
        },
        "id": "meX8r4Y_vUEn",
        "outputId": "dceb9475-0074-4061-a877-2fda6e6f7dc9"
      },
      "execution_count": null,
      "outputs": [
        {
          "output_type": "stream",
          "name": "stdout",
          "text": [
            "Cloning into 'morphert'...\n",
            "remote: Enumerating objects: 22, done.\u001b[K\n",
            "remote: Counting objects: 100% (22/22), done.\u001b[K\n",
            "remote: Compressing objects: 100% (20/20), done.\u001b[K\n",
            "remote: Total 22 (delta 1), reused 22 (delta 1), pack-reused 0\u001b[K\n",
            "Unpacking objects: 100% (22/22), done.\n"
          ]
        }
      ]
    },
    {
      "cell_type": "code",
      "source": [
        "!pip install -q --progress-bar off transformers umap-learn opencc hdbscan functorch\n",
        "!pip install -U gensim"
      ],
      "metadata": {
        "id": "UO6XNtPwvoHP",
        "colab": {
          "base_uri": "https://localhost:8080/"
        },
        "outputId": "0571be7e-9ebb-43fc-e81e-dffb4705f210"
      },
      "execution_count": null,
      "outputs": [
        {
          "output_type": "stream",
          "name": "stdout",
          "text": [
            "\u001b[?25l\n",
            "\u001b[?25h\u001b[?25l\n",
            "\u001b[?25h\u001b[?25l\n",
            "\u001b[?25h\u001b[?25l\n",
            "\u001b[?25h  Installing build dependencies ... \u001b[?25l\u001b[?25hdone\n",
            "  Getting requirements to build wheel ... \u001b[?25l\u001b[?25hdone\n",
            "    Preparing wheel metadata ... \u001b[?25l\u001b[?25hdone\n",
            "\u001b[?25l\n",
            "\u001b[?25h\u001b[?25l\n",
            "\u001b[?25h\u001b[?25l\n",
            "\u001b[?25h\u001b[?25l\n",
            "\u001b[?25h\u001b[?25l\n",
            "\u001b[?25h\u001b[?25l\n",
            "\u001b[?25h  Building wheel for umap-learn (setup.py) ... \u001b[?25l\u001b[?25hdone\n",
            "  Building wheel for pynndescent (setup.py) ... \u001b[?25l\u001b[?25hdone\n",
            "  Building wheel for hdbscan (PEP 517) ... \u001b[?25l\u001b[?25hdone\n",
            "  Building wheel for sacremoses (setup.py) ... \u001b[?25l\u001b[?25hdone\n",
            "Requirement already satisfied: gensim in /usr/local/lib/python3.7/dist-packages (3.6.0)\n",
            "Collecting gensim\n",
            "  Downloading gensim-4.2.0-cp37-cp37m-manylinux_2_12_x86_64.manylinux2010_x86_64.whl (24.1 MB)\n",
            "\u001b[K     |████████████████████████████████| 24.1 MB 1.5 MB/s \n",
            "\u001b[?25hRequirement already satisfied: smart-open>=1.8.1 in /usr/local/lib/python3.7/dist-packages (from gensim) (6.0.0)\n",
            "Requirement already satisfied: scipy>=0.18.1 in /usr/local/lib/python3.7/dist-packages (from gensim) (1.4.1)\n",
            "Requirement already satisfied: numpy>=1.17.0 in /usr/local/lib/python3.7/dist-packages (from gensim) (1.21.6)\n",
            "Installing collected packages: gensim\n",
            "  Attempting uninstall: gensim\n",
            "    Found existing installation: gensim 3.6.0\n",
            "    Uninstalling gensim-3.6.0:\n",
            "      Successfully uninstalled gensim-3.6.0\n",
            "Successfully installed gensim-4.2.0\n"
          ]
        }
      ]
    },
    {
      "cell_type": "code",
      "source": [
        "import sys\n",
        "if \"./morphert/src\" not in sys.path:\n",
        "  sys.path.append(\"./morphert/src\")"
      ],
      "metadata": {
        "id": "qp2v4sq6vXq5"
      },
      "execution_count": null,
      "outputs": []
    },
    {
      "cell_type": "code",
      "execution_count": null,
      "metadata": {
        "id": "up-tssxTvPek"
      },
      "outputs": [],
      "source": [
        "import pickle\n",
        "from pathlib import Path\n",
        "from itertools import groupby, combinations\n",
        "from textwrap import wrap\n",
        "from tqdm.auto import tqdm\n",
        "from opencc import OpenCC\n",
        "\n",
        "import numpy as np\n",
        "import pandas as pd\n",
        "import matplotlib.pyplot as plt\n",
        "from scipy.spatial.distance import pdist, squareform\n",
        "from gensim.models import KeyedVectors\n",
        "import umap\n",
        "import hdbscan\n",
        "\n",
        "import torch\n",
        "from functorch import jacrev, jacfwd\n",
        "from transformers import BertTokenizer, BertModel, BertPreTrainedModel\n",
        "from morphert.model import *"
      ]
    },
    {
      "cell_type": "code",
      "source": [
        "N = 500000\n",
        "base_dir = Path(\"/content/drive/MyDrive/LangOn/morphert\")\n",
        "t2s = OpenCC(\"t2s\").convert\n",
        "with open(base_dir/\"tencent_small_500k.pkl\", \"rb\") as fin:\n",
        "    (vocabs, embs) = pickle.load(fin)   \n",
        "kv = KeyedVectors(100)\n",
        "kv.add_vectors(vocabs, embs)\n",
        "tokenizer = BertTokenizer.from_pretrained(\"bert-base-chinese\")\n",
        "model = MorphertModel.from_pretrained(base_dir/\"morphert_500k\")\n",
        "collator_fn = DataCollator(tokenizer)\n",
        "model = model.to(\"cuda\")\n",
        "full_ds = MorphertDataset(np.arange(N), vocabs, embs)\n",
        "full_emb = np.vstack([full_ds[i][\"vec\"] for i in range(N)])\n",
        "in_tencent = lambda x: x in full_ds.vocabs"
      ],
      "metadata": {
        "id": "qzL-LsXUwmBM",
        "colab": {
          "base_uri": "https://localhost:8080/",
          "height": 113,
          "referenced_widgets": [
            "8abfc362142f4560905b0f28b69ae7a3",
            "d01c201e5b654685a2487f881fd19649",
            "eae88783dfa94f92a9e7dc17a232eb04",
            "dd18e3ff47674313ad8e4317814fc5f4",
            "e384286d730b4917ba1477bb2e4b0ebe",
            "6205b2856d274683b617a8e28742a4c0",
            "5ff2acef55054fb79fba47acb8ecebc8",
            "67f15cc254f648d0a4de19b43ed5af92",
            "3bee6f4dac27469dac83e23dedc686a8",
            "9bf090ab94e34664b8e6900aa60904a6",
            "ab84e51e29e3427292c597c6d3c8c2a7",
            "68cad9fcb072498993c3497db6280d10",
            "c9b0401f1ce04eb2a6ef4770825a6298",
            "ade6cf0d9df743efa99252996d25fad5",
            "83db21a7f08e4763a1441bae33d09938",
            "cf61803a97384c8ab0f92d95b1ecf995",
            "7c126b382e8040fdb101c46fd1b79175",
            "2b2b0f39facf47cca83edf0f376e97d4",
            "27d3ebc0ad224757ad91b7bf64740d1b",
            "e184c4190ed34e5b816dfe433b83a501",
            "f3e5bb1829494ca0bf418dffc5178dda",
            "fc05bd2b641f4510ac30efec985a0cce",
            "d27d987ee02a415685be860c347ae27e",
            "f3dd6959d11642feac7351c4fdf1a5c9",
            "a17600542ff74967ba448388c35ca29a",
            "23f0ace0bdef4700a842bd831e2cf398",
            "5d2033aa627042af86342be6c13349c8",
            "0c78465207e1493eaef2969e8e4ac54c",
            "865a677b0f7b4097ba28920b1039f35a",
            "584644f483da480b9e59beb1228001d1",
            "bdfb0db1b8bd4a42baa6e5d3e5606fab",
            "00f493082c134a6b8e441ccd8a8a201d",
            "b85d9a1febc84f159e5fc4c5423d70d7"
          ]
        },
        "outputId": "4f9811ca-18e3-47d1-85d3-c4ea6cf72ace"
      },
      "execution_count": null,
      "outputs": [
        {
          "output_type": "display_data",
          "data": {
            "text/plain": [
              "Downloading:   0%|          | 0.00/107k [00:00<?, ?B/s]"
            ],
            "application/vnd.jupyter.widget-view+json": {
              "version_major": 2,
              "version_minor": 0,
              "model_id": "8abfc362142f4560905b0f28b69ae7a3"
            }
          },
          "metadata": {}
        },
        {
          "output_type": "display_data",
          "data": {
            "text/plain": [
              "Downloading:   0%|          | 0.00/29.0 [00:00<?, ?B/s]"
            ],
            "application/vnd.jupyter.widget-view+json": {
              "version_major": 2,
              "version_minor": 0,
              "model_id": "68cad9fcb072498993c3497db6280d10"
            }
          },
          "metadata": {}
        },
        {
          "output_type": "display_data",
          "data": {
            "text/plain": [
              "Downloading:   0%|          | 0.00/624 [00:00<?, ?B/s]"
            ],
            "application/vnd.jupyter.widget-view+json": {
              "version_major": 2,
              "version_minor": 0,
              "model_id": "d27d987ee02a415685be860c347ae27e"
            }
          },
          "metadata": {}
        }
      ]
    },
    {
      "cell_type": "code",
      "source": [
        "tokenizer(\"電腦\")"
      ],
      "metadata": {
        "colab": {
          "base_uri": "https://localhost:8080/"
        },
        "id": "d2SBFPtVwmte",
        "outputId": "72734e7b-3dbc-4fa7-af08-62d21d4b92fe"
      },
      "execution_count": null,
      "outputs": [
        {
          "output_type": "execute_result",
          "data": {
            "text/plain": [
              "{'input_ids': [101, 7442, 5582, 102], 'token_type_ids': [0, 0, 0, 0], 'attention_mask': [1, 1, 1, 1]}"
            ]
          },
          "metadata": {},
          "execution_count": 6
        }
      ]
    },
    {
      "cell_type": "code",
      "source": [
        "in_embeds = model.bert.embeddings.word_embeddings(torch.tensor([[101, 7442, 5582, 102]]).to(\"cuda\"))\n",
        "out_embeds = model(inputs_embeds=in_embeds)\n",
        "out_tokens = model(**tokenizer(\"電腦\", return_tensors=\"pt\").to(\"cuda\"))\n",
        "torch.allclose(out_embeds.predictions, out_tokens.predictions)"
      ],
      "metadata": {
        "colab": {
          "base_uri": "https://localhost:8080/"
        },
        "id": "dGm27_9ywone",
        "outputId": "c96187d2-3070-45dc-dffc-3e0ead6906eb"
      },
      "execution_count": null,
      "outputs": [
        {
          "output_type": "execute_result",
          "data": {
            "text/plain": [
              "True"
            ]
          },
          "metadata": {},
          "execution_count": 7
        }
      ]
    },
    {
      "cell_type": "code",
      "source": [
        ""
      ],
      "metadata": {
        "colab": {
          "base_uri": "https://localhost:8080/"
        },
        "id": "UoNfQOLZK2r5",
        "outputId": "79f18331-55ce-4a64-a9ee-b535a185ecba"
      },
      "execution_count": null,
      "outputs": [
        {
          "output_type": "execute_result",
          "data": {
            "text/plain": [
              "torch.Size([4, 100])"
            ]
          },
          "metadata": {},
          "execution_count": 71
        }
      ]
    },
    {
      "cell_type": "code",
      "source": [
        "def compute_token_jacobian_functorch(tgt_word, model, tokenizer):    \n",
        "    tokens = tokenizer([tgt_word], return_tensors=\"pt\").to(\"cuda\")    \n",
        "    in_embeds = model.bert.embeddings.word_embeddings(tokens.input_ids)\n",
        "    def partial_effect(x):                     \n",
        "        out = model(inputs_embeds=x)\n",
        "        return out.predictions\n",
        "    J = jacrev(partial_effect, argnums=0)(in_embeds)\n",
        "    return J"
      ],
      "metadata": {
        "id": "xQQP18I3C-rq"
      },
      "execution_count": null,
      "outputs": []
    },
    {
      "cell_type": "markdown",
      "source": [
        "## Load char-noise dataset"
      ],
      "metadata": {
        "id": "9aGmNo_qMX9M"
      }
    },
    {
      "cell_type": "code",
      "source": [
        "import json\n",
        "with open(base_dir / \"char_senses_with_noises.json\", \"r\") as fin:\n",
        "  char_dataset = json.load(fin)"
      ],
      "metadata": {
        "id": "wHLTQiSP88gu"
      },
      "execution_count": null,
      "outputs": []
    },
    {
      "cell_type": "code",
      "source": [
        "item_x = char_dataset[0]"
      ],
      "metadata": {
        "id": "KlCc2f-K6qrw"
      },
      "execution_count": null,
      "outputs": []
    },
    {
      "cell_type": "code",
      "source": [
        "item_x"
      ],
      "metadata": {
        "colab": {
          "base_uri": "https://localhost:8080/"
        },
        "id": "9Uw9KBdLB-8w",
        "outputId": "1460db7e-d872-4bc3-9d4b-474ae445163d"
      },
      "execution_count": null,
      "outputs": [
        {
          "output_type": "execute_result",
          "data": {
            "text/plain": [
              "{'noise_words': ['排汗',\n",
              "  '排除',\n",
              "  '排擠',\n",
              "  '排泄',\n",
              "  '排序',\n",
              "  '排行',\n",
              "  '綵排',\n",
              "  '排成',\n",
              "  '安排',\n",
              "  '排氣',\n",
              "  '排球',\n",
              "  '肋排',\n",
              "  '排骨',\n",
              "  '牛排',\n",
              "  '排演',\n",
              "  '排名',\n",
              "  '豬排',\n",
              "  '排入',\n",
              "  '排便',\n",
              "  '排乾',\n",
              "  '排水',\n",
              "  '排擋',\n",
              "  '排列',\n",
              "  '排版',\n",
              "  '排污',\n",
              "  '排卵',\n",
              "  '排隊',\n",
              "  '排斥'],\n",
              " 'src_char': ['排'],\n",
              " 'src_sense': ['08060701'],\n",
              " 'syno_senses': ['08037501', '09297601'],\n",
              " 'syno_words': ['排放', '排出']}"
            ]
          },
          "metadata": {},
          "execution_count": 22
        }
      ]
    },
    {
      "cell_type": "code",
      "source": [
        "# initializae J buffer, it stores Jacobian across items\n",
        "J_buf = {}"
      ],
      "metadata": {
        "id": "G_YHSt2iD1XP"
      },
      "execution_count": null,
      "outputs": []
    },
    {
      "cell_type": "code",
      "source": [
        ""
      ],
      "metadata": {
        "id": "JOIVGdNpM7-2"
      },
      "execution_count": null,
      "outputs": []
    },
    {
      "cell_type": "code",
      "source": [
        "# items not having enough noise words\n",
        "len([x for x in char_dataset if len(x[\"syno_words\"]) > len(x[\"noise_words\"])])"
      ],
      "metadata": {
        "colab": {
          "base_uri": "https://localhost:8080/"
        },
        "id": "t5PiawryElMf",
        "outputId": "4dcecf34-92ca-44ea-824d-7faafe1bc07b"
      },
      "execution_count": null,
      "outputs": [
        {
          "output_type": "execute_result",
          "data": {
            "text/plain": [
              "20"
            ]
          },
          "metadata": {},
          "execution_count": 47
        }
      ]
    },
    {
      "cell_type": "markdown",
      "source": [
        "### Compute Jacobians for all targets and noise samples in the dataset"
      ],
      "metadata": {
        "id": "i9LpHTvAFqjP"
      }
    },
    {
      "cell_type": "code",
      "source": [
        "def mark_target(x, pos):\n",
        "  xlist = list(x)\n",
        "  xlist[pos] = f\"<{x[pos]}>\"\n",
        "  return \"\".join(xlist)\n",
        "\n",
        "def compute_pairwise_distances(tgt_char, words, Js, counter_position=False):\n",
        "  dists = []\n",
        "  for a, b in combinations(words, 2):\n",
        "      # L2norm = np.sqrt(((Js[a] - Js[b])**2).sum())\n",
        "      if counter_position:\n",
        "        tgt_idx_a = 1-a.index(tgt_char)\n",
        "        tgt_idx_b = 1-b.index(tgt_char)\n",
        "      else:\n",
        "        tgt_idx_a = a.index(tgt_char)\n",
        "        tgt_idx_b = b.index(tgt_char)\n",
        "      L1norm = np.abs(Js[a][:,tgt_idx_a,:] - Js[b][:,tgt_idx_b,:]).sum()\n",
        "      dists.append((mark_target(a, tgt_idx_a),\n",
        "                    mark_target(b, tgt_idx_b), L1norm))      \n",
        "  return dists\n",
        "\n",
        "def compute_pairwise_emb_distances(words, embs):\n",
        "  dists = []\n",
        "  for a, b in combinations(words, 2):\n",
        "    if not (a in embs and b in embs): continue\n",
        "    cossim = kv.cosine_similarities(embs[a], [embs[b]])[0]\n",
        "    dists.append((a, b, cossim))\n",
        "  return dists"
      ],
      "metadata": {
        "id": "4OTkkIGGF24q"
      },
      "execution_count": null,
      "outputs": []
    },
    {
      "cell_type": "code",
      "source": [
        "\n",
        "import random\n",
        "rng = random.Random(123)\n",
        "\n",
        "syno_stats = []\n",
        "pred_embs = {}\n",
        "for item_x in tqdm(char_dataset):\n",
        "  if len(item_x[\"syno_words\"]) > len(item_x[\"noise_words\"]):\n",
        "    continue\n",
        "  targets = item_x[\"syno_words\"]\n",
        "  noises = rng.sample(item_x[\"noise_words\"], k=len(targets))\n",
        "  words = targets + noises\n",
        "  for word in words:\n",
        "    if word in J_buf: continue\n",
        "    J = compute_token_jacobian_functorch(word, model, tokenizer).squeeze().detach().cpu().numpy()\n",
        "    # subset the second token (the first character, considering the [CLS] offset)\n",
        "    J_buf[word] = J[:,1:3,:]\n",
        "  \n",
        "  ## predicted word embeddings\n",
        "  with torch.no_grad():    \n",
        "    preds = model(**tokenizer(words, return_tensors=\"pt\").to(\"cuda\")).predictions.cpu().numpy()\n",
        "  pred_embs.update({w: preds[i,:] for i, w in enumerate(words)})\n",
        "\n",
        "  src_char = item_x[\"src_char\"][0]\n",
        "  syno_target_dists = compute_pairwise_distances(src_char, targets, J_buf, False)\n",
        "  syno_counter_dists = compute_pairwise_distances(src_char, targets, J_buf, True)\n",
        "  noise_target_dists = compute_pairwise_distances(src_char, noises, J_buf, False)\n",
        "  noise_counter_dists = compute_pairwise_distances(src_char, noises, J_buf, True)\n",
        "  syno_pred_dists = compute_pairwise_emb_distances(targets, pred_embs)\n",
        "  syno_tenc_dists = compute_pairwise_emb_distances(targets, kv)\n",
        "  noise_pred_dists = compute_pairwise_emb_distances(noises, pred_embs)\n",
        "  noise_tenc_dists = compute_pairwise_emb_distances(noises, kv)\n",
        "  syno_item = {\n",
        "      \"src_char\": src_char,\n",
        "      \"syno_targets\": syno_target_dists,\n",
        "      \"syno_counters\": syno_counter_dists,\n",
        "      \"noise_targets\": noise_target_dists,\n",
        "      \"noise_counters\": noise_counter_dists,\n",
        "      \"syno_pred\": syno_pred_dists,\n",
        "      \"syno_tenc\": syno_tenc_dists,\n",
        "      \"noise_pred\": noise_pred_dists,\n",
        "      \"noise_tenc\": noise_tenc_dists,      \n",
        "  }\n",
        "  syno_stats.append(syno_item)"
      ],
      "metadata": {
        "colab": {
          "base_uri": "https://localhost:8080/",
          "height": 49,
          "referenced_widgets": [
            "9de4a33de7cb4ecb9d910077f68e20bb",
            "e6ee1d88cd3a4289a771c6a45d8d4577",
            "9421ac3145bf4e59a49e23cf33faa069",
            "85875ad3a5c94e4b9623dfeb9d4743bb",
            "23f5905326cf447ba4539b140c49a577",
            "05aadeda0fe64779af82fe0996b5ba11",
            "ce1949f1450f498b8c748eeffaac1856",
            "c76fe52ac51646e4a0e54e3f7e25b05e",
            "1139c6ac7be34fab86315d39c7496e70",
            "a7f318a293d3417a948b228e1b3c56a0",
            "1162c0ca5c274f5da27326f3ee6c4d19"
          ]
        },
        "id": "G7kluMFb--Qc",
        "outputId": "e8cade24-b97a-459f-8013-e816dc844ad4"
      },
      "execution_count": null,
      "outputs": [
        {
          "output_type": "display_data",
          "data": {
            "text/plain": [
              "  0%|          | 0/436 [00:00<?, ?it/s]"
            ],
            "application/vnd.jupyter.widget-view+json": {
              "version_major": 2,
              "version_minor": 0,
              "model_id": "9de4a33de7cb4ecb9d910077f68e20bb"
            }
          },
          "metadata": {}
        }
      ]
    },
    {
      "cell_type": "code",
      "source": [
        "## cache J_buf\n",
        "with open(base_dir / \"syno_contrast_Jbuf.pkl\", \"wb\") as fout:\n",
        "  pickle.dump(J_buf, fout)"
      ],
      "metadata": {
        "id": "uiqE1V96Gx-Y"
      },
      "execution_count": null,
      "outputs": []
    },
    {
      "cell_type": "code",
      "source": [
        "with open(base_dir / \"syno_contrast_stats.pkl\", \"wb\") as fout:\n",
        "  pickle.dump(syno_stats, fout)"
      ],
      "metadata": {
        "id": "V--k7TAmHI71"
      },
      "execution_count": null,
      "outputs": []
    },
    {
      "cell_type": "code",
      "source": [
        "J_buf[\"排泄\"].shape"
      ],
      "metadata": {
        "colab": {
          "base_uri": "https://localhost:8080/"
        },
        "id": "56Li9td0ByXY",
        "outputId": "956d87c8-9c95-45ca-f053-c9c65c83e4c0"
      },
      "execution_count": null,
      "outputs": [
        {
          "output_type": "execute_result",
          "data": {
            "text/plain": [
              "(100, 2, 768)"
            ]
          },
          "metadata": {},
          "execution_count": 52
        }
      ]
    },
    {
      "cell_type": "code",
      "source": [
        "syno_stats[0]"
      ],
      "metadata": {
        "id": "XsqGB3jRS6FS",
        "colab": {
          "base_uri": "https://localhost:8080/"
        },
        "outputId": "61ed8a96-7dd5-453b-e6a1-a5daa9b6d255"
      },
      "execution_count": null,
      "outputs": [
        {
          "output_type": "execute_result",
          "data": {
            "text/plain": [
              "{'noise_counters': [('排<除>', '<安>排', 491.18207)],\n",
              " 'noise_pred': [('排除', '安排', 0.5637611)],\n",
              " 'noise_targets': [('<排>除', '安<排>', 518.7595)],\n",
              " 'noise_tenc': [('排除', '安排', 0.38079652)],\n",
              " 'src_char': '排',\n",
              " 'syno_counters': [('排<放>', '排<出>', 459.33392)],\n",
              " 'syno_pred': [('排放', '排出', 0.65291655)],\n",
              " 'syno_targets': [('<排>放', '<排>出', 595.8497)],\n",
              " 'syno_tenc': [('排放', '排出', 0.63070977)]}"
            ]
          },
          "metadata": {},
          "execution_count": 88
        }
      ]
    },
    {
      "cell_type": "code",
      "source": [
        "syno_frame_data = []\n",
        "for item in syno_stats:\n",
        "  syno_frame_data.append((\n",
        "      np.mean([x[2] for x in item[\"syno_targets\"]]),\n",
        "      np.mean([x[2] for x in item[\"syno_counters\"]]),\n",
        "      np.mean([x[2] for x in item[\"syno_pred\"]]),\n",
        "      np.mean([x[2] for x in item[\"syno_tenc\"]]),\n",
        "      np.mean([x[2] for x in item[\"noise_targets\"]]),\n",
        "      np.mean([x[2] for x in item[\"noise_counters\"]]),      \n",
        "      np.mean([x[2] for x in item[\"noise_pred\"]]),\n",
        "      np.mean([x[2] for x in item[\"noise_tenc\"]]),\n",
        "  ))\n",
        "syno_frame = pd.DataFrame.from_records(\n",
        "                          syno_frame_data, \n",
        "                          columns=[\"syno_target\", \"syno_counter\", \"syno_pred\", \"syno_tenc\", \n",
        "                                   \"noise_target\", \"noise_counter\", \"noise_pred\", \"noise_tenc\"])"
      ],
      "metadata": {
        "colab": {
          "base_uri": "https://localhost:8080/"
        },
        "id": "gYnE8hwgHYhh",
        "outputId": "d76cb8d6-c42c-4a67-ebc6-3f6fdd3e1fb2"
      },
      "execution_count": null,
      "outputs": [
        {
          "output_type": "stream",
          "name": "stderr",
          "text": [
            "/usr/local/lib/python3.7/dist-packages/numpy/core/fromnumeric.py:3441: RuntimeWarning: Mean of empty slice.\n",
            "  out=out, **kwargs)\n",
            "/usr/local/lib/python3.7/dist-packages/numpy/core/_methods.py:189: RuntimeWarning: invalid value encountered in double_scalars\n",
            "  ret = ret.dtype.type(ret / rcount)\n"
          ]
        }
      ]
    },
    {
      "cell_type": "code",
      "source": [
        "syno_frame.mean()"
      ],
      "metadata": {
        "colab": {
          "base_uri": "https://localhost:8080/"
        },
        "id": "2rcZRfxIIoO7",
        "outputId": "90b14a47-8d53-4ffb-8a81-0f6a2325fd70"
      },
      "execution_count": null,
      "outputs": [
        {
          "output_type": "execute_result",
          "data": {
            "text/plain": [
              "syno_target      440.105896\n",
              "syno_counter     448.861206\n",
              "syno_pred          0.769539\n",
              "syno_tenc          0.684650\n",
              "noise_target     550.764709\n",
              "noise_counter    603.096252\n",
              "noise_pred         0.604798\n",
              "noise_tenc         0.436201\n",
              "dtype: float64"
            ]
          },
          "metadata": {},
          "execution_count": 90
        }
      ]
    },
    {
      "cell_type": "code",
      "source": [
        "syno_frame.std()/np.sqrt(syno_frame.shape[0])"
      ],
      "metadata": {
        "colab": {
          "base_uri": "https://localhost:8080/"
        },
        "id": "LwdZUhslI8eX",
        "outputId": "18721c00-915d-498f-be02-24f3d2386d01"
      },
      "execution_count": null,
      "outputs": [
        {
          "output_type": "execute_result",
          "data": {
            "text/plain": [
              "syno_target      7.709994\n",
              "syno_counter     9.200991\n",
              "syno_pred        0.009241\n",
              "syno_tenc        0.009530\n",
              "noise_target     7.152592\n",
              "noise_counter    9.438117\n",
              "noise_pred       0.011030\n",
              "noise_tenc       0.009513\n",
              "dtype: float64"
            ]
          },
          "metadata": {},
          "execution_count": 91
        }
      ]
    },
    {
      "cell_type": "code",
      "source": [
        "(syno_frame.syno_target - syno_frame.syno_counter).mean()"
      ],
      "metadata": {
        "colab": {
          "base_uri": "https://localhost:8080/"
        },
        "id": "72t2eOC5JBWz",
        "outputId": "bcc423a4-7a16-43c0-ca9b-2c09974ef554"
      },
      "execution_count": null,
      "outputs": [
        {
          "output_type": "execute_result",
          "data": {
            "text/plain": [
              "-8.75553035736084"
            ]
          },
          "metadata": {},
          "execution_count": 67
        }
      ]
    },
    {
      "cell_type": "code",
      "source": [
        "(syno_frame.syno_target - syno_frame.syno_counter).std()/np.sqrt(syno_frame.shape[0])"
      ],
      "metadata": {
        "colab": {
          "base_uri": "https://localhost:8080/"
        },
        "id": "KBujmLYkKPoB",
        "outputId": "08c6688a-914a-4e89-bc7d-09d5bda0e050"
      },
      "execution_count": null,
      "outputs": [
        {
          "output_type": "execute_result",
          "data": {
            "text/plain": [
              "6.258009358996329"
            ]
          },
          "metadata": {},
          "execution_count": 68
        }
      ]
    },
    {
      "cell_type": "code",
      "source": [
        ""
      ],
      "metadata": {
        "id": "zBnRekVgKWEs"
      },
      "execution_count": null,
      "outputs": []
    }
  ]
}