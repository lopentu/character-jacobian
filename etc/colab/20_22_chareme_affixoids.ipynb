{
  "nbformat": 4,
  "nbformat_minor": 0,
  "metadata": {
    "colab": {
      "name": "20.22-chareme-affixoids.ipynb",
      "provenance": [],
      "collapsed_sections": []
    },
    "kernelspec": {
      "name": "python3",
      "display_name": "Python 3"
    },
    "language_info": {
      "name": "python"
    },
    "accelerator": "GPU",
    "widgets": {
      "application/vnd.jupyter.widget-state+json": {
        "a527237bedcb430c99ac23b48642cd7b": {
          "model_module": "@jupyter-widgets/controls",
          "model_name": "HBoxModel",
          "model_module_version": "1.5.0",
          "state": {
            "_dom_classes": [],
            "_model_module": "@jupyter-widgets/controls",
            "_model_module_version": "1.5.0",
            "_model_name": "HBoxModel",
            "_view_count": null,
            "_view_module": "@jupyter-widgets/controls",
            "_view_module_version": "1.5.0",
            "_view_name": "HBoxView",
            "box_style": "",
            "children": [
              "IPY_MODEL_3df64d18dfe54b858bc8948f4c1edca8",
              "IPY_MODEL_378a6d2191384d9592da0da83c32ad10",
              "IPY_MODEL_aaf520f9be124b00973ef57f053ae732"
            ],
            "layout": "IPY_MODEL_171ead34519846fb8c82764d502e5584"
          }
        },
        "3df64d18dfe54b858bc8948f4c1edca8": {
          "model_module": "@jupyter-widgets/controls",
          "model_name": "HTMLModel",
          "model_module_version": "1.5.0",
          "state": {
            "_dom_classes": [],
            "_model_module": "@jupyter-widgets/controls",
            "_model_module_version": "1.5.0",
            "_model_name": "HTMLModel",
            "_view_count": null,
            "_view_module": "@jupyter-widgets/controls",
            "_view_module_version": "1.5.0",
            "_view_name": "HTMLView",
            "description": "",
            "description_tooltip": null,
            "layout": "IPY_MODEL_b0e0e96a5f0f4a7aa35046d4d000105c",
            "placeholder": "​",
            "style": "IPY_MODEL_9e03de3c647e4f0ea429a8281a8f90ef",
            "value": "100%"
          }
        },
        "378a6d2191384d9592da0da83c32ad10": {
          "model_module": "@jupyter-widgets/controls",
          "model_name": "FloatProgressModel",
          "model_module_version": "1.5.0",
          "state": {
            "_dom_classes": [],
            "_model_module": "@jupyter-widgets/controls",
            "_model_module_version": "1.5.0",
            "_model_name": "FloatProgressModel",
            "_view_count": null,
            "_view_module": "@jupyter-widgets/controls",
            "_view_module_version": "1.5.0",
            "_view_name": "ProgressView",
            "bar_style": "success",
            "description": "",
            "description_tooltip": null,
            "layout": "IPY_MODEL_0497e850979a457ab9977b76ed4618a2",
            "max": 796,
            "min": 0,
            "orientation": "horizontal",
            "style": "IPY_MODEL_0072fc046ae34aa4b39665d889e78d2f",
            "value": 796
          }
        },
        "aaf520f9be124b00973ef57f053ae732": {
          "model_module": "@jupyter-widgets/controls",
          "model_name": "HTMLModel",
          "model_module_version": "1.5.0",
          "state": {
            "_dom_classes": [],
            "_model_module": "@jupyter-widgets/controls",
            "_model_module_version": "1.5.0",
            "_model_name": "HTMLModel",
            "_view_count": null,
            "_view_module": "@jupyter-widgets/controls",
            "_view_module_version": "1.5.0",
            "_view_name": "HTMLView",
            "description": "",
            "description_tooltip": null,
            "layout": "IPY_MODEL_c7c1467ea8dd430ab6cf2a5545cf2aad",
            "placeholder": "​",
            "style": "IPY_MODEL_8d050601da2b404b9b8eae7aeca2848e",
            "value": " 796/796 [24:01&lt;00:00,  1.81s/it]"
          }
        },
        "171ead34519846fb8c82764d502e5584": {
          "model_module": "@jupyter-widgets/base",
          "model_name": "LayoutModel",
          "model_module_version": "1.2.0",
          "state": {
            "_model_module": "@jupyter-widgets/base",
            "_model_module_version": "1.2.0",
            "_model_name": "LayoutModel",
            "_view_count": null,
            "_view_module": "@jupyter-widgets/base",
            "_view_module_version": "1.2.0",
            "_view_name": "LayoutView",
            "align_content": null,
            "align_items": null,
            "align_self": null,
            "border": null,
            "bottom": null,
            "display": null,
            "flex": null,
            "flex_flow": null,
            "grid_area": null,
            "grid_auto_columns": null,
            "grid_auto_flow": null,
            "grid_auto_rows": null,
            "grid_column": null,
            "grid_gap": null,
            "grid_row": null,
            "grid_template_areas": null,
            "grid_template_columns": null,
            "grid_template_rows": null,
            "height": null,
            "justify_content": null,
            "justify_items": null,
            "left": null,
            "margin": null,
            "max_height": null,
            "max_width": null,
            "min_height": null,
            "min_width": null,
            "object_fit": null,
            "object_position": null,
            "order": null,
            "overflow": null,
            "overflow_x": null,
            "overflow_y": null,
            "padding": null,
            "right": null,
            "top": null,
            "visibility": null,
            "width": null
          }
        },
        "b0e0e96a5f0f4a7aa35046d4d000105c": {
          "model_module": "@jupyter-widgets/base",
          "model_name": "LayoutModel",
          "model_module_version": "1.2.0",
          "state": {
            "_model_module": "@jupyter-widgets/base",
            "_model_module_version": "1.2.0",
            "_model_name": "LayoutModel",
            "_view_count": null,
            "_view_module": "@jupyter-widgets/base",
            "_view_module_version": "1.2.0",
            "_view_name": "LayoutView",
            "align_content": null,
            "align_items": null,
            "align_self": null,
            "border": null,
            "bottom": null,
            "display": null,
            "flex": null,
            "flex_flow": null,
            "grid_area": null,
            "grid_auto_columns": null,
            "grid_auto_flow": null,
            "grid_auto_rows": null,
            "grid_column": null,
            "grid_gap": null,
            "grid_row": null,
            "grid_template_areas": null,
            "grid_template_columns": null,
            "grid_template_rows": null,
            "height": null,
            "justify_content": null,
            "justify_items": null,
            "left": null,
            "margin": null,
            "max_height": null,
            "max_width": null,
            "min_height": null,
            "min_width": null,
            "object_fit": null,
            "object_position": null,
            "order": null,
            "overflow": null,
            "overflow_x": null,
            "overflow_y": null,
            "padding": null,
            "right": null,
            "top": null,
            "visibility": null,
            "width": null
          }
        },
        "9e03de3c647e4f0ea429a8281a8f90ef": {
          "model_module": "@jupyter-widgets/controls",
          "model_name": "DescriptionStyleModel",
          "model_module_version": "1.5.0",
          "state": {
            "_model_module": "@jupyter-widgets/controls",
            "_model_module_version": "1.5.0",
            "_model_name": "DescriptionStyleModel",
            "_view_count": null,
            "_view_module": "@jupyter-widgets/base",
            "_view_module_version": "1.2.0",
            "_view_name": "StyleView",
            "description_width": ""
          }
        },
        "0497e850979a457ab9977b76ed4618a2": {
          "model_module": "@jupyter-widgets/base",
          "model_name": "LayoutModel",
          "model_module_version": "1.2.0",
          "state": {
            "_model_module": "@jupyter-widgets/base",
            "_model_module_version": "1.2.0",
            "_model_name": "LayoutModel",
            "_view_count": null,
            "_view_module": "@jupyter-widgets/base",
            "_view_module_version": "1.2.0",
            "_view_name": "LayoutView",
            "align_content": null,
            "align_items": null,
            "align_self": null,
            "border": null,
            "bottom": null,
            "display": null,
            "flex": null,
            "flex_flow": null,
            "grid_area": null,
            "grid_auto_columns": null,
            "grid_auto_flow": null,
            "grid_auto_rows": null,
            "grid_column": null,
            "grid_gap": null,
            "grid_row": null,
            "grid_template_areas": null,
            "grid_template_columns": null,
            "grid_template_rows": null,
            "height": null,
            "justify_content": null,
            "justify_items": null,
            "left": null,
            "margin": null,
            "max_height": null,
            "max_width": null,
            "min_height": null,
            "min_width": null,
            "object_fit": null,
            "object_position": null,
            "order": null,
            "overflow": null,
            "overflow_x": null,
            "overflow_y": null,
            "padding": null,
            "right": null,
            "top": null,
            "visibility": null,
            "width": null
          }
        },
        "0072fc046ae34aa4b39665d889e78d2f": {
          "model_module": "@jupyter-widgets/controls",
          "model_name": "ProgressStyleModel",
          "model_module_version": "1.5.0",
          "state": {
            "_model_module": "@jupyter-widgets/controls",
            "_model_module_version": "1.5.0",
            "_model_name": "ProgressStyleModel",
            "_view_count": null,
            "_view_module": "@jupyter-widgets/base",
            "_view_module_version": "1.2.0",
            "_view_name": "StyleView",
            "bar_color": null,
            "description_width": ""
          }
        },
        "c7c1467ea8dd430ab6cf2a5545cf2aad": {
          "model_module": "@jupyter-widgets/base",
          "model_name": "LayoutModel",
          "model_module_version": "1.2.0",
          "state": {
            "_model_module": "@jupyter-widgets/base",
            "_model_module_version": "1.2.0",
            "_model_name": "LayoutModel",
            "_view_count": null,
            "_view_module": "@jupyter-widgets/base",
            "_view_module_version": "1.2.0",
            "_view_name": "LayoutView",
            "align_content": null,
            "align_items": null,
            "align_self": null,
            "border": null,
            "bottom": null,
            "display": null,
            "flex": null,
            "flex_flow": null,
            "grid_area": null,
            "grid_auto_columns": null,
            "grid_auto_flow": null,
            "grid_auto_rows": null,
            "grid_column": null,
            "grid_gap": null,
            "grid_row": null,
            "grid_template_areas": null,
            "grid_template_columns": null,
            "grid_template_rows": null,
            "height": null,
            "justify_content": null,
            "justify_items": null,
            "left": null,
            "margin": null,
            "max_height": null,
            "max_width": null,
            "min_height": null,
            "min_width": null,
            "object_fit": null,
            "object_position": null,
            "order": null,
            "overflow": null,
            "overflow_x": null,
            "overflow_y": null,
            "padding": null,
            "right": null,
            "top": null,
            "visibility": null,
            "width": null
          }
        },
        "8d050601da2b404b9b8eae7aeca2848e": {
          "model_module": "@jupyter-widgets/controls",
          "model_name": "DescriptionStyleModel",
          "model_module_version": "1.5.0",
          "state": {
            "_model_module": "@jupyter-widgets/controls",
            "_model_module_version": "1.5.0",
            "_model_name": "DescriptionStyleModel",
            "_view_count": null,
            "_view_module": "@jupyter-widgets/base",
            "_view_module_version": "1.2.0",
            "_view_name": "StyleView",
            "description_width": ""
          }
        }
      }
    }
  },
  "cells": [
    {
      "cell_type": "code",
      "source": [
        "!git clone https://github.com/seantyh/morphert"
      ],
      "metadata": {
        "colab": {
          "base_uri": "https://localhost:8080/"
        },
        "id": "meX8r4Y_vUEn",
        "outputId": "1fbde397-fba9-4187-a78f-b32f968b3659"
      },
      "execution_count": null,
      "outputs": [
        {
          "output_type": "stream",
          "name": "stdout",
          "text": [
            "Cloning into 'morphert'...\n",
            "remote: Enumerating objects: 32, done.\u001b[K\n",
            "remote: Counting objects: 100% (32/32), done.\u001b[K\n",
            "remote: Compressing objects: 100% (28/28), done.\u001b[K\n",
            "remote: Total 32 (delta 5), reused 30 (delta 3), pack-reused 0\u001b[K\n",
            "Unpacking objects: 100% (32/32), done.\n"
          ]
        }
      ]
    },
    {
      "cell_type": "code",
      "source": [
        "!pip install -q --progress-bar off transformers umap-learn opencc hdbscan functorch\n",
        "!pip install -U -q gensim"
      ],
      "metadata": {
        "id": "UO6XNtPwvoHP",
        "colab": {
          "base_uri": "https://localhost:8080/"
        },
        "outputId": "b111351d-0100-4074-abf8-4e4a1a7d62d0"
      },
      "execution_count": null,
      "outputs": [
        {
          "output_type": "stream",
          "name": "stdout",
          "text": [
            "\u001b[?25l\n",
            "\u001b[?25h\u001b[?25l\n",
            "\u001b[?25h\u001b[?25l\n",
            "\u001b[?25h\u001b[?25l\n",
            "\u001b[?25h  Installing build dependencies ... \u001b[?25l\u001b[?25hdone\n",
            "  Getting requirements to build wheel ... \u001b[?25l\u001b[?25hdone\n",
            "    Preparing wheel metadata ... \u001b[?25l\u001b[?25hdone\n",
            "\u001b[?25l\n",
            "\u001b[?25h\u001b[?25l\n",
            "\u001b[?25h\u001b[?25l\n",
            "\u001b[?25h\u001b[?25l\n",
            "\u001b[?25h\u001b[?25l\n",
            "\u001b[?25h\u001b[?25l\n",
            "\u001b[?25h  Building wheel for umap-learn (setup.py) ... \u001b[?25l\u001b[?25hdone\n",
            "  Building wheel for pynndescent (setup.py) ... \u001b[?25l\u001b[?25hdone\n",
            "  Building wheel for hdbscan (PEP 517) ... \u001b[?25l\u001b[?25hdone\n",
            "  Building wheel for sacremoses (setup.py) ... \u001b[?25l\u001b[?25hdone\n",
            "\u001b[K     |████████████████████████████████| 24.1 MB 1.3 MB/s \n",
            "\u001b[?25h"
          ]
        }
      ]
    },
    {
      "cell_type": "code",
      "source": [
        "import sys\n",
        "if \"./morphert/src\" not in sys.path:\n",
        "  sys.path.append(\"./morphert/src\")"
      ],
      "metadata": {
        "id": "qp2v4sq6vXq5"
      },
      "execution_count": null,
      "outputs": []
    },
    {
      "cell_type": "code",
      "execution_count": null,
      "metadata": {
        "id": "up-tssxTvPek"
      },
      "outputs": [],
      "source": [
        "import pickle\n",
        "from pathlib import Path\n",
        "from itertools import groupby, combinations, permutations\n",
        "from textwrap import wrap\n",
        "from tqdm.auto import tqdm\n",
        "from opencc import OpenCC\n",
        "\n",
        "import numpy as np\n",
        "import pandas as pd\n",
        "import matplotlib.pyplot as plt\n",
        "from scipy.spatial.distance import pdist, squareform\n",
        "from gensim.models import KeyedVectors\n",
        "\n",
        "import torch\n",
        "from functorch import jacrev, jacfwd\n",
        "from transformers import BertTokenizer, BertModel, BertPreTrainedModel\n",
        "from morphert.model import *"
      ]
    },
    {
      "cell_type": "code",
      "source": [
        "N = 500000\n",
        "base_dir = Path(\"/content/drive/MyDrive/LangOn/morphert\")\n",
        "t2s = OpenCC(\"t2s\").convert\n",
        "with open(base_dir/\"tencent_small_500k.pkl\", \"rb\") as fin:\n",
        "    (vocabs, embs) = pickle.load(fin)   \n",
        "tokenizer = BertTokenizer.from_pretrained(\"bert-base-chinese\")\n",
        "model = MorphertModel.from_pretrained(base_dir/\"morphert_500k\")\n",
        "collator_fn = DataCollator(tokenizer)\n",
        "model = model.to(\"cuda\")\n",
        "full_ds = MorphertDataset(np.arange(N), vocabs, embs)\n",
        "full_emb = np.vstack([full_ds[i][\"vec\"] for i in range(N)])\n",
        "in_tencent = lambda x: x in full_ds.vocabs"
      ],
      "metadata": {
        "id": "qzL-LsXUwmBM"
      },
      "execution_count": null,
      "outputs": []
    },
    {
      "cell_type": "code",
      "source": [
        "in_embeds = model.bert.embeddings.word_embeddings(torch.tensor([[101, 7442, 5582, 102]]).to(\"cuda\"))\n",
        "out_embeds = model(inputs_embeds=in_embeds)\n",
        "out_tokens = model(**tokenizer(\"電腦\", return_tensors=\"pt\").to(\"cuda\"))\n",
        "torch.allclose(out_embeds.predictions, out_tokens.predictions)"
      ],
      "metadata": {
        "id": "dGm27_9ywone"
      },
      "execution_count": null,
      "outputs": []
    },
    {
      "cell_type": "code",
      "source": [
        "class TCKeyedVectorWrap:\n",
        "  def __init__(self, kv, t2s):\n",
        "    self.kv = kv\n",
        "    self.t2s = t2s\n",
        "\n",
        "  def __contains__(self, key):\n",
        "    skey = self.t2s(key)\n",
        "    return key in self.kv or skey in self.kv\n",
        "\n",
        "  def __getitem__(self, key):\n",
        "    skey = self.t2s(key)\n",
        "    if key in self.kv:\n",
        "      return self.kv[key]\n",
        "    elif skey in self.kv:\n",
        "      return self.kv[skey]\n",
        "    else:\n",
        "      raise KeyError(\"kv and its simp. not found\")\n",
        "tencent_kv = KeyedVectors(100)\n",
        "tencent_kv.add_vectors(vocabs, embs)\n",
        "tencent_kv_wrap = TCKeyedVectorWrap(tencent_kv, t2s)"
      ],
      "metadata": {
        "id": "l-ptZA-pW-sL"
      },
      "execution_count": null,
      "outputs": []
    },
    {
      "cell_type": "code",
      "source": [
        "\"一審\" in tencent_kv_wrap, \"一審\" in tencent_kv"
      ],
      "metadata": {
        "id": "LvBkDqxsYjZH"
      },
      "execution_count": null,
      "outputs": []
    },
    {
      "cell_type": "code",
      "source": [
        "def compute_token_jacobian_functorch(tgt_word, model, tokenizer):    \n",
        "    tokens = tokenizer([tgt_word], return_tensors=\"pt\").to(\"cuda\")    \n",
        "    in_embeds = model.bert.embeddings.word_embeddings(tokens.input_ids)\n",
        "    def partial_effect(x):                     \n",
        "        out = model(inputs_embeds=x)\n",
        "        return out.predictions\n",
        "    J = jacrev(partial_effect, argnums=0)(in_embeds)\n",
        "    return J"
      ],
      "metadata": {
        "id": "xQQP18I3C-rq"
      },
      "execution_count": null,
      "outputs": []
    },
    {
      "cell_type": "markdown",
      "source": [
        "## Load char-noise dataset"
      ],
      "metadata": {
        "id": "9aGmNo_qMX9M"
      }
    },
    {
      "cell_type": "code",
      "source": [
        "import json\n",
        "with open(base_dir / \"affix_dataset.json\", \"r\") as fin:\n",
        "  affix_dataset = json.load(fin)"
      ],
      "metadata": {
        "id": "wHLTQiSP88gu"
      },
      "execution_count": null,
      "outputs": []
    },
    {
      "cell_type": "code",
      "source": [
        "item_x = list(affix_dataset.items())[0]"
      ],
      "metadata": {
        "id": "KlCc2f-K6qrw"
      },
      "execution_count": null,
      "outputs": []
    },
    {
      "cell_type": "code",
      "source": [
        "item_x"
      ],
      "metadata": {
        "id": "9Uw9KBdLB-8w"
      },
      "execution_count": null,
      "outputs": []
    },
    {
      "cell_type": "code",
      "source": [
        "from itertools import chain\n",
        "ex_list = [x[\"ex\"] for x in item_x[1]]\n",
        "list(zip(*chain.from_iterable(ex_list)))"
      ],
      "metadata": {
        "id": "XI7m4wiCOwgA"
      },
      "execution_count": null,
      "outputs": []
    },
    {
      "cell_type": "code",
      "source": [
        ""
      ],
      "metadata": {
        "id": "G_YHSt2iD1XP"
      },
      "execution_count": null,
      "outputs": []
    },
    {
      "cell_type": "markdown",
      "source": [
        "### Compute Jacobians for all targets and noise samples in the dataset"
      ],
      "metadata": {
        "id": "i9LpHTvAFqjP"
      }
    },
    {
      "cell_type": "code",
      "source": [
        "def mark_target(x, pos):\n",
        "  xlist = list(x)\n",
        "  xlist[pos] = f\"<{x[pos]}>\"\n",
        "  return \"\".join(xlist)\n",
        "\n",
        "def compute_pairwise_distances(tgt_char, words, Js, counter_position=False):\n",
        "  dists = np.zeros((len(words), len(words)))\n",
        "  for a, b in combinations(words, 2):\n",
        "      # L2norm = np.sqrt(((Js[a] - Js[b])**2).sum())\n",
        "      # Note Js is of size (1, 2, 768) for each bisyllabic word\n",
        "      if counter_position:\n",
        "        tgt_idx_a = 1-a.index(tgt_char)\n",
        "        tgt_idx_b = 1-b.index(tgt_char)\n",
        "      else:\n",
        "        tgt_idx_a = a.index(tgt_char)\n",
        "        tgt_idx_b = b.index(tgt_char)\n",
        "      L1norm = np.abs(Js[a][:,tgt_idx_a,:] - Js[b][:,tgt_idx_b,:]).sum()\n",
        "      idx_a = words.index(a)\n",
        "      idx_b = words.index(b)\n",
        "      dists[idx_a, idx_b] = dists[idx_b, idx_a] = L1norm      \n",
        "\n",
        "  return dists\n",
        "\n",
        "def compute_cross_distances(tgt_char, words, Js):\n",
        "  # row is the canonical position\n",
        "  # column is the counter position\n",
        "  dists = np.zeros((len(words), len(words)))\n",
        "  # compute self-cross\n",
        "  for w in words:\n",
        "      tgt_idx_a = w.index(tgt_char)\n",
        "      tgt_idx_b = 1-w.index(tgt_char)\n",
        "      L1norm = np.abs(Js[w][:,tgt_idx_a,:] - Js[w][:,tgt_idx_b,:]).sum()\n",
        "      idx_w = words.index(w)\n",
        "      dists[idx_w, idx_w] = L1norm\n",
        "\n",
        "  # compute dists across words\n",
        "  for a, b in permutations(words, 2):\n",
        "      # L2norm = np.sqrt(((Js[a] - Js[b])**2).sum())      \n",
        "      tgt_idx_a = a.index(tgt_char)\n",
        "      tgt_idx_b = 1-b.index(tgt_char)      \n",
        "      L1norm = np.abs(Js[a][:,tgt_idx_a,:] - Js[b][:,tgt_idx_b,:]).sum()\n",
        "      idx_a = words.index(a)\n",
        "      idx_b = words.index(b)\n",
        "      dists[idx_a, idx_b] = L1norm\n",
        "\n",
        "  return dists\n",
        "\n",
        "def compute_pairwise_emb_distances(words, embs):\n",
        "  dists = np.zeros((len(words), len(words)))\n",
        "  dists[:] = np.NaN\n",
        "  for a, b in combinations(words, 2):\n",
        "    if not (a in embs and b in embs): continue\n",
        "    cossim = KeyedVectors.cosine_similarities(embs[a], [embs[b]])[0]\n",
        "    idx_a = words.index(a)\n",
        "    idx_b = words.index(b)\n",
        "    dists[idx_a, idx_b] = dists[idx_b, idx_a] = 1-cossim\n",
        "    dists[idx_a, idx_a] = dists[idx_b, idx_b] = 0.\n",
        "  return dists\n",
        "\n",
        "def compute_pairwise_counter_emb_distances(tgt_char, words, embs):\n",
        "  dists = np.zeros((len(words), len(words)))\n",
        "  dists[:] = np.NaN\n",
        "  for a, b in combinations(words, 2):    \n",
        "    tgt_idx_a = 1-a.index(tgt_char)\n",
        "    tgt_idx_b = 1-b.index(tgt_char)\n",
        "    counter_a = a[tgt_idx_a]\n",
        "    counter_b = b[tgt_idx_b]\n",
        "    if not (counter_a in embs and counter_b in embs): continue\n",
        "    cossim = KeyedVectors.cosine_similarities(\n",
        "              embs[counter_a], [embs[counter_b]])[0]\n",
        "    idx_a = words.index(a)\n",
        "    idx_b = words.index(b)\n",
        "    dists[idx_a, idx_b] = dists[idx_b, idx_a] = 1-cossim\n",
        "    dists[idx_a, idx_a] = dists[idx_b, idx_b] = 0.\n",
        "  return dists\n",
        "\n",
        "def compute_pairwise_counter_bert_emb_distances(tgt_char, words, tokenizer, model):\n",
        "  dists = np.zeros((len(words), len(words)))\n",
        "  dists[:] = np.NaN\n",
        "  for a, b in combinations(words, 2):    \n",
        "    tgt_idx_a = 1-a.index(tgt_char)\n",
        "    tgt_idx_b = 1-b.index(tgt_char)\n",
        "    counter_a = a[tgt_idx_a]\n",
        "    counter_b = b[tgt_idx_b]\n",
        "    with torch.no_grad():\n",
        "      tokens = tokenizer([counter_a, counter_b], return_tensors=\"pt\").to(\"cuda\")    \n",
        "      in_embeds = model.bert.embeddings.word_embeddings(tokens.input_ids).cpu()      \n",
        "    embed_ca = in_embeds[0,1,:].numpy().squeeze()\n",
        "    embed_cb = in_embeds[1,1,:].numpy().squeeze()\n",
        "    cossim = KeyedVectors.cosine_similarities(\n",
        "              embed_ca, [embed_cb])[0]\n",
        "    idx_a = words.index(a)\n",
        "    idx_b = words.index(b)\n",
        "    dists[idx_a, idx_b] = dists[idx_b, idx_a] = 1-cossim\n",
        "    dists[idx_a, idx_a] = dists[idx_b, idx_b] = 0.\n",
        "  return dists"
      ],
      "metadata": {
        "id": "4OTkkIGGF24q"
      },
      "execution_count": null,
      "outputs": []
    },
    {
      "cell_type": "code",
      "source": [
        "compute_pairwise_counter_bert_emb_distances(\"人\", [\"男人\", \"女人\",\"法人\"], tokenizer, model)"
      ],
      "metadata": {
        "colab": {
          "base_uri": "https://localhost:8080/"
        },
        "id": "2cdgL2XFiprZ",
        "outputId": "01db260f-6764-4fc0-9c31-0c586a6d0b25"
      },
      "execution_count": null,
      "outputs": [
        {
          "output_type": "execute_result",
          "data": {
            "text/plain": [
              "array([[0.        , 0.34849578, 0.99376063],\n",
              "       [0.34849578, 0.        , 0.92560776],\n",
              "       [0.99376063, 0.92560776, 0.        ]])"
            ]
          },
          "metadata": {},
          "execution_count": 25
        }
      ]
    },
    {
      "cell_type": "code",
      "source": [
        "assert (compute_pairwise_counter_emb_distances(\"人\", [\"法人\", \"成人\"], tencent_kv_wrap)[1,0]\n",
        "        == 1-KeyedVectors.cosine_similarities(tencent_kv_wrap[\"法\"], [tencent_kv_wrap[\"成\"]])[0])"
      ],
      "metadata": {
        "id": "YwRkKUJjZu0i"
      },
      "execution_count": null,
      "outputs": []
    },
    {
      "cell_type": "code",
      "source": [
        "7\n",
        "import random\n",
        "from itertools import chain\n",
        "\n",
        "rng = random.Random(123)\n",
        "\n",
        "char_dists = {}\n",
        "\n",
        "for char, usages in tqdm(affix_dataset.items()):\n",
        "  ex_list = [x[\"ex\"] for x in usages]\n",
        "  ex_labels = sum([[i] * len(x[\"ex\"]) for i, x in enumerate(usages)], [])\n",
        "  words, freq_list = list(zip(*chain.from_iterable(ex_list)))    \n",
        "  \n",
        "  # compute Jacobians for each word\n",
        "  J_buf = {}  \n",
        "  for word in words:\n",
        "    if word in J_buf: continue\n",
        "    J = compute_token_jacobian_functorch(word, model, tokenizer).squeeze().detach().cpu().numpy()\n",
        "    # subset the second token (the first character, considering the [CLS] offset)\n",
        "    J_buf[word] = J[:,1:3,:]\n",
        "  \n",
        "  ## predicted word embeddings\n",
        "  with torch.no_grad():    \n",
        "    preds = model(**tokenizer(words, return_tensors=\"pt\").to(\"cuda\")).predictions.cpu().numpy()\n",
        "  pred_embs = {w: preds[i,:] for i, w in enumerate(words)}\n",
        "  char_dists[char] = dict(\n",
        "    ex_labels = ex_labels,\n",
        "    J_target_dists = compute_pairwise_distances(char, words, J_buf, False),\n",
        "    J_counter_dists = compute_pairwise_distances(char, words, J_buf, True),\n",
        "    J_cross_dists = compute_cross_distances(char, words, J_buf),\n",
        "    pred_emb_dists = compute_pairwise_emb_distances(words, pred_embs),\n",
        "    tenc_emb_dists = compute_pairwise_emb_distances(words, tencent_kv_wrap),\n",
        "    counter_emb_dists = compute_pairwise_counter_emb_distances(char, words, tencent_kv_wrap),\n",
        "    counter_bert_dists = compute_pairwise_counter_bert_emb_distances(char, words, tokenizer, model)\n",
        "  )  \n",
        "\n"
      ],
      "metadata": {
        "colab": {
          "base_uri": "https://localhost:8080/",
          "height": 104,
          "referenced_widgets": [
            "a527237bedcb430c99ac23b48642cd7b",
            "3df64d18dfe54b858bc8948f4c1edca8",
            "378a6d2191384d9592da0da83c32ad10",
            "aaf520f9be124b00973ef57f053ae732",
            "171ead34519846fb8c82764d502e5584",
            "b0e0e96a5f0f4a7aa35046d4d000105c",
            "9e03de3c647e4f0ea429a8281a8f90ef",
            "0497e850979a457ab9977b76ed4618a2",
            "0072fc046ae34aa4b39665d889e78d2f",
            "c7c1467ea8dd430ab6cf2a5545cf2aad",
            "8d050601da2b404b9b8eae7aeca2848e"
          ]
        },
        "id": "G7kluMFb--Qc",
        "outputId": "ad7701e4-a423-4b87-84cd-7c75e9d74194"
      },
      "execution_count": null,
      "outputs": [
        {
          "output_type": "display_data",
          "data": {
            "text/plain": [
              "  0%|          | 0/796 [00:00<?, ?it/s]"
            ],
            "application/vnd.jupyter.widget-view+json": {
              "version_major": 2,
              "version_minor": 0,
              "model_id": "a527237bedcb430c99ac23b48642cd7b"
            }
          },
          "metadata": {}
        },
        {
          "output_type": "stream",
          "name": "stderr",
          "text": [
            "/usr/local/lib/python3.7/dist-packages/torch/autograd/__init__.py:277: UserWarning: There is a performance drop because we have not yet implemented the batching rule for aten::infinitely_differentiable_gelu_backward. Please file us an issue on GitHub so that we can prioritize its implementation. (Triggered internally at  /__w/functorch/functorch/functorch/csrc/BatchedFallback.cpp:85.)\n",
            "  allow_unused, accumulate_grad=False)  # Calls into the C++ engine to run the backward pass\n"
          ]
        }
      ]
    },
    {
      "cell_type": "code",
      "source": [
        "## cache J_buf\n",
        "from pathlib import Path\n",
        "import pickle\n",
        "base_dir = Path(\"/content/drive/MyDrive/LangOn/morphert\")\n",
        "with open(base_dir / \"affix_dists.pkl\", \"wb\") as fout:\n",
        "  pickle.dump(char_dists, fout)\n"
      ],
      "metadata": {
        "id": "uiqE1V96Gx-Y"
      },
      "execution_count": null,
      "outputs": []
    },
    {
      "cell_type": "markdown",
      "source": [
        "## Compute Silhouette scores"
      ],
      "metadata": {
        "id": "ApUQqtBjlV5x"
      }
    },
    {
      "cell_type": "code",
      "source": [
        "from sklearn.metrics import silhouette_score\n",
        "\n",
        "def compute_silhouette_score(char_item, field_name, seed=12345):\n",
        "  ex_labels = np.array(char_item[\"ex_labels\"])\n",
        "  # ex_labels = char_item[\"ex_labels\"]\n",
        "  dist_mat = char_item[field_name]\n",
        "  nan_mask = ~np.isnan(dist_mat).all(axis=0)\n",
        "  dist_mat = dist_mat[nan_mask, :][:, nan_mask]\n",
        "  ex_labels = ex_labels[nan_mask]\n",
        "  \n",
        "  real_score = silhouette_score(\n",
        "                  dist_mat, ex_labels, \n",
        "                  metric=\"precomputed\")\n",
        "  \n",
        "  rng = np.random.RandomState(seed)\n",
        "  # rng = random.Random(seed)\n",
        "  rand_scores = []  \n",
        "  for _ in range(1000):  \n",
        "    # rand_labels = np.array(rng.sample(ex_labels.tolist(), len(ex_labels)))\n",
        "    # rand_labels = rng.sample(ex_labels, len(ex_labels))    \n",
        "    rand_labels = rng.choice(ex_labels, len(ex_labels), replace=False)        \n",
        "    rand_score = silhouette_score(\n",
        "                  dist_mat, rand_labels, \n",
        "                  metric=\"precomputed\")\n",
        "    rand_scores.append(rand_score)\n",
        "  q05, q50, q95 = np.quantile(rand_scores, [.05, .50, .95])\n",
        "  return real_score, (q05, q50, q95)\n",
        "\n",
        "char_item = char_dists[\"一\"]\n",
        "\n",
        "fields = \"J_target_dists,J_counter_dists,pred_emb_dists,tenc_emb_dists\".split(\",\")\n",
        "for field_name in fields:  \n",
        "  real_score, rand_qs = compute_silhouette_score(char_item, field_name, 12)\n",
        "  print(f\"-- {field_name} --\")\n",
        "  print(\"Sample score: \", real_score)\n",
        "  print(\"Random score: \", rand_qs)\n"
      ],
      "metadata": {
        "colab": {
          "base_uri": "https://localhost:8080/"
        },
        "id": "s_HNeTVPaYhV",
        "outputId": "4e4e74f6-e049-40fb-deb7-1024b2b0723e"
      },
      "execution_count": null,
      "outputs": [
        {
          "output_type": "stream",
          "name": "stdout",
          "text": [
            "-- J_target_dists --\n",
            "Sample score:  0.06990259301319653\n",
            "Random score:  (-0.026598284265533328, -0.008800670786540333, 0.06652363427146155)\n",
            "-- J_counter_dists --\n",
            "Sample score:  0.05385726641541365\n",
            "Random score:  (-0.019728099748186043, -0.0034276391316780917, 0.032545640957437956)\n",
            "-- pred_emb_dists --\n",
            "Sample score:  0.24976651495779315\n",
            "Random score:  (-0.1241113815891531, -0.0005817292233092575, 0.2719705927771045)\n",
            "-- tenc_emb_dists --\n",
            "Sample score:  0.26224155810702215\n",
            "Random score:  (-0.08484478347935138, -0.024120759276518026, 0.2235869859362129)\n"
          ]
        }
      ]
    },
    {
      "cell_type": "code",
      "source": [
        "\n"
      ],
      "metadata": {
        "id": "zBnRekVgKWEs"
      },
      "execution_count": null,
      "outputs": []
    }
  ]
}