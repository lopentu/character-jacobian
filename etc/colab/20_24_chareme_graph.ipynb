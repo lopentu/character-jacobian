{
  "nbformat": 4,
  "nbformat_minor": 0,
  "metadata": {
    "colab": {
      "name": "20.24-chareme-graph.ipynb",
      "provenance": [],
      "collapsed_sections": []
    },
    "kernelspec": {
      "name": "python3",
      "display_name": "Python 3"
    },
    "language_info": {
      "name": "python"
    },
    "accelerator": "GPU",
    "widgets": {
      "application/vnd.jupyter.widget-state+json": {
        "6a55af452bd54541bfc251d6ddf7657a": {
          "model_module": "@jupyter-widgets/controls",
          "model_name": "HBoxModel",
          "model_module_version": "1.5.0",
          "state": {
            "_dom_classes": [],
            "_model_module": "@jupyter-widgets/controls",
            "_model_module_version": "1.5.0",
            "_model_name": "HBoxModel",
            "_view_count": null,
            "_view_module": "@jupyter-widgets/controls",
            "_view_module_version": "1.5.0",
            "_view_name": "HBoxView",
            "box_style": "",
            "children": [
              "IPY_MODEL_0dfdfb6f4a374cbdbf72980db608e7a0",
              "IPY_MODEL_95b88ef053924d55811cf42cd3a9293f",
              "IPY_MODEL_6dba10602e6048d39f3de431d1f03e32"
            ],
            "layout": "IPY_MODEL_eedc00fcd4304b8c84ce769d8b169a73"
          }
        },
        "0dfdfb6f4a374cbdbf72980db608e7a0": {
          "model_module": "@jupyter-widgets/controls",
          "model_name": "HTMLModel",
          "model_module_version": "1.5.0",
          "state": {
            "_dom_classes": [],
            "_model_module": "@jupyter-widgets/controls",
            "_model_module_version": "1.5.0",
            "_model_name": "HTMLModel",
            "_view_count": null,
            "_view_module": "@jupyter-widgets/controls",
            "_view_module_version": "1.5.0",
            "_view_name": "HTMLView",
            "description": "",
            "description_tooltip": null,
            "layout": "IPY_MODEL_3afe9705e9964258874f2f2f903ce3d4",
            "placeholder": "​",
            "style": "IPY_MODEL_2e7c7b2366fd4beea576828e0648cc30",
            "value": "Downloading: 100%"
          }
        },
        "95b88ef053924d55811cf42cd3a9293f": {
          "model_module": "@jupyter-widgets/controls",
          "model_name": "FloatProgressModel",
          "model_module_version": "1.5.0",
          "state": {
            "_dom_classes": [],
            "_model_module": "@jupyter-widgets/controls",
            "_model_module_version": "1.5.0",
            "_model_name": "FloatProgressModel",
            "_view_count": null,
            "_view_module": "@jupyter-widgets/controls",
            "_view_module_version": "1.5.0",
            "_view_name": "ProgressView",
            "bar_style": "success",
            "description": "",
            "description_tooltip": null,
            "layout": "IPY_MODEL_9f18530c69c0443991d241e7177cfbd7",
            "max": 109540,
            "min": 0,
            "orientation": "horizontal",
            "style": "IPY_MODEL_094cc21211da4a1c97a46dd7af4a5c6f",
            "value": 109540
          }
        },
        "6dba10602e6048d39f3de431d1f03e32": {
          "model_module": "@jupyter-widgets/controls",
          "model_name": "HTMLModel",
          "model_module_version": "1.5.0",
          "state": {
            "_dom_classes": [],
            "_model_module": "@jupyter-widgets/controls",
            "_model_module_version": "1.5.0",
            "_model_name": "HTMLModel",
            "_view_count": null,
            "_view_module": "@jupyter-widgets/controls",
            "_view_module_version": "1.5.0",
            "_view_name": "HTMLView",
            "description": "",
            "description_tooltip": null,
            "layout": "IPY_MODEL_ea6fe362dcf44298b029dc9a90b6ffe4",
            "placeholder": "​",
            "style": "IPY_MODEL_c197f458e10040939386d20663c7d255",
            "value": " 107k/107k [00:00&lt;00:00, 534kB/s]"
          }
        },
        "eedc00fcd4304b8c84ce769d8b169a73": {
          "model_module": "@jupyter-widgets/base",
          "model_name": "LayoutModel",
          "model_module_version": "1.2.0",
          "state": {
            "_model_module": "@jupyter-widgets/base",
            "_model_module_version": "1.2.0",
            "_model_name": "LayoutModel",
            "_view_count": null,
            "_view_module": "@jupyter-widgets/base",
            "_view_module_version": "1.2.0",
            "_view_name": "LayoutView",
            "align_content": null,
            "align_items": null,
            "align_self": null,
            "border": null,
            "bottom": null,
            "display": null,
            "flex": null,
            "flex_flow": null,
            "grid_area": null,
            "grid_auto_columns": null,
            "grid_auto_flow": null,
            "grid_auto_rows": null,
            "grid_column": null,
            "grid_gap": null,
            "grid_row": null,
            "grid_template_areas": null,
            "grid_template_columns": null,
            "grid_template_rows": null,
            "height": null,
            "justify_content": null,
            "justify_items": null,
            "left": null,
            "margin": null,
            "max_height": null,
            "max_width": null,
            "min_height": null,
            "min_width": null,
            "object_fit": null,
            "object_position": null,
            "order": null,
            "overflow": null,
            "overflow_x": null,
            "overflow_y": null,
            "padding": null,
            "right": null,
            "top": null,
            "visibility": null,
            "width": null
          }
        },
        "3afe9705e9964258874f2f2f903ce3d4": {
          "model_module": "@jupyter-widgets/base",
          "model_name": "LayoutModel",
          "model_module_version": "1.2.0",
          "state": {
            "_model_module": "@jupyter-widgets/base",
            "_model_module_version": "1.2.0",
            "_model_name": "LayoutModel",
            "_view_count": null,
            "_view_module": "@jupyter-widgets/base",
            "_view_module_version": "1.2.0",
            "_view_name": "LayoutView",
            "align_content": null,
            "align_items": null,
            "align_self": null,
            "border": null,
            "bottom": null,
            "display": null,
            "flex": null,
            "flex_flow": null,
            "grid_area": null,
            "grid_auto_columns": null,
            "grid_auto_flow": null,
            "grid_auto_rows": null,
            "grid_column": null,
            "grid_gap": null,
            "grid_row": null,
            "grid_template_areas": null,
            "grid_template_columns": null,
            "grid_template_rows": null,
            "height": null,
            "justify_content": null,
            "justify_items": null,
            "left": null,
            "margin": null,
            "max_height": null,
            "max_width": null,
            "min_height": null,
            "min_width": null,
            "object_fit": null,
            "object_position": null,
            "order": null,
            "overflow": null,
            "overflow_x": null,
            "overflow_y": null,
            "padding": null,
            "right": null,
            "top": null,
            "visibility": null,
            "width": null
          }
        },
        "2e7c7b2366fd4beea576828e0648cc30": {
          "model_module": "@jupyter-widgets/controls",
          "model_name": "DescriptionStyleModel",
          "model_module_version": "1.5.0",
          "state": {
            "_model_module": "@jupyter-widgets/controls",
            "_model_module_version": "1.5.0",
            "_model_name": "DescriptionStyleModel",
            "_view_count": null,
            "_view_module": "@jupyter-widgets/base",
            "_view_module_version": "1.2.0",
            "_view_name": "StyleView",
            "description_width": ""
          }
        },
        "9f18530c69c0443991d241e7177cfbd7": {
          "model_module": "@jupyter-widgets/base",
          "model_name": "LayoutModel",
          "model_module_version": "1.2.0",
          "state": {
            "_model_module": "@jupyter-widgets/base",
            "_model_module_version": "1.2.0",
            "_model_name": "LayoutModel",
            "_view_count": null,
            "_view_module": "@jupyter-widgets/base",
            "_view_module_version": "1.2.0",
            "_view_name": "LayoutView",
            "align_content": null,
            "align_items": null,
            "align_self": null,
            "border": null,
            "bottom": null,
            "display": null,
            "flex": null,
            "flex_flow": null,
            "grid_area": null,
            "grid_auto_columns": null,
            "grid_auto_flow": null,
            "grid_auto_rows": null,
            "grid_column": null,
            "grid_gap": null,
            "grid_row": null,
            "grid_template_areas": null,
            "grid_template_columns": null,
            "grid_template_rows": null,
            "height": null,
            "justify_content": null,
            "justify_items": null,
            "left": null,
            "margin": null,
            "max_height": null,
            "max_width": null,
            "min_height": null,
            "min_width": null,
            "object_fit": null,
            "object_position": null,
            "order": null,
            "overflow": null,
            "overflow_x": null,
            "overflow_y": null,
            "padding": null,
            "right": null,
            "top": null,
            "visibility": null,
            "width": null
          }
        },
        "094cc21211da4a1c97a46dd7af4a5c6f": {
          "model_module": "@jupyter-widgets/controls",
          "model_name": "ProgressStyleModel",
          "model_module_version": "1.5.0",
          "state": {
            "_model_module": "@jupyter-widgets/controls",
            "_model_module_version": "1.5.0",
            "_model_name": "ProgressStyleModel",
            "_view_count": null,
            "_view_module": "@jupyter-widgets/base",
            "_view_module_version": "1.2.0",
            "_view_name": "StyleView",
            "bar_color": null,
            "description_width": ""
          }
        },
        "ea6fe362dcf44298b029dc9a90b6ffe4": {
          "model_module": "@jupyter-widgets/base",
          "model_name": "LayoutModel",
          "model_module_version": "1.2.0",
          "state": {
            "_model_module": "@jupyter-widgets/base",
            "_model_module_version": "1.2.0",
            "_model_name": "LayoutModel",
            "_view_count": null,
            "_view_module": "@jupyter-widgets/base",
            "_view_module_version": "1.2.0",
            "_view_name": "LayoutView",
            "align_content": null,
            "align_items": null,
            "align_self": null,
            "border": null,
            "bottom": null,
            "display": null,
            "flex": null,
            "flex_flow": null,
            "grid_area": null,
            "grid_auto_columns": null,
            "grid_auto_flow": null,
            "grid_auto_rows": null,
            "grid_column": null,
            "grid_gap": null,
            "grid_row": null,
            "grid_template_areas": null,
            "grid_template_columns": null,
            "grid_template_rows": null,
            "height": null,
            "justify_content": null,
            "justify_items": null,
            "left": null,
            "margin": null,
            "max_height": null,
            "max_width": null,
            "min_height": null,
            "min_width": null,
            "object_fit": null,
            "object_position": null,
            "order": null,
            "overflow": null,
            "overflow_x": null,
            "overflow_y": null,
            "padding": null,
            "right": null,
            "top": null,
            "visibility": null,
            "width": null
          }
        },
        "c197f458e10040939386d20663c7d255": {
          "model_module": "@jupyter-widgets/controls",
          "model_name": "DescriptionStyleModel",
          "model_module_version": "1.5.0",
          "state": {
            "_model_module": "@jupyter-widgets/controls",
            "_model_module_version": "1.5.0",
            "_model_name": "DescriptionStyleModel",
            "_view_count": null,
            "_view_module": "@jupyter-widgets/base",
            "_view_module_version": "1.2.0",
            "_view_name": "StyleView",
            "description_width": ""
          }
        },
        "97d829c878a743999d14f5eaf62f17b4": {
          "model_module": "@jupyter-widgets/controls",
          "model_name": "HBoxModel",
          "model_module_version": "1.5.0",
          "state": {
            "_dom_classes": [],
            "_model_module": "@jupyter-widgets/controls",
            "_model_module_version": "1.5.0",
            "_model_name": "HBoxModel",
            "_view_count": null,
            "_view_module": "@jupyter-widgets/controls",
            "_view_module_version": "1.5.0",
            "_view_name": "HBoxView",
            "box_style": "",
            "children": [
              "IPY_MODEL_2578663f6fe04e549814176473741982",
              "IPY_MODEL_c5d5cac52ebe44b7b1243a2e2821358f",
              "IPY_MODEL_602d44eaecca422785b4972cfda3522f"
            ],
            "layout": "IPY_MODEL_0a72160d0fa6437c99f8da5292e78cc8"
          }
        },
        "2578663f6fe04e549814176473741982": {
          "model_module": "@jupyter-widgets/controls",
          "model_name": "HTMLModel",
          "model_module_version": "1.5.0",
          "state": {
            "_dom_classes": [],
            "_model_module": "@jupyter-widgets/controls",
            "_model_module_version": "1.5.0",
            "_model_name": "HTMLModel",
            "_view_count": null,
            "_view_module": "@jupyter-widgets/controls",
            "_view_module_version": "1.5.0",
            "_view_name": "HTMLView",
            "description": "",
            "description_tooltip": null,
            "layout": "IPY_MODEL_a5cacdcf0abe47058600a0627698561f",
            "placeholder": "​",
            "style": "IPY_MODEL_2f06b846345f407e9b1022674e06735a",
            "value": "Downloading: 100%"
          }
        },
        "c5d5cac52ebe44b7b1243a2e2821358f": {
          "model_module": "@jupyter-widgets/controls",
          "model_name": "FloatProgressModel",
          "model_module_version": "1.5.0",
          "state": {
            "_dom_classes": [],
            "_model_module": "@jupyter-widgets/controls",
            "_model_module_version": "1.5.0",
            "_model_name": "FloatProgressModel",
            "_view_count": null,
            "_view_module": "@jupyter-widgets/controls",
            "_view_module_version": "1.5.0",
            "_view_name": "ProgressView",
            "bar_style": "success",
            "description": "",
            "description_tooltip": null,
            "layout": "IPY_MODEL_df8625b8983b4f71ba0ff7d57a834ba8",
            "max": 29,
            "min": 0,
            "orientation": "horizontal",
            "style": "IPY_MODEL_056ee6b4567b4a2e937d0788f72df6f3",
            "value": 29
          }
        },
        "602d44eaecca422785b4972cfda3522f": {
          "model_module": "@jupyter-widgets/controls",
          "model_name": "HTMLModel",
          "model_module_version": "1.5.0",
          "state": {
            "_dom_classes": [],
            "_model_module": "@jupyter-widgets/controls",
            "_model_module_version": "1.5.0",
            "_model_name": "HTMLModel",
            "_view_count": null,
            "_view_module": "@jupyter-widgets/controls",
            "_view_module_version": "1.5.0",
            "_view_name": "HTMLView",
            "description": "",
            "description_tooltip": null,
            "layout": "IPY_MODEL_bce104fd248941e8a2eb07075e264092",
            "placeholder": "​",
            "style": "IPY_MODEL_220f4df1ca364712a654784180c04083",
            "value": " 29.0/29.0 [00:00&lt;00:00, 171B/s]"
          }
        },
        "0a72160d0fa6437c99f8da5292e78cc8": {
          "model_module": "@jupyter-widgets/base",
          "model_name": "LayoutModel",
          "model_module_version": "1.2.0",
          "state": {
            "_model_module": "@jupyter-widgets/base",
            "_model_module_version": "1.2.0",
            "_model_name": "LayoutModel",
            "_view_count": null,
            "_view_module": "@jupyter-widgets/base",
            "_view_module_version": "1.2.0",
            "_view_name": "LayoutView",
            "align_content": null,
            "align_items": null,
            "align_self": null,
            "border": null,
            "bottom": null,
            "display": null,
            "flex": null,
            "flex_flow": null,
            "grid_area": null,
            "grid_auto_columns": null,
            "grid_auto_flow": null,
            "grid_auto_rows": null,
            "grid_column": null,
            "grid_gap": null,
            "grid_row": null,
            "grid_template_areas": null,
            "grid_template_columns": null,
            "grid_template_rows": null,
            "height": null,
            "justify_content": null,
            "justify_items": null,
            "left": null,
            "margin": null,
            "max_height": null,
            "max_width": null,
            "min_height": null,
            "min_width": null,
            "object_fit": null,
            "object_position": null,
            "order": null,
            "overflow": null,
            "overflow_x": null,
            "overflow_y": null,
            "padding": null,
            "right": null,
            "top": null,
            "visibility": null,
            "width": null
          }
        },
        "a5cacdcf0abe47058600a0627698561f": {
          "model_module": "@jupyter-widgets/base",
          "model_name": "LayoutModel",
          "model_module_version": "1.2.0",
          "state": {
            "_model_module": "@jupyter-widgets/base",
            "_model_module_version": "1.2.0",
            "_model_name": "LayoutModel",
            "_view_count": null,
            "_view_module": "@jupyter-widgets/base",
            "_view_module_version": "1.2.0",
            "_view_name": "LayoutView",
            "align_content": null,
            "align_items": null,
            "align_self": null,
            "border": null,
            "bottom": null,
            "display": null,
            "flex": null,
            "flex_flow": null,
            "grid_area": null,
            "grid_auto_columns": null,
            "grid_auto_flow": null,
            "grid_auto_rows": null,
            "grid_column": null,
            "grid_gap": null,
            "grid_row": null,
            "grid_template_areas": null,
            "grid_template_columns": null,
            "grid_template_rows": null,
            "height": null,
            "justify_content": null,
            "justify_items": null,
            "left": null,
            "margin": null,
            "max_height": null,
            "max_width": null,
            "min_height": null,
            "min_width": null,
            "object_fit": null,
            "object_position": null,
            "order": null,
            "overflow": null,
            "overflow_x": null,
            "overflow_y": null,
            "padding": null,
            "right": null,
            "top": null,
            "visibility": null,
            "width": null
          }
        },
        "2f06b846345f407e9b1022674e06735a": {
          "model_module": "@jupyter-widgets/controls",
          "model_name": "DescriptionStyleModel",
          "model_module_version": "1.5.0",
          "state": {
            "_model_module": "@jupyter-widgets/controls",
            "_model_module_version": "1.5.0",
            "_model_name": "DescriptionStyleModel",
            "_view_count": null,
            "_view_module": "@jupyter-widgets/base",
            "_view_module_version": "1.2.0",
            "_view_name": "StyleView",
            "description_width": ""
          }
        },
        "df8625b8983b4f71ba0ff7d57a834ba8": {
          "model_module": "@jupyter-widgets/base",
          "model_name": "LayoutModel",
          "model_module_version": "1.2.0",
          "state": {
            "_model_module": "@jupyter-widgets/base",
            "_model_module_version": "1.2.0",
            "_model_name": "LayoutModel",
            "_view_count": null,
            "_view_module": "@jupyter-widgets/base",
            "_view_module_version": "1.2.0",
            "_view_name": "LayoutView",
            "align_content": null,
            "align_items": null,
            "align_self": null,
            "border": null,
            "bottom": null,
            "display": null,
            "flex": null,
            "flex_flow": null,
            "grid_area": null,
            "grid_auto_columns": null,
            "grid_auto_flow": null,
            "grid_auto_rows": null,
            "grid_column": null,
            "grid_gap": null,
            "grid_row": null,
            "grid_template_areas": null,
            "grid_template_columns": null,
            "grid_template_rows": null,
            "height": null,
            "justify_content": null,
            "justify_items": null,
            "left": null,
            "margin": null,
            "max_height": null,
            "max_width": null,
            "min_height": null,
            "min_width": null,
            "object_fit": null,
            "object_position": null,
            "order": null,
            "overflow": null,
            "overflow_x": null,
            "overflow_y": null,
            "padding": null,
            "right": null,
            "top": null,
            "visibility": null,
            "width": null
          }
        },
        "056ee6b4567b4a2e937d0788f72df6f3": {
          "model_module": "@jupyter-widgets/controls",
          "model_name": "ProgressStyleModel",
          "model_module_version": "1.5.0",
          "state": {
            "_model_module": "@jupyter-widgets/controls",
            "_model_module_version": "1.5.0",
            "_model_name": "ProgressStyleModel",
            "_view_count": null,
            "_view_module": "@jupyter-widgets/base",
            "_view_module_version": "1.2.0",
            "_view_name": "StyleView",
            "bar_color": null,
            "description_width": ""
          }
        },
        "bce104fd248941e8a2eb07075e264092": {
          "model_module": "@jupyter-widgets/base",
          "model_name": "LayoutModel",
          "model_module_version": "1.2.0",
          "state": {
            "_model_module": "@jupyter-widgets/base",
            "_model_module_version": "1.2.0",
            "_model_name": "LayoutModel",
            "_view_count": null,
            "_view_module": "@jupyter-widgets/base",
            "_view_module_version": "1.2.0",
            "_view_name": "LayoutView",
            "align_content": null,
            "align_items": null,
            "align_self": null,
            "border": null,
            "bottom": null,
            "display": null,
            "flex": null,
            "flex_flow": null,
            "grid_area": null,
            "grid_auto_columns": null,
            "grid_auto_flow": null,
            "grid_auto_rows": null,
            "grid_column": null,
            "grid_gap": null,
            "grid_row": null,
            "grid_template_areas": null,
            "grid_template_columns": null,
            "grid_template_rows": null,
            "height": null,
            "justify_content": null,
            "justify_items": null,
            "left": null,
            "margin": null,
            "max_height": null,
            "max_width": null,
            "min_height": null,
            "min_width": null,
            "object_fit": null,
            "object_position": null,
            "order": null,
            "overflow": null,
            "overflow_x": null,
            "overflow_y": null,
            "padding": null,
            "right": null,
            "top": null,
            "visibility": null,
            "width": null
          }
        },
        "220f4df1ca364712a654784180c04083": {
          "model_module": "@jupyter-widgets/controls",
          "model_name": "DescriptionStyleModel",
          "model_module_version": "1.5.0",
          "state": {
            "_model_module": "@jupyter-widgets/controls",
            "_model_module_version": "1.5.0",
            "_model_name": "DescriptionStyleModel",
            "_view_count": null,
            "_view_module": "@jupyter-widgets/base",
            "_view_module_version": "1.2.0",
            "_view_name": "StyleView",
            "description_width": ""
          }
        },
        "91e58b418f6a4be59acf920be39ff80b": {
          "model_module": "@jupyter-widgets/controls",
          "model_name": "HBoxModel",
          "model_module_version": "1.5.0",
          "state": {
            "_dom_classes": [],
            "_model_module": "@jupyter-widgets/controls",
            "_model_module_version": "1.5.0",
            "_model_name": "HBoxModel",
            "_view_count": null,
            "_view_module": "@jupyter-widgets/controls",
            "_view_module_version": "1.5.0",
            "_view_name": "HBoxView",
            "box_style": "",
            "children": [
              "IPY_MODEL_e45377cc4a234d5680619dc0875f86eb",
              "IPY_MODEL_c8e4d3646a544ccea97a2950ebaba003",
              "IPY_MODEL_c2982c2ee4bd4a51804cb9dca16f9eb5"
            ],
            "layout": "IPY_MODEL_083649e692d242a6bb0a1cbc9d056f58"
          }
        },
        "e45377cc4a234d5680619dc0875f86eb": {
          "model_module": "@jupyter-widgets/controls",
          "model_name": "HTMLModel",
          "model_module_version": "1.5.0",
          "state": {
            "_dom_classes": [],
            "_model_module": "@jupyter-widgets/controls",
            "_model_module_version": "1.5.0",
            "_model_name": "HTMLModel",
            "_view_count": null,
            "_view_module": "@jupyter-widgets/controls",
            "_view_module_version": "1.5.0",
            "_view_name": "HTMLView",
            "description": "",
            "description_tooltip": null,
            "layout": "IPY_MODEL_ad4f4b07d8f8463e9f196d6e66d70030",
            "placeholder": "​",
            "style": "IPY_MODEL_9c142fdbf4f54abb9d5cf0145007f850",
            "value": "Downloading: 100%"
          }
        },
        "c8e4d3646a544ccea97a2950ebaba003": {
          "model_module": "@jupyter-widgets/controls",
          "model_name": "FloatProgressModel",
          "model_module_version": "1.5.0",
          "state": {
            "_dom_classes": [],
            "_model_module": "@jupyter-widgets/controls",
            "_model_module_version": "1.5.0",
            "_model_name": "FloatProgressModel",
            "_view_count": null,
            "_view_module": "@jupyter-widgets/controls",
            "_view_module_version": "1.5.0",
            "_view_name": "ProgressView",
            "bar_style": "success",
            "description": "",
            "description_tooltip": null,
            "layout": "IPY_MODEL_643c73178fad4889bb7543f1b5fc95fb",
            "max": 624,
            "min": 0,
            "orientation": "horizontal",
            "style": "IPY_MODEL_789ccf85868f49fc9526b86cf119c2da",
            "value": 624
          }
        },
        "c2982c2ee4bd4a51804cb9dca16f9eb5": {
          "model_module": "@jupyter-widgets/controls",
          "model_name": "HTMLModel",
          "model_module_version": "1.5.0",
          "state": {
            "_dom_classes": [],
            "_model_module": "@jupyter-widgets/controls",
            "_model_module_version": "1.5.0",
            "_model_name": "HTMLModel",
            "_view_count": null,
            "_view_module": "@jupyter-widgets/controls",
            "_view_module_version": "1.5.0",
            "_view_name": "HTMLView",
            "description": "",
            "description_tooltip": null,
            "layout": "IPY_MODEL_ca0bdec322994480abf6d8013854bca9",
            "placeholder": "​",
            "style": "IPY_MODEL_4d95a248f31647c0b2a786798ae6295c",
            "value": " 624/624 [00:00&lt;00:00, 12.5kB/s]"
          }
        },
        "083649e692d242a6bb0a1cbc9d056f58": {
          "model_module": "@jupyter-widgets/base",
          "model_name": "LayoutModel",
          "model_module_version": "1.2.0",
          "state": {
            "_model_module": "@jupyter-widgets/base",
            "_model_module_version": "1.2.0",
            "_model_name": "LayoutModel",
            "_view_count": null,
            "_view_module": "@jupyter-widgets/base",
            "_view_module_version": "1.2.0",
            "_view_name": "LayoutView",
            "align_content": null,
            "align_items": null,
            "align_self": null,
            "border": null,
            "bottom": null,
            "display": null,
            "flex": null,
            "flex_flow": null,
            "grid_area": null,
            "grid_auto_columns": null,
            "grid_auto_flow": null,
            "grid_auto_rows": null,
            "grid_column": null,
            "grid_gap": null,
            "grid_row": null,
            "grid_template_areas": null,
            "grid_template_columns": null,
            "grid_template_rows": null,
            "height": null,
            "justify_content": null,
            "justify_items": null,
            "left": null,
            "margin": null,
            "max_height": null,
            "max_width": null,
            "min_height": null,
            "min_width": null,
            "object_fit": null,
            "object_position": null,
            "order": null,
            "overflow": null,
            "overflow_x": null,
            "overflow_y": null,
            "padding": null,
            "right": null,
            "top": null,
            "visibility": null,
            "width": null
          }
        },
        "ad4f4b07d8f8463e9f196d6e66d70030": {
          "model_module": "@jupyter-widgets/base",
          "model_name": "LayoutModel",
          "model_module_version": "1.2.0",
          "state": {
            "_model_module": "@jupyter-widgets/base",
            "_model_module_version": "1.2.0",
            "_model_name": "LayoutModel",
            "_view_count": null,
            "_view_module": "@jupyter-widgets/base",
            "_view_module_version": "1.2.0",
            "_view_name": "LayoutView",
            "align_content": null,
            "align_items": null,
            "align_self": null,
            "border": null,
            "bottom": null,
            "display": null,
            "flex": null,
            "flex_flow": null,
            "grid_area": null,
            "grid_auto_columns": null,
            "grid_auto_flow": null,
            "grid_auto_rows": null,
            "grid_column": null,
            "grid_gap": null,
            "grid_row": null,
            "grid_template_areas": null,
            "grid_template_columns": null,
            "grid_template_rows": null,
            "height": null,
            "justify_content": null,
            "justify_items": null,
            "left": null,
            "margin": null,
            "max_height": null,
            "max_width": null,
            "min_height": null,
            "min_width": null,
            "object_fit": null,
            "object_position": null,
            "order": null,
            "overflow": null,
            "overflow_x": null,
            "overflow_y": null,
            "padding": null,
            "right": null,
            "top": null,
            "visibility": null,
            "width": null
          }
        },
        "9c142fdbf4f54abb9d5cf0145007f850": {
          "model_module": "@jupyter-widgets/controls",
          "model_name": "DescriptionStyleModel",
          "model_module_version": "1.5.0",
          "state": {
            "_model_module": "@jupyter-widgets/controls",
            "_model_module_version": "1.5.0",
            "_model_name": "DescriptionStyleModel",
            "_view_count": null,
            "_view_module": "@jupyter-widgets/base",
            "_view_module_version": "1.2.0",
            "_view_name": "StyleView",
            "description_width": ""
          }
        },
        "643c73178fad4889bb7543f1b5fc95fb": {
          "model_module": "@jupyter-widgets/base",
          "model_name": "LayoutModel",
          "model_module_version": "1.2.0",
          "state": {
            "_model_module": "@jupyter-widgets/base",
            "_model_module_version": "1.2.0",
            "_model_name": "LayoutModel",
            "_view_count": null,
            "_view_module": "@jupyter-widgets/base",
            "_view_module_version": "1.2.0",
            "_view_name": "LayoutView",
            "align_content": null,
            "align_items": null,
            "align_self": null,
            "border": null,
            "bottom": null,
            "display": null,
            "flex": null,
            "flex_flow": null,
            "grid_area": null,
            "grid_auto_columns": null,
            "grid_auto_flow": null,
            "grid_auto_rows": null,
            "grid_column": null,
            "grid_gap": null,
            "grid_row": null,
            "grid_template_areas": null,
            "grid_template_columns": null,
            "grid_template_rows": null,
            "height": null,
            "justify_content": null,
            "justify_items": null,
            "left": null,
            "margin": null,
            "max_height": null,
            "max_width": null,
            "min_height": null,
            "min_width": null,
            "object_fit": null,
            "object_position": null,
            "order": null,
            "overflow": null,
            "overflow_x": null,
            "overflow_y": null,
            "padding": null,
            "right": null,
            "top": null,
            "visibility": null,
            "width": null
          }
        },
        "789ccf85868f49fc9526b86cf119c2da": {
          "model_module": "@jupyter-widgets/controls",
          "model_name": "ProgressStyleModel",
          "model_module_version": "1.5.0",
          "state": {
            "_model_module": "@jupyter-widgets/controls",
            "_model_module_version": "1.5.0",
            "_model_name": "ProgressStyleModel",
            "_view_count": null,
            "_view_module": "@jupyter-widgets/base",
            "_view_module_version": "1.2.0",
            "_view_name": "StyleView",
            "bar_color": null,
            "description_width": ""
          }
        },
        "ca0bdec322994480abf6d8013854bca9": {
          "model_module": "@jupyter-widgets/base",
          "model_name": "LayoutModel",
          "model_module_version": "1.2.0",
          "state": {
            "_model_module": "@jupyter-widgets/base",
            "_model_module_version": "1.2.0",
            "_model_name": "LayoutModel",
            "_view_count": null,
            "_view_module": "@jupyter-widgets/base",
            "_view_module_version": "1.2.0",
            "_view_name": "LayoutView",
            "align_content": null,
            "align_items": null,
            "align_self": null,
            "border": null,
            "bottom": null,
            "display": null,
            "flex": null,
            "flex_flow": null,
            "grid_area": null,
            "grid_auto_columns": null,
            "grid_auto_flow": null,
            "grid_auto_rows": null,
            "grid_column": null,
            "grid_gap": null,
            "grid_row": null,
            "grid_template_areas": null,
            "grid_template_columns": null,
            "grid_template_rows": null,
            "height": null,
            "justify_content": null,
            "justify_items": null,
            "left": null,
            "margin": null,
            "max_height": null,
            "max_width": null,
            "min_height": null,
            "min_width": null,
            "object_fit": null,
            "object_position": null,
            "order": null,
            "overflow": null,
            "overflow_x": null,
            "overflow_y": null,
            "padding": null,
            "right": null,
            "top": null,
            "visibility": null,
            "width": null
          }
        },
        "4d95a248f31647c0b2a786798ae6295c": {
          "model_module": "@jupyter-widgets/controls",
          "model_name": "DescriptionStyleModel",
          "model_module_version": "1.5.0",
          "state": {
            "_model_module": "@jupyter-widgets/controls",
            "_model_module_version": "1.5.0",
            "_model_name": "DescriptionStyleModel",
            "_view_count": null,
            "_view_module": "@jupyter-widgets/base",
            "_view_module_version": "1.2.0",
            "_view_name": "StyleView",
            "description_width": ""
          }
        },
        "6ff7edbbfded4cce88f97355debea63f": {
          "model_module": "@jupyter-widgets/controls",
          "model_name": "HBoxModel",
          "model_module_version": "1.5.0",
          "state": {
            "_dom_classes": [],
            "_model_module": "@jupyter-widgets/controls",
            "_model_module_version": "1.5.0",
            "_model_name": "HBoxModel",
            "_view_count": null,
            "_view_module": "@jupyter-widgets/controls",
            "_view_module_version": "1.5.0",
            "_view_name": "HBoxView",
            "box_style": "",
            "children": [
              "IPY_MODEL_edbbeb7269894a5c80a51e308bda7c45",
              "IPY_MODEL_4e6c674a9ab9432db6c58c0aed0bae8a",
              "IPY_MODEL_2bb27948ee584368abad7b20c3f94d29"
            ],
            "layout": "IPY_MODEL_05c14ae6da6b44648cf5584a4531f87e"
          }
        },
        "edbbeb7269894a5c80a51e308bda7c45": {
          "model_module": "@jupyter-widgets/controls",
          "model_name": "HTMLModel",
          "model_module_version": "1.5.0",
          "state": {
            "_dom_classes": [],
            "_model_module": "@jupyter-widgets/controls",
            "_model_module_version": "1.5.0",
            "_model_name": "HTMLModel",
            "_view_count": null,
            "_view_module": "@jupyter-widgets/controls",
            "_view_module_version": "1.5.0",
            "_view_name": "HTMLView",
            "description": "",
            "description_tooltip": null,
            "layout": "IPY_MODEL_6f6888c4f19d466f92b7766a8e2294a0",
            "placeholder": "​",
            "style": "IPY_MODEL_af7fe38fee214d02b454063486d01cbe",
            "value": "100%"
          }
        },
        "4e6c674a9ab9432db6c58c0aed0bae8a": {
          "model_module": "@jupyter-widgets/controls",
          "model_name": "FloatProgressModel",
          "model_module_version": "1.5.0",
          "state": {
            "_dom_classes": [],
            "_model_module": "@jupyter-widgets/controls",
            "_model_module_version": "1.5.0",
            "_model_name": "FloatProgressModel",
            "_view_count": null,
            "_view_module": "@jupyter-widgets/controls",
            "_view_module_version": "1.5.0",
            "_view_name": "ProgressView",
            "bar_style": "success",
            "description": "",
            "description_tooltip": null,
            "layout": "IPY_MODEL_cce3bd9008b247dfa8fc98059702018d",
            "max": 19,
            "min": 0,
            "orientation": "horizontal",
            "style": "IPY_MODEL_f614367ef7f14018b2d8a8e0050f0c71",
            "value": 19
          }
        },
        "2bb27948ee584368abad7b20c3f94d29": {
          "model_module": "@jupyter-widgets/controls",
          "model_name": "HTMLModel",
          "model_module_version": "1.5.0",
          "state": {
            "_dom_classes": [],
            "_model_module": "@jupyter-widgets/controls",
            "_model_module_version": "1.5.0",
            "_model_name": "HTMLModel",
            "_view_count": null,
            "_view_module": "@jupyter-widgets/controls",
            "_view_module_version": "1.5.0",
            "_view_name": "HTMLView",
            "description": "",
            "description_tooltip": null,
            "layout": "IPY_MODEL_33747178e03c400398d7f1e7c79699cb",
            "placeholder": "​",
            "style": "IPY_MODEL_839c199b36ea48618b48c50fd86169ae",
            "value": " 19/19 [00:03&lt;00:00,  4.87it/s]"
          }
        },
        "05c14ae6da6b44648cf5584a4531f87e": {
          "model_module": "@jupyter-widgets/base",
          "model_name": "LayoutModel",
          "model_module_version": "1.2.0",
          "state": {
            "_model_module": "@jupyter-widgets/base",
            "_model_module_version": "1.2.0",
            "_model_name": "LayoutModel",
            "_view_count": null,
            "_view_module": "@jupyter-widgets/base",
            "_view_module_version": "1.2.0",
            "_view_name": "LayoutView",
            "align_content": null,
            "align_items": null,
            "align_self": null,
            "border": null,
            "bottom": null,
            "display": null,
            "flex": null,
            "flex_flow": null,
            "grid_area": null,
            "grid_auto_columns": null,
            "grid_auto_flow": null,
            "grid_auto_rows": null,
            "grid_column": null,
            "grid_gap": null,
            "grid_row": null,
            "grid_template_areas": null,
            "grid_template_columns": null,
            "grid_template_rows": null,
            "height": null,
            "justify_content": null,
            "justify_items": null,
            "left": null,
            "margin": null,
            "max_height": null,
            "max_width": null,
            "min_height": null,
            "min_width": null,
            "object_fit": null,
            "object_position": null,
            "order": null,
            "overflow": null,
            "overflow_x": null,
            "overflow_y": null,
            "padding": null,
            "right": null,
            "top": null,
            "visibility": null,
            "width": null
          }
        },
        "6f6888c4f19d466f92b7766a8e2294a0": {
          "model_module": "@jupyter-widgets/base",
          "model_name": "LayoutModel",
          "model_module_version": "1.2.0",
          "state": {
            "_model_module": "@jupyter-widgets/base",
            "_model_module_version": "1.2.0",
            "_model_name": "LayoutModel",
            "_view_count": null,
            "_view_module": "@jupyter-widgets/base",
            "_view_module_version": "1.2.0",
            "_view_name": "LayoutView",
            "align_content": null,
            "align_items": null,
            "align_self": null,
            "border": null,
            "bottom": null,
            "display": null,
            "flex": null,
            "flex_flow": null,
            "grid_area": null,
            "grid_auto_columns": null,
            "grid_auto_flow": null,
            "grid_auto_rows": null,
            "grid_column": null,
            "grid_gap": null,
            "grid_row": null,
            "grid_template_areas": null,
            "grid_template_columns": null,
            "grid_template_rows": null,
            "height": null,
            "justify_content": null,
            "justify_items": null,
            "left": null,
            "margin": null,
            "max_height": null,
            "max_width": null,
            "min_height": null,
            "min_width": null,
            "object_fit": null,
            "object_position": null,
            "order": null,
            "overflow": null,
            "overflow_x": null,
            "overflow_y": null,
            "padding": null,
            "right": null,
            "top": null,
            "visibility": null,
            "width": null
          }
        },
        "af7fe38fee214d02b454063486d01cbe": {
          "model_module": "@jupyter-widgets/controls",
          "model_name": "DescriptionStyleModel",
          "model_module_version": "1.5.0",
          "state": {
            "_model_module": "@jupyter-widgets/controls",
            "_model_module_version": "1.5.0",
            "_model_name": "DescriptionStyleModel",
            "_view_count": null,
            "_view_module": "@jupyter-widgets/base",
            "_view_module_version": "1.2.0",
            "_view_name": "StyleView",
            "description_width": ""
          }
        },
        "cce3bd9008b247dfa8fc98059702018d": {
          "model_module": "@jupyter-widgets/base",
          "model_name": "LayoutModel",
          "model_module_version": "1.2.0",
          "state": {
            "_model_module": "@jupyter-widgets/base",
            "_model_module_version": "1.2.0",
            "_model_name": "LayoutModel",
            "_view_count": null,
            "_view_module": "@jupyter-widgets/base",
            "_view_module_version": "1.2.0",
            "_view_name": "LayoutView",
            "align_content": null,
            "align_items": null,
            "align_self": null,
            "border": null,
            "bottom": null,
            "display": null,
            "flex": null,
            "flex_flow": null,
            "grid_area": null,
            "grid_auto_columns": null,
            "grid_auto_flow": null,
            "grid_auto_rows": null,
            "grid_column": null,
            "grid_gap": null,
            "grid_row": null,
            "grid_template_areas": null,
            "grid_template_columns": null,
            "grid_template_rows": null,
            "height": null,
            "justify_content": null,
            "justify_items": null,
            "left": null,
            "margin": null,
            "max_height": null,
            "max_width": null,
            "min_height": null,
            "min_width": null,
            "object_fit": null,
            "object_position": null,
            "order": null,
            "overflow": null,
            "overflow_x": null,
            "overflow_y": null,
            "padding": null,
            "right": null,
            "top": null,
            "visibility": null,
            "width": null
          }
        },
        "f614367ef7f14018b2d8a8e0050f0c71": {
          "model_module": "@jupyter-widgets/controls",
          "model_name": "ProgressStyleModel",
          "model_module_version": "1.5.0",
          "state": {
            "_model_module": "@jupyter-widgets/controls",
            "_model_module_version": "1.5.0",
            "_model_name": "ProgressStyleModel",
            "_view_count": null,
            "_view_module": "@jupyter-widgets/base",
            "_view_module_version": "1.2.0",
            "_view_name": "StyleView",
            "bar_color": null,
            "description_width": ""
          }
        },
        "33747178e03c400398d7f1e7c79699cb": {
          "model_module": "@jupyter-widgets/base",
          "model_name": "LayoutModel",
          "model_module_version": "1.2.0",
          "state": {
            "_model_module": "@jupyter-widgets/base",
            "_model_module_version": "1.2.0",
            "_model_name": "LayoutModel",
            "_view_count": null,
            "_view_module": "@jupyter-widgets/base",
            "_view_module_version": "1.2.0",
            "_view_name": "LayoutView",
            "align_content": null,
            "align_items": null,
            "align_self": null,
            "border": null,
            "bottom": null,
            "display": null,
            "flex": null,
            "flex_flow": null,
            "grid_area": null,
            "grid_auto_columns": null,
            "grid_auto_flow": null,
            "grid_auto_rows": null,
            "grid_column": null,
            "grid_gap": null,
            "grid_row": null,
            "grid_template_areas": null,
            "grid_template_columns": null,
            "grid_template_rows": null,
            "height": null,
            "justify_content": null,
            "justify_items": null,
            "left": null,
            "margin": null,
            "max_height": null,
            "max_width": null,
            "min_height": null,
            "min_width": null,
            "object_fit": null,
            "object_position": null,
            "order": null,
            "overflow": null,
            "overflow_x": null,
            "overflow_y": null,
            "padding": null,
            "right": null,
            "top": null,
            "visibility": null,
            "width": null
          }
        },
        "839c199b36ea48618b48c50fd86169ae": {
          "model_module": "@jupyter-widgets/controls",
          "model_name": "DescriptionStyleModel",
          "model_module_version": "1.5.0",
          "state": {
            "_model_module": "@jupyter-widgets/controls",
            "_model_module_version": "1.5.0",
            "_model_name": "DescriptionStyleModel",
            "_view_count": null,
            "_view_module": "@jupyter-widgets/base",
            "_view_module_version": "1.2.0",
            "_view_name": "StyleView",
            "description_width": ""
          }
        }
      }
    }
  },
  "cells": [
    {
      "cell_type": "code",
      "source": [
        "!git clone https://github.com/seantyh/morphert"
      ],
      "metadata": {
        "colab": {
          "base_uri": "https://localhost:8080/"
        },
        "id": "meX8r4Y_vUEn",
        "outputId": "9c3d4e06-7d1c-485c-ad45-2469fa196ba0"
      },
      "execution_count": null,
      "outputs": [
        {
          "output_type": "stream",
          "name": "stdout",
          "text": [
            "Cloning into 'morphert'...\n",
            "remote: Enumerating objects: 32, done.\u001b[K\n",
            "remote: Counting objects: 100% (32/32), done.\u001b[K\n",
            "remote: Compressing objects: 100% (28/28), done.\u001b[K\n",
            "remote: Total 32 (delta 5), reused 30 (delta 3), pack-reused 0\u001b[K\n",
            "Unpacking objects: 100% (32/32), done.\n"
          ]
        }
      ]
    },
    {
      "cell_type": "code",
      "source": [
        "!pip install -q --progress-bar off transformers umap-learn opencc hdbscan functorch\n",
        "!pip install -U -q gensim"
      ],
      "metadata": {
        "id": "UO6XNtPwvoHP",
        "colab": {
          "base_uri": "https://localhost:8080/"
        },
        "outputId": "99fcd40d-bfe8-4ad0-b1c7-adf8015dd29a"
      },
      "execution_count": null,
      "outputs": [
        {
          "output_type": "stream",
          "name": "stdout",
          "text": [
            "\u001b[?25l\n",
            "\u001b[?25h\u001b[?25l\n",
            "\u001b[?25h\u001b[?25l\n",
            "\u001b[?25h\u001b[?25l\n",
            "\u001b[?25h  Installing build dependencies ... \u001b[?25l\u001b[?25hdone\n",
            "  Getting requirements to build wheel ... \u001b[?25l\u001b[?25hdone\n",
            "    Preparing wheel metadata ... \u001b[?25l\u001b[?25hdone\n",
            "\u001b[?25l\n",
            "\u001b[?25h\u001b[?25l\n",
            "\u001b[?25h\u001b[?25l\n",
            "\u001b[?25h\u001b[?25l\n",
            "\u001b[?25h\u001b[?25l\n",
            "\u001b[?25h\u001b[?25l\n",
            "\u001b[?25h  Building wheel for umap-learn (setup.py) ... \u001b[?25l\u001b[?25hdone\n",
            "  Building wheel for pynndescent (setup.py) ... \u001b[?25l\u001b[?25hdone\n",
            "  Building wheel for hdbscan (PEP 517) ... \u001b[?25l\u001b[?25hdone\n",
            "  Building wheel for sacremoses (setup.py) ... \u001b[?25l\u001b[?25hdone\n",
            "\u001b[K     |████████████████████████████████| 24.1 MB 11.0 MB/s \n",
            "\u001b[?25h"
          ]
        }
      ]
    },
    {
      "cell_type": "code",
      "source": [
        "import sys\n",
        "if \"./morphert/src\" not in sys.path:\n",
        "  sys.path.append(\"./morphert/src\")"
      ],
      "metadata": {
        "id": "qp2v4sq6vXq5"
      },
      "execution_count": null,
      "outputs": []
    },
    {
      "cell_type": "code",
      "execution_count": null,
      "metadata": {
        "id": "up-tssxTvPek"
      },
      "outputs": [],
      "source": [
        "import pickle\n",
        "from pathlib import Path\n",
        "from itertools import groupby, combinations, permutations\n",
        "from textwrap import wrap\n",
        "from tqdm.auto import tqdm\n",
        "from opencc import OpenCC\n",
        "\n",
        "import numpy as np\n",
        "import pandas as pd\n",
        "import matplotlib.pyplot as plt\n",
        "from scipy.spatial.distance import pdist, squareform\n",
        "from gensim.models import KeyedVectors\n",
        "\n",
        "import torch\n",
        "from functorch import jacrev, jacfwd\n",
        "from transformers import BertTokenizer, BertModel, BertPreTrainedModel\n",
        "from morphert.model import *"
      ]
    },
    {
      "cell_type": "code",
      "source": [
        "N = 500000\n",
        "base_dir = Path(\"/content/drive/MyDrive/LangOn/morphert\")\n",
        "t2s = OpenCC(\"t2s\").convert\n",
        "with open(base_dir/\"tencent_small_500k.pkl\", \"rb\") as fin:\n",
        "    (vocabs, embs) = pickle.load(fin)   \n",
        "tokenizer = BertTokenizer.from_pretrained(\"bert-base-chinese\")\n",
        "model = MorphertModel.from_pretrained(base_dir/\"morphert_500k\")\n",
        "collator_fn = DataCollator(tokenizer)\n",
        "model = model.to(\"cuda\")\n",
        "full_ds = MorphertDataset(np.arange(N), vocabs, embs)\n",
        "full_emb = np.vstack([full_ds[i][\"vec\"] for i in range(N)])\n",
        "in_tencent = lambda x: x in full_ds.vocabs"
      ],
      "metadata": {
        "id": "qzL-LsXUwmBM",
        "colab": {
          "base_uri": "https://localhost:8080/",
          "height": 113,
          "referenced_widgets": [
            "6a55af452bd54541bfc251d6ddf7657a",
            "0dfdfb6f4a374cbdbf72980db608e7a0",
            "95b88ef053924d55811cf42cd3a9293f",
            "6dba10602e6048d39f3de431d1f03e32",
            "eedc00fcd4304b8c84ce769d8b169a73",
            "3afe9705e9964258874f2f2f903ce3d4",
            "2e7c7b2366fd4beea576828e0648cc30",
            "9f18530c69c0443991d241e7177cfbd7",
            "094cc21211da4a1c97a46dd7af4a5c6f",
            "ea6fe362dcf44298b029dc9a90b6ffe4",
            "c197f458e10040939386d20663c7d255",
            "97d829c878a743999d14f5eaf62f17b4",
            "2578663f6fe04e549814176473741982",
            "c5d5cac52ebe44b7b1243a2e2821358f",
            "602d44eaecca422785b4972cfda3522f",
            "0a72160d0fa6437c99f8da5292e78cc8",
            "a5cacdcf0abe47058600a0627698561f",
            "2f06b846345f407e9b1022674e06735a",
            "df8625b8983b4f71ba0ff7d57a834ba8",
            "056ee6b4567b4a2e937d0788f72df6f3",
            "bce104fd248941e8a2eb07075e264092",
            "220f4df1ca364712a654784180c04083",
            "91e58b418f6a4be59acf920be39ff80b",
            "e45377cc4a234d5680619dc0875f86eb",
            "c8e4d3646a544ccea97a2950ebaba003",
            "c2982c2ee4bd4a51804cb9dca16f9eb5",
            "083649e692d242a6bb0a1cbc9d056f58",
            "ad4f4b07d8f8463e9f196d6e66d70030",
            "9c142fdbf4f54abb9d5cf0145007f850",
            "643c73178fad4889bb7543f1b5fc95fb",
            "789ccf85868f49fc9526b86cf119c2da",
            "ca0bdec322994480abf6d8013854bca9",
            "4d95a248f31647c0b2a786798ae6295c"
          ]
        },
        "outputId": "547bb6cd-d171-49b0-c95d-b190ce1343a5"
      },
      "execution_count": null,
      "outputs": [
        {
          "output_type": "display_data",
          "data": {
            "text/plain": [
              "Downloading:   0%|          | 0.00/107k [00:00<?, ?B/s]"
            ],
            "application/vnd.jupyter.widget-view+json": {
              "version_major": 2,
              "version_minor": 0,
              "model_id": "6a55af452bd54541bfc251d6ddf7657a"
            }
          },
          "metadata": {}
        },
        {
          "output_type": "display_data",
          "data": {
            "text/plain": [
              "Downloading:   0%|          | 0.00/29.0 [00:00<?, ?B/s]"
            ],
            "application/vnd.jupyter.widget-view+json": {
              "version_major": 2,
              "version_minor": 0,
              "model_id": "97d829c878a743999d14f5eaf62f17b4"
            }
          },
          "metadata": {}
        },
        {
          "output_type": "display_data",
          "data": {
            "text/plain": [
              "Downloading:   0%|          | 0.00/624 [00:00<?, ?B/s]"
            ],
            "application/vnd.jupyter.widget-view+json": {
              "version_major": 2,
              "version_minor": 0,
              "model_id": "91e58b418f6a4be59acf920be39ff80b"
            }
          },
          "metadata": {}
        }
      ]
    },
    {
      "cell_type": "code",
      "source": [
        "in_embeds = model.bert.embeddings.word_embeddings(torch.tensor([[101, 7442, 5582, 102]]).to(\"cuda\"))\n",
        "out_embeds = model(inputs_embeds=in_embeds)\n",
        "out_tokens = model(**tokenizer(\"電腦\", return_tensors=\"pt\").to(\"cuda\"))\n",
        "torch.allclose(out_embeds.predictions, out_tokens.predictions)"
      ],
      "metadata": {
        "colab": {
          "base_uri": "https://localhost:8080/"
        },
        "id": "dGm27_9ywone",
        "outputId": "89338b8d-6c73-40cc-eea4-6086b6d6dd24"
      },
      "execution_count": null,
      "outputs": [
        {
          "output_type": "execute_result",
          "data": {
            "text/plain": [
              "True"
            ]
          },
          "metadata": {},
          "execution_count": 6
        }
      ]
    },
    {
      "cell_type": "code",
      "source": [
        "class TCKeyedVectorWrap:\n",
        "  def __init__(self, kv, t2s):\n",
        "    self.kv = kv\n",
        "    self.t2s = t2s\n",
        "\n",
        "  def __contains__(self, key):\n",
        "    skey = self.t2s(key)\n",
        "    return key in self.kv or skey in self.kv\n",
        "\n",
        "  def __getitem__(self, key):\n",
        "    skey = self.t2s(key)\n",
        "    if key in self.kv:\n",
        "      return self.kv[key]\n",
        "    elif skey in self.kv:\n",
        "      return self.kv[skey]\n",
        "    else:\n",
        "      raise KeyError(\"kv and its simp. not found\")\n",
        "tencent_kv = KeyedVectors(100)\n",
        "tencent_kv.add_vectors(vocabs, embs)\n",
        "tencent_kv_wrap = TCKeyedVectorWrap(tencent_kv, t2s)"
      ],
      "metadata": {
        "id": "l-ptZA-pW-sL"
      },
      "execution_count": null,
      "outputs": []
    },
    {
      "cell_type": "code",
      "source": [
        "\"一審\" in tencent_kv_wrap, \"一審\" in tencent_kv"
      ],
      "metadata": {
        "colab": {
          "base_uri": "https://localhost:8080/"
        },
        "id": "LvBkDqxsYjZH",
        "outputId": "71ed0c3f-e459-4128-a4d5-99545086d61b"
      },
      "execution_count": null,
      "outputs": [
        {
          "output_type": "execute_result",
          "data": {
            "text/plain": [
              "(True, False)"
            ]
          },
          "metadata": {},
          "execution_count": 8
        }
      ]
    },
    {
      "cell_type": "code",
      "source": [
        "def compute_token_jacobian_functorch(tgt_word, model, tokenizer):    \n",
        "    tokens = tokenizer([tgt_word], return_tensors=\"pt\").to(\"cuda\")    \n",
        "    in_embeds = model.bert.embeddings.word_embeddings(tokens.input_ids)\n",
        "    def partial_effect(x):                     \n",
        "        out = model(inputs_embeds=x)\n",
        "        return out.predictions\n",
        "    J = jacrev(partial_effect, argnums=0)(in_embeds)\n",
        "    return J"
      ],
      "metadata": {
        "id": "xQQP18I3C-rq"
      },
      "execution_count": null,
      "outputs": []
    },
    {
      "cell_type": "markdown",
      "source": [
        "## Load char-noise dataset"
      ],
      "metadata": {
        "id": "9aGmNo_qMX9M"
      }
    },
    {
      "cell_type": "code",
      "source": [
        "import json\n",
        "with open(base_dir / \"affix_dataset.json\", \"r\") as fin:\n",
        "  affix_dataset = json.load(fin)"
      ],
      "metadata": {
        "id": "wHLTQiSP88gu"
      },
      "execution_count": null,
      "outputs": []
    },
    {
      "cell_type": "code",
      "source": [
        "item_x = affix_dataset[\"土\"]"
      ],
      "metadata": {
        "id": "KlCc2f-K6qrw"
      },
      "execution_count": null,
      "outputs": []
    },
    {
      "cell_type": "code",
      "source": [
        "item_x"
      ],
      "metadata": {
        "colab": {
          "base_uri": "https://localhost:8080/"
        },
        "id": "9Uw9KBdLB-8w",
        "outputId": "48988c04-d994-47db-d972-f95933e07eb1"
      },
      "execution_count": null,
      "outputs": [
        {
          "output_type": "execute_result",
          "data": {
            "text/plain": [
              "[{'def': 'soil,earth,clay,land',\n",
              "  'ex': [['土石', 50], ['土改', 28], ['土層', 16], ['土堤', 9], ['土壩', 6]]},\n",
              " {'def': 'local,native',\n",
              "  'ex': [['土雞', 22], ['土狗', 17], ['土狼', 5], ['土豪', 5], ['土番', 2]]},\n",
              " {'def': 'soil,earth,clay,land',\n",
              "  'ex': [['水土', 97], ['廢土', 55], ['黃土', 28], ['失土', 10], ['棄土', 8]]}]"
            ]
          },
          "metadata": {},
          "execution_count": 12
        }
      ]
    },
    {
      "cell_type": "code",
      "source": [
        "from itertools import chain\n",
        "tgt_char = \"方\"\n",
        "words = [x for x in vocabs[:50000] if len(x)==2 and x[0]!=x[1] and tgt_char in x][:10]\n",
        "counters = set(x.replace(tgt_char, \"\") for x in words)\n",
        "deriv_words = [x for x in vocabs[:50000] if len(x)==2 and x[0]!=x[1] and all((y in counters) for y in x)]\n",
        "deriv_words\n",
        "all_words = words + deriv_words"
      ],
      "metadata": {
        "id": "XI7m4wiCOwgA"
      },
      "execution_count": null,
      "outputs": []
    },
    {
      "cell_type": "code",
      "source": [
        "all_words"
      ],
      "metadata": {
        "colab": {
          "base_uri": "https://localhost:8080/"
        },
        "id": "IVZ9WpAcShFR",
        "outputId": "04ea427f-4e90-4d38-a749-badece85000c"
      },
      "execution_count": null,
      "outputs": [
        {
          "output_type": "execute_result",
          "data": {
            "text/plain": [
              "['方面',\n",
              " '方式',\n",
              " '对方',\n",
              " '方法',\n",
              " '地方',\n",
              " '双方',\n",
              " '方向',\n",
              " '官方',\n",
              " '方便',\n",
              " '方案',\n",
              " '面对',\n",
              " '对面',\n",
              " '地面',\n",
              " '面向',\n",
              " '法官',\n",
              " '双向',\n",
              " '双面',\n",
              " '法案',\n",
              " '法式']"
            ]
          },
          "metadata": {},
          "execution_count": 225
        }
      ]
    },
    {
      "cell_type": "markdown",
      "source": [
        "### Compute Jacobians for all targets and noise samples in the dataset"
      ],
      "metadata": {
        "id": "i9LpHTvAFqjP"
      }
    },
    {
      "cell_type": "code",
      "source": [
        "def mark_target(x, pos):\n",
        "  xlist = list(x)\n",
        "  xlist[pos] = f\"({x[pos]})\"\n",
        "  return \"\".join(xlist)\n",
        "\n",
        "def compute_pairwise_distances(words, Js, tgt_pos):\n",
        "  dists = np.zeros((len(words), len(words)))\n",
        "  for a, b in combinations(words, 2):\n",
        "      # L2norm = np.sqrt(((Js[a] - Js[b])**2).sum())            \n",
        "      L1norm = np.abs(Js[a][:,tgt_pos,:] - Js[b][:,tgt_pos,:]).sum()\n",
        "      idx_a = words.index(a)\n",
        "      idx_b = words.index(b)\n",
        "      dists[idx_a, idx_b] = dists[idx_b, idx_a] = L1norm      \n",
        "\n",
        "  return dists\n",
        "\n",
        "def compute_cross_distances(words, Js):\n",
        "  # row is the canonical position\n",
        "  # column is the counter position\n",
        "  dists = np.zeros((len(words), len(words)))\n",
        "  # compute self-cross\n",
        "  for w in words:\n",
        "      tgt_idx_a = 0\n",
        "      tgt_idx_b = 1\n",
        "      L1norm = np.abs(Js[w][:,tgt_idx_a,:] - Js[w][:,tgt_idx_b,:]).sum()\n",
        "      idx_w = words.index(w)\n",
        "      dists[idx_w, idx_w] = L1norm\n",
        "\n",
        "  # compute dists across words\n",
        "  for a, b in permutations(words, 2):\n",
        "      # L2norm = np.sqrt(((Js[a] - Js[b])**2).sum())      \n",
        "      tgt_idx_a = 0\n",
        "      tgt_idx_b = 1\n",
        "      L1norm = np.abs(Js[a][:,tgt_idx_a,:] - Js[b][:,tgt_idx_b,:]).sum()\n",
        "      idx_a = words.index(a)\n",
        "      idx_b = words.index(b)\n",
        "      dists[idx_a, idx_b] = L1norm\n",
        "\n",
        "  return dists\n",
        "\n",
        "def compute_pairwise_emb_distances(words, embs):\n",
        "  dists = np.zeros((len(words), len(words)))\n",
        "  dists[:] = np.NaN\n",
        "  for a, b in combinations(words, 2):\n",
        "    if not (a in embs and b in embs): continue\n",
        "    cossim = KeyedVectors.cosine_similarities(embs[a], [embs[b]])[0]\n",
        "    idx_a = words.index(a)\n",
        "    idx_b = words.index(b)\n",
        "    dists[idx_a, idx_b] = dists[idx_b, idx_a] = 1-cossim\n",
        "    dists[idx_a, idx_a] = dists[idx_b, idx_b] = 0.\n",
        "  return dists"
      ],
      "metadata": {
        "id": "4OTkkIGGF24q"
      },
      "execution_count": null,
      "outputs": []
    },
    {
      "cell_type": "code",
      "source": [
        "import random\n",
        "from itertools import chain\n",
        "\n",
        "rng = random.Random(123)\n",
        "\n",
        "# compute Jacobians for each word\n",
        "J_buf = {}\n",
        "for word in tqdm(all_words):\n",
        "  if word in J_buf: continue\n",
        "  J = compute_token_jacobian_functorch(word, model, tokenizer).squeeze().detach().cpu().numpy()\n",
        "  # subset the second token (the first character, considering the [CLS] offset)\n",
        "  J_buf[word] = J[:,1:3,:]\n",
        "\n",
        "## predicted word embeddings\n",
        "with torch.no_grad():    \n",
        "  preds = model(**tokenizer(words, return_tensors=\"pt\").to(\"cuda\")).predictions.cpu().numpy()\n",
        "\n",
        "J_target_dists = compute_pairwise_distances(all_words, J_buf, 0)\n",
        "J_counter_dists = compute_pairwise_distances(all_words, J_buf, 1)\n",
        "J_cross_dists = compute_cross_distances(all_words, J_buf)\n"
      ],
      "metadata": {
        "colab": {
          "base_uri": "https://localhost:8080/",
          "height": 104,
          "referenced_widgets": [
            "6ff7edbbfded4cce88f97355debea63f",
            "edbbeb7269894a5c80a51e308bda7c45",
            "4e6c674a9ab9432db6c58c0aed0bae8a",
            "2bb27948ee584368abad7b20c3f94d29",
            "05c14ae6da6b44648cf5584a4531f87e",
            "6f6888c4f19d466f92b7766a8e2294a0",
            "af7fe38fee214d02b454063486d01cbe",
            "cce3bd9008b247dfa8fc98059702018d",
            "f614367ef7f14018b2d8a8e0050f0c71",
            "33747178e03c400398d7f1e7c79699cb",
            "839c199b36ea48618b48c50fd86169ae"
          ]
        },
        "id": "G7kluMFb--Qc",
        "outputId": "22e71632-d51f-4c85-a78a-cb897cb5c2c2"
      },
      "execution_count": null,
      "outputs": [
        {
          "output_type": "display_data",
          "data": {
            "text/plain": [
              "  0%|          | 0/19 [00:00<?, ?it/s]"
            ],
            "application/vnd.jupyter.widget-view+json": {
              "version_major": 2,
              "version_minor": 0,
              "model_id": "6ff7edbbfded4cce88f97355debea63f"
            }
          },
          "metadata": {}
        },
        {
          "output_type": "stream",
          "name": "stderr",
          "text": [
            "/usr/local/lib/python3.7/dist-packages/torch/autograd/__init__.py:277: UserWarning: There is a performance drop because we have not yet implemented the batching rule for aten::infinitely_differentiable_gelu_backward. Please file us an issue on GitHub so that we can prioritize its implementation. (Triggered internally at  /__w/functorch/functorch/functorch/csrc/BatchedFallback.cpp:85.)\n",
            "  allow_unused, accumulate_grad=False)  # Calls into the C++ engine to run the backward pass\n"
          ]
        }
      ]
    },
    {
      "cell_type": "code",
      "source": [
        "N = len(all_words)\n",
        "D = np.zeros((N*2, N*2))\n",
        "D[:N, :N] = J_target_dists\n",
        "D[N:, N:] = J_counter_dists\n",
        "D[:N, N:] = J_cross_dists\n",
        "D[N:, :N] = J_cross_dists.transpose()"
      ],
      "metadata": {
        "id": "zBnRekVgKWEs"
      },
      "execution_count": null,
      "outputs": []
    },
    {
      "cell_type": "code",
      "source": [
        "import umap"
      ],
      "metadata": {
        "id": "J539in9tXfiW"
      },
      "execution_count": null,
      "outputs": []
    },
    {
      "cell_type": "code",
      "source": [
        "reducer = umap.UMAP(n_neighbors=10, metric=\"precomputed\", transform_mode=\"graph\")\n",
        "G = reducer.fit_transform(D)\n",
        "dG = G.todok()"
      ],
      "metadata": {
        "colab": {
          "base_uri": "https://localhost:8080/"
        },
        "id": "eImggeLOXj7F",
        "outputId": "1f5ff6a1-0d7f-467b-ad21-58dd7fa5da91"
      },
      "execution_count": null,
      "outputs": [
        {
          "output_type": "stream",
          "name": "stderr",
          "text": [
            "/usr/local/lib/python3.7/dist-packages/umap/umap_.py:1780: UserWarning: using precomputed metric; inverse_transform will be unavailable\n",
            "  warn(\"using precomputed metric; inverse_transform will be unavailable\")\n"
          ]
        }
      ]
    },
    {
      "cell_type": "code",
      "source": [
        "import graphviz\n",
        "dot = graphviz.Graph('chareme', engine=\"sfdp\")\n",
        "dot.attr(size=\"10!\", overlap=\"False\", len=\"1\")\n",
        "dot.attr(\"edge\", penwidth=\"1\", color=\"gray\")\n",
        "dot.attr('node', shape=\"box\", margin=\"0\", width=\"0\", height=\"0\")\n",
        "for i, w in enumerate(all_words):\n",
        "  dot.node(str(i), mark_target(w, 0))\n",
        "  dot.node(str(i+len(all_words)), mark_target(w, 1))\n",
        "\n",
        "for k, v in dG.items():\n",
        "  if v > 0. and k[0]>k[1]:    \n",
        "    dot.edge(str(k[0]), str(k[1]), weight=str(v))"
      ],
      "metadata": {
        "id": "QbUMs_fuYbLA"
      },
      "execution_count": null,
      "outputs": []
    },
    {
      "cell_type": "code",
      "source": [
        "dot"
      ],
      "metadata": {
        "colab": {
          "base_uri": "https://localhost:8080/",
          "height": 871
        },
        "id": "8p-uS3VTZOZe",
        "outputId": "fe8e8cb4-0fc3-45d7-955f-48bc84c00e8a"
      },
      "execution_count": null,
      "outputs": [
        {
          "output_type": "execute_result",
          "data": {
            "text/plain": [
              "<graphviz.dot.Graph at 0x7f27c3523750>"
            ],
            "image/svg+xml": "<?xml version=\"1.0\" encoding=\"UTF-8\" standalone=\"no\"?>\n<!DOCTYPE svg PUBLIC \"-//W3C//DTD SVG 1.1//EN\"\n \"http://www.w3.org/Graphics/SVG/1.1/DTD/svg11.dtd\">\n<!-- Generated by graphviz version 2.40.1 (20161225.0304)\n -->\n<!-- Title: chareme Pages: 1 -->\n<svg width=\"720pt\" height=\"637pt\"\n viewBox=\"0.00 0.00 720.00 636.89\" xmlns=\"http://www.w3.org/2000/svg\" xmlns:xlink=\"http://www.w3.org/1999/xlink\">\n<g id=\"graph0\" class=\"graph\" transform=\"scale(1.7668 1.7668) rotate(0) translate(4 356.4813)\">\n<title>chareme</title>\n<polygon fill=\"#ffffff\" stroke=\"transparent\" points=\"-4,4 -4,-356.4813 403.5207,-356.4813 403.5207,4 -4,4\"/>\n<!-- 0 -->\n<g id=\"node1\" class=\"node\">\n<title>0</title>\n<polygon fill=\"none\" stroke=\"#000000\" points=\"96.9409,-131.9643 58.9409,-131.9643 58.9409,-116.9643 96.9409,-116.9643 96.9409,-131.9643\"/>\n<text text-anchor=\"middle\" x=\"77.9409\" y=\"-120.7643\" font-family=\"Times,serif\" font-size=\"14.00\" fill=\"#000000\">(方)面</text>\n</g>\n<!-- 19 -->\n<g id=\"node2\" class=\"node\">\n<title>19</title>\n<polygon fill=\"none\" stroke=\"#000000\" points=\"234.5615,-208.3699 196.5615,-208.3699 196.5615,-193.3699 234.5615,-193.3699 234.5615,-208.3699\"/>\n<text text-anchor=\"middle\" x=\"215.5615\" y=\"-197.1699\" font-family=\"Times,serif\" font-size=\"14.00\" fill=\"#000000\">方(面)</text>\n</g>\n<!-- 19&#45;&#45;0 -->\n<g id=\"edge10\" class=\"edge\">\n<title>19&#45;&#45;0</title>\n<path fill=\"none\" stroke=\"#c0c0c0\" d=\"M201.8628,-193.2645C175.4837,-178.6191 117.9196,-146.6601 91.5843,-132.0389\"/>\n</g>\n<!-- 1 -->\n<g id=\"node3\" class=\"node\">\n<title>1</title>\n<polygon fill=\"none\" stroke=\"#000000\" points=\"262.5496,-183.6303 224.5496,-183.6303 224.5496,-168.6303 262.5496,-168.6303 262.5496,-183.6303\"/>\n<text text-anchor=\"middle\" x=\"243.5496\" y=\"-172.4303\" font-family=\"Times,serif\" font-size=\"14.00\" fill=\"#000000\">(方)式</text>\n</g>\n<!-- 19&#45;&#45;1 -->\n<g id=\"edge32\" class=\"edge\">\n<title>19&#45;&#45;1</title>\n<path fill=\"none\" stroke=\"#c0c0c0\" d=\"M224.111,-193.3127C227.5833,-190.2434 231.5856,-186.7057 235.0526,-183.6411\"/>\n</g>\n<!-- 2 -->\n<g id=\"node5\" class=\"node\">\n<title>2</title>\n<polygon fill=\"none\" stroke=\"#000000\" points=\"399.5207,-187.1454 361.5207,-187.1454 361.5207,-172.1454 399.5207,-172.1454 399.5207,-187.1454\"/>\n<text text-anchor=\"middle\" x=\"380.5207\" y=\"-175.9454\" font-family=\"Times,serif\" font-size=\"14.00\" fill=\"#000000\">(对)方</text>\n</g>\n<!-- 19&#45;&#45;2 -->\n<g id=\"edge54\" class=\"edge\">\n<title>19&#45;&#45;2</title>\n<path fill=\"none\" stroke=\"#c0c0c0\" d=\"M234.8073,-198.3936C266.5932,-194.3039 329.6923,-186.1853 361.3975,-182.1059\"/>\n</g>\n<!-- 3 -->\n<g id=\"node7\" class=\"node\">\n<title>3</title>\n<polygon fill=\"none\" stroke=\"#000000\" points=\"216.5407,-185.3676 178.5407,-185.3676 178.5407,-170.3676 216.5407,-170.3676 216.5407,-185.3676\"/>\n<text text-anchor=\"middle\" x=\"197.5407\" y=\"-174.1676\" font-family=\"Times,serif\" font-size=\"14.00\" fill=\"#000000\">(方)法</text>\n</g>\n<!-- 19&#45;&#45;3 -->\n<g id=\"edge74\" class=\"edge\">\n<title>19&#45;&#45;3</title>\n<path fill=\"none\" stroke=\"#c0c0c0\" d=\"M209.6608,-193.3381C207.69,-190.8224 205.4929,-188.0179 203.5163,-185.495\"/>\n</g>\n<!-- 4 -->\n<g id=\"node9\" class=\"node\">\n<title>4</title>\n<polygon fill=\"none\" stroke=\"#000000\" points=\"263.0829,-28.8576 225.0829,-28.8576 225.0829,-13.8576 263.0829,-13.8576 263.0829,-28.8576\"/>\n<text text-anchor=\"middle\" x=\"244.0829\" y=\"-17.6576\" font-family=\"Times,serif\" font-size=\"14.00\" fill=\"#000000\">(地)方</text>\n</g>\n<!-- 19&#45;&#45;4 -->\n<g id=\"edge95\" class=\"edge\">\n<title>19&#45;&#45;4</title>\n<path fill=\"none\" stroke=\"#c0c0c0\" d=\"M216.7871,-193.1564C221.4572,-163.7627 238.1129,-58.9328 242.8298,-29.2444\"/>\n</g>\n<!-- 5 -->\n<g id=\"node11\" class=\"node\">\n<title>5</title>\n<polygon fill=\"none\" stroke=\"#000000\" points=\"350.5633,-99.1342 312.5633,-99.1342 312.5633,-84.1342 350.5633,-84.1342 350.5633,-99.1342\"/>\n<text text-anchor=\"middle\" x=\"331.5633\" y=\"-87.9342\" font-family=\"Times,serif\" font-size=\"14.00\" fill=\"#000000\">(双)方</text>\n</g>\n<!-- 19&#45;&#45;5 -->\n<g id=\"edge103\" class=\"edge\">\n<title>19&#45;&#45;5</title>\n<path fill=\"none\" stroke=\"#c0c0c0\" d=\"M223.5348,-193.3617C244.7265,-173.406 302.2789,-119.2106 323.5342,-99.195\"/>\n</g>\n<!-- 6 -->\n<g id=\"node13\" class=\"node\">\n<title>6</title>\n<polygon fill=\"none\" stroke=\"#000000\" points=\"187.437,-153.1706 149.437,-153.1706 149.437,-138.1706 187.437,-138.1706 187.437,-153.1706\"/>\n<text text-anchor=\"middle\" x=\"168.437\" y=\"-141.9706\" font-family=\"Times,serif\" font-size=\"14.00\" fill=\"#000000\">(方)向</text>\n</g>\n<!-- 19&#45;&#45;6 -->\n<g id=\"edge120\" class=\"edge\">\n<title>19&#45;&#45;6</title>\n<path fill=\"none\" stroke=\"#c0c0c0\" d=\"M209.0091,-193.1946C200.0058,-182.6487 183.9077,-163.7922 174.9338,-153.2806\"/>\n</g>\n<!-- 7 -->\n<g id=\"node15\" class=\"node\">\n<title>7</title>\n<polygon fill=\"none\" stroke=\"#000000\" points=\"346.3272,-42.9042 308.3272,-42.9042 308.3272,-27.9042 346.3272,-27.9042 346.3272,-42.9042\"/>\n<text text-anchor=\"middle\" x=\"327.3272\" y=\"-31.7042\" font-family=\"Times,serif\" font-size=\"14.00\" fill=\"#000000\">(官)方</text>\n</g>\n<!-- 19&#45;&#45;7 -->\n<g id=\"edge139\" class=\"edge\">\n<title>19&#45;&#45;7</title>\n<path fill=\"none\" stroke=\"#c0c0c0\" d=\"M220.6543,-193.3302C239.2734,-165.7652 303.5366,-70.6254 322.2045,-42.9881\"/>\n</g>\n<!-- 8 -->\n<g id=\"node17\" class=\"node\">\n<title>8</title>\n<polygon fill=\"none\" stroke=\"#000000\" points=\"146.1475,-102.8977 108.1475,-102.8977 108.1475,-87.8977 146.1475,-87.8977 146.1475,-102.8977\"/>\n<text text-anchor=\"middle\" x=\"127.1475\" y=\"-91.6977\" font-family=\"Times,serif\" font-size=\"14.00\" fill=\"#000000\">(方)便</text>\n</g>\n<!-- 19&#45;&#45;8 -->\n<g id=\"edge146\" class=\"edge\">\n<title>19&#45;&#45;8</title>\n<path fill=\"none\" stroke=\"#c0c0c0\" d=\"M209.203,-193.2846C192.89,-173.8242 149.698,-122.2989 133.4484,-102.9143\"/>\n</g>\n<!-- 9 -->\n<g id=\"node19\" class=\"node\">\n<title>9</title>\n<polygon fill=\"none\" stroke=\"#000000\" points=\"134.2816,-15.1955 96.2816,-15.1955 96.2816,-.1955 134.2816,-.1955 134.2816,-15.1955\"/>\n<text text-anchor=\"middle\" x=\"115.2816\" y=\"-3.9955\" font-family=\"Times,serif\" font-size=\"14.00\" fill=\"#000000\">(方)案</text>\n</g>\n<!-- 19&#45;&#45;9 -->\n<g id=\"edge152\" class=\"edge\">\n<title>19&#45;&#45;9</title>\n<path fill=\"none\" stroke=\"#c0c0c0\" d=\"M211.5063,-193.058C195.3104,-161.8591 135.3659,-46.3848 119.2775,-15.393\"/>\n</g>\n<!-- 10 -->\n<g id=\"node21\" class=\"node\">\n<title>10</title>\n<polygon fill=\"none\" stroke=\"#000000\" points=\"115.6404,-316.0771 77.6404,-316.0771 77.6404,-301.0771 115.6404,-301.0771 115.6404,-316.0771\"/>\n<text text-anchor=\"middle\" x=\"96.6404\" y=\"-304.8771\" font-family=\"Times,serif\" font-size=\"14.00\" fill=\"#000000\">(面)对</text>\n</g>\n<!-- 19&#45;&#45;10 -->\n<g id=\"edge157\" class=\"edge\">\n<title>19&#45;&#45;10</title>\n<path fill=\"none\" stroke=\"#c0c0c0\" d=\"M207.009,-208.6159C185.0672,-228.4887 126.9719,-281.1058 105.1154,-300.9012\"/>\n</g>\n<!-- 11 -->\n<g id=\"node23\" class=\"node\">\n<title>11</title>\n<polygon fill=\"none\" stroke=\"#000000\" points=\"38,-144.0676 0,-144.0676 0,-129.0676 38,-129.0676 38,-144.0676\"/>\n<text text-anchor=\"middle\" x=\"19\" y=\"-132.8676\" font-family=\"Times,serif\" font-size=\"14.00\" fill=\"#000000\">(对)面</text>\n</g>\n<!-- 19&#45;&#45;11 -->\n<g id=\"edge162\" class=\"edge\">\n<title>19&#45;&#45;11</title>\n<path fill=\"none\" stroke=\"#c0c0c0\" d=\"M196.3565,-194.5872C158.7785,-182.2941 75.9235,-155.1893 38.283,-142.8758\"/>\n</g>\n<!-- 12 -->\n<g id=\"node25\" class=\"node\">\n<title>12</title>\n<polygon fill=\"none\" stroke=\"#000000\" points=\"40.472,-227.9961 2.472,-227.9961 2.472,-212.9961 40.472,-212.9961 40.472,-227.9961\"/>\n<text text-anchor=\"middle\" x=\"21.472\" y=\"-216.7961\" font-family=\"Times,serif\" font-size=\"14.00\" fill=\"#000000\">(地)面</text>\n</g>\n<!-- 19&#45;&#45;12 -->\n<g id=\"edge167\" class=\"edge\">\n<title>19&#45;&#45;12</title>\n<path fill=\"none\" stroke=\"#c0c0c0\" d=\"M196.2419,-202.8235C159.0389,-206.5854 77.8548,-214.7947 40.7135,-218.5504\"/>\n</g>\n<!-- 13 -->\n<g id=\"node27\" class=\"node\">\n<title>13</title>\n<polygon fill=\"none\" stroke=\"#000000\" points=\"253.6851,-348.5962 215.6851,-348.5962 215.6851,-333.5962 253.6851,-333.5962 253.6851,-348.5962\"/>\n<text text-anchor=\"middle\" x=\"234.6851\" y=\"-337.3962\" font-family=\"Times,serif\" font-size=\"14.00\" fill=\"#000000\">(面)向</text>\n</g>\n<!-- 19&#45;&#45;13 -->\n<g id=\"edge173\" class=\"edge\">\n<title>19&#45;&#45;13</title>\n<path fill=\"none\" stroke=\"#c0c0c0\" d=\"M216.5897,-208.409C219.9102,-232.7569 230.3242,-309.1189 233.6519,-333.5198\"/>\n</g>\n<!-- 14 -->\n<g id=\"node29\" class=\"node\">\n<title>14</title>\n<polygon fill=\"none\" stroke=\"#000000\" points=\"350.7315,-211.0669 312.7315,-211.0669 312.7315,-196.0669 350.7315,-196.0669 350.7315,-211.0669\"/>\n<text text-anchor=\"middle\" x=\"331.7315\" y=\"-199.8669\" font-family=\"Times,serif\" font-size=\"14.00\" fill=\"#000000\">(法)官</text>\n</g>\n<!-- 19&#45;&#45;14 -->\n<g id=\"edge178\" class=\"edge\">\n<title>19&#45;&#45;14</title>\n<path fill=\"none\" stroke=\"#c0c0c0\" d=\"M234.7447,-201.3152C256.2691,-201.815 290.9838,-202.6209 312.5199,-203.1209\"/>\n</g>\n<!-- 15 -->\n<g id=\"node31\" class=\"node\">\n<title>15</title>\n<polygon fill=\"none\" stroke=\"#000000\" points=\"365.4367,-242.9458 327.4367,-242.9458 327.4367,-227.9458 365.4367,-227.9458 365.4367,-242.9458\"/>\n<text text-anchor=\"middle\" x=\"346.4367\" y=\"-231.7458\" font-family=\"Times,serif\" font-size=\"14.00\" fill=\"#000000\">(双)向</text>\n</g>\n<!-- 19&#45;&#45;15 -->\n<g id=\"edge185\" class=\"edge\">\n<title>19&#45;&#45;15</title>\n<path fill=\"none\" stroke=\"#c0c0c0\" d=\"M234.5919,-205.8975C259.4049,-212.4528 302.559,-223.8537 327.3833,-230.4121\"/>\n</g>\n<!-- 16 -->\n<g id=\"node33\" class=\"node\">\n<title>16</title>\n<polygon fill=\"none\" stroke=\"#000000\" points=\"392.315,-136.5965 354.315,-136.5965 354.315,-121.5965 392.315,-121.5965 392.315,-136.5965\"/>\n<text text-anchor=\"middle\" x=\"373.315\" y=\"-125.3965\" font-family=\"Times,serif\" font-size=\"14.00\" fill=\"#000000\">(双)面</text>\n</g>\n<!-- 19&#45;&#45;16 -->\n<g id=\"edge190\" class=\"edge\">\n<title>19&#45;&#45;16</title>\n<path fill=\"none\" stroke=\"#c0c0c0\" d=\"M232.1458,-193.3245C262.3645,-179.5758 326.0739,-150.5899 356.4782,-136.7568\"/>\n</g>\n<!-- 17 -->\n<g id=\"node35\" class=\"node\">\n<title>17</title>\n<polygon fill=\"none\" stroke=\"#000000\" points=\"306.9263,-329.6237 268.9263,-329.6237 268.9263,-314.6237 306.9263,-314.6237 306.9263,-329.6237\"/>\n<text text-anchor=\"middle\" x=\"287.9263\" y=\"-318.4237\" font-family=\"Times,serif\" font-size=\"14.00\" fill=\"#000000\">(法)案</text>\n</g>\n<!-- 19&#45;&#45;17 -->\n<g id=\"edge195\" class=\"edge\">\n<title>19&#45;&#45;17</title>\n<path fill=\"none\" stroke=\"#c0c0c0\" d=\"M220.0883,-208.4548C233.084,-230.2304 270.4077,-292.7697 283.4013,-314.5416\"/>\n</g>\n<!-- 18 -->\n<g id=\"node37\" class=\"node\">\n<title>18</title>\n<polygon fill=\"none\" stroke=\"#000000\" points=\"216.1414,-307.9713 178.1414,-307.9713 178.1414,-292.9713 216.1414,-292.9713 216.1414,-307.9713\"/>\n<text text-anchor=\"middle\" x=\"197.1414\" y=\"-296.7713\" font-family=\"Times,serif\" font-size=\"14.00\" fill=\"#000000\">(法)式</text>\n</g>\n<!-- 19&#45;&#45;18 -->\n<g id=\"edge199\" class=\"edge\">\n<title>19&#45;&#45;18</title>\n<path fill=\"none\" stroke=\"#c0c0c0\" d=\"M214.1162,-208.6854C210.6558,-227.3961 201.9313,-274.5716 198.5297,-292.9646\"/>\n</g>\n<!-- 1&#45;&#45;0 -->\n<g id=\"edge1\" class=\"edge\">\n<title>1&#45;&#45;0</title>\n<path fill=\"none\" stroke=\"#c0c0c0\" d=\"M224.2281,-170.1024C192.317,-160.1469 128.9695,-140.384 97.1394,-130.4538\"/>\n</g>\n<!-- 20 -->\n<g id=\"node4\" class=\"node\">\n<title>20</title>\n<polygon fill=\"none\" stroke=\"#000000\" points=\"242.542,-160.5666 204.542,-160.5666 204.542,-145.5666 242.542,-145.5666 242.542,-160.5666\"/>\n<text text-anchor=\"middle\" x=\"223.542\" y=\"-149.3666\" font-family=\"Times,serif\" font-size=\"14.00\" fill=\"#000000\">方(式)</text>\n</g>\n<!-- 20&#45;&#45;0 -->\n<g id=\"edge11\" class=\"edge\">\n<title>20&#45;&#45;0</title>\n<path fill=\"none\" stroke=\"#c0c0c0\" d=\"M204.5072,-149.3274C176.6029,-143.8458 124.8874,-133.6866 96.9804,-128.2045\"/>\n</g>\n<!-- 20&#45;&#45;19 -->\n<g id=\"edge205\" class=\"edge\">\n<title>20&#45;&#45;19</title>\n<path fill=\"none\" stroke=\"#c0c0c0\" d=\"M222.2242,-160.9604C220.7367,-169.8706 218.3322,-184.2737 216.8548,-193.123\"/>\n</g>\n<!-- 20&#45;&#45;1 -->\n<g id=\"edge33\" class=\"edge\">\n<title>20&#45;&#45;1</title>\n<path fill=\"none\" stroke=\"#c0c0c0\" d=\"M230.0933,-160.6185C232.2814,-163.1409 234.7207,-165.9528 236.9152,-168.4824\"/>\n</g>\n<!-- 20&#45;&#45;2 -->\n<g id=\"edge55\" class=\"edge\">\n<title>20&#45;&#45;2</title>\n<path fill=\"none\" stroke=\"#c0c0c0\" d=\"M242.7907,-156.3257C272.9191,-161.4269 330.8895,-171.2421 361.1146,-176.3597\"/>\n</g>\n<!-- 20&#45;&#45;3 -->\n<g id=\"edge75\" class=\"edge\">\n<title>20&#45;&#45;3</title>\n<path fill=\"none\" stroke=\"#c0c0c0\" d=\"M215.5995,-160.6425C212.3736,-163.7194 208.6555,-167.2659 205.4346,-170.3381\"/>\n</g>\n<!-- 20&#45;&#45;4 -->\n<g id=\"edge96\" class=\"edge\">\n<title>20&#45;&#45;4</title>\n<path fill=\"none\" stroke=\"#c0c0c0\" d=\"M224.7654,-145.2221C228.4275,-121.741 239.272,-52.2053 242.8916,-28.9961\"/>\n</g>\n<!-- 20&#45;&#45;5 -->\n<g id=\"edge104\" class=\"edge\">\n<title>20&#45;&#45;5</title>\n<path fill=\"none\" stroke=\"#c0c0c0\" d=\"M236.7875,-145.5338C257.5197,-133.7433 297.4107,-111.057 318.2094,-99.2287\"/>\n</g>\n<!-- 20&#45;&#45;6 -->\n<g id=\"edge121\" class=\"edge\">\n<title>20&#45;&#45;6</title>\n<path fill=\"none\" stroke=\"#c0c0c0\" d=\"M204.269,-150.4799C198.9307,-149.7634 193.1353,-148.9855 187.7923,-148.2684\"/>\n</g>\n<!-- 20&#45;&#45;7 -->\n<g id=\"edge140\" class=\"edge\">\n<title>20&#45;&#45;7</title>\n<path fill=\"none\" stroke=\"#c0c0c0\" d=\"M230.3516,-145.3465C249.202,-123.9756 301.9093,-64.2207 320.6274,-42.9998\"/>\n</g>\n<!-- 20&#45;&#45;8 -->\n<g id=\"edge147\" class=\"edge\">\n<title>20&#45;&#45;8</title>\n<path fill=\"none\" stroke=\"#c0c0c0\" d=\"M210.9401,-145.5274C192.4662,-134.4752 158.2282,-113.992 139.7525,-102.9387\"/>\n</g>\n<!-- 20&#45;&#45;9 -->\n<g id=\"edge153\" class=\"edge\">\n<title>20&#45;&#45;9</title>\n<path fill=\"none\" stroke=\"#c0c0c0\" d=\"M217.7215,-145.2509C198.8361,-119.8917 139.4176,-40.1051 120.8695,-15.1989\"/>\n</g>\n<!-- 20&#45;&#45;10 -->\n<g id=\"edge158\" class=\"edge\">\n<title>20&#45;&#45;10</title>\n<path fill=\"none\" stroke=\"#c0c0c0\" d=\"M217.4213,-160.5672C196.033,-186.7773 124.7518,-274.1282 102.9986,-300.7854\"/>\n</g>\n<!-- 20&#45;&#45;11 -->\n<g id=\"edge163\" class=\"edge\">\n<title>20&#45;&#45;11</title>\n<path fill=\"none\" stroke=\"#c0c0c0\" d=\"M204.2992,-151.5144C165.2157,-148.3618 76.9576,-141.2427 38.0427,-138.1036\"/>\n</g>\n<!-- 20&#45;&#45;12 -->\n<g id=\"edge168\" class=\"edge\">\n<title>20&#45;&#45;12</title>\n<path fill=\"none\" stroke=\"#c0c0c0\" d=\"M204.5318,-159.4102C166.0189,-172.2617 79.1726,-201.2418 40.5789,-214.1202\"/>\n</g>\n<!-- 20&#45;&#45;13 -->\n<g id=\"edge174\" class=\"edge\">\n<title>20&#45;&#45;13</title>\n<path fill=\"none\" stroke=\"#c0c0c0\" d=\"M223.9926,-160.6705C225.7842,-190.901 232.3932,-302.4218 234.2165,-333.1892\"/>\n</g>\n<!-- 20&#45;&#45;14 -->\n<g id=\"edge179\" class=\"edge\">\n<title>20&#45;&#45;14</title>\n<path fill=\"none\" stroke=\"#c0c0c0\" d=\"M239.9737,-160.7365C260.4266,-170.2835 295.1401,-186.487 315.4997,-195.9903\"/>\n</g>\n<!-- 20&#45;&#45;15 -->\n<g id=\"edge186\" class=\"edge\">\n<title>20&#45;&#45;15</title>\n<path fill=\"none\" stroke=\"#c0c0c0\" d=\"M234.8834,-160.669C258.2953,-176.3626 311.7343,-212.1839 335.1227,-227.8618\"/>\n</g>\n<!-- 20&#45;&#45;16 -->\n<g id=\"edge191\" class=\"edge\">\n<title>20&#45;&#45;16</title>\n<path fill=\"none\" stroke=\"#c0c0c0\" d=\"M242.8156,-149.982C271.5739,-145.3795 325.4001,-136.7649 354.1154,-132.1692\"/>\n</g>\n<!-- 20&#45;&#45;17 -->\n<g id=\"edge196\" class=\"edge\">\n<title>20&#45;&#45;17</title>\n<path fill=\"none\" stroke=\"#c0c0c0\" d=\"M226.4758,-160.77C237.2016,-188.9333 274.2214,-286.138 284.9753,-314.3752\"/>\n</g>\n<!-- 20&#45;&#45;18 -->\n<g id=\"edge200\" class=\"edge\">\n<title>20&#45;&#45;18</title>\n<path fill=\"none\" stroke=\"#c0c0c0\" d=\"M222.1965,-160.5791C217.6782,-185.8065 203.077,-267.331 198.5159,-292.7972\"/>\n</g>\n<!-- 2&#45;&#45;1 -->\n<g id=\"edge15\" class=\"edge\">\n<title>2&#45;&#45;1</title>\n<path fill=\"none\" stroke=\"#c0c0c0\" d=\"M361.4754,-179.1567C335.4538,-178.4889 289.0416,-177.2977 262.8747,-176.6262\"/>\n</g>\n<!-- 21 -->\n<g id=\"node6\" class=\"node\">\n<title>21</title>\n<polygon fill=\"none\" stroke=\"#000000\" points=\"296.1987,-263.0262 258.1987,-263.0262 258.1987,-248.0262 296.1987,-248.0262 296.1987,-263.0262\"/>\n<text text-anchor=\"middle\" x=\"277.1987\" y=\"-251.8262\" font-family=\"Times,serif\" font-size=\"14.00\" fill=\"#000000\">对(方)</text>\n</g>\n<!-- 21&#45;&#45;19 -->\n<g id=\"edge206\" class=\"edge\">\n<title>21&#45;&#45;19</title>\n<path fill=\"none\" stroke=\"#c0c0c0\" d=\"M268.6283,-247.9264C256.8524,-237.4842 235.7967,-218.8133 224.0591,-208.405\"/>\n</g>\n<!-- 21&#45;&#45;1 -->\n<g id=\"edge34\" class=\"edge\">\n<title>21&#45;&#45;1</title>\n<path fill=\"none\" stroke=\"#c0c0c0\" d=\"M273.9723,-247.9134C267.5899,-232.854 253.4097,-199.3954 246.9155,-184.0722\"/>\n</g>\n<!-- 21&#45;&#45;20 -->\n<g id=\"edge223\" class=\"edge\">\n<title>21&#45;&#45;20</title>\n<path fill=\"none\" stroke=\"#c0c0c0\" d=\"M273.1657,-247.8251C263.1732,-228.7439 237.3631,-179.4585 227.476,-160.5787\"/>\n</g>\n<!-- 21&#45;&#45;2 -->\n<g id=\"edge56\" class=\"edge\">\n<title>21&#45;&#45;2</title>\n<path fill=\"none\" stroke=\"#c0c0c0\" d=\"M287.4833,-247.973C307.2881,-233.4282 350.5057,-201.6887 370.2776,-187.168\"/>\n</g>\n<!-- 21&#45;&#45;3 -->\n<g id=\"edge76\" class=\"edge\">\n<title>21&#45;&#45;3</title>\n<path fill=\"none\" stroke=\"#c0c0c0\" d=\"M269.2696,-247.7961C254.0007,-232.9105 220.6813,-200.4273 205.4377,-185.5664\"/>\n</g>\n<!-- 21&#45;&#45;6 -->\n<g id=\"edge122\" class=\"edge\">\n<title>21&#45;&#45;6</title>\n<path fill=\"none\" stroke=\"#c0c0c0\" d=\"M269.7231,-247.9754C249.854,-227.9065 195.8937,-173.4034 175.9649,-153.2743\"/>\n</g>\n<!-- 3&#45;&#45;0 -->\n<g id=\"edge2\" class=\"edge\">\n<title>3&#45;&#45;0</title>\n<path fill=\"none\" stroke=\"#c0c0c0\" d=\"M180.6586,-170.3294C157.9933,-160.209 117.9426,-142.3257 95.1244,-132.137\"/>\n</g>\n<!-- 3&#45;&#45;1 -->\n<g id=\"edge16\" class=\"edge\">\n<title>3&#45;&#45;1</title>\n<path fill=\"none\" stroke=\"#c0c0c0\" d=\"M216.786,-177.1409C219.347,-177.0442 221.9718,-176.945 224.5288,-176.8485\"/>\n</g>\n<!-- 3&#45;&#45;2 -->\n<g id=\"edge51\" class=\"edge\">\n<title>3&#45;&#45;2</title>\n<path fill=\"none\" stroke=\"#c0c0c0\" d=\"M216.7769,-178.0545C251.9197,-178.3959 326.1124,-179.1168 361.2676,-179.4584\"/>\n</g>\n<!-- 22 -->\n<g id=\"node8\" class=\"node\">\n<title>22</title>\n<polygon fill=\"none\" stroke=\"#000000\" points=\"170.5294,-176.177 132.5294,-176.177 132.5294,-161.177 170.5294,-161.177 170.5294,-176.177\"/>\n<text text-anchor=\"middle\" x=\"151.5294\" y=\"-164.977\" font-family=\"Times,serif\" font-size=\"14.00\" fill=\"#000000\">方(法)</text>\n</g>\n<!-- 22&#45;&#45;0 -->\n<g id=\"edge12\" class=\"edge\">\n<title>22&#45;&#45;0</title>\n<path fill=\"none\" stroke=\"#c0c0c0\" d=\"M139.0461,-161.1769C125.5961,-153.096 104.3013,-140.3019 90.7328,-132.1498\"/>\n</g>\n<!-- 22&#45;&#45;19 -->\n<g id=\"edge207\" class=\"edge\">\n<title>22&#45;&#45;19</title>\n<path fill=\"none\" stroke=\"#c0c0c0\" d=\"M166.7041,-176.3063C176.9114,-181.4381 190.3113,-188.175 200.4957,-193.2954\"/>\n</g>\n<!-- 22&#45;&#45;1 -->\n<g id=\"edge35\" class=\"edge\">\n<title>22&#45;&#45;1</title>\n<path fill=\"none\" stroke=\"#c0c0c0\" d=\"M170.596,-170.2213C186.389,-171.5005 208.7212,-173.3093 224.5074,-174.5879\"/>\n</g>\n<!-- 22&#45;&#45;20 -->\n<g id=\"edge224\" class=\"edge\">\n<title>22&#45;&#45;20</title>\n<path fill=\"none\" stroke=\"#c0c0c0\" d=\"M170.8274,-164.4937C181.1597,-162.254 193.8504,-159.503 204.1907,-157.2615\"/>\n</g>\n<!-- 22&#45;&#45;2 -->\n<g id=\"edge57\" class=\"edge\">\n<title>22&#45;&#45;2</title>\n<path fill=\"none\" stroke=\"#c0c0c0\" d=\"M170.6592,-169.5933C213.7633,-171.658 318.0794,-176.6546 361.2843,-178.724\"/>\n</g>\n<!-- 22&#45;&#45;21 -->\n<g id=\"edge240\" class=\"edge\">\n<title>22&#45;&#45;21</title>\n<path fill=\"none\" stroke=\"#c0c0c0\" d=\"M162.6817,-176.3843C186.5897,-192.9069 242.5266,-231.5646 266.2508,-247.9602\"/>\n</g>\n<!-- 22&#45;&#45;3 -->\n<g id=\"edge77\" class=\"edge\">\n<title>22&#45;&#45;3</title>\n<path fill=\"none\" stroke=\"#c0c0c0\" d=\"M170.7757,-172.5214C173.3368,-173.0329 175.9617,-173.5573 178.5189,-174.0681\"/>\n</g>\n<!-- 22&#45;&#45;4 -->\n<g id=\"edge97\" class=\"edge\">\n<title>22&#45;&#45;4</title>\n<path fill=\"none\" stroke=\"#c0c0c0\" d=\"M156.2464,-161.1689C172.0863,-135.9561 223.2745,-54.4788 239.2644,-29.0273\"/>\n</g>\n<!-- 22&#45;&#45;5 -->\n<g id=\"edge105\" class=\"edge\">\n<title>22&#45;&#45;5</title>\n<path fill=\"none\" stroke=\"#c0c0c0\" d=\"M169.1196,-161.1496C203.5379,-146.4208 279.4261,-113.9455 313.9017,-99.1923\"/>\n</g>\n<!-- 22&#45;&#45;6 -->\n<g id=\"edge123\" class=\"edge\">\n<title>22&#45;&#45;6</title>\n<path fill=\"none\" stroke=\"#c0c0c0\" d=\"M157.0656,-161.1439C158.9147,-158.6277 160.9761,-155.8228 162.8305,-153.2994\"/>\n</g>\n<!-- 22&#45;&#45;7 -->\n<g id=\"edge141\" class=\"edge\">\n<title>22&#45;&#45;7</title>\n<path fill=\"none\" stroke=\"#c0c0c0\" d=\"M161.4847,-161.1298C192.2818,-137.7825 285.8045,-66.8826 317.0431,-43.2005\"/>\n</g>\n<!-- 22&#45;&#45;8 -->\n<g id=\"edge148\" class=\"edge\">\n<title>22&#45;&#45;8</title>\n<path fill=\"none\" stroke=\"#c0c0c0\" d=\"M149.0119,-161.1108C144.3398,-147.0688 134.3771,-117.1262 129.6878,-103.0325\"/>\n</g>\n<!-- 22&#45;&#45;9 -->\n<g id=\"edge154\" class=\"edge\">\n<title>22&#45;&#45;9</title>\n<path fill=\"none\" stroke=\"#c0c0c0\" d=\"M149.7811,-160.9125C143.6435,-133.6548 123.1224,-42.5178 117.0124,-15.3821\"/>\n</g>\n<!-- 22&#45;&#45;10 -->\n<g id=\"edge159\" class=\"edge\">\n<title>22&#45;&#45;10</title>\n<path fill=\"none\" stroke=\"#c0c0c0\" d=\"M148.5783,-176.1987C139.0478,-200.4899 109.1573,-276.6741 99.606,-301.0182\"/>\n</g>\n<!-- 22&#45;&#45;11 -->\n<g id=\"edge164\" class=\"edge\">\n<title>22&#45;&#45;11</title>\n<path fill=\"none\" stroke=\"#c0c0c0\" d=\"M132.2585,-164.008C107.1318,-157.9203 63.4323,-147.3327 38.2942,-141.2422\"/>\n</g>\n<!-- 22&#45;&#45;12 -->\n<g id=\"edge169\" class=\"edge\">\n<title>22&#45;&#45;12</title>\n<path fill=\"none\" stroke=\"#c0c0c0\" d=\"M132.6179,-176.212C107.9599,-186.0365 65.0755,-203.1231 40.4063,-212.9521\"/>\n</g>\n<!-- 22&#45;&#45;13 -->\n<g id=\"edge175\" class=\"edge\">\n<title>22&#45;&#45;13</title>\n<path fill=\"none\" stroke=\"#c0c0c0\" d=\"M155.3185,-176.5335C169.235,-205.3887 217.4239,-305.3059 231.0627,-333.5854\"/>\n</g>\n<!-- 22&#45;&#45;14 -->\n<g id=\"edge180\" class=\"edge\">\n<title>22&#45;&#45;14</title>\n<path fill=\"none\" stroke=\"#c0c0c0\" d=\"M170.8142,-172.4109C205.498,-179.1262 278.0026,-193.1642 312.5854,-199.86\"/>\n</g>\n<!-- 22&#45;&#45;15 -->\n<g id=\"edge187\" class=\"edge\">\n<title>22&#45;&#45;15</title>\n<path fill=\"none\" stroke=\"#c0c0c0\" d=\"M170.5728,-175.2007C207.8345,-187.9653 289.9922,-216.1098 327.316,-228.8956\"/>\n</g>\n<!-- 22&#45;&#45;16 -->\n<g id=\"edge192\" class=\"edge\">\n<title>22&#45;&#45;16</title>\n<path fill=\"none\" stroke=\"#c0c0c0\" d=\"M170.8234,-165.2337C212.8736,-157.7294 312.3585,-139.975 354.2235,-132.5036\"/>\n</g>\n<!-- 22&#45;&#45;17 -->\n<g id=\"edge197\" class=\"edge\">\n<title>22&#45;&#45;17</title>\n<path fill=\"none\" stroke=\"#c0c0c0\" d=\"M158.4808,-176.4974C181.9329,-202.881 257.9636,-288.4157 281.1507,-314.5012\"/>\n</g>\n<!-- 22&#45;&#45;18 -->\n<g id=\"edge201\" class=\"edge\">\n<title>22&#45;&#45;18</title>\n<path fill=\"none\" stroke=\"#c0c0c0\" d=\"M154.246,-176.5267C162.3777,-200.0229 186.4586,-269.6036 194.4962,-292.8279\"/>\n</g>\n<!-- 4&#45;&#45;0 -->\n<g id=\"edge3\" class=\"edge\">\n<title>4&#45;&#45;0</title>\n<path fill=\"none\" stroke=\"#c0c0c0\" d=\"M231.8661,-28.9393C201.1414,-48.0069 120.9196,-97.792 90.1757,-116.8715\"/>\n</g>\n<!-- 4&#45;&#45;1 -->\n<g id=\"edge17\" class=\"edge\">\n<title>4&#45;&#45;1</title>\n<path fill=\"none\" stroke=\"#c0c0c0\" d=\"M244.0557,-29.2456C243.964,-55.8572 243.6668,-142.131 243.5761,-168.4418\"/>\n</g>\n<!-- 4&#45;&#45;3 -->\n<g id=\"edge59\" class=\"edge\">\n<title>4&#45;&#45;3</title>\n<path fill=\"none\" stroke=\"#c0c0c0\" d=\"M241.8381,-28.9064C233.9937,-55.2849 207.8508,-143.1972 199.8726,-170.0258\"/>\n</g>\n<!-- 23 -->\n<g id=\"node10\" class=\"node\">\n<title>23</title>\n<polygon fill=\"none\" stroke=\"#000000\" points=\"342.8445,-287.2477 304.8445,-287.2477 304.8445,-272.2477 342.8445,-272.2477 342.8445,-287.2477\"/>\n<text text-anchor=\"middle\" x=\"323.8445\" y=\"-276.0477\" font-family=\"Times,serif\" font-size=\"14.00\" fill=\"#000000\">地(方)</text>\n</g>\n<!-- 23&#45;&#45;19 -->\n<g id=\"edge208\" class=\"edge\">\n<title>23&#45;&#45;19</title>\n<path fill=\"none\" stroke=\"#c0c0c0\" d=\"M313.4619,-272.1846C292.8175,-257.1464 246.8203,-223.64 226.0718,-208.526\"/>\n</g>\n<!-- 23&#45;&#45;1 -->\n<g id=\"edge36\" class=\"edge\">\n<title>23&#45;&#45;1</title>\n<path fill=\"none\" stroke=\"#c0c0c0\" d=\"M317.8093,-271.9596C302.856,-252.6628 264.2323,-202.8204 249.4366,-183.7272\"/>\n</g>\n<!-- 23&#45;&#45;20 -->\n<g id=\"edge225\" class=\"edge\">\n<title>23&#45;&#45;20</title>\n<path fill=\"none\" stroke=\"#c0c0c0\" d=\"M317.8705,-272.2026C300.0729,-249.7244 247.5328,-183.3667 229.6115,-160.7324\"/>\n</g>\n<!-- 23&#45;&#45;21 -->\n<g id=\"edge241\" class=\"edge\">\n<title>23&#45;&#45;21</title>\n<path fill=\"none\" stroke=\"#c0c0c0\" d=\"M309.3412,-272.2166C303.7784,-269.3281 297.4306,-266.0319 291.8537,-263.136\"/>\n</g>\n<!-- 23&#45;&#45;3 -->\n<g id=\"edge78\" class=\"edge\">\n<title>23&#45;&#45;3</title>\n<path fill=\"none\" stroke=\"#c0c0c0\" d=\"M314.3512,-272.0901C290.9443,-253.2095 230.6663,-204.5876 207.1441,-185.614\"/>\n</g>\n<!-- 23&#45;&#45;22 -->\n<g id=\"edge247\" class=\"edge\">\n<title>23&#45;&#45;22</title>\n<path fill=\"none\" stroke=\"#c0c0c0\" d=\"M312.0006,-272.1134C280.5213,-251.8225 195.03,-196.7166 163.4562,-176.3648\"/>\n</g>\n<!-- 23&#45;&#45;6 -->\n<g id=\"edge124\" class=\"edge\">\n<title>23&#45;&#45;6</title>\n<path fill=\"none\" stroke=\"#c0c0c0\" d=\"M315.0439,-272.155C287.6904,-248.556 204.3624,-176.6651 177.1411,-153.1801\"/>\n</g>\n<!-- 5&#45;&#45;1 -->\n<g id=\"edge18\" class=\"edge\">\n<title>5&#45;&#45;1</title>\n<path fill=\"none\" stroke=\"#c0c0c0\" d=\"M323.4409,-99.432C306.5889,-115.6105 268.0134,-152.6442 251.3989,-168.5947\"/>\n</g>\n<!-- 5&#45;&#45;2 -->\n<g id=\"edge52\" class=\"edge\">\n<title>5&#45;&#45;2</title>\n<path fill=\"none\" stroke=\"#c0c0c0\" d=\"M335.7374,-99.138C344.9405,-115.6827 366.8966,-155.1532 376.2176,-171.9098\"/>\n</g>\n<!-- 5&#45;&#45;3 -->\n<g id=\"edge60\" class=\"edge\">\n<title>5&#45;&#45;3</title>\n<path fill=\"none\" stroke=\"#c0c0c0\" d=\"M319.6697,-99.2869C294.1725,-115.6923 234.5174,-154.0759 209.2163,-170.3552\"/>\n</g>\n<!-- 5&#45;&#45;4 -->\n<g id=\"edge93\" class=\"edge\">\n<title>5&#45;&#45;4</title>\n<path fill=\"none\" stroke=\"#c0c0c0\" d=\"M322.2014,-84.1134C305.452,-70.658 270.534,-42.6069 253.6427,-29.0374\"/>\n</g>\n<!-- 24 -->\n<g id=\"node12\" class=\"node\">\n<title>24</title>\n<polygon fill=\"none\" stroke=\"#000000\" points=\"252.1506,-122.5027 214.1506,-122.5027 214.1506,-107.5027 252.1506,-107.5027 252.1506,-122.5027\"/>\n<text text-anchor=\"middle\" x=\"233.1506\" y=\"-111.3027\" font-family=\"Times,serif\" font-size=\"14.00\" fill=\"#000000\">双(方)</text>\n</g>\n<!-- 24&#45;&#45;0 -->\n<g id=\"edge13\" class=\"edge\">\n<title>24&#45;&#45;0</title>\n<path fill=\"none\" stroke=\"#c0c0c0\" d=\"M214.1188,-116.1629C184.3299,-117.9788 127.0129,-121.4729 97.1284,-123.2946\"/>\n</g>\n<!-- 24&#45;&#45;19 -->\n<g id=\"edge209\" class=\"edge\">\n<title>24&#45;&#45;19</title>\n<path fill=\"none\" stroke=\"#c0c0c0\" d=\"M231.5897,-122.6228C228.2603,-138.8766 220.4929,-176.7956 217.1442,-193.1434\"/>\n</g>\n<!-- 24&#45;&#45;1 -->\n<g id=\"edge37\" class=\"edge\">\n<title>24&#45;&#45;1</title>\n<path fill=\"none\" stroke=\"#c0c0c0\" d=\"M234.4676,-122.7445C236.457,-134.4384 240.2081,-156.4879 242.2104,-168.2582\"/>\n</g>\n<!-- 24&#45;&#45;20 -->\n<g id=\"edge226\" class=\"edge\">\n<title>24&#45;&#45;20</title>\n<path fill=\"none\" stroke=\"#c0c0c0\" d=\"M231.2061,-122.7055C229.5391,-129.3094 227.1498,-138.7747 225.4836,-145.3753\"/>\n</g>\n<!-- 24&#45;&#45;2 -->\n<g id=\"edge58\" class=\"edge\">\n<title>24&#45;&#45;2</title>\n<path fill=\"none\" stroke=\"#c0c0c0\" d=\"M250.3442,-122.5445C278.5891,-134.9339 334.5099,-159.4632 362.9798,-171.9512\"/>\n</g>\n<!-- 24&#45;&#45;21 -->\n<g id=\"edge242\" class=\"edge\">\n<title>24&#45;&#45;21</title>\n<path fill=\"none\" stroke=\"#c0c0c0\" d=\"M235.5188,-122.5578C243.167,-146.9573 267.1539,-223.4811 274.8188,-247.9337\"/>\n</g>\n<!-- 24&#45;&#45;3 -->\n<g id=\"edge79\" class=\"edge\">\n<title>24&#45;&#45;3</title>\n<path fill=\"none\" stroke=\"#c0c0c0\" d=\"M228.7841,-122.7112C221.9496,-134.7766 208.7993,-157.9919 201.9429,-170.096\"/>\n</g>\n<!-- 24&#45;&#45;22 -->\n<g id=\"edge248\" class=\"edge\">\n<title>24&#45;&#45;22</title>\n<path fill=\"none\" stroke=\"#c0c0c0\" d=\"M221.4563,-122.6929C205.8519,-132.9544 178.3974,-151.0085 162.9389,-161.1741\"/>\n</g>\n<!-- 24&#45;&#45;23 -->\n<g id=\"edge262\" class=\"edge\">\n<title>24&#45;&#45;23</title>\n<path fill=\"none\" stroke=\"#c0c0c0\" d=\"M237.2832,-122.5095C252.3919,-149.9545 304.5393,-244.6799 319.6876,-272.1968\"/>\n</g>\n<!-- 24&#45;&#45;5 -->\n<g id=\"edge106\" class=\"edge\">\n<title>24&#45;&#45;5</title>\n<path fill=\"none\" stroke=\"#c0c0c0\" d=\"M252.5938,-110.3858C269.9589,-106.2624 295.2456,-100.258 312.4954,-96.162\"/>\n</g>\n<!-- 24&#45;&#45;6 -->\n<g id=\"edge125\" class=\"edge\">\n<title>24&#45;&#45;6</title>\n<path fill=\"none\" stroke=\"#c0c0c0\" d=\"M217.154,-122.5835C207.2728,-127.2662 194.6292,-133.2581 184.6991,-137.964\"/>\n</g>\n<!-- 24&#45;&#45;7 -->\n<g id=\"edge142\" class=\"edge\">\n<title>24&#45;&#45;7</title>\n<path fill=\"none\" stroke=\"#c0c0c0\" d=\"M242.1806,-107.3704C260.1356,-92.1948 300.1406,-58.3824 318.1861,-43.1302\"/>\n</g>\n<!-- 24&#45;&#45;8 -->\n<g id=\"edge149\" class=\"edge\">\n<title>24&#45;&#45;8</title>\n<path fill=\"none\" stroke=\"#c0c0c0\" d=\"M213.708,-111.4068C194.5816,-107.8695 165.5505,-102.5002 146.4668,-98.9708\"/>\n</g>\n<!-- 24&#45;&#45;9 -->\n<g id=\"edge155\" class=\"edge\">\n<title>24&#45;&#45;9</title>\n<path fill=\"none\" stroke=\"#c0c0c0\" d=\"M224.6737,-107.2854C202.926,-87.4864 145.3447,-35.0648 123.6816,-15.3429\"/>\n</g>\n<!-- 24&#45;&#45;14 -->\n<g id=\"edge181\" class=\"edge\">\n<title>24&#45;&#45;14</title>\n<path fill=\"none\" stroke=\"#c0c0c0\" d=\"M241.5555,-122.5536C260.1802,-139.2859 304.7429,-179.3206 323.3478,-196.0351\"/>\n</g>\n<!-- 24&#45;&#45;15 -->\n<g id=\"edge188\" class=\"edge\">\n<title>24&#45;&#45;15</title>\n<path fill=\"none\" stroke=\"#c0c0c0\" d=\"M240.2371,-122.5369C260.5818,-144.1669 319.0115,-206.288 339.3528,-227.9143\"/>\n</g>\n<!-- 6&#45;&#45;0 -->\n<g id=\"edge4\" class=\"edge\">\n<title>6&#45;&#45;0</title>\n<path fill=\"none\" stroke=\"#c0c0c0\" d=\"M149.2451,-141.1733C133.8876,-137.5745 112.4553,-132.5522 97.1052,-128.9551\"/>\n</g>\n<!-- 6&#45;&#45;1 -->\n<g id=\"edge19\" class=\"edge\">\n<title>6&#45;&#45;1</title>\n<path fill=\"none\" stroke=\"#c0c0c0\" d=\"M187.0042,-153.2C198.5601,-157.8861 213.371,-163.8922 224.9357,-168.582\"/>\n</g>\n<!-- 6&#45;&#45;2 -->\n<g id=\"edge53\" class=\"edge\">\n<title>6&#45;&#45;2</title>\n<path fill=\"none\" stroke=\"#c0c0c0\" d=\"M187.6321,-148.7456C227.9084,-155.1977 320.8446,-170.0856 361.2162,-176.5529\"/>\n</g>\n<!-- 6&#45;&#45;3 -->\n<g id=\"edge61\" class=\"edge\">\n<title>6&#45;&#45;3</title>\n<path fill=\"none\" stroke=\"#c0c0c0\" d=\"M175.4822,-153.4646C180.058,-158.5268 185.9975,-165.0975 190.5604,-170.1454\"/>\n</g>\n<!-- 6&#45;&#45;4 -->\n<g id=\"edge94\" class=\"edge\">\n<title>6&#45;&#45;4</title>\n<path fill=\"none\" stroke=\"#c0c0c0\" d=\"M173.169,-137.8943C186.754,-115.5693 225.77,-51.4523 239.3527,-29.131\"/>\n</g>\n<!-- 6&#45;&#45;5 -->\n<g id=\"edge99\" class=\"edge\">\n<title>6&#45;&#45;5</title>\n<path fill=\"none\" stroke=\"#c0c0c0\" d=\"M187.4689,-139.3662C218.8176,-128.9818 280.9662,-108.3948 312.4004,-97.982\"/>\n</g>\n<!-- 25 -->\n<g id=\"node14\" class=\"node\">\n<title>25</title>\n<polygon fill=\"none\" stroke=\"#000000\" points=\"187.4545,-222.5614 149.4545,-222.5614 149.4545,-207.5614 187.4545,-207.5614 187.4545,-222.5614\"/>\n<text text-anchor=\"middle\" x=\"168.4545\" y=\"-211.3614\" font-family=\"Times,serif\" font-size=\"14.00\" fill=\"#000000\">方(向)</text>\n</g>\n<!-- 25&#45;&#45;0 -->\n<g id=\"edge14\" class=\"edge\">\n<title>25&#45;&#45;0</title>\n<path fill=\"none\" stroke=\"#c0c0c0\" d=\"M160.7373,-207.3371C143.6368,-190.2208 102.7209,-149.2672 85.6385,-132.169\"/>\n</g>\n<!-- 25&#45;&#45;19 -->\n<g id=\"edge210\" class=\"edge\">\n<title>25&#45;&#45;19</title>\n<path fill=\"none\" stroke=\"#c0c0c0\" d=\"M187.6147,-209.2891C190.4676,-208.4297 193.4097,-207.5434 196.2654,-206.683\"/>\n</g>\n<!-- 25&#45;&#45;1 -->\n<g id=\"edge38\" class=\"edge\">\n<title>25&#45;&#45;1</title>\n<path fill=\"none\" stroke=\"#c0c0c0\" d=\"M182.9336,-207.5551C196.146,-200.7054 215.5804,-190.6302 228.8587,-183.7464\"/>\n</g>\n<!-- 25&#45;&#45;20 -->\n<g id=\"edge227\" class=\"edge\">\n<title>25&#45;&#45;20</title>\n<path fill=\"none\" stroke=\"#c0c0c0\" d=\"M175.2093,-207.4596C185.7821,-195.5611 206.1252,-172.6672 216.7319,-160.7306\"/>\n</g>\n<!-- 25&#45;&#45;21 -->\n<g id=\"edge243\" class=\"edge\">\n<title>25&#45;&#45;21</title>\n<path fill=\"none\" stroke=\"#c0c0c0\" d=\"M187.6454,-222.2025C207.4008,-229.5537 238.015,-240.9455 257.8338,-248.3203\"/>\n</g>\n<!-- 25&#45;&#45;3 -->\n<g id=\"edge80\" class=\"edge\">\n<title>25&#45;&#45;3</title>\n<path fill=\"none\" stroke=\"#c0c0c0\" d=\"M174.3405,-207.5347C179.3868,-201.0817 186.6196,-191.8328 191.6634,-185.3831\"/>\n</g>\n<!-- 25&#45;&#45;22 -->\n<g id=\"edge249\" class=\"edge\">\n<title>25&#45;&#45;22</title>\n<path fill=\"none\" stroke=\"#c0c0c0\" d=\"M165.6596,-207.4019C162.5049,-198.7562 157.4054,-184.7806 154.2722,-176.1939\"/>\n</g>\n<!-- 25&#45;&#45;4 -->\n<g id=\"edge98\" class=\"edge\">\n<title>25&#45;&#45;4</title>\n<path fill=\"none\" stroke=\"#c0c0c0\" d=\"M171.5128,-207.228C183.7273,-175.9437 228.9359,-60.1529 241.0693,-29.0762\"/>\n</g>\n<!-- 25&#45;&#45;23 -->\n<g id=\"edge263\" class=\"edge\">\n<title>25&#45;&#45;23</title>\n<path fill=\"none\" stroke=\"#c0c0c0\" d=\"M186.5838,-222.6083C216.3657,-235.0061 275.3298,-259.5518 305.349,-272.0483\"/>\n</g>\n<!-- 25&#45;&#45;5 -->\n<g id=\"edge107\" class=\"edge\">\n<title>25&#45;&#45;5</title>\n<path fill=\"none\" stroke=\"#c0c0c0\" d=\"M178.6576,-207.3405C207.9498,-185.1746 292.0766,-121.5144 321.364,-99.3522\"/>\n</g>\n<!-- 25&#45;&#45;24 -->\n<g id=\"edge264\" class=\"edge\">\n<title>25&#45;&#45;24</title>\n<path fill=\"none\" stroke=\"#c0c0c0\" d=\"M173.3172,-207.5407C185.3068,-188.9976 216.1828,-141.245 228.2314,-122.6106\"/>\n</g>\n<!-- 25&#45;&#45;6 -->\n<g id=\"edge126\" class=\"edge\">\n<title>25&#45;&#45;6</title>\n<path fill=\"none\" stroke=\"#c0c0c0\" d=\"M168.4525,-207.3702C168.4491,-193.9613 168.4422,-166.4695 168.4389,-153.1853\"/>\n</g>\n<!-- 25&#45;&#45;8 -->\n<g id=\"edge150\" class=\"edge\">\n<title>25&#45;&#45;8</title>\n<path fill=\"none\" stroke=\"#c0c0c0\" d=\"M165.7442,-207.2099C158.2417,-185.4756 137.2639,-124.7043 129.814,-103.1225\"/>\n</g>\n<!-- 25&#45;&#45;11 -->\n<g id=\"edge165\" class=\"edge\">\n<title>25&#45;&#45;11</title>\n<path fill=\"none\" stroke=\"#c0c0c0\" d=\"M154.1241,-207.5351C125.6303,-192.5701 62.1439,-159.2269 33.5065,-144.1865\"/>\n</g>\n<!-- 25&#45;&#45;12 -->\n<g id=\"edge170\" class=\"edge\">\n<title>25&#45;&#45;12</title>\n<path fill=\"none\" stroke=\"#c0c0c0\" d=\"M149.2391,-215.7719C121.07,-216.8134 68.8638,-218.7438 40.6921,-219.7854\"/>\n</g>\n<!-- 25&#45;&#45;13 -->\n<g id=\"edge176\" class=\"edge\">\n<title>25&#45;&#45;13</title>\n<path fill=\"none\" stroke=\"#c0c0c0\" d=\"M172.3991,-222.568C184.151,-244.9315 218.8438,-310.9507 230.6774,-333.4696\"/>\n</g>\n<!-- 25&#45;&#45;14 -->\n<g id=\"edge182\" class=\"edge\">\n<title>25&#45;&#45;14</title>\n<path fill=\"none\" stroke=\"#c0c0c0\" d=\"M187.504,-213.7203C218.8816,-211.5114 281.0877,-207.1322 312.5509,-204.9172\"/>\n</g>\n<!-- 25&#45;&#45;15 -->\n<g id=\"edge189\" class=\"edge\">\n<title>25&#45;&#45;15</title>\n<path fill=\"none\" stroke=\"#c0c0c0\" d=\"M187.5017,-217.2429C221.6686,-221.156 292.995,-229.3251 327.2574,-233.2491\"/>\n</g>\n<!-- 25&#45;&#45;16 -->\n<g id=\"edge193\" class=\"edge\">\n<title>25&#45;&#45;16</title>\n<path fill=\"none\" stroke=\"#c0c0c0\" d=\"M186.6345,-207.4326C225.5103,-191.1192 316.3363,-153.0063 355.1757,-136.7082\"/>\n</g>\n<!-- 25&#45;&#45;17 -->\n<g id=\"edge198\" class=\"edge\">\n<title>25&#45;&#45;17</title>\n<path fill=\"none\" stroke=\"#c0c0c0\" d=\"M177.0466,-222.761C199.09,-242.5148 257.4543,-294.8169 279.412,-314.4938\"/>\n</g>\n<!-- 25&#45;&#45;18 -->\n<g id=\"edge202\" class=\"edge\">\n<title>25&#45;&#45;18</title>\n<path fill=\"none\" stroke=\"#c0c0c0\" d=\"M171.0002,-222.6409C176.4304,-238.8081 189.0986,-276.5252 194.5601,-292.786\"/>\n</g>\n<!-- 7&#45;&#45;1 -->\n<g id=\"edge20\" class=\"edge\">\n<title>7&#45;&#45;1</title>\n<path fill=\"none\" stroke=\"#c0c0c0\" d=\"M322.8229,-42.9702C308.2764,-67.4049 262.6543,-144.0389 248.0761,-168.5268\"/>\n</g>\n<!-- 7&#45;&#45;3 -->\n<g id=\"edge62\" class=\"edge\">\n<title>7&#45;&#45;3</title>\n<path fill=\"none\" stroke=\"#c0c0c0\" d=\"M320.3493,-43.0636C297.8141,-67.7999 227.1373,-145.3801 204.5531,-170.1702\"/>\n</g>\n<!-- 7&#45;&#45;5 -->\n<g id=\"edge100\" class=\"edge\">\n<title>7&#45;&#45;5</title>\n<path fill=\"none\" stroke=\"#c0c0c0\" d=\"M327.9162,-43.2227C328.7255,-53.9656 330.1726,-73.1742 330.9793,-83.8821\"/>\n</g>\n<!-- 7&#45;&#45;6 -->\n<g id=\"edge108\" class=\"edge\">\n<title>7&#45;&#45;6</title>\n<path fill=\"none\" stroke=\"#c0c0c0\" d=\"M316.406,-42.9832C287.3793,-63.1272 208.5485,-117.834 179.4346,-138.0385\"/>\n</g>\n<!-- 26 -->\n<g id=\"node16\" class=\"node\">\n<title>26</title>\n<polygon fill=\"none\" stroke=\"#000000\" points=\"346.2976,-149.407 308.2976,-149.407 308.2976,-134.407 346.2976,-134.407 346.2976,-149.407\"/>\n<text text-anchor=\"middle\" x=\"327.2976\" y=\"-138.207\" font-family=\"Times,serif\" font-size=\"14.00\" fill=\"#000000\">官(方)</text>\n</g>\n<!-- 26&#45;&#45;19 -->\n<g id=\"edge211\" class=\"edge\">\n<title>26&#45;&#45;19</title>\n<path fill=\"none\" stroke=\"#c0c0c0\" d=\"M312.6901,-149.6154C291.1576,-160.978 251.1497,-182.0901 229.8194,-193.346\"/>\n</g>\n<!-- 26&#45;&#45;1 -->\n<g id=\"edge39\" class=\"edge\">\n<title>26&#45;&#45;1</title>\n<path fill=\"none\" stroke=\"#c0c0c0\" d=\"M308.7112,-149.5023C294.8327,-155.1736 275.95,-162.89 262.0841,-168.5562\"/>\n</g>\n<!-- 26&#45;&#45;20 -->\n<g id=\"edge228\" class=\"edge\">\n<title>26&#45;&#45;20</title>\n<path fill=\"none\" stroke=\"#c0c0c0\" d=\"M308.2672,-143.9539C289.6634,-145.9548 261.4856,-148.9855 242.8031,-150.995\"/>\n</g>\n<!-- 26&#45;&#45;21 -->\n<g id=\"edge244\" class=\"edge\">\n<title>26&#45;&#45;21</title>\n<path fill=\"none\" stroke=\"#c0c0c0\" d=\"M323.8541,-149.7165C314.6576,-170.5732 289.6056,-227.3887 280.5344,-247.9612\"/>\n</g>\n<!-- 26&#45;&#45;3 -->\n<g id=\"edge81\" class=\"edge\">\n<title>26&#45;&#45;3</title>\n<path fill=\"none\" stroke=\"#c0c0c0\" d=\"M308.1515,-147.2131C283.6188,-154.0121 241.3358,-165.7303 216.7653,-172.5397\"/>\n</g>\n<!-- 26&#45;&#45;22 -->\n<g id=\"edge250\" class=\"edge\">\n<title>26&#45;&#45;22</title>\n<path fill=\"none\" stroke=\"#c0c0c0\" d=\"M308.1527,-144.8228C274.3422,-149.9723 204.4444,-160.6179 170.6506,-165.7648\"/>\n</g>\n<!-- 26&#45;&#45;24 -->\n<g id=\"edge265\" class=\"edge\">\n<title>26&#45;&#45;24</title>\n<path fill=\"none\" stroke=\"#c0c0c0\" d=\"M308.2455,-136.4625C291.9115,-131.7948 268.5002,-125.1045 252.1743,-120.4391\"/>\n</g>\n<!-- 26&#45;&#45;6 -->\n<g id=\"edge127\" class=\"edge\">\n<title>26&#45;&#45;6</title>\n<path fill=\"none\" stroke=\"#c0c0c0\" d=\"M308.1353,-142.361C277.6016,-143.0844 218.2437,-144.4906 187.6672,-145.215\"/>\n</g>\n<!-- 26&#45;&#45;25 -->\n<g id=\"edge274\" class=\"edge\">\n<title>26&#45;&#45;25</title>\n<path fill=\"none\" stroke=\"#c0c0c0\" d=\"M310.8969,-149.4603C280.4588,-163.4784 215.554,-193.37 185.0039,-207.4396\"/>\n</g>\n<!-- 26&#45;&#45;7 -->\n<g id=\"edge143\" class=\"edge\">\n<title>26&#45;&#45;7</title>\n<path fill=\"none\" stroke=\"#c0c0c0\" d=\"M327.2997,-134.2476C327.3052,-114.597 327.3196,-62.5683 327.3251,-42.9942\"/>\n</g>\n<!-- 26&#45;&#45;14 -->\n<g id=\"edge183\" class=\"edge\">\n<title>26&#45;&#45;14</title>\n<path fill=\"none\" stroke=\"#c0c0c0\" d=\"M327.8413,-149.4677C328.6923,-161.3019 330.3297,-184.0722 331.1834,-195.9444\"/>\n</g>\n<!-- 8&#45;&#45;0 -->\n<g id=\"edge5\" class=\"edge\">\n<title>8&#45;&#45;0</title>\n<path fill=\"none\" stroke=\"#c0c0c0\" d=\"M114.219,-103.0346C107.0434,-107.2733 98.143,-112.5308 90.9539,-116.7775\"/>\n</g>\n<!-- 8&#45;&#45;1 -->\n<g id=\"edge21\" class=\"edge\">\n<title>8&#45;&#45;1</title>\n<path fill=\"none\" stroke=\"#c0c0c0\" d=\"M138.3086,-103.1387C160.6147,-118.6094 210.455,-153.1769 232.5923,-168.5306\"/>\n</g>\n<!-- 8&#45;&#45;3 -->\n<g id=\"edge63\" class=\"edge\">\n<title>8&#45;&#45;3</title>\n<path fill=\"none\" stroke=\"#c0c0c0\" d=\"M133.6437,-103.0084C146.9858,-118.6395 177.3531,-154.2166 190.8548,-170.0347\"/>\n</g>\n<!-- 8&#45;&#45;6 -->\n<g id=\"edge109\" class=\"edge\">\n<title>8&#45;&#45;6</title>\n<path fill=\"none\" stroke=\"#c0c0c0\" d=\"M133.599,-103.2528C141.4012,-112.7526 154.4456,-128.6351 162.166,-138.0352\"/>\n</g>\n<!-- 27 -->\n<g id=\"node18\" class=\"node\">\n<title>27</title>\n<polygon fill=\"none\" stroke=\"#000000\" points=\"215.9301,-15 177.9301,-15 177.9301,0 215.9301,0 215.9301,-15\"/>\n<text text-anchor=\"middle\" x=\"196.9301\" y=\"-3.8\" font-family=\"Times,serif\" font-size=\"14.00\" fill=\"#000000\">方(便)</text>\n</g>\n<!-- 27&#45;&#45;19 -->\n<g id=\"edge212\" class=\"edge\">\n<title>27&#45;&#45;19</title>\n<path fill=\"none\" stroke=\"#c0c0c0\" d=\"M197.6835,-15.3198C200.6926,-46.5503 211.83,-162.1414 214.8191,-193.1646\"/>\n</g>\n<!-- 27&#45;&#45;1 -->\n<g id=\"edge40\" class=\"edge\">\n<title>27&#45;&#45;1</title>\n<path fill=\"none\" stroke=\"#c0c0c0\" d=\"M199.0544,-15.1839C206.8207,-43.2761 233.6261,-140.2354 241.4129,-168.4012\"/>\n</g>\n<!-- 27&#45;&#45;20 -->\n<g id=\"edge229\" class=\"edge\">\n<title>27&#45;&#45;20</title>\n<path fill=\"none\" stroke=\"#c0c0c0\" d=\"M198.3608,-15.3263C203.0031,-40.7195 217.6091,-120.6135 222.1684,-145.5532\"/>\n</g>\n<!-- 27&#45;&#45;3 -->\n<g id=\"edge82\" class=\"edge\">\n<title>27&#45;&#45;3</title>\n<path fill=\"none\" stroke=\"#c0c0c0\" d=\"M196.9579,-15.263C197.0596,-43.6447 197.4107,-141.6029 197.5127,-170.0589\"/>\n</g>\n<!-- 27&#45;&#45;22 -->\n<g id=\"edge251\" class=\"edge\">\n<title>27&#45;&#45;22</title>\n<path fill=\"none\" stroke=\"#c0c0c0\" d=\"M194.7403,-15.2739C187.0529,-42.5648 161.3501,-133.8125 153.6972,-160.9811\"/>\n</g>\n<!-- 27&#45;&#45;24 -->\n<g id=\"edge266\" class=\"edge\">\n<title>27&#45;&#45;24</title>\n<path fill=\"none\" stroke=\"#c0c0c0\" d=\"M199.535,-15.2313C206.2179,-35.0664 223.9123,-87.5835 230.5693,-107.3414\"/>\n</g>\n<!-- 27&#45;&#45;6 -->\n<g id=\"edge128\" class=\"edge\">\n<title>27&#45;&#45;6</title>\n<path fill=\"none\" stroke=\"#c0c0c0\" d=\"M195.3165,-15.3245C190.3014,-39.6441 175.0237,-113.7298 170.0328,-137.9319\"/>\n</g>\n<!-- 27&#45;&#45;25 -->\n<g id=\"edge275\" class=\"edge\">\n<title>27&#45;&#45;25</title>\n<path fill=\"none\" stroke=\"#c0c0c0\" d=\"M195.8486,-15.3832C191.338,-48.2614 174.0497,-174.2773 169.537,-207.1703\"/>\n</g>\n<!-- 27&#45;&#45;8 -->\n<g id=\"edge151\" class=\"edge\">\n<title>27&#45;&#45;8</title>\n<path fill=\"none\" stroke=\"#c0c0c0\" d=\"M190.7373,-15.3003C177.4615,-32.0224 146.4004,-71.1468 133.2267,-87.7403\"/>\n</g>\n<!-- 9&#45;&#45;0 -->\n<g id=\"edge6\" class=\"edge\">\n<title>9&#45;&#45;0</title>\n<path fill=\"none\" stroke=\"#c0c0c0\" d=\"M112.8316,-15.3571C106.0495,-36.5656 87.086,-95.8666 80.3515,-116.9264\"/>\n</g>\n<!-- 9&#45;&#45;1 -->\n<g id=\"edge22\" class=\"edge\">\n<title>9&#45;&#45;1</title>\n<path fill=\"none\" stroke=\"#c0c0c0\" d=\"M121.1263,-15.3705C142.4946,-43.4301 216.2463,-140.277 237.6706,-168.4102\"/>\n</g>\n<!-- 9&#45;&#45;3 -->\n<g id=\"edge64\" class=\"edge\">\n<title>9&#45;&#45;3</title>\n<path fill=\"none\" stroke=\"#c0c0c0\" d=\"M119.0299,-15.4497C132.7334,-43.7987 180.0309,-141.6445 193.7704,-170.0679\"/>\n</g>\n<!-- 9&#45;&#45;6 -->\n<g id=\"edge110\" class=\"edge\">\n<title>9&#45;&#45;6</title>\n<path fill=\"none\" stroke=\"#c0c0c0\" d=\"M118.2918,-15.509C127.6477,-39.7941 156.1491,-113.775 165.4598,-137.9428\"/>\n</g>\n<!-- 9&#45;&#45;8 -->\n<g id=\"edge144\" class=\"edge\">\n<title>9&#45;&#45;8</title>\n<path fill=\"none\" stroke=\"#c0c0c0\" d=\"M116.3346,-15.4785C118.592,-32.1634 123.8737,-71.2007 126.1138,-87.7574\"/>\n</g>\n<!-- 28 -->\n<g id=\"node20\" class=\"node\">\n<title>28</title>\n<polygon fill=\"none\" stroke=\"#000000\" points=\"65.7032,-182.5327 27.7032,-182.5327 27.7032,-167.5327 65.7032,-167.5327 65.7032,-182.5327\"/>\n<text text-anchor=\"middle\" x=\"46.7032\" y=\"-171.3327\" font-family=\"Times,serif\" font-size=\"14.00\" fill=\"#000000\">方(案)</text>\n</g>\n<!-- 28&#45;&#45;19 -->\n<g id=\"edge213\" class=\"edge\">\n<title>28&#45;&#45;19</title>\n<path fill=\"none\" stroke=\"#c0c0c0\" d=\"M65.7452,-177.9463C98.1757,-182.9085 163.7709,-192.9453 196.3301,-197.9272\"/>\n</g>\n<!-- 28&#45;&#45;1 -->\n<g id=\"edge41\" class=\"edge\">\n<title>28&#45;&#45;1</title>\n<path fill=\"none\" stroke=\"#c0c0c0\" d=\"M65.9361,-175.1399C103.6653,-175.3503 186.9705,-175.8148 224.5285,-176.0242\"/>\n</g>\n<!-- 28&#45;&#45;20 -->\n<g id=\"edge230\" class=\"edge\">\n<title>28&#45;&#45;20</title>\n<path fill=\"none\" stroke=\"#c0c0c0\" d=\"M65.9647,-172.6401C99.9812,-168.4148 170.3047,-159.6795 204.3043,-155.4563\"/>\n</g>\n<!-- 28&#45;&#45;3 -->\n<g id=\"edge83\" class=\"edge\">\n<title>28&#45;&#45;3</title>\n<path fill=\"none\" stroke=\"#c0c0c0\" d=\"M65.8069,-175.3917C94.6626,-175.934 149.0716,-176.9566 178.1157,-177.5025\"/>\n</g>\n<!-- 28&#45;&#45;22 -->\n<g id=\"edge252\" class=\"edge\">\n<title>28&#45;&#45;22</title>\n<path fill=\"none\" stroke=\"#c0c0c0\" d=\"M65.93,-173.867C84.844,-172.7202 113.5527,-170.9796 132.4245,-169.8354\"/>\n</g>\n<!-- 28&#45;&#45;24 -->\n<g id=\"edge267\" class=\"edge\">\n<title>28&#45;&#45;24</title>\n<path fill=\"none\" stroke=\"#c0c0c0\" d=\"M65.9541,-168.8345C101.7749,-157.3014 178.2631,-132.6747 214.0044,-121.1671\"/>\n</g>\n<!-- 28&#45;&#45;6 -->\n<g id=\"edge129\" class=\"edge\">\n<title>28&#45;&#45;6</title>\n<path fill=\"none\" stroke=\"#c0c0c0\" d=\"M65.7241,-170.4449C88.46,-164.961 126.294,-155.8354 149.1479,-150.3231\"/>\n</g>\n<!-- 28&#45;&#45;25 -->\n<g id=\"edge276\" class=\"edge\">\n<title>28&#45;&#45;25</title>\n<path fill=\"none\" stroke=\"#c0c0c0\" d=\"M65.7268,-181.2872C88.466,-188.7632 126.3055,-201.2039 149.1626,-208.7187\"/>\n</g>\n<!-- 10&#45;&#45;0 -->\n<g id=\"edge7\" class=\"edge\">\n<title>10&#45;&#45;0</title>\n<path fill=\"none\" stroke=\"#c0c0c0\" d=\"M95.8369,-300.666C92.761,-270.3813 81.7552,-162.019 78.7206,-132.141\"/>\n</g>\n<!-- 10&#45;&#45;1 -->\n<g id=\"edge23\" class=\"edge\">\n<title>10&#45;&#45;1</title>\n<path fill=\"none\" stroke=\"#c0c0c0\" d=\"M104.9598,-301.0767C130.696,-277.874 208.8503,-207.4136 234.9555,-183.8783\"/>\n</g>\n<!-- 10&#45;&#45;3 -->\n<g id=\"edge65\" class=\"edge\">\n<title>10&#45;&#45;3</title>\n<path fill=\"none\" stroke=\"#c0c0c0\" d=\"M102.65,-300.792C120.6385,-277.4891 173.9087,-208.4812 191.689,-185.4481\"/>\n</g>\n<!-- 10&#45;&#45;6 -->\n<g id=\"edge111\" class=\"edge\">\n<title>10&#45;&#45;6</title>\n<path fill=\"none\" stroke=\"#c0c0c0\" d=\"M100.1033,-300.7197C112.2601,-273.136 152.9065,-180.9092 165.0088,-153.4491\"/>\n</g>\n<!-- 29 -->\n<g id=\"node22\" class=\"node\">\n<title>29</title>\n<polygon fill=\"none\" stroke=\"#000000\" points=\"168.6636,-303.6434 130.6636,-303.6434 130.6636,-288.6434 168.6636,-288.6434 168.6636,-303.6434\"/>\n<text text-anchor=\"middle\" x=\"149.6636\" y=\"-292.4434\" font-family=\"Times,serif\" font-size=\"14.00\" fill=\"#000000\">面(对)</text>\n</g>\n<!-- 29&#45;&#45;19 -->\n<g id=\"edge214\" class=\"edge\">\n<title>29&#45;&#45;19</title>\n<path fill=\"none\" stroke=\"#c0c0c0\" d=\"M155.0563,-288.3467C167.4748,-270.3923 197.9671,-226.3074 210.2785,-208.508\"/>\n</g>\n<!-- 29&#45;&#45;1 -->\n<g id=\"edge42\" class=\"edge\">\n<title>29&#45;&#45;1</title>\n<path fill=\"none\" stroke=\"#c0c0c0\" d=\"M155.5366,-288.636C172.3972,-267.0833 220.821,-205.184 237.6789,-183.6348\"/>\n</g>\n<!-- 29&#45;&#45;20 -->\n<g id=\"edge231\" class=\"edge\">\n<title>29&#45;&#45;20</title>\n<path fill=\"none\" stroke=\"#c0c0c0\" d=\"M153.6356,-288.4509C166.4633,-263.6081 206.6947,-185.694 219.5504,-160.7971\"/>\n</g>\n<!-- 29&#45;&#45;21 -->\n<g id=\"edge245\" class=\"edge\">\n<title>29&#45;&#45;21</title>\n<path fill=\"none\" stroke=\"#c0c0c0\" d=\"M168.7569,-290.0626C192.7998,-282.4054 233.8705,-269.3253 257.9749,-261.6485\"/>\n</g>\n<!-- 29&#45;&#45;3 -->\n<g id=\"edge84\" class=\"edge\">\n<title>29&#45;&#45;3</title>\n<path fill=\"none\" stroke=\"#c0c0c0\" d=\"M152.8049,-288.383C161.5008,-266.9007 185.8152,-206.8343 194.45,-185.5028\"/>\n</g>\n<!-- 29&#45;&#45;22 -->\n<g id=\"edge253\" class=\"edge\">\n<title>29&#45;&#45;22</title>\n<path fill=\"none\" stroke=\"#c0c0c0\" d=\"M149.7747,-288.5515C150.1058,-265.934 151.0831,-199.1649 151.4165,-176.3903\"/>\n</g>\n<!-- 29&#45;&#45;24 -->\n<g id=\"edge268\" class=\"edge\">\n<title>29&#45;&#45;24</title>\n<path fill=\"none\" stroke=\"#c0c0c0\" d=\"M153.2509,-288.36C166.9837,-258.5642 216.1212,-151.9512 229.6695,-122.5555\"/>\n</g>\n<!-- 29&#45;&#45;6 -->\n<g id=\"edge130\" class=\"edge\">\n<title>29&#45;&#45;6</title>\n<path fill=\"none\" stroke=\"#c0c0c0\" d=\"M150.6204,-288.4745C153.8333,-262.7221 164.2162,-179.5007 167.4596,-153.5044\"/>\n</g>\n<!-- 29&#45;&#45;25 -->\n<g id=\"edge277\" class=\"edge\">\n<title>29&#45;&#45;25</title>\n<path fill=\"none\" stroke=\"#c0c0c0\" d=\"M151.4653,-288.3689C155.0662,-272.8312 163.112,-238.1141 166.6856,-222.6939\"/>\n</g>\n<!-- 29&#45;&#45;10 -->\n<g id=\"edge160\" class=\"edge\">\n<title>29&#45;&#45;10</title>\n<path fill=\"none\" stroke=\"#c0c0c0\" d=\"M130.521,-300.6322C125.7748,-301.7452 120.6863,-302.9384 115.933,-304.053\"/>\n</g>\n<!-- 11&#45;&#45;0 -->\n<g id=\"edge8\" class=\"edge\">\n<title>11&#45;&#45;0</title>\n<path fill=\"none\" stroke=\"#c0c0c0\" d=\"M38.2995,-132.6045C44.8799,-131.2533 52.2315,-129.7436 58.7994,-128.3949\"/>\n</g>\n<!-- 11&#45;&#45;1 -->\n<g id=\"edge24\" class=\"edge\">\n<title>11&#45;&#45;1</title>\n<path fill=\"none\" stroke=\"#c0c0c0\" d=\"M38.145,-139.9407C80.5687,-147.4152 182.0744,-165.2991 224.4531,-172.7657\"/>\n</g>\n<!-- 11&#45;&#45;3 -->\n<g id=\"edge66\" class=\"edge\">\n<title>11&#45;&#45;3</title>\n<path fill=\"none\" stroke=\"#c0c0c0\" d=\"M38.107,-140.9874C72.3811,-148.9157 143.9313,-165.4667 178.3012,-173.4171\"/>\n</g>\n<!-- 11&#45;&#45;6 -->\n<g id=\"edge112\" class=\"edge\">\n<title>11&#45;&#45;6</title>\n<path fill=\"none\" stroke=\"#c0c0c0\" d=\"M38.2303,-137.739C66.9242,-139.4869 120.6296,-142.7584 149.2805,-144.5037\"/>\n</g>\n<!-- 30 -->\n<g id=\"node24\" class=\"node\">\n<title>30</title>\n<polygon fill=\"none\" stroke=\"#000000\" points=\"123.2694,-196.122 85.2694,-196.122 85.2694,-181.122 123.2694,-181.122 123.2694,-196.122\"/>\n<text text-anchor=\"middle\" x=\"104.2694\" y=\"-184.922\" font-family=\"Times,serif\" font-size=\"14.00\" fill=\"#000000\">对(面)</text>\n</g>\n<!-- 30&#45;&#45;19 -->\n<g id=\"edge215\" class=\"edge\">\n<title>30&#45;&#45;19</title>\n<path fill=\"none\" stroke=\"#c0c0c0\" d=\"M123.4012,-190.7275C143.7859,-192.9709 175.8754,-196.5024 196.307,-198.7509\"/>\n</g>\n<!-- 30&#45;&#45;1 -->\n<g id=\"edge43\" class=\"edge\">\n<title>30&#45;&#45;1</title>\n<path fill=\"none\" stroke=\"#c0c0c0\" d=\"M123.3437,-186.9113C149.8666,-184.5325 197.6208,-180.2495 224.2588,-177.8604\"/>\n</g>\n<!-- 30&#45;&#45;20 -->\n<g id=\"edge232\" class=\"edge\">\n<title>30&#45;&#45;20</title>\n<path fill=\"none\" stroke=\"#c0c0c0\" d=\"M123.4326,-182.9094C145.6902,-176.2744 182.1891,-165.394 204.4264,-158.7651\"/>\n</g>\n<!-- 30&#45;&#45;21 -->\n<g id=\"edge246\" class=\"edge\">\n<title>30&#45;&#45;21</title>\n<path fill=\"none\" stroke=\"#c0c0c0\" d=\"M123.4366,-196.0376C156.6771,-208.8979 224.6454,-235.194 257.9457,-248.0774\"/>\n</g>\n<!-- 30&#45;&#45;3 -->\n<g id=\"edge85\" class=\"edge\">\n<title>30&#45;&#45;3</title>\n<path fill=\"none\" stroke=\"#c0c0c0\" d=\"M123.5952,-186.3937C139.6029,-184.548 162.2387,-181.938 178.2396,-180.093\"/>\n</g>\n<!-- 30&#45;&#45;22 -->\n<g id=\"edge254\" class=\"edge\">\n<title>30&#45;&#45;22</title>\n<path fill=\"none\" stroke=\"#c0c0c0\" d=\"M122.1364,-181.0817C125.9004,-179.4932 129.8722,-177.8169 133.6371,-176.228\"/>\n</g>\n<!-- 30&#45;&#45;24 -->\n<g id=\"edge269\" class=\"edge\">\n<title>30&#45;&#45;24</title>\n<path fill=\"none\" stroke=\"#c0c0c0\" d=\"M117.5765,-181.0208C142.2732,-166.9135 194.9353,-136.832 219.7228,-122.6729\"/>\n</g>\n<!-- 30&#45;&#45;6 -->\n<g id=\"edge131\" class=\"edge\">\n<title>30&#45;&#45;6</title>\n<path fill=\"none\" stroke=\"#c0c0c0\" d=\"M115.7413,-180.9432C127.421,-173.1252 145.4207,-161.0769 157.0644,-153.283\"/>\n</g>\n<!-- 30&#45;&#45;25 -->\n<g id=\"edge278\" class=\"edge\">\n<title>30&#45;&#45;25</title>\n<path fill=\"none\" stroke=\"#c0c0c0\" d=\"M122.4906,-196.1278C131.089,-199.6697 141.3325,-203.8892 149.9648,-207.4451\"/>\n</g>\n<!-- 30&#45;&#45;28 -->\n<g id=\"edge286\" class=\"edge\">\n<title>30&#45;&#45;28</title>\n<path fill=\"none\" stroke=\"#c0c0c0\" d=\"M85.1007,-184.097C78.9517,-182.6454 72.1414,-181.0378 65.9845,-179.5843\"/>\n</g>\n<!-- 30&#45;&#45;10 -->\n<g id=\"edge161\" class=\"edge\">\n<title>30&#45;&#45;10</title>\n<path fill=\"none\" stroke=\"#c0c0c0\" d=\"M103.7921,-196.1258C102.4221,-217.6681 98.4873,-279.5374 97.1174,-301.0762\"/>\n</g>\n<!-- 30&#45;&#45;11 -->\n<g id=\"edge166\" class=\"edge\">\n<title>30&#45;&#45;11</title>\n<path fill=\"none\" stroke=\"#c0c0c0\" d=\"M91.6876,-180.9412C75.4734,-171.0429 47.4601,-153.9416 31.3562,-144.1107\"/>\n</g>\n<!-- 30&#45;&#45;18 -->\n<g id=\"edge203\" class=\"edge\">\n<title>30&#45;&#45;18</title>\n<path fill=\"none\" stroke=\"#c0c0c0\" d=\"M110.6528,-196.3099C127.6191,-216.743 173.6961,-272.2352 190.7133,-292.7296\"/>\n</g>\n<!-- 12&#45;&#45;0 -->\n<g id=\"edge9\" class=\"edge\">\n<title>12&#45;&#45;0</title>\n<path fill=\"none\" stroke=\"#c0c0c0\" d=\"M25.903,-212.9607C36.459,-195.0089 62.9953,-149.8811 73.5305,-131.9647\"/>\n</g>\n<!-- 12&#45;&#45;1 -->\n<g id=\"edge25\" class=\"edge\">\n<title>12&#45;&#45;1</title>\n<path fill=\"none\" stroke=\"#c0c0c0\" d=\"M40.7914,-216.6365C82.8969,-208.2249 182.5128,-188.324 224.433,-179.9493\"/>\n</g>\n<!-- 12&#45;&#45;3 -->\n<g id=\"edge67\" class=\"edge\">\n<title>12&#45;&#45;3</title>\n<path fill=\"none\" stroke=\"#c0c0c0\" d=\"M40.6496,-215.853C74.5179,-207.653 144.5352,-190.7009 178.3867,-182.505\"/>\n</g>\n<!-- 12&#45;&#45;6 -->\n<g id=\"edge113\" class=\"edge\">\n<title>12&#45;&#45;6</title>\n<path fill=\"none\" stroke=\"#c0c0c0\" d=\"M36.3725,-212.9097C64.5406,-198.5682 125.2986,-167.634 153.497,-153.2771\"/>\n</g>\n<!-- 31 -->\n<g id=\"node26\" class=\"node\">\n<title>31</title>\n<polygon fill=\"none\" stroke=\"#000000\" points=\"99.3465,-247.3476 61.3465,-247.3476 61.3465,-232.3476 99.3465,-232.3476 99.3465,-247.3476\"/>\n<text text-anchor=\"middle\" x=\"80.3465\" y=\"-236.1476\" font-family=\"Times,serif\" font-size=\"14.00\" fill=\"#000000\">地(面)</text>\n</g>\n<!-- 31&#45;&#45;19 -->\n<g id=\"edge216\" class=\"edge\">\n<title>31&#45;&#45;19</title>\n<path fill=\"none\" stroke=\"#c0c0c0\" d=\"M99.4327,-234.3457C125.0573,-226.959 170.3371,-213.9065 196.1346,-206.47\"/>\n</g>\n<!-- 31&#45;&#45;1 -->\n<g id=\"edge44\" class=\"edge\">\n<title>31&#45;&#45;1</title>\n<path fill=\"none\" stroke=\"#c0c0c0\" d=\"M99.3873,-232.4137C130.7508,-220.1688 192.9287,-195.8935 224.3777,-183.6153\"/>\n</g>\n<!-- 31&#45;&#45;20 -->\n<g id=\"edge233\" class=\"edge\">\n<title>31&#45;&#45;20</title>\n<path fill=\"none\" stroke=\"#c0c0c0\" d=\"M93.0541,-232.1463C120.2964,-215.6367 184.0345,-177.0094 211.0673,-160.6267\"/>\n</g>\n<!-- 31&#45;&#45;3 -->\n<g id=\"edge86\" class=\"edge\">\n<title>31&#45;&#45;3</title>\n<path fill=\"none\" stroke=\"#c0c0c0\" d=\"M94.7168,-232.2476C117.2095,-220.352 160.4879,-197.4635 183.0528,-185.5297\"/>\n</g>\n<!-- 31&#45;&#45;22 -->\n<g id=\"edge255\" class=\"edge\">\n<title>31&#45;&#45;22</title>\n<path fill=\"none\" stroke=\"#c0c0c0\" d=\"M87.9643,-232.2311C101.5932,-218.6045 130.0061,-190.1966 143.7505,-176.4545\"/>\n</g>\n<!-- 31&#45;&#45;24 -->\n<g id=\"edge270\" class=\"edge\">\n<title>31&#45;&#45;24</title>\n<path fill=\"none\" stroke=\"#c0c0c0\" d=\"M89.905,-232.0379C117.3466,-209.6175 196.1586,-145.2261 223.5956,-122.8093\"/>\n</g>\n<!-- 31&#45;&#45;6 -->\n<g id=\"edge132\" class=\"edge\">\n<title>31&#45;&#45;6</title>\n<path fill=\"none\" stroke=\"#c0c0c0\" d=\"M87.5553,-232.1407C104.156,-214.3929 144.9173,-170.8154 161.3748,-153.2208\"/>\n</g>\n<!-- 31&#45;&#45;25 -->\n<g id=\"edge279\" class=\"edge\">\n<title>31&#45;&#45;25</title>\n<path fill=\"none\" stroke=\"#c0c0c0\" d=\"M99.4646,-234.4693C114.2432,-230.3118 134.6044,-224.5839 149.3736,-220.4291\"/>\n</g>\n<!-- 31&#45;&#45;30 -->\n<g id=\"edge288\" class=\"edge\">\n<title>31&#45;&#45;30</title>\n<path fill=\"none\" stroke=\"#c0c0c0\" d=\"M83.8764,-232.2891C88.3994,-222.604 96.195,-205.9115 100.725,-196.2115\"/>\n</g>\n<!-- 31&#45;&#45;12 -->\n<g id=\"edge171\" class=\"edge\">\n<title>31&#45;&#45;12</title>\n<path fill=\"none\" stroke=\"#c0c0c0\" d=\"M61.0687,-233.5112C54.4957,-231.3507 47.1525,-228.937 40.5919,-226.7806\"/>\n</g>\n<!-- 13&#45;&#45;1 -->\n<g id=\"edge26\" class=\"edge\">\n<title>13&#45;&#45;1</title>\n<path fill=\"none\" stroke=\"#c0c0c0\" d=\"M235.089,-333.5793C236.5658,-306.0975 241.6627,-211.2451 243.1433,-183.6913\"/>\n</g>\n<!-- 13&#45;&#45;3 -->\n<g id=\"edge68\" class=\"edge\">\n<title>13&#45;&#45;3</title>\n<path fill=\"none\" stroke=\"#c0c0c0\" d=\"M232.8936,-333.2234C226.6042,-305.5851 205.5755,-213.1759 199.3142,-185.6614\"/>\n</g>\n<!-- 13&#45;&#45;6 -->\n<g id=\"edge114\" class=\"edge\">\n<title>13&#45;&#45;6</title>\n<path fill=\"none\" stroke=\"#c0c0c0\" d=\"M232.0061,-333.1933C221.3066,-301.6308 181.7053,-184.8108 171.0768,-153.4578\"/>\n</g>\n<!-- 13&#45;&#45;10 -->\n<g id=\"edge156\" class=\"edge\">\n<title>13&#45;&#45;10</title>\n<path fill=\"none\" stroke=\"#c0c0c0\" d=\"M215.4906,-336.5746C189.1167,-330.3617 141.9598,-319.2529 115.6719,-313.0603\"/>\n</g>\n<!-- 32 -->\n<g id=\"node28\" class=\"node\">\n<title>32</title>\n<polygon fill=\"none\" stroke=\"#000000\" points=\"73.2356,-275.8794 35.2356,-275.8794 35.2356,-260.8794 73.2356,-260.8794 73.2356,-275.8794\"/>\n<text text-anchor=\"middle\" x=\"54.2356\" y=\"-264.6794\" font-family=\"Times,serif\" font-size=\"14.00\" fill=\"#000000\">面(向)</text>\n</g>\n<!-- 32&#45;&#45;19 -->\n<g id=\"edge217\" class=\"edge\">\n<title>32&#45;&#45;19</title>\n<path fill=\"none\" stroke=\"#c0c0c0\" d=\"M72.4281,-260.7664C103.412,-247.8007 166.0811,-221.5758 197.188,-208.5586\"/>\n</g>\n<!-- 32&#45;&#45;1 -->\n<g id=\"edge45\" class=\"edge\">\n<title>32&#45;&#45;1</title>\n<path fill=\"none\" stroke=\"#c0c0c0\" d=\"M69.728,-260.8303C105.3161,-243.4888 192.5704,-200.9715 228.1087,-183.6543\"/>\n</g>\n<!-- 32&#45;&#45;20 -->\n<g id=\"edge234\" class=\"edge\">\n<title>32&#45;&#45;20</title>\n<path fill=\"none\" stroke=\"#c0c0c0\" d=\"M65.3443,-260.8134C95.948,-239.9695 181.2559,-181.8672 212.1704,-160.8117\"/>\n</g>\n<!-- 32&#45;&#45;3 -->\n<g id=\"edge87\" class=\"edge\">\n<title>32&#45;&#45;3</title>\n<path fill=\"none\" stroke=\"#c0c0c0\" d=\"M66.4537,-260.6624C93.5281,-243.5622 158.3079,-202.6471 185.3535,-185.565\"/>\n</g>\n<!-- 32&#45;&#45;22 -->\n<g id=\"edge256\" class=\"edge\">\n<title>32&#45;&#45;22</title>\n<path fill=\"none\" stroke=\"#c0c0c0\" d=\"M61.8701,-260.5559C80.1473,-241.8262 126.2297,-194.603 144.1966,-176.1913\"/>\n</g>\n<!-- 32&#45;&#45;6 -->\n<g id=\"edge133\" class=\"edge\">\n<title>32&#45;&#45;6</title>\n<path fill=\"none\" stroke=\"#c0c0c0\" d=\"M61.3794,-260.7034C81.8884,-238.6666 140.7902,-175.3769 161.2959,-153.3437\"/>\n</g>\n<!-- 32&#45;&#45;25 -->\n<g id=\"edge280\" class=\"edge\">\n<title>32&#45;&#45;25</title>\n<path fill=\"none\" stroke=\"#c0c0c0\" d=\"M70.6004,-260.7402C92.3134,-250.6045 130.4223,-232.815 152.12,-222.6864\"/>\n</g>\n<!-- 32&#45;&#45;29 -->\n<g id=\"edge287\" class=\"edge\">\n<title>32&#45;&#45;29</title>\n<path fill=\"none\" stroke=\"#c0c0c0\" d=\"M73.5469,-273.9978C90.1032,-278.8148 113.833,-285.7188 130.381,-290.5333\"/>\n</g>\n<!-- 14&#45;&#45;1 -->\n<g id=\"edge27\" class=\"edge\">\n<title>14&#45;&#45;1</title>\n<path fill=\"none\" stroke=\"#c0c0c0\" d=\"M312.5973,-197.6136C297.8063,-193.0115 277.4281,-186.6711 262.6464,-182.072\"/>\n</g>\n<!-- 14&#45;&#45;3 -->\n<g id=\"edge69\" class=\"edge\">\n<title>14&#45;&#45;3</title>\n<path fill=\"none\" stroke=\"#c0c0c0\" d=\"M312.5052,-199.8848C286.9956,-194.9994 242.223,-186.4248 216.7313,-181.5428\"/>\n</g>\n<!-- 14&#45;&#45;6 -->\n<g id=\"edge115\" class=\"edge\">\n<title>14&#45;&#45;6</title>\n<path fill=\"none\" stroke=\"#c0c0c0\" d=\"M312.68,-196.8122C281.2989,-185.686 219.0862,-163.6284 187.6196,-152.4718\"/>\n</g>\n<!-- 33 -->\n<g id=\"node30\" class=\"node\">\n<title>33</title>\n<polygon fill=\"none\" stroke=\"#000000\" points=\"77.0117,-84.1262 39.0117,-84.1262 39.0117,-69.1262 77.0117,-69.1262 77.0117,-84.1262\"/>\n<text text-anchor=\"middle\" x=\"58.0117\" y=\"-72.9262\" font-family=\"Times,serif\" font-size=\"14.00\" fill=\"#000000\">法(官)</text>\n</g>\n<!-- 33&#45;&#45;19 -->\n<g id=\"edge218\" class=\"edge\">\n<title>33&#45;&#45;19</title>\n<path fill=\"none\" stroke=\"#c0c0c0\" d=\"M67.8671,-84.3982C96.161,-106.7107 177.4207,-170.792 205.7098,-193.1008\"/>\n</g>\n<!-- 33&#45;&#45;1 -->\n<g id=\"edge46\" class=\"edge\">\n<title>33&#45;&#45;1</title>\n<path fill=\"none\" stroke=\"#c0c0c0\" d=\"M72.2625,-84.2689C106.8835,-102.8362 195.0963,-150.1447 229.5043,-168.5977\"/>\n</g>\n<!-- 33&#45;&#45;20 -->\n<g id=\"edge235\" class=\"edge\">\n<title>33&#45;&#45;20</title>\n<path fill=\"none\" stroke=\"#c0c0c0\" d=\"M74.4885,-84.235C106.2174,-98.8871 175.4556,-130.8607 207.1318,-145.4885\"/>\n</g>\n<!-- 33&#45;&#45;3 -->\n<g id=\"edge88\" class=\"edge\">\n<title>33&#45;&#45;3</title>\n<path fill=\"none\" stroke=\"#c0c0c0\" d=\"M68.499,-84.2357C94.3569,-102.998 160.9465,-151.315 186.9316,-170.1697\"/>\n</g>\n<!-- 33&#45;&#45;22 -->\n<g id=\"edge257\" class=\"edge\">\n<title>33&#45;&#45;22</title>\n<path fill=\"none\" stroke=\"#c0c0c0\" d=\"M65.6646,-84.1591C83.2009,-101.4203 126.1328,-143.6788 143.7707,-161.04\"/>\n</g>\n<!-- 33&#45;&#45;24 -->\n<g id=\"edge271\" class=\"edge\">\n<title>33&#45;&#45;24</title>\n<path fill=\"none\" stroke=\"#c0c0c0\" d=\"M77.088,-80.8062C110.7775,-88.1883 180.425,-103.4494 214.0978,-110.8278\"/>\n</g>\n<!-- 33&#45;&#45;6 -->\n<g id=\"edge134\" class=\"edge\">\n<title>33&#45;&#45;6</title>\n<path fill=\"none\" stroke=\"#c0c0c0\" d=\"M70.251,-84.2789C91.4771,-97.5507 134.8787,-124.688 156.1428,-137.9836\"/>\n</g>\n<!-- 33&#45;&#45;25 -->\n<g id=\"edge281\" class=\"edge\">\n<title>33&#45;&#45;25</title>\n<path fill=\"none\" stroke=\"#c0c0c0\" d=\"M64.266,-84.4657C83.7052,-108.8318 142.9235,-183.0594 162.2687,-207.3078\"/>\n</g>\n<!-- 33&#45;&#45;30 -->\n<g id=\"edge289\" class=\"edge\">\n<title>33&#45;&#45;30</title>\n<path fill=\"none\" stroke=\"#c0c0c0\" d=\"M61.1912,-84.3241C69.6417,-104.784 92.5917,-160.3489 101.0676,-180.8702\"/>\n</g>\n<!-- 15&#45;&#45;1 -->\n<g id=\"edge28\" class=\"edge\">\n<title>15&#45;&#45;1</title>\n<path fill=\"none\" stroke=\"#c0c0c0\" d=\"M333.406,-227.9334C313.7233,-216.5862 276.6107,-195.1903 256.7995,-183.769\"/>\n</g>\n<!-- 15&#45;&#45;3 -->\n<g id=\"edge70\" class=\"edge\">\n<title>15&#45;&#45;3</title>\n<path fill=\"none\" stroke=\"#c0c0c0\" d=\"M327.2759,-228.0363C298.686,-216.9805 245.175,-196.2878 216.6279,-185.2486\"/>\n</g>\n<!-- 15&#45;&#45;5 -->\n<g id=\"edge101\" class=\"edge\">\n<title>15&#45;&#45;5</title>\n<path fill=\"none\" stroke=\"#c0c0c0\" d=\"M345.637,-227.7138C343.0545,-202.7434 334.955,-124.4292 332.3669,-99.4044\"/>\n</g>\n<!-- 15&#45;&#45;6 -->\n<g id=\"edge116\" class=\"edge\">\n<title>15&#45;&#45;6</title>\n<path fill=\"none\" stroke=\"#c0c0c0\" d=\"M331.2605,-227.7916C297.6314,-210.8305 217.1682,-170.2485 183.5747,-153.3054\"/>\n</g>\n<!-- 15&#45;&#45;13 -->\n<g id=\"edge172\" class=\"edge\">\n<title>15&#45;&#45;13</title>\n<path fill=\"none\" stroke=\"#c0c0c0\" d=\"M338.3998,-243.0439C317.7808,-262.5372 263.188,-314.1495 242.6492,-333.567\"/>\n</g>\n<!-- 34 -->\n<g id=\"node32\" class=\"node\">\n<title>34</title>\n<polygon fill=\"none\" stroke=\"#000000\" points=\"123.48,-76.9829 85.48,-76.9829 85.48,-61.9829 123.48,-61.9829 123.48,-76.9829\"/>\n<text text-anchor=\"middle\" x=\"104.48\" y=\"-65.7829\" font-family=\"Times,serif\" font-size=\"14.00\" fill=\"#000000\">双(向)</text>\n</g>\n<!-- 34&#45;&#45;19 -->\n<g id=\"edge219\" class=\"edge\">\n<title>34&#45;&#45;19</title>\n<path fill=\"none\" stroke=\"#c0c0c0\" d=\"M111.096,-77.3083C130.8996,-100.732 189.545,-170.0976 209.1194,-193.2501\"/>\n</g>\n<!-- 34&#45;&#45;1 -->\n<g id=\"edge47\" class=\"edge\">\n<title>34&#45;&#45;1</title>\n<path fill=\"none\" stroke=\"#c0c0c0\" d=\"M114.4815,-77.1527C140.1409,-96.83 208.0792,-148.9293 233.6387,-168.5299\"/>\n</g>\n<!-- 34&#45;&#45;20 -->\n<g id=\"edge236\" class=\"edge\">\n<title>34&#45;&#45;20</title>\n<path fill=\"none\" stroke=\"#c0c0c0\" d=\"M115.4676,-77.1965C138.1494,-93.1195 189.9218,-129.4647 212.5809,-145.3717\"/>\n</g>\n<!-- 34&#45;&#45;3 -->\n<g id=\"edge89\" class=\"edge\">\n<title>34&#45;&#45;3</title>\n<path fill=\"none\" stroke=\"#c0c0c0\" d=\"M111.1727,-77.2777C128.3431,-97.2755 173.805,-150.2235 190.9086,-170.1434\"/>\n</g>\n<!-- 34&#45;&#45;22 -->\n<g id=\"edge258\" class=\"edge\">\n<title>34&#45;&#45;22</title>\n<path fill=\"none\" stroke=\"#c0c0c0\" d=\"M108.1719,-77.2665C116.9671,-95.8094 139.0768,-142.4233 147.8546,-160.9296\"/>\n</g>\n<!-- 34&#45;&#45;24 -->\n<g id=\"edge272\" class=\"edge\">\n<title>34&#45;&#45;24</title>\n<path fill=\"none\" stroke=\"#c0c0c0\" d=\"M123.7433,-76.2977C148.0003,-84.8791 189.4366,-99.538 213.7556,-108.1413\"/>\n</g>\n<!-- 34&#45;&#45;6 -->\n<g id=\"edge135\" class=\"edge\">\n<title>34&#45;&#45;6</title>\n<path fill=\"none\" stroke=\"#c0c0c0\" d=\"M110.8463,-77.0666C123.1055,-91.6703 149.8575,-123.5381 162.0965,-138.1176\"/>\n</g>\n<!-- 34&#45;&#45;25 -->\n<g id=\"edge282\" class=\"edge\">\n<title>34&#45;&#45;25</title>\n<path fill=\"none\" stroke=\"#c0c0c0\" d=\"M107.9195,-77.3099C119.0795,-102.7052 154.1918,-182.6056 165.1524,-207.5473\"/>\n</g>\n<!-- 34&#45;&#45;30 -->\n<g id=\"edge290\" class=\"edge\">\n<title>34&#45;&#45;30</title>\n<path fill=\"none\" stroke=\"#c0c0c0\" d=\"M104.4662,-77.3C104.4279,-98.939 104.321,-159.4439 104.283,-180.9311\"/>\n</g>\n<!-- 34&#45;&#45;32 -->\n<g id=\"edge294\" class=\"edge\">\n<title>34&#45;&#45;32</title>\n<path fill=\"none\" stroke=\"#c0c0c0\" d=\"M102.5717,-77.037C94.6129,-108.5427 64.1082,-229.2979 56.1458,-260.8177\"/>\n</g>\n<!-- 16&#45;&#45;1 -->\n<g id=\"edge29\" class=\"edge\">\n<title>16&#45;&#45;1</title>\n<path fill=\"none\" stroke=\"#c0c0c0\" d=\"M354.1677,-136.0365C329.6334,-144.929 287.3476,-160.2556 262.7755,-169.1618\"/>\n</g>\n<!-- 16&#45;&#45;3 -->\n<g id=\"edge71\" class=\"edge\">\n<title>16&#45;&#45;3</title>\n<path fill=\"none\" stroke=\"#c0c0c0\" d=\"M354.1695,-134.4087C320.3577,-143.7902 250.4575,-163.185 216.6626,-172.5619\"/>\n</g>\n<!-- 16&#45;&#45;5 -->\n<g id=\"edge102\" class=\"edge\">\n<title>16&#45;&#45;5</title>\n<path fill=\"none\" stroke=\"#c0c0c0\" d=\"M364.8659,-121.5154C357.6222,-115.0159 347.2399,-105.7003 339.9998,-99.204\"/>\n</g>\n<!-- 16&#45;&#45;6 -->\n<g id=\"edge117\" class=\"edge\">\n<title>16&#45;&#45;6</title>\n<path fill=\"none\" stroke=\"#c0c0c0\" d=\"M354.0406,-130.6557C314.8929,-133.8227 226.4898,-140.9743 187.5109,-144.1276\"/>\n</g>\n<!-- 16&#45;&#45;15 -->\n<g id=\"edge184\" class=\"edge\">\n<title>16&#45;&#45;15</title>\n<path fill=\"none\" stroke=\"#c0c0c0\" d=\"M371.382,-136.7449C366.4227,-156.3671 353.2921,-208.3208 348.3522,-227.8667\"/>\n</g>\n<!-- 35 -->\n<g id=\"node34\" class=\"node\">\n<title>35</title>\n<polygon fill=\"none\" stroke=\"#000000\" points=\"173.0652,-39.4299 135.0652,-39.4299 135.0652,-24.4299 173.0652,-24.4299 173.0652,-39.4299\"/>\n<text text-anchor=\"middle\" x=\"154.0652\" y=\"-28.2299\" font-family=\"Times,serif\" font-size=\"14.00\" fill=\"#000000\">双(面)</text>\n</g>\n<!-- 35&#45;&#45;19 -->\n<g id=\"edge220\" class=\"edge\">\n<title>35&#45;&#45;19</title>\n<path fill=\"none\" stroke=\"#c0c0c0\" d=\"M156.8674,-39.6279C167.1121,-67.7717 202.4714,-164.9091 212.7429,-193.1267\"/>\n</g>\n<!-- 35&#45;&#45;1 -->\n<g id=\"edge48\" class=\"edge\">\n<title>35&#45;&#45;1</title>\n<path fill=\"none\" stroke=\"#c0c0c0\" d=\"M158.8763,-39.6828C174.4137,-64.7207 223.1435,-143.2467 238.7148,-168.3391\"/>\n</g>\n<!-- 35&#45;&#45;20 -->\n<g id=\"edge237\" class=\"edge\">\n<title>35&#45;&#45;20</title>\n<path fill=\"none\" stroke=\"#c0c0c0\" d=\"M158.4113,-39.5076C170.8884,-61.2621 206.7225,-123.7409 219.1976,-145.4919\"/>\n</g>\n<!-- 35&#45;&#45;3 -->\n<g id=\"edge90\" class=\"edge\">\n<title>35&#45;&#45;3</title>\n<path fill=\"none\" stroke=\"#c0c0c0\" d=\"M156.4026,-39.7762C163.9867,-65.2341 187.8481,-145.3317 195.2967,-170.335\"/>\n</g>\n<!-- 35&#45;&#45;22 -->\n<g id=\"edge259\" class=\"edge\">\n<title>35&#45;&#45;22</title>\n<path fill=\"none\" stroke=\"#c0c0c0\" d=\"M153.9216,-39.6739C153.4753,-63.7428 152.1156,-137.0653 151.6714,-161.018\"/>\n</g>\n<!-- 35&#45;&#45;6 -->\n<g id=\"edge136\" class=\"edge\">\n<title>35&#45;&#45;6</title>\n<path fill=\"none\" stroke=\"#c0c0c0\" d=\"M155.053,-39.7478C157.6912,-60.6268 164.8779,-117.503 167.4801,-138.0976\"/>\n</g>\n<!-- 35&#45;&#45;25 -->\n<g id=\"edge283\" class=\"edge\">\n<title>35&#45;&#45;25</title>\n<path fill=\"none\" stroke=\"#c0c0c0\" d=\"M154.6835,-39.7989C157.0504,-69.9221 165.5194,-177.7068 167.8545,-207.4256\"/>\n</g>\n<!-- 35&#45;&#45;30 -->\n<g id=\"edge291\" class=\"edge\">\n<title>35&#45;&#45;30</title>\n<path fill=\"none\" stroke=\"#c0c0c0\" d=\"M151.6634,-39.4875C143.2707,-65.8968 115.3002,-153.9114 106.7643,-180.7712\"/>\n</g>\n<!-- 35&#45;&#45;34 -->\n<g id=\"edge295\" class=\"edge\">\n<title>35&#45;&#45;34</title>\n<path fill=\"none\" stroke=\"#c0c0c0\" d=\"M144.0309,-39.5293C135.4281,-46.0446 123.0979,-55.3828 114.4994,-61.8948\"/>\n</g>\n<!-- 17&#45;&#45;1 -->\n<g id=\"edge30\" class=\"edge\">\n<title>17&#45;&#45;1</title>\n<path fill=\"none\" stroke=\"#c0c0c0\" d=\"M285.5404,-314.2745C277.7991,-288.8068 253.4431,-208.6786 245.8401,-183.6657\"/>\n</g>\n<!-- 17&#45;&#45;3 -->\n<g id=\"edge72\" class=\"edge\">\n<title>17&#45;&#45;3</title>\n<path fill=\"none\" stroke=\"#c0c0c0\" d=\"M283.0668,-314.3679C267.3728,-289.3203 218.1523,-210.7639 202.4242,-185.6618\"/>\n</g>\n<!-- 17&#45;&#45;6 -->\n<g id=\"edge118\" class=\"edge\">\n<title>17&#45;&#45;6</title>\n<path fill=\"none\" stroke=\"#c0c0c0\" d=\"M282.792,-314.5418C263.2265,-285.649 193.4483,-182.6055 173.6867,-153.423\"/>\n</g>\n<!-- 17&#45;&#45;14 -->\n<g id=\"edge177\" class=\"edge\">\n<title>17&#45;&#45;14</title>\n<path fill=\"none\" stroke=\"#c0c0c0\" d=\"M290.8005,-314.3449C298.7567,-292.8116 321.0032,-232.6025 328.9037,-211.2203\"/>\n</g>\n<!-- 36 -->\n<g id=\"node36\" class=\"node\">\n<title>36</title>\n<polygon fill=\"none\" stroke=\"#000000\" points=\"286.0411,-65.7401 248.0411,-65.7401 248.0411,-50.7401 286.0411,-50.7401 286.0411,-65.7401\"/>\n<text text-anchor=\"middle\" x=\"267.0411\" y=\"-54.5401\" font-family=\"Times,serif\" font-size=\"14.00\" fill=\"#000000\">法(案)</text>\n</g>\n<!-- 36&#45;&#45;19 -->\n<g id=\"edge221\" class=\"edge\">\n<title>36&#45;&#45;19</title>\n<path fill=\"none\" stroke=\"#c0c0c0\" d=\"M264.2733,-65.9085C255.3348,-90.6737 227.301,-168.3444 218.343,-193.1636\"/>\n</g>\n<!-- 36&#45;&#45;1 -->\n<g id=\"edge49\" class=\"edge\">\n<title>36&#45;&#45;1</title>\n<path fill=\"none\" stroke=\"#c0c0c0\" d=\"M265.4997,-65.9752C261.233,-87.3874 249.3029,-147.2579 245.0661,-168.5199\"/>\n</g>\n<!-- 36&#45;&#45;20 -->\n<g id=\"edge238\" class=\"edge\">\n<title>36&#45;&#45;20</title>\n<path fill=\"none\" stroke=\"#c0c0c0\" d=\"M263.4814,-66.0001C255.2839,-83.8703 235.156,-127.7484 227.0293,-145.4644\"/>\n</g>\n<!-- 36&#45;&#45;3 -->\n<g id=\"edge91\" class=\"edge\">\n<title>36&#45;&#45;3</title>\n<path fill=\"none\" stroke=\"#c0c0c0\" d=\"M262.481,-66.0892C249.8577,-87.8169 214.5619,-148.5698 202.0272,-170.1451\"/>\n</g>\n<!-- 36&#45;&#45;22 -->\n<g id=\"edge260\" class=\"edge\">\n<title>36&#45;&#45;22</title>\n<path fill=\"none\" stroke=\"#c0c0c0\" d=\"M259.1015,-65.8308C237.9993,-86.0059 180.6901,-140.7974 159.5245,-161.0331\"/>\n</g>\n<!-- 36&#45;&#45;24 -->\n<g id=\"edge273\" class=\"edge\">\n<title>36&#45;&#45;24</title>\n<path fill=\"none\" stroke=\"#c0c0c0\" d=\"M262.3288,-66.1327C255.8539,-76.9773 244.2767,-96.3678 237.8229,-107.1771\"/>\n</g>\n<!-- 36&#45;&#45;6 -->\n<g id=\"edge137\" class=\"edge\">\n<title>36&#45;&#45;6</title>\n<path fill=\"none\" stroke=\"#c0c0c0\" d=\"M258.2906,-65.9989C239.5317,-82.6322 195.6418,-121.5486 177.027,-138.0539\"/>\n</g>\n<!-- 36&#45;&#45;25 -->\n<g id=\"edge284\" class=\"edge\">\n<title>36&#45;&#45;25</title>\n<path fill=\"none\" stroke=\"#c0c0c0\" d=\"M262.286,-65.8039C245.67,-92.2349 190.2935,-180.3221 173.394,-207.204\"/>\n</g>\n<!-- 36&#45;&#45;30 -->\n<g id=\"edge292\" class=\"edge\">\n<title>36&#45;&#45;30</title>\n<path fill=\"none\" stroke=\"#c0c0c0\" d=\"M257.3464,-66.0056C228.3275,-89.2501 142.3923,-158.0851 113.7093,-181.0605\"/>\n</g>\n<!-- 18&#45;&#45;1 -->\n<g id=\"edge31\" class=\"edge\">\n<title>18&#45;&#45;1</title>\n<path fill=\"none\" stroke=\"#c0c0c0\" d=\"M200.0445,-292.6932C208.3788,-270.3632 232.3148,-206.2317 240.6477,-183.9054\"/>\n</g>\n<!-- 18&#45;&#45;3 -->\n<g id=\"edge73\" class=\"edge\">\n<title>18&#45;&#45;3</title>\n<path fill=\"none\" stroke=\"#c0c0c0\" d=\"M197.1664,-292.8019C197.2381,-270.7839 197.444,-207.5484 197.5157,-185.5341\"/>\n</g>\n<!-- 18&#45;&#45;6 -->\n<g id=\"edge119\" class=\"edge\">\n<title>18&#45;&#45;6</title>\n<path fill=\"none\" stroke=\"#c0c0c0\" d=\"M195.6785,-292.5819C190.7431,-265.9655 174.7426,-179.6761 169.8629,-153.3604\"/>\n</g>\n<!-- 18&#45;&#45;8 -->\n<g id=\"edge145\" class=\"edge\">\n<title>18&#45;&#45;8</title>\n<path fill=\"none\" stroke=\"#c0c0c0\" d=\"M194.4831,-292.6826C183.3959,-260.1985 140.9007,-135.693 129.8085,-103.1942\"/>\n</g>\n<!-- 18&#45;&#45;17 -->\n<g id=\"edge194\" class=\"edge\">\n<title>18&#45;&#45;17</title>\n<path fill=\"none\" stroke=\"#c0c0c0\" d=\"M216.3946,-305.0632C231.8011,-308.7377 253.3017,-313.8657 268.7009,-317.5384\"/>\n</g>\n<!-- 37 -->\n<g id=\"node38\" class=\"node\">\n<title>37</title>\n<polygon fill=\"none\" stroke=\"#000000\" points=\"172.6314,-352.4813 134.6314,-352.4813 134.6314,-337.4813 172.6314,-337.4813 172.6314,-352.4813\"/>\n<text text-anchor=\"middle\" x=\"153.6314\" y=\"-341.2813\" font-family=\"Times,serif\" font-size=\"14.00\" fill=\"#000000\">法(式)</text>\n</g>\n<!-- 37&#45;&#45;19 -->\n<g id=\"edge222\" class=\"edge\">\n<title>37&#45;&#45;19</title>\n<path fill=\"none\" stroke=\"#c0c0c0\" d=\"M156.9611,-337.2332C167.7142,-312.2107 201.4389,-233.7332 212.2155,-208.6562\"/>\n</g>\n<!-- 37&#45;&#45;1 -->\n<g id=\"edge50\" class=\"edge\">\n<title>37&#45;&#45;1</title>\n<path fill=\"none\" stroke=\"#c0c0c0\" d=\"M157.7287,-337.2873C172.7082,-309.1584 224.4095,-212.0721 239.4283,-183.8694\"/>\n</g>\n<!-- 37&#45;&#45;20 -->\n<g id=\"edge239\" class=\"edge\">\n<title>37&#45;&#45;20</title>\n<path fill=\"none\" stroke=\"#c0c0c0\" d=\"M156.4586,-337.2203C167.7496,-306.2249 209.5402,-191.5036 220.7563,-160.7139\"/>\n</g>\n<!-- 37&#45;&#45;3 -->\n<g id=\"edge92\" class=\"edge\">\n<title>37&#45;&#45;3</title>\n<path fill=\"none\" stroke=\"#c0c0c0\" d=\"M155.6322,-337.3665C162.9471,-309.5269 188.1941,-213.4396 195.5281,-185.5271\"/>\n</g>\n<!-- 37&#45;&#45;22 -->\n<g id=\"edge261\" class=\"edge\">\n<title>37&#45;&#45;22</title>\n<path fill=\"none\" stroke=\"#c0c0c0\" d=\"M153.5411,-337.4057C153.1969,-308.5373 151.9694,-205.5808 151.6217,-176.4229\"/>\n</g>\n<!-- 37&#45;&#45;6 -->\n<g id=\"edge138\" class=\"edge\">\n<title>37&#45;&#45;6</title>\n<path fill=\"none\" stroke=\"#c0c0c0\" d=\"M154.1938,-337.4114C156.539,-305.8402 165.5278,-184.8335 167.8741,-153.248\"/>\n</g>\n<!-- 37&#45;&#45;25 -->\n<g id=\"edge285\" class=\"edge\">\n<title>37&#45;&#45;25</title>\n<path fill=\"none\" stroke=\"#c0c0c0\" d=\"M154.5143,-337.2433C157.1569,-314.0811 164.9827,-245.49 167.5948,-222.5961\"/>\n</g>\n<!-- 37&#45;&#45;30 -->\n<g id=\"edge293\" class=\"edge\">\n<title>37&#45;&#45;30</title>\n<path fill=\"none\" stroke=\"#c0c0c0\" d=\"M151.2506,-337.4397C142.931,-311.0866 115.2041,-223.259 106.7426,-196.4562\"/>\n</g>\n<!-- 37&#45;&#45;18 -->\n<g id=\"edge204\" class=\"edge\">\n<title>37&#45;&#45;18</title>\n<path fill=\"none\" stroke=\"#c0c0c0\" d=\"M161.2103,-337.2282C169.1963,-329.0587 181.6964,-316.2713 189.6494,-308.1355\"/>\n</g>\n</g>\n</svg>\n"
          },
          "metadata": {},
          "execution_count": 240
        }
      ]
    },
    {
      "cell_type": "code",
      "source": [
        ""
      ],
      "metadata": {
        "id": "XQjtWj0eeKAd"
      },
      "execution_count": null,
      "outputs": []
    }
  ]
}