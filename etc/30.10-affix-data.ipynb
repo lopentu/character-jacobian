{
 "cells": [
  {
   "cell_type": "code",
   "execution_count": 1,
   "id": "7218f2ec-8c28-4c38-a677-fe13407a7ea0",
   "metadata": {},
   "outputs": [],
   "source": [
    "%load_ext autoreload\n",
    "%autoreload 2"
   ]
  },
  {
   "cell_type": "code",
   "execution_count": 2,
   "id": "1ef4399d-c09e-4001-93e6-5b800693cf45",
   "metadata": {},
   "outputs": [],
   "source": [
    "import sys\n",
    "if \"../src\" not in sys.path:\n",
    "    sys.path.append(\"../src\")"
   ]
  },
  {
   "cell_type": "code",
   "execution_count": 3,
   "id": "77e17260-bc58-42d0-be9f-ae3a04806e06",
   "metadata": {},
   "outputs": [],
   "source": [
    "from morphert.affix_ckip import CkipAffixoids"
   ]
  },
  {
   "cell_type": "code",
   "execution_count": 8,
   "id": "17469bee-27b5-4764-8259-8efd67c28594",
   "metadata": {},
   "outputs": [],
   "source": [
    "affix_data = CkipAffixoids(\"../data/ckip_affix\")"
   ]
  },
  {
   "cell_type": "code",
   "execution_count": 9,
   "id": "3a2a0408-b8bd-4d56-82b8-afb712465b1f",
   "metadata": {},
   "outputs": [],
   "source": [
    "affix_map = {}\n",
    "for affix_x in affix_data:\n",
    "    affix_map.setdefault(affix_x.affixoid, []).append(affix_x)"
   ]
  },
  {
   "cell_type": "code",
   "execution_count": 10,
   "id": "313dfeb8-61de-4bed-99e2-b790601a4a10",
   "metadata": {},
   "outputs": [],
   "source": [
    "affix_keys = sorted(affix_map.keys(), key=lambda x: -len(affix_map[x]))"
   ]
  },
  {
   "cell_type": "code",
   "execution_count": 47,
   "id": "3c7735e6-9ca8-4dba-a587-6de8153c9904",
   "metadata": {},
   "outputs": [
    {
     "data": {
      "text/plain": [
       "'view,opinion'"
      ]
     },
     "execution_count": 47,
     "metadata": {},
     "output_type": "execute_result"
    }
   ],
   "source": [
    "affix_map[affix_keys[2]][-2].meaning"
   ]
  },
  {
   "cell_type": "code",
   "execution_count": 54,
   "id": "201d3223-541b-47c8-bfa6-373a23dc5446",
   "metadata": {},
   "outputs": [],
   "source": [
    "# filter the affixoids as follows:\n",
    "# 1. words freq > 1\n",
    "# 2. word length is 2\n",
    "# 3. the word is composed of two different characters\n",
    "# 4. the word is not repeatedly listed in different affixoids\n",
    "poly_affixoids = {}\n",
    "for word, affixoids in affix_map.items():\n",
    "    affixoids_buf = []\n",
    "    duplicated = set()\n",
    "    for aff_x in affixoids:\n",
    "        freq_filter = lambda ex: ex[1] > 1\n",
    "        wlen_filter = lambda ex: len(ex[0])==2\n",
    "        rep_filter = lambda ex: ex[0][0] != ex[0][1]\n",
    "        dup_filter = lambda ex: ex[0] not in duplicated\n",
    "        ex_iter = map(lambda x: x[1], aff_x.examples)\n",
    "        ex_iter = filter(freq_filter, ex_iter)\n",
    "        ex_iter = filter(wlen_filter, ex_iter)\n",
    "        ex_iter = filter(rep_filter, ex_iter)\n",
    "        ex_iter = filter(dup_filter, ex_iter)        \n",
    "        ex_list = sorted(list(ex_iter), key=lambda x: -x[1])\n",
    "        duplicated |= set(x[0] for x in ex_list)\n",
    "        if len(ex_list) > 1:\n",
    "            affixoids_buf.append({\n",
    "                \"def\": getattr(aff_x, \"meaning\", \"\"),\n",
    "                \"ex\": ex_list[:5]\n",
    "            })\n",
    "    if len(affixoids_buf) > 1:\n",
    "        poly_affixoids[word] = affixoids_buf"
   ]
  },
  {
   "cell_type": "code",
   "execution_count": 57,
   "id": "87f7337e-8e45-4d23-9842-393fcf7729ed",
   "metadata": {},
   "outputs": [
    {
     "data": {
      "text/plain": [
       "('官',\n",
       " [{'def': 'government official,officeholder',\n",
       "   'ex': [('官員', 1360), ('官能', 33), ('官位', 16), ('官股', 8), ('官等', 7)]},\n",
       "  {'def': 'government official,officeholder',\n",
       "   'ex': [('警官', 109), ('預官', 43), ('士官', 28), ('高官', 28), ('百官', 12)]}])"
      ]
     },
     "execution_count": 57,
     "metadata": {},
     "output_type": "execute_result"
    }
   ],
   "source": [
    "list(poly_affixoids.items())[155]"
   ]
  },
  {
   "cell_type": "code",
   "execution_count": 58,
   "id": "e6adc9b9-d24f-449d-94ef-4ba6cfd745d5",
   "metadata": {},
   "outputs": [
    {
     "data": {
      "text/plain": [
       "796"
      ]
     },
     "execution_count": 58,
     "metadata": {},
     "output_type": "execute_result"
    }
   ],
   "source": [
    "# number of words\n",
    "len(poly_affixoids)"
   ]
  },
  {
   "cell_type": "code",
   "execution_count": 60,
   "id": "b360eaf1-dfe1-4818-8027-2ea6b9cd84f6",
   "metadata": {},
   "outputs": [
    {
     "data": {
      "text/plain": [
       "1765"
      ]
     },
     "execution_count": 60,
     "metadata": {},
     "output_type": "execute_result"
    }
   ],
   "source": [
    "# total usages/meanings/affixoids\n",
    "sum(len(x) for x in poly_affixoids.values())"
   ]
  },
  {
   "cell_type": "code",
   "execution_count": 62,
   "id": "69bc48b2-a098-40ab-ab3f-98427959bd28",
   "metadata": {},
   "outputs": [
    {
     "data": {
      "text/plain": [
       "7072"
      ]
     },
     "execution_count": 62,
     "metadata": {},
     "output_type": "execute_result"
    }
   ],
   "source": [
    "# total example words count\n",
    "sum(len(usage[\"ex\"]) for affix_x in poly_affixoids.values() for usage in affix_x)"
   ]
  },
  {
   "cell_type": "code",
   "execution_count": 65,
   "id": "ccc90d60-4c22-4f99-9306-c4a881898609",
   "metadata": {},
   "outputs": [],
   "source": [
    "import json\n",
    "with open(\"../data/affix_dataset.json\", \"w\", encoding=\"UTF-8\") as fout:\n",
    "    json.dump(poly_affixoids, fout, indent=2, ensure_ascii=False)"
   ]
  },
  {
   "cell_type": "code",
   "execution_count": 67,
   "id": "d61948c4-c6d2-4ba3-84a9-18f12609b3e2",
   "metadata": {},
   "outputs": [
    {
     "data": {
      "text/plain": [
       "('人',\n",
       " [{'def': 'human,person',\n",
       "   'ex': [('人生', 1987), ('人性', 634), ('人體', 522), ('人潮', 314), ('人氣', 170)]},\n",
       "  {'def': 'person',\n",
       "   'ex': [('華人', 540), ('法人', 443), ('漢人', 398), ('成人', 281), ('古人', 243)]}])"
      ]
     },
     "execution_count": 67,
     "metadata": {},
     "output_type": "execute_result"
    }
   ],
   "source": [
    "list(poly_affixoids.items())[2]"
   ]
  },
  {
   "cell_type": "code",
   "execution_count": null,
   "id": "5cee696e-9275-4b9d-b4b6-94b23a5e3fe6",
   "metadata": {},
   "outputs": [],
   "source": []
  }
 ],
 "metadata": {
  "kernelspec": {
   "display_name": "Python 3 (ipykernel)",
   "language": "python",
   "name": "python3"
  },
  "language_info": {
   "codemirror_mode": {
    "name": "ipython",
    "version": 3
   },
   "file_extension": ".py",
   "mimetype": "text/x-python",
   "name": "python",
   "nbconvert_exporter": "python",
   "pygments_lexer": "ipython3",
   "version": "3.10.2"
  }
 },
 "nbformat": 4,
 "nbformat_minor": 5
}
