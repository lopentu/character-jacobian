{
 "cells": [
  {
   "cell_type": "code",
   "execution_count": 1,
   "id": "7218f2ec-8c28-4c38-a677-fe13407a7ea0",
   "metadata": {},
   "outputs": [],
   "source": [
    "%load_ext autoreload\n",
    "%autoreload 2"
   ]
  },
  {
   "cell_type": "code",
   "execution_count": 2,
   "id": "1ef4399d-c09e-4001-93e6-5b800693cf45",
   "metadata": {},
   "outputs": [],
   "source": [
    "import sys\n",
    "if \"../src\" not in sys.path:\n",
    "    sys.path.append(\"../src\")"
   ]
  },
  {
   "cell_type": "code",
   "execution_count": 3,
   "id": "77e17260-bc58-42d0-be9f-ae3a04806e06",
   "metadata": {},
   "outputs": [],
   "source": [
    "from morphert.affix_ckip import CkipAffixoids"
   ]
  },
  {
   "cell_type": "code",
   "execution_count": 4,
   "id": "17469bee-27b5-4764-8259-8efd67c28594",
   "metadata": {},
   "outputs": [],
   "source": [
    "affix_data = CkipAffixoids(\"../data/ckip_affix\")"
   ]
  },
  {
   "cell_type": "code",
   "execution_count": 19,
   "id": "3e3d68d0-a4b9-4b02-ac00-0c729702b222",
   "metadata": {},
   "outputs": [
    {
     "name": "stdout",
     "output_type": "stream",
     "text": [
      "prefix 0 1214\n",
      "start-root 1215 2135\n",
      "suffix 2136 3754\n",
      "end-root 3755 4055\n"
     ]
    }
   ],
   "source": [
    "from itertools import groupby\n",
    "grp_iter = groupby([(i, x) for i, x in enumerate(affix_data)], key=lambda x: x[1].affixoid_type)\n",
    "for key, grp in grp_iter:\n",
    "    idxs = [x[0] for x in grp]\n",
    "    print(key, min(idxs), max(idxs))"
   ]
  },
  {
   "cell_type": "code",
   "execution_count": 6,
   "id": "6940054d-595a-499e-8658-ab42522de64c",
   "metadata": {},
   "outputs": [
    {
     "data": {
      "text/plain": [
       "4056"
      ]
     },
     "execution_count": 6,
     "metadata": {},
     "output_type": "execute_result"
    }
   ],
   "source": [
    "len(affix_data)"
   ]
  },
  {
   "cell_type": "code",
   "execution_count": 29,
   "id": "3a2a0408-b8bd-4d56-82b8-afb712465b1f",
   "metadata": {},
   "outputs": [],
   "source": [
    "affix_map = {}\n",
    "for affix_x in affix_data:\n",
    "    affix_map.setdefault(affix_x.affixoid, []).append(affix_x)"
   ]
  },
  {
   "cell_type": "code",
   "execution_count": 30,
   "id": "2d96eae9-d5c6-4683-884d-e8bfe5bcf448",
   "metadata": {},
   "outputs": [
    {
     "data": {
      "text/plain": [
       "2471"
      ]
     },
     "execution_count": 30,
     "metadata": {},
     "output_type": "execute_result"
    }
   ],
   "source": [
    "len(affix_map)"
   ]
  },
  {
   "cell_type": "code",
   "execution_count": 31,
   "id": "313dfeb8-61de-4bed-99e2-b790601a4a10",
   "metadata": {},
   "outputs": [],
   "source": [
    "affix_keys = sorted(affix_map.keys(), key=lambda x: -len(affix_map[x]))"
   ]
  },
  {
   "cell_type": "code",
   "execution_count": 32,
   "id": "3c7735e6-9ca8-4dba-a587-6de8153c9904",
   "metadata": {},
   "outputs": [
    {
     "data": {
      "text/plain": [
       "'view,opinion'"
      ]
     },
     "execution_count": 32,
     "metadata": {},
     "output_type": "execute_result"
    }
   ],
   "source": [
    "affix_map[affix_keys[2]][-2].meaning"
   ]
  },
  {
   "cell_type": "code",
   "execution_count": 41,
   "id": "201d3223-541b-47c8-bfa6-373a23dc5446",
   "metadata": {},
   "outputs": [],
   "source": [
    "# filter the affixoids as follows:\n",
    "# 1. words freq > 1\n",
    "# 2. word length is 2\n",
    "# 3. the word is composed of two different characters\n",
    "# 4. the word is not repeatedly listed in different affixoids\n",
    "poly_affixoids = {}\n",
    "same_pos_poly = []\n",
    "for word, affixoids in affix_map.items():\n",
    "    affixoids_buf = []\n",
    "    duplicated = set()\n",
    "    position_list = []\n",
    "    for aff_x in affixoids:\n",
    "        freq_filter = lambda ex: ex[1] > 1\n",
    "        wlen_filter = lambda ex: len(ex[0])==2\n",
    "        rep_filter = lambda ex: ex[0][0] != ex[0][1]\n",
    "        dup_filter = lambda ex: ex[0] not in duplicated\n",
    "        ex_iter = map(lambda x: x[1], aff_x.examples)\n",
    "        ex_iter = filter(freq_filter, ex_iter)\n",
    "        ex_iter = filter(wlen_filter, ex_iter)\n",
    "        ex_iter = filter(rep_filter, ex_iter)\n",
    "        ex_iter = filter(dup_filter, ex_iter)        \n",
    "        ex_list = sorted(list(ex_iter), key=lambda x: -x[1])\n",
    "        duplicated |= set(x[0] for x in ex_list)        \n",
    "        if len(ex_list) > 1:\n",
    "            affixoids_buf.append({\n",
    "                \"def\": getattr(aff_x, \"meaning\", \"\"),\n",
    "                \"ex\": ex_list[:5]\n",
    "            })\n",
    "            position_list.append(aff_x.position)\n",
    "            \n",
    "    if len(affixoids_buf) > 1:\n",
    "        poly_affixoids[word] = affixoids_buf\n",
    "    if len(position_list) != len(set(position_list)):\n",
    "        same_pos_poly.append(word)"
   ]
  },
  {
   "cell_type": "code",
   "execution_count": 42,
   "id": "f5e8730a-b125-4494-933c-b4e170158f72",
   "metadata": {},
   "outputs": [
    {
     "data": {
      "text/plain": [
       "189"
      ]
     },
     "execution_count": 42,
     "metadata": {},
     "output_type": "execute_result"
    }
   ],
   "source": [
    "len(same_pos_poly)"
   ]
  },
  {
   "cell_type": "code",
   "execution_count": 43,
   "id": "bec7036e-9e29-442a-8982-4214eea40607",
   "metadata": {},
   "outputs": [
    {
     "data": {
      "text/plain": [
       "[{'def': 'square',\n",
       "  'ex': [('方塊', 36), ('方形', 34), ('方格', 15), ('方舟', 8), ('方陣', 4)]},\n",
       " {'def': 'side,party',\n",
       "  'ex': [('警方', 1575), ('校方', 862), ('軍方', 232), ('檢方', 212), ('美方', 156)]},\n",
       " {'def': 'prescription', 'ex': [('良方', 22), ('妙方', 16), ('調方', 5)]}]"
      ]
     },
     "execution_count": 43,
     "metadata": {},
     "output_type": "execute_result"
    }
   ],
   "source": [
    "poly_affixoids[same_pos_poly[12]]"
   ]
  },
  {
   "cell_type": "code",
   "execution_count": 48,
   "id": "87f7337e-8e45-4d23-9842-393fcf7729ed",
   "metadata": {},
   "outputs": [
    {
     "data": {
      "text/plain": [
       "('迷',\n",
       " [{'def': \"enchant, lose one's bearings\",\n",
       "   'ex': [('迷宮', 169), ('迷思', 92), ('迷彩', 10), ('迷幻', 8), ('迷夢', 6)]},\n",
       "  {'def': 'fan',\n",
       "   'ex': [('樂迷', 81), ('賭迷', 17), ('彩迷', 16), ('馬迷', 6), ('張迷', 5)]}])"
      ]
     },
     "execution_count": 48,
     "metadata": {},
     "output_type": "execute_result"
    }
   ],
   "source": [
    "list(poly_affixoids.items())[318]"
   ]
  },
  {
   "cell_type": "code",
   "execution_count": 35,
   "id": "e6adc9b9-d24f-449d-94ef-4ba6cfd745d5",
   "metadata": {},
   "outputs": [
    {
     "data": {
      "text/plain": [
       "796"
      ]
     },
     "execution_count": 35,
     "metadata": {},
     "output_type": "execute_result"
    }
   ],
   "source": [
    "# number of words\n",
    "len(poly_affixoids)"
   ]
  },
  {
   "cell_type": "code",
   "execution_count": 36,
   "id": "b360eaf1-dfe1-4818-8027-2ea6b9cd84f6",
   "metadata": {},
   "outputs": [
    {
     "data": {
      "text/plain": [
       "1765"
      ]
     },
     "execution_count": 36,
     "metadata": {},
     "output_type": "execute_result"
    }
   ],
   "source": [
    "# total usages/meanings/affixoids\n",
    "sum(len(x) for x in poly_affixoids.values())"
   ]
  },
  {
   "cell_type": "code",
   "execution_count": 62,
   "id": "69bc48b2-a098-40ab-ab3f-98427959bd28",
   "metadata": {},
   "outputs": [
    {
     "data": {
      "text/plain": [
       "7072"
      ]
     },
     "execution_count": 62,
     "metadata": {},
     "output_type": "execute_result"
    }
   ],
   "source": [
    "# total example words count\n",
    "sum(len(usage[\"ex\"]) for affix_x in poly_affixoids.values() for usage in affix_x)"
   ]
  },
  {
   "cell_type": "code",
   "execution_count": 49,
   "id": "05298e10-0507-46b6-9cf9-92bf8ef05238",
   "metadata": {},
   "outputs": [
    {
     "data": {
      "text/plain": [
       "4.006798866855524"
      ]
     },
     "execution_count": 49,
     "metadata": {},
     "output_type": "execute_result"
    }
   ],
   "source": [
    "7072/1765"
   ]
  },
  {
   "cell_type": "code",
   "execution_count": 65,
   "id": "ccc90d60-4c22-4f99-9306-c4a881898609",
   "metadata": {},
   "outputs": [],
   "source": [
    "import json\n",
    "with open(\"../data/affix_dataset.json\", \"w\", encoding=\"UTF-8\") as fout:\n",
    "    json.dump(poly_affixoids, fout, indent=2, ensure_ascii=False)"
   ]
  },
  {
   "cell_type": "code",
   "execution_count": 44,
   "id": "cb9dc7ab-266b-418b-8f7f-08614ce0b86e",
   "metadata": {},
   "outputs": [],
   "source": [
    "import json\n",
    "with open(\"../data/affix_same_pos_poly.json\", \"w\", encoding=\"UTF-8\") as fout:\n",
    "    json.dump(same_pos_poly, fout, indent=2, ensure_ascii=False)"
   ]
  },
  {
   "cell_type": "code",
   "execution_count": 67,
   "id": "d61948c4-c6d2-4ba3-84a9-18f12609b3e2",
   "metadata": {},
   "outputs": [
    {
     "data": {
      "text/plain": [
       "('人',\n",
       " [{'def': 'human,person',\n",
       "   'ex': [('人生', 1987), ('人性', 634), ('人體', 522), ('人潮', 314), ('人氣', 170)]},\n",
       "  {'def': 'person',\n",
       "   'ex': [('華人', 540), ('法人', 443), ('漢人', 398), ('成人', 281), ('古人', 243)]}])"
      ]
     },
     "execution_count": 67,
     "metadata": {},
     "output_type": "execute_result"
    }
   ],
   "source": [
    "list(poly_affixoids.items())[2]"
   ]
  },
  {
   "cell_type": "code",
   "execution_count": null,
   "id": "5cee696e-9275-4b9d-b4b6-94b23a5e3fe6",
   "metadata": {},
   "outputs": [],
   "source": []
  }
 ],
 "metadata": {
  "kernelspec": {
   "display_name": "Python 3 (ipykernel)",
   "language": "python",
   "name": "python3"
  },
  "language_info": {
   "codemirror_mode": {
    "name": "ipython",
    "version": 3
   },
   "file_extension": ".py",
   "mimetype": "text/x-python",
   "name": "python",
   "nbconvert_exporter": "python",
   "pygments_lexer": "ipython3",
   "version": "3.10.2"
  }
 },
 "nbformat": 4,
 "nbformat_minor": 5
}
