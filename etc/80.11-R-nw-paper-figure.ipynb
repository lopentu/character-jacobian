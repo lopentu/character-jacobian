{
 "cells": [
  {
   "cell_type": "code",
   "execution_count": 1,
   "id": "a78178e0-04f8-4ac7-99d5-dcf5b6e61174",
   "metadata": {},
   "outputs": [
    {
     "name": "stderr",
     "output_type": "stream",
     "text": [
      "Loading required package: mgcv\n",
      "\n",
      "Loading required package: nlme\n",
      "\n",
      "This is mgcv 1.8-38. For overview type 'help(\"mgcv-package\")'.\n",
      "\n",
      "Loading required package: mgcViz\n",
      "\n",
      "Warning message:\n",
      "\"package 'mgcViz' was built under R version 4.1.3\"\n",
      "Loading required package: qgam\n",
      "\n",
      "Warning message:\n",
      "\"package 'qgam' was built under R version 4.1.3\"\n",
      "Loading required package: ggplot2\n",
      "\n",
      "Registered S3 method overwritten by 'GGally':\n",
      "  method from   \n",
      "  +.gg   ggplot2\n",
      "\n",
      "Registered S3 method overwritten by 'mgcViz':\n",
      "  method from  \n",
      "  +.gg   GGally\n",
      "\n",
      "\n",
      "Attaching package: 'mgcViz'\n",
      "\n",
      "\n",
      "The following objects are masked from 'package:stats':\n",
      "\n",
      "    qqline, qqnorm, qqplot\n",
      "\n",
      "\n",
      "Loading required package: lattice\n",
      "\n",
      "\n",
      "Attaching package: 'lattice'\n",
      "\n",
      "\n",
      "The following object is masked from 'package:mgcViz':\n",
      "\n",
      "    qq\n",
      "\n",
      "\n",
      "Loading required package: gridExtra\n",
      "\n",
      "Warning message:\n",
      "\"package 'gridExtra' was built under R version 4.1.3\"\n"
     ]
    }
   ],
   "source": [
    "require(mgcv)\n",
    "require(mgcViz)\n",
    "require(lattice)\n",
    "require(gridExtra)"
   ]
  },
  {
   "cell_type": "code",
   "execution_count": 2,
   "id": "ccf12d42-7d3f-4e3d-9955-691e82b152c9",
   "metadata": {},
   "outputs": [],
   "source": [
    "popt = function(w, h, d) { options(repr.plot.width=w, repr.plot.height=h, repr.plot.res=d )}"
   ]
  },
  {
   "cell_type": "code",
   "execution_count": 3,
   "id": "b1c6e0b0-a07d-49f1-b3f6-61c524b21578",
   "metadata": {},
   "outputs": [],
   "source": [
    "load(\"../data/80.01_stat_obj.RData\")"
   ]
  },
  {
   "cell_type": "code",
   "execution_count": 73,
   "id": "b516891d-3285-4b73-9885-b63155891a63",
   "metadata": {},
   "outputs": [],
   "source": [
    "names(vi.1) = gsub(\"smLogDistRange\", \"smDistRange\", names(vi.1))\n",
    "names(vi.2) = gsub(\"smLogDistRange\", \"smDistRange\", names(vi.2))\n",
    "\n",
    "dot.vi.err = dotplot(sort(vi.1), cex=2,        \n",
    "            xlab=list(\"Var. Importance\", cex=1.2),\n",
    "            scales=list(\n",
    "                x=list(cex=1.2, fontfamily=\"sans\", tick.number=4),\n",
    "                y=list(cex=1.2, fontfamily=\"sans\")))\n",
    "\n",
    "dot.vi.rt = dotplot(sort(vi.2), cex=2,        \n",
    "            xlab=list(\"Var. Importance\", cex=1.2),\n",
    "            scales=list(\n",
    "                x=list(cex=1.2, fontfamily=\"sans\"),\n",
    "                y=list(cex=1.2, fontfamily=\"sans\")))"
   ]
  },
  {
   "cell_type": "code",
   "execution_count": 74,
   "id": "20977b47-600d-4840-94d4-8907b7d31eec",
   "metadata": {},
   "outputs": [],
   "source": [
    "popt(8,8,100)\n",
    "err.0.vis = getViz(err.0)\n",
    "rtinv.0.vis = getViz(rtinv.0)\n",
    "# gam.err.0.smDistRange = plot(err.0.vis, select=1, shade=T)"
   ]
  },
  {
   "cell_type": "code",
   "execution_count": 131,
   "id": "1f721f50-931f-4f56-98d9-ab436f6a8d1d",
   "metadata": {},
   "outputs": [
    {
     "data": {
      "image/png": "[encoded data removed]",
      "text/plain": [
       "plot without title"
      ]
     },
     "metadata": {
      "image/png": {
       "height": 600,
       "width": 600
      }
     },
     "output_type": "display_data"
    }
   ],
   "source": [
    "popt(4, 4, 300)\n",
    "gtheme = theme(\n",
    "            axis.title.x=element_text(size=16, family=\"sans\"),\n",
    "            axis.title.y=element_text(size=14, family=\"sans\"),\n",
    "            axis.text.x=element_text(size=14, family=\"sans\"),\n",
    "            # aspect.ratio=1,\n",
    "            plot.margin = margin(40,10,40,10))\n",
    "\n",
    "wrap_mgcviz = function(x, label_x, label_y){\n",
    "    return (x + \n",
    "        xlab(label_x) + ylab(label_y) + \n",
    "        l_ciPoly()+l_fitLine()+l_rug() + \n",
    "        geom_hline(yintercept=0, linetype=\"dashed\", col=\"darkgray\") + \n",
    "        gtheme)\n",
    "}\n",
    "\n",
    "wrap_mgcviz(plot(sm(err.0.vis, 1)), \"smDistRange\", \"s(smDistRange)\")"
   ]
  },
  {
   "cell_type": "code",
   "execution_count": 132,
   "id": "c52423df-5cb8-4869-9e20-87a8acd5bfbf",
   "metadata": {},
   "outputs": [],
   "source": [
    "err.0.distRange = wrap_mgcviz(plot(sm(err.0.vis, 1))+ylim(-1.1, 1.1), \"smDistRange\", \"s(smDistRange)\")\n",
    "err.0.distmTop5 = wrap_mgcviz(plot(sm(err.0.vis, 2))+ylim(-1.1, 1.1), \"smDistTop5\", \"s(smDistTop5)\")\n",
    "rtinv.0.distRange = wrap_mgcviz(plot(sm(rtinv.0.vis, 1))+ylim(-0.12, 0.08), \"smDistRange\", \"s(smDistRange)\")\n",
    "rtinv.0.distmTop5 = wrap_mgcviz(plot(sm(rtinv.0.vis, 2))+ylim(-0.12, 0.08), \"smDistTop5\", \"s(smDistTop5)\")"
   ]
  },
  {
   "cell_type": "code",
   "execution_count": 133,
   "id": "22ea0c6e-ce2b-49e1-9492-211a6f33c971",
   "metadata": {},
   "outputs": [
    {
     "data": {
      "text/html": [
       "<strong>png:</strong> 2"
      ],
      "text/latex": [
       "\\textbf{png:} 2"
      ],
      "text/markdown": [
       "**png:** 2"
      ],
      "text/plain": [
       "png \n",
       "  2 "
      ]
     },
     "metadata": {},
     "output_type": "display_data"
    }
   ],
   "source": [
    "popt(12,7.5,300)\n",
    "require(grid)\n",
    "require(gridExtra)\n",
    "err.title = textGrob('Error Rate', y=-0.5, vjust=0, gp=gpar(fontsize=20, family=\"sans\"))\n",
    "rt.title = textGrob('Response Time', y=-1, gp=gpar(fontsize=20, family=\"sans\"))\n",
    "png(\"80.11-nw-paper-figure.png\", width=12, height=7.5, units=\"in\", res=300)\n",
    "gridPrint(dot.vi.err, err.0.distRange, err.0.distmTop5,           \n",
    "          dot.vi.rt, rtinv.0.distRange, rtinv.0.distmTop5, \n",
    "          err.title, rt.title,\n",
    "          layout_matrix = matrix(c(7,7,7,1,2,3,8,8,8,4,5,6), nrow=4, byrow=T),\n",
    "          widths=c(1,0.9,0.9), heights=c(0.1,1,0.01,1))\n",
    "dev.off()"
   ]
  },
  {
   "cell_type": "code",
   "execution_count": 87,
   "id": "d3e2b58c-8c3e-4dfb-9212-9f8c5fbebb28",
   "metadata": {},
   "outputs": [
    {
     "data": {
      "text/html": [
       "<strong>png:</strong> 3"
      ],
      "text/latex": [
       "\\textbf{png:} 3"
      ],
      "text/markdown": [
       "**png:** 3"
      ],
      "text/plain": [
       "png \n",
       "  3 "
      ]
     },
     "metadata": {},
     "output_type": "display_data"
    }
   ],
   "source": [
    "dev.off()"
   ]
  },
  {
   "cell_type": "code",
   "execution_count": null,
   "id": "86494aa4-1c32-431f-9146-ca6c4eb9e0ae",
   "metadata": {},
   "outputs": [],
   "source": []
  }
 ],
 "metadata": {
  "kernelspec": {
   "display_name": "R",
   "language": "R",
   "name": "ir"
  },
  "language_info": {
   "codemirror_mode": "r",
   "file_extension": ".r",
   "mimetype": "text/x-r-source",
   "name": "R",
   "pygments_lexer": "r",
   "version": "4.1.2"
  }
 },
 "nbformat": 4,
 "nbformat_minor": 5
}
