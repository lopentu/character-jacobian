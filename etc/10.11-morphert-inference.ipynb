{
 "cells": [
  {
   "cell_type": "code",
   "execution_count": 1,
   "metadata": {},
   "outputs": [],
   "source": [
    "%load_ext autoreload\n",
    "%autoreload 2"
   ]
  },
  {
   "cell_type": "code",
   "execution_count": 2,
   "metadata": {},
   "outputs": [],
   "source": [
    "import sys\n",
    "sys.path.append(\"../src\")"
   ]
  },
  {
   "cell_type": "code",
   "execution_count": 3,
   "metadata": {
    "executionInfo": {
     "elapsed": 395,
     "status": "ok",
     "timestamp": 1650719025009,
     "user": {
      "displayName": "Sean Tseng",
      "userId": "03959384370861675281"
     },
     "user_tz": -480
    },
    "id": "NxFRVvSmK_RL"
   },
   "outputs": [],
   "source": [
    "import numpy as np\n",
    "from tqdm.auto import tqdm\n",
    "import pickle\n",
    "import matplotlib.pyplot as plt\n",
    "import torch\n",
    "from torch.utils.data import Dataset, DataLoader\n",
    "from transformers import BertTokenizer, BertModel, BertPreTrainedModel\n",
    "from opencc import OpenCC\n",
    "from morphert.model import *\n",
    "from morphert.utils import compute_metric\n",
    "\n",
    "t2s = OpenCC('t2s')\n",
    "N = 500000"
   ]
  },
  {
   "cell_type": "markdown",
   "metadata": {
    "id": "OdIOCLD2-AHW"
   },
   "source": [
    "## Preprocessing Embeddings"
   ]
  },
  {
   "cell_type": "code",
   "execution_count": 4,
   "metadata": {
    "executionInfo": {
     "elapsed": 1049,
     "status": "ok",
     "timestamp": 1650716232470,
     "user": {
      "displayName": "Sean Tseng",
      "userId": "03959384370861675281"
     },
     "user_tz": -480
    },
    "id": "qzwpX9gTA3B4"
   },
   "outputs": [],
   "source": [
    "import json\n",
    "with open(\"../data/train_test_split_500k.json\", \"r\") as fin:\n",
    "    idxs = json.load(fin)\n",
    "    train_idxs = idxs[\"train\"]\n",
    "    test_idxs = idxs[\"test\"]"
   ]
  },
  {
   "cell_type": "code",
   "execution_count": 5,
   "metadata": {
    "executionInfo": {
     "elapsed": 6310,
     "status": "ok",
     "timestamp": 1650716240883,
     "user": {
      "displayName": "Sean Tseng",
      "userId": "03959384370861675281"
     },
     "user_tz": -480
    },
    "id": "xZh9nRu2B434"
   },
   "outputs": [],
   "source": [
    "with open(\"../data/tencent_small_500k.pkl\", \"rb\") as fin:\n",
    "    (vocabs, embs) = pickle.load(fin)"
   ]
  },
  {
   "cell_type": "code",
   "execution_count": 7,
   "metadata": {
    "colab": {
     "base_uri": "https://localhost:8080/"
    },
    "executionInfo": {
     "elapsed": 345,
     "status": "ok",
     "timestamp": 1650716244011,
     "user": {
      "displayName": "Sean Tseng",
      "userId": "03959384370861675281"
     },
     "user_tz": -480
    },
    "id": "PJ2jmHHboAuM",
    "outputId": "c187bc25-022c-46d6-fff4-22e23291b9b1"
   },
   "outputs": [
    {
     "data": {
      "text/plain": [
       "('说什么',\n",
       " array([ 0.11927852, -0.12477621, -0.00780427, -0.20220207, -0.12248462,\n",
       "         0.09576039, -0.1549168 , -0.05301735,  0.02143643,  0.1200113 ]))"
      ]
     },
     "execution_count": 7,
     "metadata": {},
     "output_type": "execute_result"
    }
   ],
   "source": [
    "vocabs[6558], embs[6558][:10]"
   ]
  },
  {
   "cell_type": "markdown",
   "metadata": {
    "id": "ecomODhOCIW6"
   },
   "source": [
    "## Prepare Dataset"
   ]
  },
  {
   "cell_type": "code",
   "execution_count": 8,
   "metadata": {
    "executionInfo": {
     "elapsed": 2,
     "status": "ok",
     "timestamp": 1650716384095,
     "user": {
      "displayName": "Sean Tseng",
      "userId": "03959384370861675281"
     },
     "user_tz": -480
    },
    "id": "52ASG8bqCkDw"
   },
   "outputs": [],
   "source": [
    "train_dataset = MorphertDataset(train_idxs, vocabs, embs)\n",
    "test_dataset = MorphertDataset(test_idxs, vocabs, embs)"
   ]
  },
  {
   "cell_type": "code",
   "execution_count": 9,
   "metadata": {
    "colab": {
     "base_uri": "https://localhost:8080/"
    },
    "executionInfo": {
     "elapsed": 2,
     "status": "ok",
     "timestamp": 1650716385673,
     "user": {
      "displayName": "Sean Tseng",
      "userId": "03959384370861675281"
     },
     "user_tz": -480
    },
    "id": "PEym2AkWCna5",
    "outputId": "e2da5c06-84e6-4fe5-f72b-fe88f7dfd0c7"
   },
   "outputs": [
    {
     "data": {
      "text/plain": [
       "(490000, 10000)"
      ]
     },
     "execution_count": 9,
     "metadata": {},
     "output_type": "execute_result"
    }
   ],
   "source": [
    "len(train_dataset), len(test_dataset)"
   ]
  },
  {
   "cell_type": "code",
   "execution_count": 10,
   "metadata": {
    "colab": {
     "base_uri": "https://localhost:8080/",
     "height": 113,
     "referenced_widgets": [
      "d73d84e0834e465ead38744ec6be04d0",
      "80b735397dba4536a96c295058dc1f5a",
      "f1cd4ed00c424d6db83b0e6a9c0ff84b",
      "8770a263a174448cabe07d3047d7fa18",
      "b5356c15878346b29b76c80d204eeab5",
      "5d22cb5dd7dc4f90ac06be0acba93c08",
      "3d80bea9c54344e9a8b87bf9864357ee",
      "61fc623c2e5e44feb48238e0776887af",
      "6cc1ed14bd2140c8a144b225aa8d6e1d",
      "e519e212e7f64be8a1af1f9cdea9f5f2",
      "4676d571efc24710adcac8eca67307e3",
      "3c1b80424275439c851bd8e080e82987",
      "3ec1315acb234dd9beb5cf23e9b21b90",
      "e2ba46ef427c4303a2ac5eaa8e0c6d97",
      "c0fd875236924c698c85f779a532cc56",
      "ee83c4f1bfd74955999c633f57aeed9c",
      "c2a91e1a1ed947e2b36761388c66d7d8",
      "d104e7c773e54d1ca772a28798f2f3d3",
      "04f90576c99544a280c430a317873998",
      "6eab542839934df9bc23b3cccadfada4",
      "7bdfe54b4c9a4caeb919336c1403983c",
      "1b37737a6d254478ab7e4fdb233ee1ae",
      "bf7e19b16fa44c6ca88f59113f9de008",
      "209bf9db11624b649ac34d7018040357",
      "501baae0dab941aeadd63133262d930e",
      "db17117a4d6e42788b5661e0149444d8",
      "ab6e7ed849f449368e58fa7f6b3fc180",
      "49df5b176cde4f258cf3e31d678a955c",
      "74abeffb3f24451bb1658bd3e23cac99",
      "a271dcf22eae4f479a47dbb814233d43",
      "3fc11447edce45c98f58377a0b8959fa",
      "21d7e494a3bb428eab70402b1846b66e",
      "753a7b42a65b4848b3f587edf0be014d"
     ]
    },
    "executionInfo": {
     "elapsed": 3543,
     "status": "ok",
     "timestamp": 1650716394365,
     "user": {
      "displayName": "Sean Tseng",
      "userId": "03959384370861675281"
     },
     "user_tz": -480
    },
    "id": "gkO2lzruEE-1",
    "outputId": "f12eeb51-5050-4dff-a640-8679f26258a5"
   },
   "outputs": [],
   "source": [
    "tokenizer = BertTokenizer.from_pretrained(\"bert-base-chinese\")"
   ]
  },
  {
   "cell_type": "markdown",
   "metadata": {
    "id": "gAEF-0iyUb0r"
   },
   "source": [
    "## Evaluation"
   ]
  },
  {
   "cell_type": "code",
   "execution_count": 11,
   "metadata": {
    "executionInfo": {
     "elapsed": 8783,
     "status": "ok",
     "timestamp": 1650716437485,
     "user": {
      "displayName": "Sean Tseng",
      "userId": "03959384370861675281"
     },
     "user_tz": -480
    },
    "id": "_VHzuZi5dzqC"
   },
   "outputs": [],
   "source": [
    "base_dir = \"../data\"\n",
    "model = MorphertModel.from_pretrained(base_dir + \"/morphert_500k\")\n",
    "collator_fn = DataCollator(tokenizer)\n",
    "model = model.to(\"cuda\")"
   ]
  },
  {
   "cell_type": "markdown",
   "metadata": {
    "id": "tJaJO605UhF5"
   },
   "source": [
    "### Training set predictions"
   ]
  },
  {
   "cell_type": "code",
   "execution_count": 12,
   "metadata": {
    "executionInfo": {
     "elapsed": 329,
     "status": "ok",
     "timestamp": 1650716461541,
     "user": {
      "displayName": "Sean Tseng",
      "userId": "03959384370861675281"
     },
     "user_tz": -480
    },
    "id": "-T7L8KE2Ujp-"
   },
   "outputs": [],
   "source": [
    "rng = np.random.RandomState(123)\n",
    "sub_idxs = np.arange(len(train_idxs))\n",
    "rng.shuffle(sub_idxs)\n",
    "sub_train = MorphertDataset(sub_idxs[:10000], vocabs, embs)\n",
    "sub_train_emb = np.vstack([sub_train[i][\"vec\"] for i in range(len(sub_train))])"
   ]
  },
  {
   "cell_type": "code",
   "execution_count": 15,
   "metadata": {
    "colab": {
     "base_uri": "https://localhost:8080/"
    },
    "executionInfo": {
     "elapsed": 14966,
     "status": "ok",
     "timestamp": 1650716479960,
     "user": {
      "displayName": "Sean Tseng",
      "userId": "03959384370861675281"
     },
     "user_tz": -480
    },
    "id": "euN5ITm4U_l9",
    "outputId": "ae414bee-586f-463d-c92a-18e4376bd33e"
   },
   "outputs": [
    {
     "name": "stdout",
     "output_type": "stream",
     "text": [
      "Train(subsample) Acc: 0.7062\n"
     ]
    }
   ],
   "source": [
    "model.eval()\n",
    "sub_train_loader = DataLoader(sub_train, collate_fn=collator_fn, batch_size=16, shuffle=True)\n",
    "n_correct = 0\n",
    "n_items = 0\n",
    "with torch.no_grad():\n",
    "    for batch_x in tqdm(sub_train_loader):        \n",
    "        out = model(**batch_x)\n",
    "        ref_words = batch_x[\"words\"]\n",
    "        pred_vecs = out.predictions.cpu().numpy()\n",
    "        n_correct_x = compute_metric(ref_words, pred_vecs, sub_train_emb, sub_train)\n",
    "        n_correct += n_correct_x\n",
    "        n_items += len(ref_words)\n",
    "print(\"Train(subsample) Acc: {:.4f}\".format(n_correct / n_items))"
   ]
  },
  {
   "cell_type": "markdown",
   "metadata": {
    "id": "QB8OW5zsVM8v"
   },
   "source": [
    "### Test eval"
   ]
  },
  {
   "cell_type": "code",
   "execution_count": 16,
   "metadata": {
    "executionInfo": {
     "elapsed": 2,
     "status": "ok",
     "timestamp": 1650716484154,
     "user": {
      "displayName": "Sean Tseng",
      "userId": "03959384370861675281"
     },
     "user_tz": -480
    },
    "id": "qz4nnT2bfEEp"
   },
   "outputs": [],
   "source": [
    "test_dataset = MorphertDataset(test_idxs, vocabs, embs)\n",
    "test_emb = np.vstack([test_dataset[i][\"vec\"] for i in range(len(test_dataset))])\n",
    "test_loader = DataLoader(test_dataset, collate_fn=collator_fn, batch_size=16, shuffle=False)"
   ]
  },
  {
   "cell_type": "code",
   "execution_count": 17,
   "metadata": {
    "colab": {
     "base_uri": "https://localhost:8080/",
     "height": 67,
     "referenced_widgets": [
      "38b5a1bc73644c01a0aac9d4641ec3fa",
      "85f69b07838547c79cf5438e6b2e0700",
      "36d632f769c34909aadea95e495682f1",
      "043e20780341460dab8b45dcb4c78aa2",
      "f61adf70f5434832b5efcdb830361480",
      "9eb0fad0f85f41f9b2ed2aa83e566c96",
      "1294a332865d46a7869dd5bd6bbb1ba0",
      "d65ba2a666c043f0b024773491d3eed6",
      "ff3d7784c72d4a36a3ab6e6f0930bb5d",
      "c794b689cb6e411db405bbaeb43dc4ab",
      "4a4ab0ad191e49f6bdca2810ec7c7126"
     ]
    },
    "executionInfo": {
     "elapsed": 14337,
     "status": "ok",
     "timestamp": 1650716501709,
     "user": {
      "displayName": "Sean Tseng",
      "userId": "03959384370861675281"
     },
     "user_tz": -480
    },
    "id": "CJ8KL40IfRgO",
    "outputId": "e0d9f855-4f00-41f2-d145-48ba81e4755e"
   },
   "outputs": [
    {
     "data": {
      "application/vnd.jupyter.widget-view+json": {
       "model_id": "1539778f74f3429aa73971d69077ddd2",
       "version_major": 2,
       "version_minor": 0
      },
      "text/plain": [
       "  0%|          | 0/625 [00:00<?, ?it/s]"
      ]
     },
     "metadata": {},
     "output_type": "display_data"
    },
    {
     "name": "stdout",
     "output_type": "stream",
     "text": [
      "Test Acc: 0.6693\n"
     ]
    }
   ],
   "source": [
    "model.eval()\n",
    "n_correct = 0\n",
    "n_items = 0\n",
    "with torch.no_grad():\n",
    "    for batch_x in tqdm(test_loader):        \n",
    "        out = model(**batch_x)\n",
    "        ref_words = batch_x[\"words\"]\n",
    "        pred_vecs = out.predictions.cpu().numpy()\n",
    "        n_correct_x = compute_metric(ref_words, pred_vecs, test_emb, test_dataset)\n",
    "        n_correct += n_correct_x\n",
    "        n_items += len(ref_words)    \n",
    "print(\"Test Acc: {:.4f}\".format(n_correct / n_items))"
   ]
  },
  {
   "cell_type": "markdown",
   "metadata": {
    "id": "vkkG2SQ-1RHM"
   },
   "source": [
    "### First K item accuracies\n",
    "* k = 500, .89\n",
    "* k = 1000, .82\n",
    "* k = 2000, .78\n",
    "* k = 6000, .70"
   ]
  },
  {
   "cell_type": "code",
   "execution_count": 13,
   "metadata": {
    "executionInfo": {
     "elapsed": 555,
     "status": "ok",
     "timestamp": 1650718324305,
     "user": {
      "displayName": "Sean Tseng",
      "userId": "03959384370861675281"
     },
     "user_tz": -480
    },
    "id": "2KDDGHBb1QwL"
   },
   "outputs": [],
   "source": [
    "k = 6000\n",
    "testK_dataset = MorphertDataset(sorted(test_idxs)[:k], vocabs, embs)\n",
    "testK_emb = np.vstack([testK_dataset[i][\"vec\"] for i in range(len(testK_dataset))])\n",
    "testK_loader = DataLoader(testK_dataset, collate_fn=collator_fn, batch_size=16, shuffle=False)"
   ]
  },
  {
   "cell_type": "code",
   "execution_count": 14,
   "metadata": {
    "colab": {
     "base_uri": "https://localhost:8080/",
     "height": 67,
     "referenced_widgets": [
      "213390d4166e4b33ad05fc6035167465",
      "9aebb316f3774ec2a2fdb736e93f67e4",
      "46286a612f0341a8806d05a13c55074a",
      "29d55612b2a24727915c26df4e8d1229",
      "776c5ca8ecd646b0a5788467ad8603be",
      "cda49ef94ee44010aad5a1098afe72c0",
      "bf5eded8bd8f4a65a8c1703729b39920",
      "9225cd51a8404a9882653f210a8a73ab",
      "e67859b73fd84727ad4bd1b7534d8a53",
      "f011635472a64c278b0a057a119de280",
      "cadfa960581a49d3aa0f96e5fef5532a"
     ]
    },
    "executionInfo": {
     "elapsed": 6668,
     "status": "ok",
     "timestamp": 1650717211257,
     "user": {
      "displayName": "Sean Tseng",
      "userId": "03959384370861675281"
     },
     "user_tz": -480
    },
    "id": "jjlLD-Av1Pyz",
    "outputId": "3a0f55b2-2ed2-419c-980f-f686ab14ce6c"
   },
   "outputs": [
    {
     "data": {
      "application/vnd.jupyter.widget-view+json": {
       "model_id": "76b972ca929a453d9a435ed092d01c52",
       "version_major": 2,
       "version_minor": 0
      },
      "text/plain": [
       "  0%|          | 0/375 [00:00<?, ?it/s]"
      ]
     },
     "metadata": {},
     "output_type": "display_data"
    },
    {
     "name": "stdout",
     "output_type": "stream",
     "text": [
      "Test1k Acc: 0.6998\n"
     ]
    }
   ],
   "source": [
    "model.eval()\n",
    "n_correct = 0\n",
    "n_items = 0\n",
    "with torch.no_grad():\n",
    "    for batch_x in tqdm(testK_loader):        \n",
    "        out = model(**batch_x)\n",
    "        ref_words = batch_x[\"words\"]\n",
    "        pred_vecs = out.predictions.cpu().numpy()\n",
    "        n_correct_x = compute_metric(ref_words, pred_vecs, testK_emb, testK_dataset)\n",
    "        n_correct += n_correct_x\n",
    "        n_items += len(ref_words)    \n",
    "print(\"Test1k Acc: {:.4f}\".format(n_correct / n_items))"
   ]
  },
  {
   "cell_type": "code",
   "execution_count": 15,
   "metadata": {
    "colab": {
     "base_uri": "https://localhost:8080/"
    },
    "executionInfo": {
     "elapsed": 455,
     "status": "ok",
     "timestamp": 1650718376212,
     "user": {
      "displayName": "Sean Tseng",
      "userId": "03959384370861675281"
     },
     "user_tz": -480
    },
    "id": "ZK42-0WvaZDL",
    "outputId": "88037244-7c2f-4ab2-c1af-a3cd6b9e022b"
   },
   "outputs": [
    {
     "data": {
      "text/plain": [
       "[(2, 1817), (4, 1794), (3, 1299), (5, 428), (6, 230)]"
      ]
     },
     "execution_count": 15,
     "metadata": {},
     "output_type": "execute_result"
    }
   ],
   "source": [
    "from collections import Counter\n",
    "Counter(len(x[\"word\"]) for x in testK_dataset).most_common(5)"
   ]
  },
  {
   "cell_type": "code",
   "execution_count": 16,
   "metadata": {
    "executionInfo": {
     "elapsed": 2,
     "status": "ok",
     "timestamp": 1650717339034,
     "user": {
      "displayName": "Sean Tseng",
      "userId": "03959384370861675281"
     },
     "user_tz": -480
    },
    "id": "9j_figApY-_n"
   },
   "outputs": [],
   "source": [
    "k = 6000\n",
    "bisyll_idx = [x for x in sorted(test_idxs) if 1<len(vocabs[x])<=4]\n",
    "bisyll_dataset = MorphertDataset(bisyll_idx[:k], vocabs, embs)\n",
    "bisyll_emb = np.vstack([bisyll_dataset[i][\"vec\"] for i in range(len(bisyll_dataset))])\n",
    "bisyll_loader = DataLoader(bisyll_dataset, collate_fn=collator_fn, batch_size=16, shuffle=False)"
   ]
  },
  {
   "cell_type": "code",
   "execution_count": 17,
   "metadata": {
    "colab": {
     "base_uri": "https://localhost:8080/"
    },
    "executionInfo": {
     "elapsed": 3,
     "status": "ok",
     "timestamp": 1650717350162,
     "user": {
      "displayName": "Sean Tseng",
      "userId": "03959384370861675281"
     },
     "user_tz": -480
    },
    "id": "sB7znixZX1MZ",
    "outputId": "1702697b-f66e-43e4-a039-bc1f11c5787f"
   },
   "outputs": [
    {
     "data": {
      "text/plain": [
       "Counter({2: 2076, 3: 1595, 4: 2329})"
      ]
     },
     "execution_count": 17,
     "metadata": {},
     "output_type": "execute_result"
    }
   ],
   "source": [
    "from collections import Counter\n",
    "Counter(len(x[\"word\"]) for x in bisyll_dataset)"
   ]
  },
  {
   "cell_type": "code",
   "execution_count": 18,
   "metadata": {
    "colab": {
     "base_uri": "https://localhost:8080/",
     "height": 67,
     "referenced_widgets": [
      "5e8b2004e14c4d288001f05804ab3b2a",
      "ed386efdf3dd41ecacd1c5ae85dafe3e",
      "3c0e33ea14f647e8977576d9e2aa3b7f",
      "d0122bb010374e4ba9ea485aa206e038",
      "abbdf8ada81944308a3fae6834678c75",
      "6ae10b5ca70043499fb6aa2907b8ce28",
      "dbc25643811a4665909fb02aabc533b0",
      "75e39c457b9d4324bfa3a60bb399f85f",
      "9206ed26c4864e5eb217adfd16b909f4",
      "6b525789e1c948fc915dbee88b068a8f",
      "a088c34688654faa9a12f579ed9f3fbd"
     ]
    },
    "executionInfo": {
     "elapsed": 6295,
     "status": "ok",
     "timestamp": 1650717359767,
     "user": {
      "displayName": "Sean Tseng",
      "userId": "03959384370861675281"
     },
     "user_tz": -480
    },
    "id": "bYqZz_uiaL15",
    "outputId": "b7a131c8-1b05-4523-e184-daba4e402dc6"
   },
   "outputs": [
    {
     "data": {
      "application/vnd.jupyter.widget-view+json": {
       "model_id": "1739ac42c6664c1d978e928a58e5dd6c",
       "version_major": 2,
       "version_minor": 0
      },
      "text/plain": [
       "  0%|          | 0/375 [00:00<?, ?it/s]"
      ]
     },
     "metadata": {},
     "output_type": "display_data"
    },
    {
     "name": "stdout",
     "output_type": "stream",
     "text": [
      "Bisyll Acc: 0.7222\n"
     ]
    }
   ],
   "source": [
    "model.eval()\n",
    "n_correct = 0\n",
    "n_items = 0\n",
    "with torch.no_grad():\n",
    "    for batch_x in tqdm(bisyll_loader):        \n",
    "        out = model(**batch_x)\n",
    "        ref_words = batch_x[\"words\"]\n",
    "        pred_vecs = out.predictions.cpu().numpy()\n",
    "        n_correct_x = compute_metric(ref_words, pred_vecs, bisyll_emb, bisyll_dataset)\n",
    "        n_correct += n_correct_x\n",
    "        n_items += len(ref_words)    \n",
    "print(\"Bisyll Acc: {:.4f}\".format(n_correct / n_items))"
   ]
  },
  {
   "cell_type": "markdown",
   "metadata": {
    "id": "uD0FqM-LhVQP"
   },
   "source": [
    "## Prediction Exploration"
   ]
  },
  {
   "cell_type": "code",
   "execution_count": 19,
   "metadata": {
    "executionInfo": {
     "elapsed": 1467,
     "status": "ok",
     "timestamp": 1650717587941,
     "user": {
      "displayName": "Sean Tseng",
      "userId": "03959384370861675281"
     },
     "user_tz": -480
    },
    "id": "AZJoeRsThjTp"
   },
   "outputs": [],
   "source": [
    "full_ds = MorphertDataset(np.arange(N), vocabs, embs)\n",
    "full_emb = np.vstack([full_ds[i][\"vec\"] for i in range(N)])"
   ]
  },
  {
   "cell_type": "code",
   "execution_count": 44,
   "metadata": {
    "executionInfo": {
     "elapsed": 620,
     "status": "ok",
     "timestamp": 1650717573313,
     "user": {
      "displayName": "Sean Tseng",
      "userId": "03959384370861675281"
     },
     "user_tz": -480
    },
    "id": "ryFMKR0ghnFm"
   },
   "outputs": [],
   "source": [
    "from morphert import (get_predict_neighbors_fn, \n",
    "                      get_predict_vectors_fn, \n",
    "                      get_print_neighbors_fn,\n",
    "                      get_predict_from_token_fn)\n",
    "from morphert import compute_space_indices"
   ]
  },
  {
   "cell_type": "code",
   "execution_count": 45,
   "metadata": {},
   "outputs": [],
   "source": [
    "predict_neighbors = get_predict_neighbors_fn(tokenizer, model, full_emb, full_ds)\n",
    "print_neighbors = get_print_neighbors_fn(tokenizer, model, full_emb, full_ds)\n",
    "predict_vectors = get_predict_vectors_fn(tokenizer, model)\n",
    "predict_from_token = get_predict_from_token_fn(tokenizer, model)"
   ]
  },
  {
   "cell_type": "code",
   "execution_count": 46,
   "metadata": {
    "colab": {
     "base_uri": "https://localhost:8080/"
    },
    "executionInfo": {
     "elapsed": 997,
     "status": "ok",
     "timestamp": 1650718670193,
     "user": {
      "displayName": "Sean Tseng",
      "userId": "03959384370861675281"
     },
     "user_tz": -480
    },
    "id": "pKQEFo5Kjivd",
    "outputId": "054b5c17-89a4-49a9-eb78-381a1d919aa3"
   },
   "outputs": [
    {
     "name": "stdout",
     "output_type": "stream",
     "text": [
      "  政府: 政府 政府部门 是政府 财政 部门\n",
      "  電影: 電影 劇情 電視劇 紀錄片 喜劇\n",
      "  鍵盤: 鍵盤 電腦 開關 機器 鍵\n",
      "* 歡天喜地: 快樂 開心 歡樂 慶祝 聯\n",
      "  欢天喜地: 欢天喜地 欢欢喜喜 喜气洋洋 高高兴兴 笑逐颜开\n",
      "* 無三不成禮: 絕對 罷 禮 應 絕\n",
      "* 傅潘達: 傑克 兩人 當時 他們 演員\n"
     ]
    }
   ],
   "source": [
    "print_neighbors([\"政府\", \"電影\", \"鍵盤\", \"歡天喜地\", \"欢天喜地\", \"無三不成禮\", \"傅潘達\"])"
   ]
  },
  {
   "cell_type": "code",
   "execution_count": 57,
   "metadata": {},
   "outputs": [
    {
     "name": "stdout",
     "output_type": "stream",
     "text": [
      "  電: 開關 電源 燈 電 電力 電池 機器 電器 電子 壓\n",
      "  電: 電 电 熱 網 機 線 動 腦 視 車\n"
     ]
    }
   ],
   "source": [
    "tgt_token = \"電\"\n",
    "print_neighbors(tgt_token, topk=10)\n",
    "print(f\"  {tgt_token}:\", \" \".join(predict_from_token(tgt_token, topk=10)))"
   ]
  },
  {
   "cell_type": "code",
   "execution_count": 61,
   "metadata": {},
   "outputs": [
    {
     "data": {
      "application/vnd.jupyter.widget-view+json": {
       "model_id": "982156a25f72475daec9136c7208d476",
       "version_major": 2,
       "version_minor": 0
      },
      "text/plain": [
       "  0%|          | 0/21128 [00:00<?, ?it/s]"
      ]
     },
     "metadata": {},
     "output_type": "display_data"
    }
   ],
   "source": [
    "tok_not_in_tencent = [x for x in tqdm(tokenizer.vocab.keys()) if x not in full_ds.vocabs]"
   ]
  },
  {
   "cell_type": "code",
   "execution_count": 62,
   "metadata": {},
   "outputs": [
    {
     "data": {
      "text/plain": [
       "11515"
      ]
     },
     "execution_count": 62,
     "metadata": {},
     "output_type": "execute_result"
    }
   ],
   "source": [
    "len(tok_not_in_tencent)"
   ]
  },
  {
   "cell_type": "code",
   "execution_count": 34,
   "metadata": {},
   "outputs": [
    {
     "data": {
      "text/plain": [
       "[<NeighborPrediction 政林: 文斌 明远 明辉 林山 海平>,\n",
       " <NeighborPrediction 電是: 電池 電源 開關 電流 電壓>]"
      ]
     },
     "execution_count": 34,
     "metadata": {},
     "output_type": "execute_result"
    }
   ],
   "source": [
    "preds = predict_neighbors([\"政林\", \"電是\"])\n",
    "preds"
   ]
  },
  {
   "cell_type": "code",
   "execution_count": 39,
   "metadata": {},
   "outputs": [
    {
     "data": {
      "text/plain": [
       "array([[0.90213863, 0.89920681, 0.89553375, 0.88169451, 0.87605841]])"
      ]
     },
     "execution_count": 39,
     "metadata": {},
     "output_type": "execute_result"
    }
   ],
   "source": [
    "compute_space_indices(preds[1])"
   ]
  },
  {
   "cell_type": "code",
   "execution_count": 33,
   "metadata": {
    "colab": {
     "base_uri": "https://localhost:8080/"
    },
    "executionInfo": {
     "elapsed": 1161,
     "status": "ok",
     "timestamp": 1647622937059,
     "user": {
      "displayName": "Sean Tseng",
      "photoUrl": "https://lh3.googleusercontent.com/a-/AOh14GisdTmjr7lVhEI-xWAr-ufF73UTtr1WWn7upEGv23A=s64",
      "userId": "03959384370861675281"
     },
     "user_tz": -480
    },
    "id": "DzvuzDXi5bXD",
    "outputId": "764f6263-17c1-48ff-e4a0-fd454c84dbbc"
   },
   "outputs": [
    {
     "name": "stdout",
     "output_type": "stream",
     "text": [
      "  名: 名 个 名子 名字 位\n",
      "* 名古: 奇珍 稀世 古老 三绝 八景\n",
      "  名古屋: 大阪 福冈 名古屋 东京 日本东京\n",
      "* 名古屋大: 日本东京 福冈 大阪 名古屋 新宿\n",
      "* 名古屋大學: 國立 學院 教師 東京 大學\n",
      "* 古屋大學: 國立 學院 教師 學生會 大學\n",
      "* 屋大學: 學院 國立 倫敦 實驗室 英國\n",
      "  大學: 大學 學校 學院 中學 小學\n",
      "  學: 學習 學 讀 習 大學\n"
     ]
    }
   ],
   "source": [
    "word = \"名古屋大學\"\n",
    "predict_neighbors([word[:i] for i in range(1, len(word)+1)])\n",
    "predict_neighbors([word[-i:] for i in range(len(word)-1, 0, -1)])"
   ]
  },
  {
   "cell_type": "code",
   "execution_count": 34,
   "metadata": {
    "colab": {
     "base_uri": "https://localhost:8080/"
    },
    "executionInfo": {
     "elapsed": 390,
     "status": "ok",
     "timestamp": 1650719177063,
     "user": {
      "displayName": "Sean Tseng",
      "userId": "03959384370861675281"
     },
     "user_tz": -480
    },
    "id": "W2tzo9yAhk0M",
    "outputId": "a2598c44-6b68-4ec9-e67f-7f82b8ab9b33"
   },
   "outputs": [
    {
     "data": {
      "text/plain": [
       "array([[-0.0001821 ,  0.00868429, -0.00764077, ..., -0.03098033,\n",
       "        -0.00660864, -0.00147766],\n",
       "       [-0.0099496 ,  0.00413624, -0.00812588, ..., -0.06616209,\n",
       "        -0.01035381,  0.00638527],\n",
       "       [ 0.00853468, -0.00175859, -0.01403376, ..., -0.04447036,\n",
       "         0.0183649 ,  0.01120223],\n",
       "       ...,\n",
       "       [-0.01567218,  0.02754869,  0.01669503, ..., -0.03805819,\n",
       "         0.00735981, -0.00570755],\n",
       "       [-0.00579407,  0.03675492, -0.01893283, ..., -0.01591158,\n",
       "        -0.02278237, -0.04126066],\n",
       "       [ 0.00444494,  0.07190142, -0.04078597, ...,  0.02001504,\n",
       "        -0.00944421, -0.02104169]], dtype=float32)"
      ]
     },
     "execution_count": 34,
     "metadata": {},
     "output_type": "execute_result"
    }
   ],
   "source": [
    "model.bert.embeddings.position_embeddings.weight.detach().cpu().numpy()"
   ]
  },
  {
   "cell_type": "code",
   "execution_count": 35,
   "metadata": {
    "colab": {
     "base_uri": "https://localhost:8080/",
     "height": 287
    },
    "executionInfo": {
     "elapsed": 1049,
     "status": "ok",
     "timestamp": 1650719266330,
     "user": {
      "displayName": "Sean Tseng",
      "userId": "03959384370861675281"
     },
     "user_tz": -480
    },
    "id": "mtm0xYwG-fRU",
    "outputId": "c6edc3c7-5d3f-41fc-93c0-ae5bce2d9a5d"
   },
   "outputs": [
    {
     "data": {
      "text/plain": [
       "<matplotlib.image.AxesImage at 0x1d8a11c3370>"
      ]
     },
     "execution_count": 35,
     "metadata": {},
     "output_type": "execute_result"
    },
    {
     "data": {
      "image/png": "[encoded data removed]",
      "text/plain": [
       "<Figure size 432x288 with 1 Axes>"
      ]
     },
     "metadata": {
      "needs_background": "light"
     },
     "output_type": "display_data"
    }
   ],
   "source": [
    "plt.imshow(model.bert.embeddings.position_embeddings.weight.detach().cpu().numpy(), vmin=-0.05, vmax=0.05)"
   ]
  },
  {
   "cell_type": "code",
   "execution_count": 36,
   "metadata": {
    "colab": {
     "base_uri": "https://localhost:8080/"
    },
    "executionInfo": {
     "elapsed": 423,
     "status": "ok",
     "timestamp": 1650719693113,
     "user": {
      "displayName": "Sean Tseng",
      "userId": "03959384370861675281"
     },
     "user_tz": -480
    },
    "id": "8eiynnW0gged",
    "outputId": "65464136-1ecc-46f5-ca46-16084ecf2785"
   },
   "outputs": [
    {
     "data": {
      "text/plain": [
       "tensor([[[-0.6767,  0.6250,  0.9545,  ...,  0.4151,  0.1406,  0.3705],\n",
       "         [ 0.4629,  0.5397,  0.1355,  ..., -0.2454,  0.2921, -0.4961]]],\n",
       "       device='cuda:0', grad_fn=<NativeLayerNormBackward0>)"
      ]
     },
     "execution_count": 36,
     "metadata": {},
     "output_type": "execute_result"
    }
   ],
   "source": [
    "model.bert.embeddings(torch.tensor([[1000,1002]]).to(\"cuda\"))"
   ]
  },
  {
   "cell_type": "code",
   "execution_count": 37,
   "metadata": {
    "colab": {
     "base_uri": "https://localhost:8080/"
    },
    "executionInfo": {
     "elapsed": 3,
     "status": "ok",
     "timestamp": 1650719695469,
     "user": {
      "displayName": "Sean Tseng",
      "userId": "03959384370861675281"
     },
     "user_tz": -480
    },
    "id": "nzGL6QLNjrz_",
    "outputId": "bd654959-c6af-4b01-ed3e-4e10af675d27"
   },
   "outputs": [
    {
     "data": {
      "text/plain": [
       "tensor([[[ 0.4465,  0.4691,  0.1123,  ...,  0.0831,  0.2598, -0.4699],\n",
       "         [-0.9721,  0.7282,  1.2025,  ...,  0.1829,  0.1353,  0.5788]]],\n",
       "       device='cuda:0', grad_fn=<NativeLayerNormBackward0>)"
      ]
     },
     "execution_count": 37,
     "metadata": {},
     "output_type": "execute_result"
    }
   ],
   "source": [
    "model.bert.embeddings(torch.tensor([[1002,1000]]).to(\"cuda\"))"
   ]
  },
  {
   "cell_type": "code",
   "execution_count": 38,
   "metadata": {
    "executionInfo": {
     "elapsed": 356,
     "status": "ok",
     "timestamp": 1650719744377,
     "user": {
      "displayName": "Sean Tseng",
      "userId": "03959384370861675281"
     },
     "user_tz": -480
    },
    "id": "LBtAM6ffj51O"
   },
   "outputs": [],
   "source": [
    "p1 = model.bert.embeddings.position_embeddings(torch.tensor([[1]]).to(\"cuda\"))"
   ]
  },
  {
   "cell_type": "code",
   "execution_count": 39,
   "metadata": {
    "executionInfo": {
     "elapsed": 491,
     "status": "ok",
     "timestamp": 1650719765150,
     "user": {
      "displayName": "Sean Tseng",
      "userId": "03959384370861675281"
     },
     "user_tz": -480
    },
    "id": "-OEhVofFj_xs"
   },
   "outputs": [],
   "source": [
    "w1000 = model.bert.embeddings(torch.tensor([[1000]]).to(\"cuda\"))"
   ]
  },
  {
   "cell_type": "code",
   "execution_count": 40,
   "metadata": {
    "executionInfo": {
     "elapsed": 336,
     "status": "ok",
     "timestamp": 1650720319421,
     "user": {
      "displayName": "Sean Tseng",
      "userId": "03959384370861675281"
     },
     "user_tz": -480
    },
    "id": "EmFUx-S_kK0J"
   },
   "outputs": [],
   "source": [
    "wemb = model.bert.embeddings.word_embeddings.weight"
   ]
  },
  {
   "cell_type": "code",
   "execution_count": 41,
   "metadata": {
    "colab": {
     "base_uri": "https://localhost:8080/"
    },
    "executionInfo": {
     "elapsed": 3,
     "status": "ok",
     "timestamp": 1650720522661,
     "user": {
      "displayName": "Sean Tseng",
      "userId": "03959384370861675281"
     },
     "user_tz": -480
    },
    "id": "7LzG9_u2kMkJ",
    "outputId": "d108706c-00c8-456a-f354-16ed6c64a380"
   },
   "outputs": [
    {
     "data": {
      "text/plain": [
       "tensor([-0.0173, -0.0003,  0.0120], device='cuda:0',\n",
       "       grad_fn=<SqueezeBackward3>)"
      ]
     },
     "execution_count": 41,
     "metadata": {},
     "output_type": "execute_result"
    }
   ],
   "source": [
    "wemb.mean(axis=0).quantile(torch.tensor([0.1, 0.5, 0.9]).cuda())"
   ]
  },
  {
   "cell_type": "code",
   "execution_count": 42,
   "metadata": {
    "executionInfo": {
     "elapsed": 354,
     "status": "ok",
     "timestamp": 1650720764044,
     "user": {
      "displayName": "Sean Tseng",
      "userId": "03959384370861675281"
     },
     "user_tz": -480
    },
    "id": "66ZPn4EfnMM9"
   },
   "outputs": [],
   "source": [
    "norm_wemb = wemb / wemb.norm(dim=1).unsqueeze(1)"
   ]
  },
  {
   "cell_type": "code",
   "execution_count": 51,
   "metadata": {},
   "outputs": [],
   "source": []
  },
  {
   "cell_type": "code",
   "execution_count": 50,
   "metadata": {},
   "outputs": [
    {
     "data": {
      "text/plain": [
       "array([[ 0.04336363, -0.07245538, -0.03233318, -0.05984162, -0.0551384 ,\n",
       "        -0.04096224, -0.0951279 , -0.0153762 , -0.0452906 ,  0.10796785,\n",
       "         0.00310219,  0.07164854, -0.07221457,  0.0853902 ,  0.07170057,\n",
       "         0.0015771 ,  0.07996657, -0.07635138,  0.07320246,  0.05087358,\n",
       "         0.0489123 , -0.02061604, -0.04818725, -0.02354317,  0.06682882,\n",
       "         0.03265832,  0.10887089,  0.09498688,  0.09922456,  0.05372157,\n",
       "         0.00801122, -0.06858638,  0.14151096,  0.04039188, -0.046034  ,\n",
       "         0.07460798, -0.06302945, -0.0255925 ,  0.00991111, -0.01534016,\n",
       "         0.02937884, -0.11556862,  0.08580039, -0.06004775,  0.03319526,\n",
       "         0.11440337, -0.10751615,  0.05087777,  0.1066275 , -0.03154048,\n",
       "        -0.05391474, -0.11261313, -0.09074115, -0.04844984,  0.03238317,\n",
       "         0.04415861,  0.12217653,  0.07746881, -0.03397751, -0.13198502,\n",
       "         0.08220335,  0.06678544,  0.13503024, -0.05977662,  0.08559074,\n",
       "        -0.0513431 , -0.10022166, -0.08780038, -0.04419336, -0.01580382,\n",
       "        -0.07683972, -0.07140395,  0.06579117,  0.00577101,  0.04359908,\n",
       "         0.08575419, -0.06362311,  0.04886635,  0.09118401,  0.00958035,\n",
       "        -0.00857371,  0.0367903 , -0.0514757 ,  0.0712082 ,  0.07881153,\n",
       "         0.02967338, -0.15774432, -0.04319725,  0.07645828, -0.19007005,\n",
       "        -0.09469812,  0.02994986, -0.12178669,  0.02184835, -0.02893308,\n",
       "         0.04060388, -0.02654908, -0.0851981 ,  0.0107093 ,  0.04500386]],\n",
       "      dtype=float32)"
      ]
     },
     "execution_count": 50,
     "metadata": {},
     "output_type": "execute_result"
    }
   ],
   "source": [
    "vec"
   ]
  },
  {
   "cell_type": "code",
   "execution_count": 43,
   "metadata": {
    "colab": {
     "base_uri": "https://localhost:8080/"
    },
    "executionInfo": {
     "elapsed": 516,
     "status": "ok",
     "timestamp": 1650721906441,
     "user": {
      "displayName": "Sean Tseng",
      "userId": "03959384370861675281"
     },
     "user_tz": -480
    },
    "id": "eMqIx6EdmTU8",
    "outputId": "eea7fa99-5f05-4ddc-f833-86aac1d22eea"
   },
   "outputs": [
    {
     "data": {
      "text/plain": [
       "['房',\n",
       " '屋',\n",
       " '楼',\n",
       " '樓',\n",
       " '室',\n",
       " '墅',\n",
       " '店',\n",
       " '宅',\n",
       " 'house',\n",
       " '住',\n",
       " 'room',\n",
       " '院',\n",
       " '床',\n",
       " '##house',\n",
       " '车',\n",
       " '厅',\n",
       " '城',\n",
       " '居',\n",
       " '棚',\n",
       " '柜']"
      ]
     },
     "execution_count": 43,
     "metadata": {},
     "output_type": "execute_result"
    }
   ],
   "source": [
    "tgt_idx = tokenizer.convert_tokens_to_ids([\"房\"])\n",
    "sorted_idxs = torch.argsort(-torch.matmul(norm_wemb, norm_wemb[tgt_idx[0]]))\n",
    "tokenizer.convert_ids_to_tokens(sorted_idxs[:20])"
   ]
  },
  {
   "cell_type": "code",
   "execution_count": null,
   "metadata": {
    "id": "CiXtpZOCoVus"
   },
   "outputs": [],
   "source": []
  }
 ],
 "metadata": {
  "accelerator": "GPU",
  "colab": {
   "authorship_tag": "ABX9TyPzE1JqFJXdnoO3dS3GlEMk",
   "collapsed_sections": [],
   "mount_file_id": "1Fq50Ckc0TRNE9FCLu8iAwt40pDXCVCh9",
   "name": "morphert-inference.ipynb",
   "provenance": [
    {
     "file_id": "12q0m2mvVt4_uwHaIiu9gJ1vkzH_uHFW9",
     "timestamp": 1650715983899
    }
   ]
  },
  "kernelspec": {
   "display_name": "Python 3 (ipykernel)",
   "language": "python",
   "name": "python3"
  },
  "language_info": {
   "codemirror_mode": {
    "name": "ipython",
    "version": 3
   },
   "file_extension": ".py",
   "mimetype": "text/x-python",
   "name": "python",
   "nbconvert_exporter": "python",
   "pygments_lexer": "ipython3",
   "version": "3.10.2"
  },
  "widgets": {
   "application/vnd.jupyter.widget-state+json": {
    "043e20780341460dab8b45dcb4c78aa2": {
     "model_module": "@jupyter-widgets/controls",
     "model_module_version": "1.5.0",
     "model_name": "HTMLModel",
     "state": {
      "_dom_classes": [],
      "_model_module": "@jupyter-widgets/controls",
      "_model_module_version": "1.5.0",
      "_model_name": "HTMLModel",
      "_view_count": null,
      "_view_module": "@jupyter-widgets/controls",
      "_view_module_version": "1.5.0",
      "_view_name": "HTMLView",
      "description": "",
      "description_tooltip": null,
      "layout": "IPY_MODEL_c794b689cb6e411db405bbaeb43dc4ab",
      "placeholder": "​",
      "style": "IPY_MODEL_4a4ab0ad191e49f6bdca2810ec7c7126",
      "value": " 625/625 [00:14&lt;00:00, 45.90it/s]"
     }
    },
    "04f90576c99544a280c430a317873998": {
     "model_module": "@jupyter-widgets/base",
     "model_module_version": "1.2.0",
     "model_name": "LayoutModel",
     "state": {
      "_model_module": "@jupyter-widgets/base",
      "_model_module_version": "1.2.0",
      "_model_name": "LayoutModel",
      "_view_count": null,
      "_view_module": "@jupyter-widgets/base",
      "_view_module_version": "1.2.0",
      "_view_name": "LayoutView",
      "align_content": null,
      "align_items": null,
      "align_self": null,
      "border": null,
      "bottom": null,
      "display": null,
      "flex": null,
      "flex_flow": null,
      "grid_area": null,
      "grid_auto_columns": null,
      "grid_auto_flow": null,
      "grid_auto_rows": null,
      "grid_column": null,
      "grid_gap": null,
      "grid_row": null,
      "grid_template_areas": null,
      "grid_template_columns": null,
      "grid_template_rows": null,
      "height": null,
      "justify_content": null,
      "justify_items": null,
      "left": null,
      "margin": null,
      "max_height": null,
      "max_width": null,
      "min_height": null,
      "min_width": null,
      "object_fit": null,
      "object_position": null,
      "order": null,
      "overflow": null,
      "overflow_x": null,
      "overflow_y": null,
      "padding": null,
      "right": null,
      "top": null,
      "visibility": null,
      "width": null
     }
    },
    "1294a332865d46a7869dd5bd6bbb1ba0": {
     "model_module": "@jupyter-widgets/controls",
     "model_module_version": "1.5.0",
     "model_name": "DescriptionStyleModel",
     "state": {
      "_model_module": "@jupyter-widgets/controls",
      "_model_module_version": "1.5.0",
      "_model_name": "DescriptionStyleModel",
      "_view_count": null,
      "_view_module": "@jupyter-widgets/base",
      "_view_module_version": "1.2.0",
      "_view_name": "StyleView",
      "description_width": ""
     }
    },
    "1b37737a6d254478ab7e4fdb233ee1ae": {
     "model_module": "@jupyter-widgets/controls",
     "model_module_version": "1.5.0",
     "model_name": "DescriptionStyleModel",
     "state": {
      "_model_module": "@jupyter-widgets/controls",
      "_model_module_version": "1.5.0",
      "_model_name": "DescriptionStyleModel",
      "_view_count": null,
      "_view_module": "@jupyter-widgets/base",
      "_view_module_version": "1.2.0",
      "_view_name": "StyleView",
      "description_width": ""
     }
    },
    "209bf9db11624b649ac34d7018040357": {
     "model_module": "@jupyter-widgets/controls",
     "model_module_version": "1.5.0",
     "model_name": "HTMLModel",
     "state": {
      "_dom_classes": [],
      "_model_module": "@jupyter-widgets/controls",
      "_model_module_version": "1.5.0",
      "_model_name": "HTMLModel",
      "_view_count": null,
      "_view_module": "@jupyter-widgets/controls",
      "_view_module_version": "1.5.0",
      "_view_name": "HTMLView",
      "description": "",
      "description_tooltip": null,
      "layout": "IPY_MODEL_49df5b176cde4f258cf3e31d678a955c",
      "placeholder": "​",
      "style": "IPY_MODEL_74abeffb3f24451bb1658bd3e23cac99",
      "value": "Downloading: 100%"
     }
    },
    "213390d4166e4b33ad05fc6035167465": {
     "model_module": "@jupyter-widgets/controls",
     "model_module_version": "1.5.0",
     "model_name": "HBoxModel",
     "state": {
      "_dom_classes": [],
      "_model_module": "@jupyter-widgets/controls",
      "_model_module_version": "1.5.0",
      "_model_name": "HBoxModel",
      "_view_count": null,
      "_view_module": "@jupyter-widgets/controls",
      "_view_module_version": "1.5.0",
      "_view_name": "HBoxView",
      "box_style": "",
      "children": [
       "IPY_MODEL_9aebb316f3774ec2a2fdb736e93f67e4",
       "IPY_MODEL_46286a612f0341a8806d05a13c55074a",
       "IPY_MODEL_29d55612b2a24727915c26df4e8d1229"
      ],
      "layout": "IPY_MODEL_776c5ca8ecd646b0a5788467ad8603be"
     }
    },
    "21d7e494a3bb428eab70402b1846b66e": {
     "model_module": "@jupyter-widgets/base",
     "model_module_version": "1.2.0",
     "model_name": "LayoutModel",
     "state": {
      "_model_module": "@jupyter-widgets/base",
      "_model_module_version": "1.2.0",
      "_model_name": "LayoutModel",
      "_view_count": null,
      "_view_module": "@jupyter-widgets/base",
      "_view_module_version": "1.2.0",
      "_view_name": "LayoutView",
      "align_content": null,
      "align_items": null,
      "align_self": null,
      "border": null,
      "bottom": null,
      "display": null,
      "flex": null,
      "flex_flow": null,
      "grid_area": null,
      "grid_auto_columns": null,
      "grid_auto_flow": null,
      "grid_auto_rows": null,
      "grid_column": null,
      "grid_gap": null,
      "grid_row": null,
      "grid_template_areas": null,
      "grid_template_columns": null,
      "grid_template_rows": null,
      "height": null,
      "justify_content": null,
      "justify_items": null,
      "left": null,
      "margin": null,
      "max_height": null,
      "max_width": null,
      "min_height": null,
      "min_width": null,
      "object_fit": null,
      "object_position": null,
      "order": null,
      "overflow": null,
      "overflow_x": null,
      "overflow_y": null,
      "padding": null,
      "right": null,
      "top": null,
      "visibility": null,
      "width": null
     }
    },
    "29d55612b2a24727915c26df4e8d1229": {
     "model_module": "@jupyter-widgets/controls",
     "model_module_version": "1.5.0",
     "model_name": "HTMLModel",
     "state": {
      "_dom_classes": [],
      "_model_module": "@jupyter-widgets/controls",
      "_model_module_version": "1.5.0",
      "_model_name": "HTMLModel",
      "_view_count": null,
      "_view_module": "@jupyter-widgets/controls",
      "_view_module_version": "1.5.0",
      "_view_name": "HTMLView",
      "description": "",
      "description_tooltip": null,
      "layout": "IPY_MODEL_f011635472a64c278b0a057a119de280",
      "placeholder": "​",
      "style": "IPY_MODEL_cadfa960581a49d3aa0f96e5fef5532a",
      "value": " 375/375 [00:06&lt;00:00, 60.17it/s]"
     }
    },
    "36d632f769c34909aadea95e495682f1": {
     "model_module": "@jupyter-widgets/controls",
     "model_module_version": "1.5.0",
     "model_name": "FloatProgressModel",
     "state": {
      "_dom_classes": [],
      "_model_module": "@jupyter-widgets/controls",
      "_model_module_version": "1.5.0",
      "_model_name": "FloatProgressModel",
      "_view_count": null,
      "_view_module": "@jupyter-widgets/controls",
      "_view_module_version": "1.5.0",
      "_view_name": "ProgressView",
      "bar_style": "success",
      "description": "",
      "description_tooltip": null,
      "layout": "IPY_MODEL_d65ba2a666c043f0b024773491d3eed6",
      "max": 625,
      "min": 0,
      "orientation": "horizontal",
      "style": "IPY_MODEL_ff3d7784c72d4a36a3ab6e6f0930bb5d",
      "value": 625
     }
    },
    "38b5a1bc73644c01a0aac9d4641ec3fa": {
     "model_module": "@jupyter-widgets/controls",
     "model_module_version": "1.5.0",
     "model_name": "HBoxModel",
     "state": {
      "_dom_classes": [],
      "_model_module": "@jupyter-widgets/controls",
      "_model_module_version": "1.5.0",
      "_model_name": "HBoxModel",
      "_view_count": null,
      "_view_module": "@jupyter-widgets/controls",
      "_view_module_version": "1.5.0",
      "_view_name": "HBoxView",
      "box_style": "",
      "children": [
       "IPY_MODEL_85f69b07838547c79cf5438e6b2e0700",
       "IPY_MODEL_36d632f769c34909aadea95e495682f1",
       "IPY_MODEL_043e20780341460dab8b45dcb4c78aa2"
      ],
      "layout": "IPY_MODEL_f61adf70f5434832b5efcdb830361480"
     }
    },
    "3c0e33ea14f647e8977576d9e2aa3b7f": {
     "model_module": "@jupyter-widgets/controls",
     "model_module_version": "1.5.0",
     "model_name": "FloatProgressModel",
     "state": {
      "_dom_classes": [],
      "_model_module": "@jupyter-widgets/controls",
      "_model_module_version": "1.5.0",
      "_model_name": "FloatProgressModel",
      "_view_count": null,
      "_view_module": "@jupyter-widgets/controls",
      "_view_module_version": "1.5.0",
      "_view_name": "ProgressView",
      "bar_style": "success",
      "description": "",
      "description_tooltip": null,
      "layout": "IPY_MODEL_75e39c457b9d4324bfa3a60bb399f85f",
      "max": 375,
      "min": 0,
      "orientation": "horizontal",
      "style": "IPY_MODEL_9206ed26c4864e5eb217adfd16b909f4",
      "value": 375
     }
    },
    "3c1b80424275439c851bd8e080e82987": {
     "model_module": "@jupyter-widgets/controls",
     "model_module_version": "1.5.0",
     "model_name": "HBoxModel",
     "state": {
      "_dom_classes": [],
      "_model_module": "@jupyter-widgets/controls",
      "_model_module_version": "1.5.0",
      "_model_name": "HBoxModel",
      "_view_count": null,
      "_view_module": "@jupyter-widgets/controls",
      "_view_module_version": "1.5.0",
      "_view_name": "HBoxView",
      "box_style": "",
      "children": [
       "IPY_MODEL_3ec1315acb234dd9beb5cf23e9b21b90",
       "IPY_MODEL_e2ba46ef427c4303a2ac5eaa8e0c6d97",
       "IPY_MODEL_c0fd875236924c698c85f779a532cc56"
      ],
      "layout": "IPY_MODEL_ee83c4f1bfd74955999c633f57aeed9c"
     }
    },
    "3d80bea9c54344e9a8b87bf9864357ee": {
     "model_module": "@jupyter-widgets/controls",
     "model_module_version": "1.5.0",
     "model_name": "DescriptionStyleModel",
     "state": {
      "_model_module": "@jupyter-widgets/controls",
      "_model_module_version": "1.5.0",
      "_model_name": "DescriptionStyleModel",
      "_view_count": null,
      "_view_module": "@jupyter-widgets/base",
      "_view_module_version": "1.2.0",
      "_view_name": "StyleView",
      "description_width": ""
     }
    },
    "3ec1315acb234dd9beb5cf23e9b21b90": {
     "model_module": "@jupyter-widgets/controls",
     "model_module_version": "1.5.0",
     "model_name": "HTMLModel",
     "state": {
      "_dom_classes": [],
      "_model_module": "@jupyter-widgets/controls",
      "_model_module_version": "1.5.0",
      "_model_name": "HTMLModel",
      "_view_count": null,
      "_view_module": "@jupyter-widgets/controls",
      "_view_module_version": "1.5.0",
      "_view_name": "HTMLView",
      "description": "",
      "description_tooltip": null,
      "layout": "IPY_MODEL_c2a91e1a1ed947e2b36761388c66d7d8",
      "placeholder": "​",
      "style": "IPY_MODEL_d104e7c773e54d1ca772a28798f2f3d3",
      "value": "Downloading: 100%"
     }
    },
    "3fc11447edce45c98f58377a0b8959fa": {
     "model_module": "@jupyter-widgets/controls",
     "model_module_version": "1.5.0",
     "model_name": "ProgressStyleModel",
     "state": {
      "_model_module": "@jupyter-widgets/controls",
      "_model_module_version": "1.5.0",
      "_model_name": "ProgressStyleModel",
      "_view_count": null,
      "_view_module": "@jupyter-widgets/base",
      "_view_module_version": "1.2.0",
      "_view_name": "StyleView",
      "bar_color": null,
      "description_width": ""
     }
    },
    "46286a612f0341a8806d05a13c55074a": {
     "model_module": "@jupyter-widgets/controls",
     "model_module_version": "1.5.0",
     "model_name": "FloatProgressModel",
     "state": {
      "_dom_classes": [],
      "_model_module": "@jupyter-widgets/controls",
      "_model_module_version": "1.5.0",
      "_model_name": "FloatProgressModel",
      "_view_count": null,
      "_view_module": "@jupyter-widgets/controls",
      "_view_module_version": "1.5.0",
      "_view_name": "ProgressView",
      "bar_style": "success",
      "description": "",
      "description_tooltip": null,
      "layout": "IPY_MODEL_9225cd51a8404a9882653f210a8a73ab",
      "max": 375,
      "min": 0,
      "orientation": "horizontal",
      "style": "IPY_MODEL_e67859b73fd84727ad4bd1b7534d8a53",
      "value": 375
     }
    },
    "4676d571efc24710adcac8eca67307e3": {
     "model_module": "@jupyter-widgets/controls",
     "model_module_version": "1.5.0",
     "model_name": "DescriptionStyleModel",
     "state": {
      "_model_module": "@jupyter-widgets/controls",
      "_model_module_version": "1.5.0",
      "_model_name": "DescriptionStyleModel",
      "_view_count": null,
      "_view_module": "@jupyter-widgets/base",
      "_view_module_version": "1.2.0",
      "_view_name": "StyleView",
      "description_width": ""
     }
    },
    "49df5b176cde4f258cf3e31d678a955c": {
     "model_module": "@jupyter-widgets/base",
     "model_module_version": "1.2.0",
     "model_name": "LayoutModel",
     "state": {
      "_model_module": "@jupyter-widgets/base",
      "_model_module_version": "1.2.0",
      "_model_name": "LayoutModel",
      "_view_count": null,
      "_view_module": "@jupyter-widgets/base",
      "_view_module_version": "1.2.0",
      "_view_name": "LayoutView",
      "align_content": null,
      "align_items": null,
      "align_self": null,
      "border": null,
      "bottom": null,
      "display": null,
      "flex": null,
      "flex_flow": null,
      "grid_area": null,
      "grid_auto_columns": null,
      "grid_auto_flow": null,
      "grid_auto_rows": null,
      "grid_column": null,
      "grid_gap": null,
      "grid_row": null,
      "grid_template_areas": null,
      "grid_template_columns": null,
      "grid_template_rows": null,
      "height": null,
      "justify_content": null,
      "justify_items": null,
      "left": null,
      "margin": null,
      "max_height": null,
      "max_width": null,
      "min_height": null,
      "min_width": null,
      "object_fit": null,
      "object_position": null,
      "order": null,
      "overflow": null,
      "overflow_x": null,
      "overflow_y": null,
      "padding": null,
      "right": null,
      "top": null,
      "visibility": null,
      "width": null
     }
    },
    "4a4ab0ad191e49f6bdca2810ec7c7126": {
     "model_module": "@jupyter-widgets/controls",
     "model_module_version": "1.5.0",
     "model_name": "DescriptionStyleModel",
     "state": {
      "_model_module": "@jupyter-widgets/controls",
      "_model_module_version": "1.5.0",
      "_model_name": "DescriptionStyleModel",
      "_view_count": null,
      "_view_module": "@jupyter-widgets/base",
      "_view_module_version": "1.2.0",
      "_view_name": "StyleView",
      "description_width": ""
     }
    },
    "501baae0dab941aeadd63133262d930e": {
     "model_module": "@jupyter-widgets/controls",
     "model_module_version": "1.5.0",
     "model_name": "FloatProgressModel",
     "state": {
      "_dom_classes": [],
      "_model_module": "@jupyter-widgets/controls",
      "_model_module_version": "1.5.0",
      "_model_name": "FloatProgressModel",
      "_view_count": null,
      "_view_module": "@jupyter-widgets/controls",
      "_view_module_version": "1.5.0",
      "_view_name": "ProgressView",
      "bar_style": "success",
      "description": "",
      "description_tooltip": null,
      "layout": "IPY_MODEL_a271dcf22eae4f479a47dbb814233d43",
      "max": 624,
      "min": 0,
      "orientation": "horizontal",
      "style": "IPY_MODEL_3fc11447edce45c98f58377a0b8959fa",
      "value": 624
     }
    },
    "5d22cb5dd7dc4f90ac06be0acba93c08": {
     "model_module": "@jupyter-widgets/base",
     "model_module_version": "1.2.0",
     "model_name": "LayoutModel",
     "state": {
      "_model_module": "@jupyter-widgets/base",
      "_model_module_version": "1.2.0",
      "_model_name": "LayoutModel",
      "_view_count": null,
      "_view_module": "@jupyter-widgets/base",
      "_view_module_version": "1.2.0",
      "_view_name": "LayoutView",
      "align_content": null,
      "align_items": null,
      "align_self": null,
      "border": null,
      "bottom": null,
      "display": null,
      "flex": null,
      "flex_flow": null,
      "grid_area": null,
      "grid_auto_columns": null,
      "grid_auto_flow": null,
      "grid_auto_rows": null,
      "grid_column": null,
      "grid_gap": null,
      "grid_row": null,
      "grid_template_areas": null,
      "grid_template_columns": null,
      "grid_template_rows": null,
      "height": null,
      "justify_content": null,
      "justify_items": null,
      "left": null,
      "margin": null,
      "max_height": null,
      "max_width": null,
      "min_height": null,
      "min_width": null,
      "object_fit": null,
      "object_position": null,
      "order": null,
      "overflow": null,
      "overflow_x": null,
      "overflow_y": null,
      "padding": null,
      "right": null,
      "top": null,
      "visibility": null,
      "width": null
     }
    },
    "5e8b2004e14c4d288001f05804ab3b2a": {
     "model_module": "@jupyter-widgets/controls",
     "model_module_version": "1.5.0",
     "model_name": "HBoxModel",
     "state": {
      "_dom_classes": [],
      "_model_module": "@jupyter-widgets/controls",
      "_model_module_version": "1.5.0",
      "_model_name": "HBoxModel",
      "_view_count": null,
      "_view_module": "@jupyter-widgets/controls",
      "_view_module_version": "1.5.0",
      "_view_name": "HBoxView",
      "box_style": "",
      "children": [
       "IPY_MODEL_ed386efdf3dd41ecacd1c5ae85dafe3e",
       "IPY_MODEL_3c0e33ea14f647e8977576d9e2aa3b7f",
       "IPY_MODEL_d0122bb010374e4ba9ea485aa206e038"
      ],
      "layout": "IPY_MODEL_abbdf8ada81944308a3fae6834678c75"
     }
    },
    "61fc623c2e5e44feb48238e0776887af": {
     "model_module": "@jupyter-widgets/base",
     "model_module_version": "1.2.0",
     "model_name": "LayoutModel",
     "state": {
      "_model_module": "@jupyter-widgets/base",
      "_model_module_version": "1.2.0",
      "_model_name": "LayoutModel",
      "_view_count": null,
      "_view_module": "@jupyter-widgets/base",
      "_view_module_version": "1.2.0",
      "_view_name": "LayoutView",
      "align_content": null,
      "align_items": null,
      "align_self": null,
      "border": null,
      "bottom": null,
      "display": null,
      "flex": null,
      "flex_flow": null,
      "grid_area": null,
      "grid_auto_columns": null,
      "grid_auto_flow": null,
      "grid_auto_rows": null,
      "grid_column": null,
      "grid_gap": null,
      "grid_row": null,
      "grid_template_areas": null,
      "grid_template_columns": null,
      "grid_template_rows": null,
      "height": null,
      "justify_content": null,
      "justify_items": null,
      "left": null,
      "margin": null,
      "max_height": null,
      "max_width": null,
      "min_height": null,
      "min_width": null,
      "object_fit": null,
      "object_position": null,
      "order": null,
      "overflow": null,
      "overflow_x": null,
      "overflow_y": null,
      "padding": null,
      "right": null,
      "top": null,
      "visibility": null,
      "width": null
     }
    },
    "6ae10b5ca70043499fb6aa2907b8ce28": {
     "model_module": "@jupyter-widgets/base",
     "model_module_version": "1.2.0",
     "model_name": "LayoutModel",
     "state": {
      "_model_module": "@jupyter-widgets/base",
      "_model_module_version": "1.2.0",
      "_model_name": "LayoutModel",
      "_view_count": null,
      "_view_module": "@jupyter-widgets/base",
      "_view_module_version": "1.2.0",
      "_view_name": "LayoutView",
      "align_content": null,
      "align_items": null,
      "align_self": null,
      "border": null,
      "bottom": null,
      "display": null,
      "flex": null,
      "flex_flow": null,
      "grid_area": null,
      "grid_auto_columns": null,
      "grid_auto_flow": null,
      "grid_auto_rows": null,
      "grid_column": null,
      "grid_gap": null,
      "grid_row": null,
      "grid_template_areas": null,
      "grid_template_columns": null,
      "grid_template_rows": null,
      "height": null,
      "justify_content": null,
      "justify_items": null,
      "left": null,
      "margin": null,
      "max_height": null,
      "max_width": null,
      "min_height": null,
      "min_width": null,
      "object_fit": null,
      "object_position": null,
      "order": null,
      "overflow": null,
      "overflow_x": null,
      "overflow_y": null,
      "padding": null,
      "right": null,
      "top": null,
      "visibility": null,
      "width": null
     }
    },
    "6b525789e1c948fc915dbee88b068a8f": {
     "model_module": "@jupyter-widgets/base",
     "model_module_version": "1.2.0",
     "model_name": "LayoutModel",
     "state": {
      "_model_module": "@jupyter-widgets/base",
      "_model_module_version": "1.2.0",
      "_model_name": "LayoutModel",
      "_view_count": null,
      "_view_module": "@jupyter-widgets/base",
      "_view_module_version": "1.2.0",
      "_view_name": "LayoutView",
      "align_content": null,
      "align_items": null,
      "align_self": null,
      "border": null,
      "bottom": null,
      "display": null,
      "flex": null,
      "flex_flow": null,
      "grid_area": null,
      "grid_auto_columns": null,
      "grid_auto_flow": null,
      "grid_auto_rows": null,
      "grid_column": null,
      "grid_gap": null,
      "grid_row": null,
      "grid_template_areas": null,
      "grid_template_columns": null,
      "grid_template_rows": null,
      "height": null,
      "justify_content": null,
      "justify_items": null,
      "left": null,
      "margin": null,
      "max_height": null,
      "max_width": null,
      "min_height": null,
      "min_width": null,
      "object_fit": null,
      "object_position": null,
      "order": null,
      "overflow": null,
      "overflow_x": null,
      "overflow_y": null,
      "padding": null,
      "right": null,
      "top": null,
      "visibility": null,
      "width": null
     }
    },
    "6cc1ed14bd2140c8a144b225aa8d6e1d": {
     "model_module": "@jupyter-widgets/controls",
     "model_module_version": "1.5.0",
     "model_name": "ProgressStyleModel",
     "state": {
      "_model_module": "@jupyter-widgets/controls",
      "_model_module_version": "1.5.0",
      "_model_name": "ProgressStyleModel",
      "_view_count": null,
      "_view_module": "@jupyter-widgets/base",
      "_view_module_version": "1.2.0",
      "_view_name": "StyleView",
      "bar_color": null,
      "description_width": ""
     }
    },
    "6eab542839934df9bc23b3cccadfada4": {
     "model_module": "@jupyter-widgets/controls",
     "model_module_version": "1.5.0",
     "model_name": "ProgressStyleModel",
     "state": {
      "_model_module": "@jupyter-widgets/controls",
      "_model_module_version": "1.5.0",
      "_model_name": "ProgressStyleModel",
      "_view_count": null,
      "_view_module": "@jupyter-widgets/base",
      "_view_module_version": "1.2.0",
      "_view_name": "StyleView",
      "bar_color": null,
      "description_width": ""
     }
    },
    "74abeffb3f24451bb1658bd3e23cac99": {
     "model_module": "@jupyter-widgets/controls",
     "model_module_version": "1.5.0",
     "model_name": "DescriptionStyleModel",
     "state": {
      "_model_module": "@jupyter-widgets/controls",
      "_model_module_version": "1.5.0",
      "_model_name": "DescriptionStyleModel",
      "_view_count": null,
      "_view_module": "@jupyter-widgets/base",
      "_view_module_version": "1.2.0",
      "_view_name": "StyleView",
      "description_width": ""
     }
    },
    "753a7b42a65b4848b3f587edf0be014d": {
     "model_module": "@jupyter-widgets/controls",
     "model_module_version": "1.5.0",
     "model_name": "DescriptionStyleModel",
     "state": {
      "_model_module": "@jupyter-widgets/controls",
      "_model_module_version": "1.5.0",
      "_model_name": "DescriptionStyleModel",
      "_view_count": null,
      "_view_module": "@jupyter-widgets/base",
      "_view_module_version": "1.2.0",
      "_view_name": "StyleView",
      "description_width": ""
     }
    },
    "75e39c457b9d4324bfa3a60bb399f85f": {
     "model_module": "@jupyter-widgets/base",
     "model_module_version": "1.2.0",
     "model_name": "LayoutModel",
     "state": {
      "_model_module": "@jupyter-widgets/base",
      "_model_module_version": "1.2.0",
      "_model_name": "LayoutModel",
      "_view_count": null,
      "_view_module": "@jupyter-widgets/base",
      "_view_module_version": "1.2.0",
      "_view_name": "LayoutView",
      "align_content": null,
      "align_items": null,
      "align_self": null,
      "border": null,
      "bottom": null,
      "display": null,
      "flex": null,
      "flex_flow": null,
      "grid_area": null,
      "grid_auto_columns": null,
      "grid_auto_flow": null,
      "grid_auto_rows": null,
      "grid_column": null,
      "grid_gap": null,
      "grid_row": null,
      "grid_template_areas": null,
      "grid_template_columns": null,
      "grid_template_rows": null,
      "height": null,
      "justify_content": null,
      "justify_items": null,
      "left": null,
      "margin": null,
      "max_height": null,
      "max_width": null,
      "min_height": null,
      "min_width": null,
      "object_fit": null,
      "object_position": null,
      "order": null,
      "overflow": null,
      "overflow_x": null,
      "overflow_y": null,
      "padding": null,
      "right": null,
      "top": null,
      "visibility": null,
      "width": null
     }
    },
    "776c5ca8ecd646b0a5788467ad8603be": {
     "model_module": "@jupyter-widgets/base",
     "model_module_version": "1.2.0",
     "model_name": "LayoutModel",
     "state": {
      "_model_module": "@jupyter-widgets/base",
      "_model_module_version": "1.2.0",
      "_model_name": "LayoutModel",
      "_view_count": null,
      "_view_module": "@jupyter-widgets/base",
      "_view_module_version": "1.2.0",
      "_view_name": "LayoutView",
      "align_content": null,
      "align_items": null,
      "align_self": null,
      "border": null,
      "bottom": null,
      "display": null,
      "flex": null,
      "flex_flow": null,
      "grid_area": null,
      "grid_auto_columns": null,
      "grid_auto_flow": null,
      "grid_auto_rows": null,
      "grid_column": null,
      "grid_gap": null,
      "grid_row": null,
      "grid_template_areas": null,
      "grid_template_columns": null,
      "grid_template_rows": null,
      "height": null,
      "justify_content": null,
      "justify_items": null,
      "left": null,
      "margin": null,
      "max_height": null,
      "max_width": null,
      "min_height": null,
      "min_width": null,
      "object_fit": null,
      "object_position": null,
      "order": null,
      "overflow": null,
      "overflow_x": null,
      "overflow_y": null,
      "padding": null,
      "right": null,
      "top": null,
      "visibility": null,
      "width": null
     }
    },
    "7bdfe54b4c9a4caeb919336c1403983c": {
     "model_module": "@jupyter-widgets/base",
     "model_module_version": "1.2.0",
     "model_name": "LayoutModel",
     "state": {
      "_model_module": "@jupyter-widgets/base",
      "_model_module_version": "1.2.0",
      "_model_name": "LayoutModel",
      "_view_count": null,
      "_view_module": "@jupyter-widgets/base",
      "_view_module_version": "1.2.0",
      "_view_name": "LayoutView",
      "align_content": null,
      "align_items": null,
      "align_self": null,
      "border": null,
      "bottom": null,
      "display": null,
      "flex": null,
      "flex_flow": null,
      "grid_area": null,
      "grid_auto_columns": null,
      "grid_auto_flow": null,
      "grid_auto_rows": null,
      "grid_column": null,
      "grid_gap": null,
      "grid_row": null,
      "grid_template_areas": null,
      "grid_template_columns": null,
      "grid_template_rows": null,
      "height": null,
      "justify_content": null,
      "justify_items": null,
      "left": null,
      "margin": null,
      "max_height": null,
      "max_width": null,
      "min_height": null,
      "min_width": null,
      "object_fit": null,
      "object_position": null,
      "order": null,
      "overflow": null,
      "overflow_x": null,
      "overflow_y": null,
      "padding": null,
      "right": null,
      "top": null,
      "visibility": null,
      "width": null
     }
    },
    "80b735397dba4536a96c295058dc1f5a": {
     "model_module": "@jupyter-widgets/controls",
     "model_module_version": "1.5.0",
     "model_name": "HTMLModel",
     "state": {
      "_dom_classes": [],
      "_model_module": "@jupyter-widgets/controls",
      "_model_module_version": "1.5.0",
      "_model_name": "HTMLModel",
      "_view_count": null,
      "_view_module": "@jupyter-widgets/controls",
      "_view_module_version": "1.5.0",
      "_view_name": "HTMLView",
      "description": "",
      "description_tooltip": null,
      "layout": "IPY_MODEL_5d22cb5dd7dc4f90ac06be0acba93c08",
      "placeholder": "​",
      "style": "IPY_MODEL_3d80bea9c54344e9a8b87bf9864357ee",
      "value": "Downloading: 100%"
     }
    },
    "85f69b07838547c79cf5438e6b2e0700": {
     "model_module": "@jupyter-widgets/controls",
     "model_module_version": "1.5.0",
     "model_name": "HTMLModel",
     "state": {
      "_dom_classes": [],
      "_model_module": "@jupyter-widgets/controls",
      "_model_module_version": "1.5.0",
      "_model_name": "HTMLModel",
      "_view_count": null,
      "_view_module": "@jupyter-widgets/controls",
      "_view_module_version": "1.5.0",
      "_view_name": "HTMLView",
      "description": "",
      "description_tooltip": null,
      "layout": "IPY_MODEL_9eb0fad0f85f41f9b2ed2aa83e566c96",
      "placeholder": "​",
      "style": "IPY_MODEL_1294a332865d46a7869dd5bd6bbb1ba0",
      "value": "100%"
     }
    },
    "8770a263a174448cabe07d3047d7fa18": {
     "model_module": "@jupyter-widgets/controls",
     "model_module_version": "1.5.0",
     "model_name": "HTMLModel",
     "state": {
      "_dom_classes": [],
      "_model_module": "@jupyter-widgets/controls",
      "_model_module_version": "1.5.0",
      "_model_name": "HTMLModel",
      "_view_count": null,
      "_view_module": "@jupyter-widgets/controls",
      "_view_module_version": "1.5.0",
      "_view_name": "HTMLView",
      "description": "",
      "description_tooltip": null,
      "layout": "IPY_MODEL_e519e212e7f64be8a1af1f9cdea9f5f2",
      "placeholder": "​",
      "style": "IPY_MODEL_4676d571efc24710adcac8eca67307e3",
      "value": " 107k/107k [00:00&lt;00:00, 174kB/s]"
     }
    },
    "9206ed26c4864e5eb217adfd16b909f4": {
     "model_module": "@jupyter-widgets/controls",
     "model_module_version": "1.5.0",
     "model_name": "ProgressStyleModel",
     "state": {
      "_model_module": "@jupyter-widgets/controls",
      "_model_module_version": "1.5.0",
      "_model_name": "ProgressStyleModel",
      "_view_count": null,
      "_view_module": "@jupyter-widgets/base",
      "_view_module_version": "1.2.0",
      "_view_name": "StyleView",
      "bar_color": null,
      "description_width": ""
     }
    },
    "9225cd51a8404a9882653f210a8a73ab": {
     "model_module": "@jupyter-widgets/base",
     "model_module_version": "1.2.0",
     "model_name": "LayoutModel",
     "state": {
      "_model_module": "@jupyter-widgets/base",
      "_model_module_version": "1.2.0",
      "_model_name": "LayoutModel",
      "_view_count": null,
      "_view_module": "@jupyter-widgets/base",
      "_view_module_version": "1.2.0",
      "_view_name": "LayoutView",
      "align_content": null,
      "align_items": null,
      "align_self": null,
      "border": null,
      "bottom": null,
      "display": null,
      "flex": null,
      "flex_flow": null,
      "grid_area": null,
      "grid_auto_columns": null,
      "grid_auto_flow": null,
      "grid_auto_rows": null,
      "grid_column": null,
      "grid_gap": null,
      "grid_row": null,
      "grid_template_areas": null,
      "grid_template_columns": null,
      "grid_template_rows": null,
      "height": null,
      "justify_content": null,
      "justify_items": null,
      "left": null,
      "margin": null,
      "max_height": null,
      "max_width": null,
      "min_height": null,
      "min_width": null,
      "object_fit": null,
      "object_position": null,
      "order": null,
      "overflow": null,
      "overflow_x": null,
      "overflow_y": null,
      "padding": null,
      "right": null,
      "top": null,
      "visibility": null,
      "width": null
     }
    },
    "9aebb316f3774ec2a2fdb736e93f67e4": {
     "model_module": "@jupyter-widgets/controls",
     "model_module_version": "1.5.0",
     "model_name": "HTMLModel",
     "state": {
      "_dom_classes": [],
      "_model_module": "@jupyter-widgets/controls",
      "_model_module_version": "1.5.0",
      "_model_name": "HTMLModel",
      "_view_count": null,
      "_view_module": "@jupyter-widgets/controls",
      "_view_module_version": "1.5.0",
      "_view_name": "HTMLView",
      "description": "",
      "description_tooltip": null,
      "layout": "IPY_MODEL_cda49ef94ee44010aad5a1098afe72c0",
      "placeholder": "​",
      "style": "IPY_MODEL_bf5eded8bd8f4a65a8c1703729b39920",
      "value": "100%"
     }
    },
    "9eb0fad0f85f41f9b2ed2aa83e566c96": {
     "model_module": "@jupyter-widgets/base",
     "model_module_version": "1.2.0",
     "model_name": "LayoutModel",
     "state": {
      "_model_module": "@jupyter-widgets/base",
      "_model_module_version": "1.2.0",
      "_model_name": "LayoutModel",
      "_view_count": null,
      "_view_module": "@jupyter-widgets/base",
      "_view_module_version": "1.2.0",
      "_view_name": "LayoutView",
      "align_content": null,
      "align_items": null,
      "align_self": null,
      "border": null,
      "bottom": null,
      "display": null,
      "flex": null,
      "flex_flow": null,
      "grid_area": null,
      "grid_auto_columns": null,
      "grid_auto_flow": null,
      "grid_auto_rows": null,
      "grid_column": null,
      "grid_gap": null,
      "grid_row": null,
      "grid_template_areas": null,
      "grid_template_columns": null,
      "grid_template_rows": null,
      "height": null,
      "justify_content": null,
      "justify_items": null,
      "left": null,
      "margin": null,
      "max_height": null,
      "max_width": null,
      "min_height": null,
      "min_width": null,
      "object_fit": null,
      "object_position": null,
      "order": null,
      "overflow": null,
      "overflow_x": null,
      "overflow_y": null,
      "padding": null,
      "right": null,
      "top": null,
      "visibility": null,
      "width": null
     }
    },
    "a088c34688654faa9a12f579ed9f3fbd": {
     "model_module": "@jupyter-widgets/controls",
     "model_module_version": "1.5.0",
     "model_name": "DescriptionStyleModel",
     "state": {
      "_model_module": "@jupyter-widgets/controls",
      "_model_module_version": "1.5.0",
      "_model_name": "DescriptionStyleModel",
      "_view_count": null,
      "_view_module": "@jupyter-widgets/base",
      "_view_module_version": "1.2.0",
      "_view_name": "StyleView",
      "description_width": ""
     }
    },
    "a271dcf22eae4f479a47dbb814233d43": {
     "model_module": "@jupyter-widgets/base",
     "model_module_version": "1.2.0",
     "model_name": "LayoutModel",
     "state": {
      "_model_module": "@jupyter-widgets/base",
      "_model_module_version": "1.2.0",
      "_model_name": "LayoutModel",
      "_view_count": null,
      "_view_module": "@jupyter-widgets/base",
      "_view_module_version": "1.2.0",
      "_view_name": "LayoutView",
      "align_content": null,
      "align_items": null,
      "align_self": null,
      "border": null,
      "bottom": null,
      "display": null,
      "flex": null,
      "flex_flow": null,
      "grid_area": null,
      "grid_auto_columns": null,
      "grid_auto_flow": null,
      "grid_auto_rows": null,
      "grid_column": null,
      "grid_gap": null,
      "grid_row": null,
      "grid_template_areas": null,
      "grid_template_columns": null,
      "grid_template_rows": null,
      "height": null,
      "justify_content": null,
      "justify_items": null,
      "left": null,
      "margin": null,
      "max_height": null,
      "max_width": null,
      "min_height": null,
      "min_width": null,
      "object_fit": null,
      "object_position": null,
      "order": null,
      "overflow": null,
      "overflow_x": null,
      "overflow_y": null,
      "padding": null,
      "right": null,
      "top": null,
      "visibility": null,
      "width": null
     }
    },
    "ab6e7ed849f449368e58fa7f6b3fc180": {
     "model_module": "@jupyter-widgets/base",
     "model_module_version": "1.2.0",
     "model_name": "LayoutModel",
     "state": {
      "_model_module": "@jupyter-widgets/base",
      "_model_module_version": "1.2.0",
      "_model_name": "LayoutModel",
      "_view_count": null,
      "_view_module": "@jupyter-widgets/base",
      "_view_module_version": "1.2.0",
      "_view_name": "LayoutView",
      "align_content": null,
      "align_items": null,
      "align_self": null,
      "border": null,
      "bottom": null,
      "display": null,
      "flex": null,
      "flex_flow": null,
      "grid_area": null,
      "grid_auto_columns": null,
      "grid_auto_flow": null,
      "grid_auto_rows": null,
      "grid_column": null,
      "grid_gap": null,
      "grid_row": null,
      "grid_template_areas": null,
      "grid_template_columns": null,
      "grid_template_rows": null,
      "height": null,
      "justify_content": null,
      "justify_items": null,
      "left": null,
      "margin": null,
      "max_height": null,
      "max_width": null,
      "min_height": null,
      "min_width": null,
      "object_fit": null,
      "object_position": null,
      "order": null,
      "overflow": null,
      "overflow_x": null,
      "overflow_y": null,
      "padding": null,
      "right": null,
      "top": null,
      "visibility": null,
      "width": null
     }
    },
    "abbdf8ada81944308a3fae6834678c75": {
     "model_module": "@jupyter-widgets/base",
     "model_module_version": "1.2.0",
     "model_name": "LayoutModel",
     "state": {
      "_model_module": "@jupyter-widgets/base",
      "_model_module_version": "1.2.0",
      "_model_name": "LayoutModel",
      "_view_count": null,
      "_view_module": "@jupyter-widgets/base",
      "_view_module_version": "1.2.0",
      "_view_name": "LayoutView",
      "align_content": null,
      "align_items": null,
      "align_self": null,
      "border": null,
      "bottom": null,
      "display": null,
      "flex": null,
      "flex_flow": null,
      "grid_area": null,
      "grid_auto_columns": null,
      "grid_auto_flow": null,
      "grid_auto_rows": null,
      "grid_column": null,
      "grid_gap": null,
      "grid_row": null,
      "grid_template_areas": null,
      "grid_template_columns": null,
      "grid_template_rows": null,
      "height": null,
      "justify_content": null,
      "justify_items": null,
      "left": null,
      "margin": null,
      "max_height": null,
      "max_width": null,
      "min_height": null,
      "min_width": null,
      "object_fit": null,
      "object_position": null,
      "order": null,
      "overflow": null,
      "overflow_x": null,
      "overflow_y": null,
      "padding": null,
      "right": null,
      "top": null,
      "visibility": null,
      "width": null
     }
    },
    "b5356c15878346b29b76c80d204eeab5": {
     "model_module": "@jupyter-widgets/base",
     "model_module_version": "1.2.0",
     "model_name": "LayoutModel",
     "state": {
      "_model_module": "@jupyter-widgets/base",
      "_model_module_version": "1.2.0",
      "_model_name": "LayoutModel",
      "_view_count": null,
      "_view_module": "@jupyter-widgets/base",
      "_view_module_version": "1.2.0",
      "_view_name": "LayoutView",
      "align_content": null,
      "align_items": null,
      "align_self": null,
      "border": null,
      "bottom": null,
      "display": null,
      "flex": null,
      "flex_flow": null,
      "grid_area": null,
      "grid_auto_columns": null,
      "grid_auto_flow": null,
      "grid_auto_rows": null,
      "grid_column": null,
      "grid_gap": null,
      "grid_row": null,
      "grid_template_areas": null,
      "grid_template_columns": null,
      "grid_template_rows": null,
      "height": null,
      "justify_content": null,
      "justify_items": null,
      "left": null,
      "margin": null,
      "max_height": null,
      "max_width": null,
      "min_height": null,
      "min_width": null,
      "object_fit": null,
      "object_position": null,
      "order": null,
      "overflow": null,
      "overflow_x": null,
      "overflow_y": null,
      "padding": null,
      "right": null,
      "top": null,
      "visibility": null,
      "width": null
     }
    },
    "bf5eded8bd8f4a65a8c1703729b39920": {
     "model_module": "@jupyter-widgets/controls",
     "model_module_version": "1.5.0",
     "model_name": "DescriptionStyleModel",
     "state": {
      "_model_module": "@jupyter-widgets/controls",
      "_model_module_version": "1.5.0",
      "_model_name": "DescriptionStyleModel",
      "_view_count": null,
      "_view_module": "@jupyter-widgets/base",
      "_view_module_version": "1.2.0",
      "_view_name": "StyleView",
      "description_width": ""
     }
    },
    "bf7e19b16fa44c6ca88f59113f9de008": {
     "model_module": "@jupyter-widgets/controls",
     "model_module_version": "1.5.0",
     "model_name": "HBoxModel",
     "state": {
      "_dom_classes": [],
      "_model_module": "@jupyter-widgets/controls",
      "_model_module_version": "1.5.0",
      "_model_name": "HBoxModel",
      "_view_count": null,
      "_view_module": "@jupyter-widgets/controls",
      "_view_module_version": "1.5.0",
      "_view_name": "HBoxView",
      "box_style": "",
      "children": [
       "IPY_MODEL_209bf9db11624b649ac34d7018040357",
       "IPY_MODEL_501baae0dab941aeadd63133262d930e",
       "IPY_MODEL_db17117a4d6e42788b5661e0149444d8"
      ],
      "layout": "IPY_MODEL_ab6e7ed849f449368e58fa7f6b3fc180"
     }
    },
    "c0fd875236924c698c85f779a532cc56": {
     "model_module": "@jupyter-widgets/controls",
     "model_module_version": "1.5.0",
     "model_name": "HTMLModel",
     "state": {
      "_dom_classes": [],
      "_model_module": "@jupyter-widgets/controls",
      "_model_module_version": "1.5.0",
      "_model_name": "HTMLModel",
      "_view_count": null,
      "_view_module": "@jupyter-widgets/controls",
      "_view_module_version": "1.5.0",
      "_view_name": "HTMLView",
      "description": "",
      "description_tooltip": null,
      "layout": "IPY_MODEL_7bdfe54b4c9a4caeb919336c1403983c",
      "placeholder": "​",
      "style": "IPY_MODEL_1b37737a6d254478ab7e4fdb233ee1ae",
      "value": " 29.0/29.0 [00:00&lt;00:00, 1.06kB/s]"
     }
    },
    "c2a91e1a1ed947e2b36761388c66d7d8": {
     "model_module": "@jupyter-widgets/base",
     "model_module_version": "1.2.0",
     "model_name": "LayoutModel",
     "state": {
      "_model_module": "@jupyter-widgets/base",
      "_model_module_version": "1.2.0",
      "_model_name": "LayoutModel",
      "_view_count": null,
      "_view_module": "@jupyter-widgets/base",
      "_view_module_version": "1.2.0",
      "_view_name": "LayoutView",
      "align_content": null,
      "align_items": null,
      "align_self": null,
      "border": null,
      "bottom": null,
      "display": null,
      "flex": null,
      "flex_flow": null,
      "grid_area": null,
      "grid_auto_columns": null,
      "grid_auto_flow": null,
      "grid_auto_rows": null,
      "grid_column": null,
      "grid_gap": null,
      "grid_row": null,
      "grid_template_areas": null,
      "grid_template_columns": null,
      "grid_template_rows": null,
      "height": null,
      "justify_content": null,
      "justify_items": null,
      "left": null,
      "margin": null,
      "max_height": null,
      "max_width": null,
      "min_height": null,
      "min_width": null,
      "object_fit": null,
      "object_position": null,
      "order": null,
      "overflow": null,
      "overflow_x": null,
      "overflow_y": null,
      "padding": null,
      "right": null,
      "top": null,
      "visibility": null,
      "width": null
     }
    },
    "c794b689cb6e411db405bbaeb43dc4ab": {
     "model_module": "@jupyter-widgets/base",
     "model_module_version": "1.2.0",
     "model_name": "LayoutModel",
     "state": {
      "_model_module": "@jupyter-widgets/base",
      "_model_module_version": "1.2.0",
      "_model_name": "LayoutModel",
      "_view_count": null,
      "_view_module": "@jupyter-widgets/base",
      "_view_module_version": "1.2.0",
      "_view_name": "LayoutView",
      "align_content": null,
      "align_items": null,
      "align_self": null,
      "border": null,
      "bottom": null,
      "display": null,
      "flex": null,
      "flex_flow": null,
      "grid_area": null,
      "grid_auto_columns": null,
      "grid_auto_flow": null,
      "grid_auto_rows": null,
      "grid_column": null,
      "grid_gap": null,
      "grid_row": null,
      "grid_template_areas": null,
      "grid_template_columns": null,
      "grid_template_rows": null,
      "height": null,
      "justify_content": null,
      "justify_items": null,
      "left": null,
      "margin": null,
      "max_height": null,
      "max_width": null,
      "min_height": null,
      "min_width": null,
      "object_fit": null,
      "object_position": null,
      "order": null,
      "overflow": null,
      "overflow_x": null,
      "overflow_y": null,
      "padding": null,
      "right": null,
      "top": null,
      "visibility": null,
      "width": null
     }
    },
    "cadfa960581a49d3aa0f96e5fef5532a": {
     "model_module": "@jupyter-widgets/controls",
     "model_module_version": "1.5.0",
     "model_name": "DescriptionStyleModel",
     "state": {
      "_model_module": "@jupyter-widgets/controls",
      "_model_module_version": "1.5.0",
      "_model_name": "DescriptionStyleModel",
      "_view_count": null,
      "_view_module": "@jupyter-widgets/base",
      "_view_module_version": "1.2.0",
      "_view_name": "StyleView",
      "description_width": ""
     }
    },
    "cda49ef94ee44010aad5a1098afe72c0": {
     "model_module": "@jupyter-widgets/base",
     "model_module_version": "1.2.0",
     "model_name": "LayoutModel",
     "state": {
      "_model_module": "@jupyter-widgets/base",
      "_model_module_version": "1.2.0",
      "_model_name": "LayoutModel",
      "_view_count": null,
      "_view_module": "@jupyter-widgets/base",
      "_view_module_version": "1.2.0",
      "_view_name": "LayoutView",
      "align_content": null,
      "align_items": null,
      "align_self": null,
      "border": null,
      "bottom": null,
      "display": null,
      "flex": null,
      "flex_flow": null,
      "grid_area": null,
      "grid_auto_columns": null,
      "grid_auto_flow": null,
      "grid_auto_rows": null,
      "grid_column": null,
      "grid_gap": null,
      "grid_row": null,
      "grid_template_areas": null,
      "grid_template_columns": null,
      "grid_template_rows": null,
      "height": null,
      "justify_content": null,
      "justify_items": null,
      "left": null,
      "margin": null,
      "max_height": null,
      "max_width": null,
      "min_height": null,
      "min_width": null,
      "object_fit": null,
      "object_position": null,
      "order": null,
      "overflow": null,
      "overflow_x": null,
      "overflow_y": null,
      "padding": null,
      "right": null,
      "top": null,
      "visibility": null,
      "width": null
     }
    },
    "d0122bb010374e4ba9ea485aa206e038": {
     "model_module": "@jupyter-widgets/controls",
     "model_module_version": "1.5.0",
     "model_name": "HTMLModel",
     "state": {
      "_dom_classes": [],
      "_model_module": "@jupyter-widgets/controls",
      "_model_module_version": "1.5.0",
      "_model_name": "HTMLModel",
      "_view_count": null,
      "_view_module": "@jupyter-widgets/controls",
      "_view_module_version": "1.5.0",
      "_view_name": "HTMLView",
      "description": "",
      "description_tooltip": null,
      "layout": "IPY_MODEL_6b525789e1c948fc915dbee88b068a8f",
      "placeholder": "​",
      "style": "IPY_MODEL_a088c34688654faa9a12f579ed9f3fbd",
      "value": " 375/375 [00:06&lt;00:00, 63.40it/s]"
     }
    },
    "d104e7c773e54d1ca772a28798f2f3d3": {
     "model_module": "@jupyter-widgets/controls",
     "model_module_version": "1.5.0",
     "model_name": "DescriptionStyleModel",
     "state": {
      "_model_module": "@jupyter-widgets/controls",
      "_model_module_version": "1.5.0",
      "_model_name": "DescriptionStyleModel",
      "_view_count": null,
      "_view_module": "@jupyter-widgets/base",
      "_view_module_version": "1.2.0",
      "_view_name": "StyleView",
      "description_width": ""
     }
    },
    "d65ba2a666c043f0b024773491d3eed6": {
     "model_module": "@jupyter-widgets/base",
     "model_module_version": "1.2.0",
     "model_name": "LayoutModel",
     "state": {
      "_model_module": "@jupyter-widgets/base",
      "_model_module_version": "1.2.0",
      "_model_name": "LayoutModel",
      "_view_count": null,
      "_view_module": "@jupyter-widgets/base",
      "_view_module_version": "1.2.0",
      "_view_name": "LayoutView",
      "align_content": null,
      "align_items": null,
      "align_self": null,
      "border": null,
      "bottom": null,
      "display": null,
      "flex": null,
      "flex_flow": null,
      "grid_area": null,
      "grid_auto_columns": null,
      "grid_auto_flow": null,
      "grid_auto_rows": null,
      "grid_column": null,
      "grid_gap": null,
      "grid_row": null,
      "grid_template_areas": null,
      "grid_template_columns": null,
      "grid_template_rows": null,
      "height": null,
      "justify_content": null,
      "justify_items": null,
      "left": null,
      "margin": null,
      "max_height": null,
      "max_width": null,
      "min_height": null,
      "min_width": null,
      "object_fit": null,
      "object_position": null,
      "order": null,
      "overflow": null,
      "overflow_x": null,
      "overflow_y": null,
      "padding": null,
      "right": null,
      "top": null,
      "visibility": null,
      "width": null
     }
    },
    "d73d84e0834e465ead38744ec6be04d0": {
     "model_module": "@jupyter-widgets/controls",
     "model_module_version": "1.5.0",
     "model_name": "HBoxModel",
     "state": {
      "_dom_classes": [],
      "_model_module": "@jupyter-widgets/controls",
      "_model_module_version": "1.5.0",
      "_model_name": "HBoxModel",
      "_view_count": null,
      "_view_module": "@jupyter-widgets/controls",
      "_view_module_version": "1.5.0",
      "_view_name": "HBoxView",
      "box_style": "",
      "children": [
       "IPY_MODEL_80b735397dba4536a96c295058dc1f5a",
       "IPY_MODEL_f1cd4ed00c424d6db83b0e6a9c0ff84b",
       "IPY_MODEL_8770a263a174448cabe07d3047d7fa18"
      ],
      "layout": "IPY_MODEL_b5356c15878346b29b76c80d204eeab5"
     }
    },
    "db17117a4d6e42788b5661e0149444d8": {
     "model_module": "@jupyter-widgets/controls",
     "model_module_version": "1.5.0",
     "model_name": "HTMLModel",
     "state": {
      "_dom_classes": [],
      "_model_module": "@jupyter-widgets/controls",
      "_model_module_version": "1.5.0",
      "_model_name": "HTMLModel",
      "_view_count": null,
      "_view_module": "@jupyter-widgets/controls",
      "_view_module_version": "1.5.0",
      "_view_name": "HTMLView",
      "description": "",
      "description_tooltip": null,
      "layout": "IPY_MODEL_21d7e494a3bb428eab70402b1846b66e",
      "placeholder": "​",
      "style": "IPY_MODEL_753a7b42a65b4848b3f587edf0be014d",
      "value": " 624/624 [00:00&lt;00:00, 21.6kB/s]"
     }
    },
    "dbc25643811a4665909fb02aabc533b0": {
     "model_module": "@jupyter-widgets/controls",
     "model_module_version": "1.5.0",
     "model_name": "DescriptionStyleModel",
     "state": {
      "_model_module": "@jupyter-widgets/controls",
      "_model_module_version": "1.5.0",
      "_model_name": "DescriptionStyleModel",
      "_view_count": null,
      "_view_module": "@jupyter-widgets/base",
      "_view_module_version": "1.2.0",
      "_view_name": "StyleView",
      "description_width": ""
     }
    },
    "e2ba46ef427c4303a2ac5eaa8e0c6d97": {
     "model_module": "@jupyter-widgets/controls",
     "model_module_version": "1.5.0",
     "model_name": "FloatProgressModel",
     "state": {
      "_dom_classes": [],
      "_model_module": "@jupyter-widgets/controls",
      "_model_module_version": "1.5.0",
      "_model_name": "FloatProgressModel",
      "_view_count": null,
      "_view_module": "@jupyter-widgets/controls",
      "_view_module_version": "1.5.0",
      "_view_name": "ProgressView",
      "bar_style": "success",
      "description": "",
      "description_tooltip": null,
      "layout": "IPY_MODEL_04f90576c99544a280c430a317873998",
      "max": 29,
      "min": 0,
      "orientation": "horizontal",
      "style": "IPY_MODEL_6eab542839934df9bc23b3cccadfada4",
      "value": 29
     }
    },
    "e519e212e7f64be8a1af1f9cdea9f5f2": {
     "model_module": "@jupyter-widgets/base",
     "model_module_version": "1.2.0",
     "model_name": "LayoutModel",
     "state": {
      "_model_module": "@jupyter-widgets/base",
      "_model_module_version": "1.2.0",
      "_model_name": "LayoutModel",
      "_view_count": null,
      "_view_module": "@jupyter-widgets/base",
      "_view_module_version": "1.2.0",
      "_view_name": "LayoutView",
      "align_content": null,
      "align_items": null,
      "align_self": null,
      "border": null,
      "bottom": null,
      "display": null,
      "flex": null,
      "flex_flow": null,
      "grid_area": null,
      "grid_auto_columns": null,
      "grid_auto_flow": null,
      "grid_auto_rows": null,
      "grid_column": null,
      "grid_gap": null,
      "grid_row": null,
      "grid_template_areas": null,
      "grid_template_columns": null,
      "grid_template_rows": null,
      "height": null,
      "justify_content": null,
      "justify_items": null,
      "left": null,
      "margin": null,
      "max_height": null,
      "max_width": null,
      "min_height": null,
      "min_width": null,
      "object_fit": null,
      "object_position": null,
      "order": null,
      "overflow": null,
      "overflow_x": null,
      "overflow_y": null,
      "padding": null,
      "right": null,
      "top": null,
      "visibility": null,
      "width": null
     }
    },
    "e67859b73fd84727ad4bd1b7534d8a53": {
     "model_module": "@jupyter-widgets/controls",
     "model_module_version": "1.5.0",
     "model_name": "ProgressStyleModel",
     "state": {
      "_model_module": "@jupyter-widgets/controls",
      "_model_module_version": "1.5.0",
      "_model_name": "ProgressStyleModel",
      "_view_count": null,
      "_view_module": "@jupyter-widgets/base",
      "_view_module_version": "1.2.0",
      "_view_name": "StyleView",
      "bar_color": null,
      "description_width": ""
     }
    },
    "ed386efdf3dd41ecacd1c5ae85dafe3e": {
     "model_module": "@jupyter-widgets/controls",
     "model_module_version": "1.5.0",
     "model_name": "HTMLModel",
     "state": {
      "_dom_classes": [],
      "_model_module": "@jupyter-widgets/controls",
      "_model_module_version": "1.5.0",
      "_model_name": "HTMLModel",
      "_view_count": null,
      "_view_module": "@jupyter-widgets/controls",
      "_view_module_version": "1.5.0",
      "_view_name": "HTMLView",
      "description": "",
      "description_tooltip": null,
      "layout": "IPY_MODEL_6ae10b5ca70043499fb6aa2907b8ce28",
      "placeholder": "​",
      "style": "IPY_MODEL_dbc25643811a4665909fb02aabc533b0",
      "value": "100%"
     }
    },
    "ee83c4f1bfd74955999c633f57aeed9c": {
     "model_module": "@jupyter-widgets/base",
     "model_module_version": "1.2.0",
     "model_name": "LayoutModel",
     "state": {
      "_model_module": "@jupyter-widgets/base",
      "_model_module_version": "1.2.0",
      "_model_name": "LayoutModel",
      "_view_count": null,
      "_view_module": "@jupyter-widgets/base",
      "_view_module_version": "1.2.0",
      "_view_name": "LayoutView",
      "align_content": null,
      "align_items": null,
      "align_self": null,
      "border": null,
      "bottom": null,
      "display": null,
      "flex": null,
      "flex_flow": null,
      "grid_area": null,
      "grid_auto_columns": null,
      "grid_auto_flow": null,
      "grid_auto_rows": null,
      "grid_column": null,
      "grid_gap": null,
      "grid_row": null,
      "grid_template_areas": null,
      "grid_template_columns": null,
      "grid_template_rows": null,
      "height": null,
      "justify_content": null,
      "justify_items": null,
      "left": null,
      "margin": null,
      "max_height": null,
      "max_width": null,
      "min_height": null,
      "min_width": null,
      "object_fit": null,
      "object_position": null,
      "order": null,
      "overflow": null,
      "overflow_x": null,
      "overflow_y": null,
      "padding": null,
      "right": null,
      "top": null,
      "visibility": null,
      "width": null
     }
    },
    "f011635472a64c278b0a057a119de280": {
     "model_module": "@jupyter-widgets/base",
     "model_module_version": "1.2.0",
     "model_name": "LayoutModel",
     "state": {
      "_model_module": "@jupyter-widgets/base",
      "_model_module_version": "1.2.0",
      "_model_name": "LayoutModel",
      "_view_count": null,
      "_view_module": "@jupyter-widgets/base",
      "_view_module_version": "1.2.0",
      "_view_name": "LayoutView",
      "align_content": null,
      "align_items": null,
      "align_self": null,
      "border": null,
      "bottom": null,
      "display": null,
      "flex": null,
      "flex_flow": null,
      "grid_area": null,
      "grid_auto_columns": null,
      "grid_auto_flow": null,
      "grid_auto_rows": null,
      "grid_column": null,
      "grid_gap": null,
      "grid_row": null,
      "grid_template_areas": null,
      "grid_template_columns": null,
      "grid_template_rows": null,
      "height": null,
      "justify_content": null,
      "justify_items": null,
      "left": null,
      "margin": null,
      "max_height": null,
      "max_width": null,
      "min_height": null,
      "min_width": null,
      "object_fit": null,
      "object_position": null,
      "order": null,
      "overflow": null,
      "overflow_x": null,
      "overflow_y": null,
      "padding": null,
      "right": null,
      "top": null,
      "visibility": null,
      "width": null
     }
    },
    "f1cd4ed00c424d6db83b0e6a9c0ff84b": {
     "model_module": "@jupyter-widgets/controls",
     "model_module_version": "1.5.0",
     "model_name": "FloatProgressModel",
     "state": {
      "_dom_classes": [],
      "_model_module": "@jupyter-widgets/controls",
      "_model_module_version": "1.5.0",
      "_model_name": "FloatProgressModel",
      "_view_count": null,
      "_view_module": "@jupyter-widgets/controls",
      "_view_module_version": "1.5.0",
      "_view_name": "ProgressView",
      "bar_style": "success",
      "description": "",
      "description_tooltip": null,
      "layout": "IPY_MODEL_61fc623c2e5e44feb48238e0776887af",
      "max": 109540,
      "min": 0,
      "orientation": "horizontal",
      "style": "IPY_MODEL_6cc1ed14bd2140c8a144b225aa8d6e1d",
      "value": 109540
     }
    },
    "f61adf70f5434832b5efcdb830361480": {
     "model_module": "@jupyter-widgets/base",
     "model_module_version": "1.2.0",
     "model_name": "LayoutModel",
     "state": {
      "_model_module": "@jupyter-widgets/base",
      "_model_module_version": "1.2.0",
      "_model_name": "LayoutModel",
      "_view_count": null,
      "_view_module": "@jupyter-widgets/base",
      "_view_module_version": "1.2.0",
      "_view_name": "LayoutView",
      "align_content": null,
      "align_items": null,
      "align_self": null,
      "border": null,
      "bottom": null,
      "display": null,
      "flex": null,
      "flex_flow": null,
      "grid_area": null,
      "grid_auto_columns": null,
      "grid_auto_flow": null,
      "grid_auto_rows": null,
      "grid_column": null,
      "grid_gap": null,
      "grid_row": null,
      "grid_template_areas": null,
      "grid_template_columns": null,
      "grid_template_rows": null,
      "height": null,
      "justify_content": null,
      "justify_items": null,
      "left": null,
      "margin": null,
      "max_height": null,
      "max_width": null,
      "min_height": null,
      "min_width": null,
      "object_fit": null,
      "object_position": null,
      "order": null,
      "overflow": null,
      "overflow_x": null,
      "overflow_y": null,
      "padding": null,
      "right": null,
      "top": null,
      "visibility": null,
      "width": null
     }
    },
    "ff3d7784c72d4a36a3ab6e6f0930bb5d": {
     "model_module": "@jupyter-widgets/controls",
     "model_module_version": "1.5.0",
     "model_name": "ProgressStyleModel",
     "state": {
      "_model_module": "@jupyter-widgets/controls",
      "_model_module_version": "1.5.0",
      "_model_name": "ProgressStyleModel",
      "_view_count": null,
      "_view_module": "@jupyter-widgets/base",
      "_view_module_version": "1.2.0",
      "_view_name": "StyleView",
      "bar_color": null,
      "description_width": ""
     }
    }
   }
  }
 },
 "nbformat": 4,
 "nbformat_minor": 4
}
